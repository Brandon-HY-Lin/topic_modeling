{
 "cells": [
  {
   "cell_type": "markdown",
   "metadata": {},
   "source": [
    "# Inspect JSON Dataset"
   ]
  },
  {
   "cell_type": "code",
   "execution_count": 113,
   "metadata": {},
   "outputs": [],
   "source": [
    "import pandas as pd\n",
    "import gensim\n",
    "import jieba\n",
    "from tqdm import tqdm\n",
    "from wordcloud import WordCloud\n",
    "import matplotlib.pyplot as plt\n",
    "\n",
    "%matplotlib inline"
   ]
  },
  {
   "cell_type": "markdown",
   "metadata": {},
   "source": [
    "# Load Dataset and Inpect Few Rows"
   ]
  },
  {
   "cell_type": "code",
   "execution_count": 2,
   "metadata": {},
   "outputs": [],
   "source": [
    "filename_dataset = '../crawler/employment_website_104/dataset/jobs_104.json'\n",
    "\n",
    "dataset_df = pd.read_json(filename_dataset)"
   ]
  },
  {
   "cell_type": "code",
   "execution_count": 3,
   "metadata": {},
   "outputs": [
    {
     "data": {
      "text/plain": [
       "996"
      ]
     },
     "execution_count": 3,
     "metadata": {},
     "output_type": "execute_result"
    }
   ],
   "source": [
    "len(dataset_df)"
   ]
  },
  {
   "cell_type": "code",
   "execution_count": 4,
   "metadata": {},
   "outputs": [
    {
     "data": {
      "text/html": [
       "<div>\n",
       "<style scoped>\n",
       "    .dataframe tbody tr th:only-of-type {\n",
       "        vertical-align: middle;\n",
       "    }\n",
       "\n",
       "    .dataframe tbody tr th {\n",
       "        vertical-align: top;\n",
       "    }\n",
       "\n",
       "    .dataframe thead th {\n",
       "        text-align: right;\n",
       "    }\n",
       "</style>\n",
       "<table border=\"1\" class=\"dataframe\">\n",
       "  <thead>\n",
       "    <tr style=\"text-align: right;\">\n",
       "      <th></th>\n",
       "      <th>address</th>\n",
       "      <th>benefit</th>\n",
       "      <th>company</th>\n",
       "      <th>experience</th>\n",
       "      <th>requirement</th>\n",
       "      <th>requirement_others</th>\n",
       "      <th>salary</th>\n",
       "      <th>title</th>\n",
       "    </tr>\n",
       "  </thead>\n",
       "  <tbody>\n",
       "    <tr>\n",
       "      <th>0</th>\n",
       "      <td>台北市內湖...</td>\n",
       "      <td>福利健全  ■ 優渥的薪資、獎金  ◎ 端午節、中秋節、年終獎金。  ◎ 定期依工作績效調...</td>\n",
       "      <td>芯鼎科技股份有限公司</td>\n",
       "      <td>不拘</td>\n",
       "      <td>- Driver development and fine tune of customiz...</td>\n",
       "      <td>- A BS degree in Computer Engineering, Electri...</td>\n",
       "      <td>待遇面議                                          ...</td>\n",
       "      <td>系統應用工程師-台北(CD2320)   ...</td>\n",
       "    </tr>\n",
       "    <tr>\n",
       "      <th>1</th>\n",
       "      <td>台北市大安...</td>\n",
       "      <td>＊獎金福利＊1. 年節禮金2. 生日禮金3. 年終分紅4. 人才介紹獎金＊休假福利＊1. ...</td>\n",
       "      <td>銓鴻資訊有限公司</td>\n",
       "      <td>1年以上</td>\n",
       "      <td>1. 研究市場數據和交易數據，並進行交易策略研發。  2. 開發模型和工具，監控分析交易程序...</td>\n",
       "      <td>將先以電子履歷篩選增加效率，請注意以下事項： ■ 履歷請詳述相關經驗並請提供 Github/...</td>\n",
       "      <td>年薪 1,000,000~2,500,000元                       ...</td>\n",
       "      <td>計量交易員 Quantitative Tr...</td>\n",
       "    </tr>\n",
       "    <tr>\n",
       "      <th>2</th>\n",
       "      <td>新北市新店...</td>\n",
       "      <td>《薪酬福利＠HTC》我們極力落實利潤與員工分享的精神，透過多元的薪酬組合與完善的福利方案，...</td>\n",
       "      <td>宏達電 HTC Corporation_宏達國際電子股份有限公司</td>\n",
       "      <td>不拘</td>\n",
       "      <td>Join the creative thinkers at HTC Healthcare. ...</td>\n",
       "      <td>Requirement:-MS or PhD in computer science or ...</td>\n",
       "      <td>待遇面議                                          ...</td>\n",
       "      <td>(RD S/W) DeepQ - Comp...</td>\n",
       "    </tr>\n",
       "    <tr>\n",
       "      <th>3</th>\n",
       "      <td>桃園市中壢...</td>\n",
       "      <td>正職/全職人員之福利與訓練制度：  【薪酬福利】 -每年依市場薪資水準評估薪資調整專案 -...</td>\n",
       "      <td>OK超商_來來超商股份有限公司</td>\n",
       "      <td>不拘</td>\n",
       "      <td>OK超商認為，用心經營的企業，首重人才培訓。  因此，我們投入了大量的訓練資源，積極培育新一...</td>\n",
       "      <td>1.具服務熱忱，科系、經驗不拘，須輪班。 2.須自備交通工具及電腦網路設備(透過e-Lear...</td>\n",
       "      <td>月薪 31,000~33,000元                             ...</td>\n",
       "      <td>儲備幹部(大桃園地區)          ...</td>\n",
       "    </tr>\n",
       "    <tr>\n",
       "      <th>4</th>\n",
       "      <td>新竹縣竹北...</td>\n",
       "      <td>【工作福利】彈性上下班。  【休假福利】週休二日、國定假日、婚假、產假、陪產假、特休假、彈...</td>\n",
       "      <td>神亞科技股份有限公司</td>\n",
       "      <td>3年以上</td>\n",
       "      <td>影像相關之深度學習演算法研究與開發</td>\n",
       "      <td>1. 有開發image processing相關應用經驗 2. 熟悉深度學習相關算法（e.g...</td>\n",
       "      <td>待遇面議                                          ...</td>\n",
       "      <td>AI 工程師               ...</td>\n",
       "    </tr>\n",
       "  </tbody>\n",
       "</table>\n",
       "</div>"
      ],
      "text/plain": [
       "                                             address  \\\n",
       "0                                           台北市內湖...   \n",
       "1                                           台北市大安...   \n",
       "2                                           新北市新店...   \n",
       "3                                           桃園市中壢...   \n",
       "4                                           新竹縣竹北...   \n",
       "\n",
       "                                             benefit  \\\n",
       "0   福利健全  ■ 優渥的薪資、獎金  ◎ 端午節、中秋節、年終獎金。  ◎ 定期依工作績效調...   \n",
       "1   ＊獎金福利＊1. 年節禮金2. 生日禮金3. 年終分紅4. 人才介紹獎金＊休假福利＊1. ...   \n",
       "2   《薪酬福利＠HTC》我們極力落實利潤與員工分享的精神，透過多元的薪酬組合與完善的福利方案，...   \n",
       "3   正職/全職人員之福利與訓練制度：  【薪酬福利】 -每年依市場薪資水準評估薪資調整專案 -...   \n",
       "4   【工作福利】彈性上下班。  【休假福利】週休二日、國定假日、婚假、產假、陪產假、特休假、彈...   \n",
       "\n",
       "                            company experience  \\\n",
       "0                        芯鼎科技股份有限公司         不拘   \n",
       "1                          銓鴻資訊有限公司       1年以上   \n",
       "2  宏達電 HTC Corporation_宏達國際電子股份有限公司         不拘   \n",
       "3                   OK超商_來來超商股份有限公司         不拘   \n",
       "4                        神亞科技股份有限公司       3年以上   \n",
       "\n",
       "                                         requirement  \\\n",
       "0  - Driver development and fine tune of customiz...   \n",
       "1  1. 研究市場數據和交易數據，並進行交易策略研發。  2. 開發模型和工具，監控分析交易程序...   \n",
       "2  Join the creative thinkers at HTC Healthcare. ...   \n",
       "3  OK超商認為，用心經營的企業，首重人才培訓。  因此，我們投入了大量的訓練資源，積極培育新一...   \n",
       "4                                  影像相關之深度學習演算法研究與開發   \n",
       "\n",
       "                                  requirement_others  \\\n",
       "0  - A BS degree in Computer Engineering, Electri...   \n",
       "1  將先以電子履歷篩選增加效率，請注意以下事項： ■ 履歷請詳述相關經驗並請提供 Github/...   \n",
       "2  Requirement:-MS or PhD in computer science or ...   \n",
       "3  1.具服務熱忱，科系、經驗不拘，須輪班。 2.須自備交通工具及電腦網路設備(透過e-Lear...   \n",
       "4  1. 有開發image processing相關應用經驗 2. 熟悉深度學習相關算法（e.g...   \n",
       "\n",
       "                                              salary  \\\n",
       "0  待遇面議                                          ...   \n",
       "1  年薪 1,000,000~2,500,000元                       ...   \n",
       "2  待遇面議                                          ...   \n",
       "3  月薪 31,000~33,000元                             ...   \n",
       "4  待遇面議                                          ...   \n",
       "\n",
       "                                               title  \n",
       "0                           系統應用工程師-台北(CD2320)   ...  \n",
       "1                           計量交易員 Quantitative Tr...  \n",
       "2                           (RD S/W) DeepQ - Comp...  \n",
       "3                           儲備幹部(大桃園地區)          ...  \n",
       "4                           AI 工程師               ...  "
      ]
     },
     "execution_count": 4,
     "metadata": {},
     "output_type": "execute_result"
    }
   ],
   "source": [
    "dataset_df.head()"
   ]
  },
  {
   "cell_type": "code",
   "execution_count": 5,
   "metadata": {},
   "outputs": [
    {
     "data": {
      "text/plain": [
       "'1.\\t熟悉Linux系統, 具C/C++/Python程式語言設計經驗  2.\\t熟悉Machine Learning以及Deep Learning framework, 具AI需求分析與應用開發經驗  3.\\t具Machine Learning以及Deep Learning演算法開發與優化經驗者尤佳  4.\\t有 Caffe, TensorFlow, Keras等 相關經驗為佳 5.\\t熟悉語音訊號處理, 例如: 回聲消除/ 噪音抑制/ 麥克風陣列訊號處理等  6.\\t熟悉語音演算法應用, 例如: 語音辨識/ 語者辨識/ 語音喚醒等  【共創A+聯詠】 穩健踏實、專家精神、創造優勢 驅動科技、開發創新、引領未來 邀請優秀人才，共創A+聯詠'"
      ]
     },
     "execution_count": 5,
     "metadata": {},
     "output_type": "execute_result"
    }
   ],
   "source": [
    "dataset_df['requirement'][986]"
   ]
  },
  {
   "cell_type": "code",
   "execution_count": 6,
   "metadata": {},
   "outputs": [],
   "source": [
    "requirements = dataset_df['requirement'] + ' ' + dataset_df['requirement_others']"
   ]
  },
  {
   "cell_type": "code",
   "execution_count": 7,
   "metadata": {},
   "outputs": [
    {
     "data": {
      "text/plain": [
       "0    - Driver development and fine tune of customiz...\n",
       "1    1. 研究市場數據和交易數據，並進行交易策略研發。  2. 開發模型和工具，監控分析交易程序...\n",
       "dtype: object"
      ]
     },
     "execution_count": 7,
     "metadata": {},
     "output_type": "execute_result"
    }
   ],
   "source": [
    "requirements[0:2]"
   ]
  },
  {
   "cell_type": "code",
   "execution_count": 8,
   "metadata": {},
   "outputs": [
    {
     "data": {
      "text/plain": [
       "'1. 研究市場數據和交易數據，並進行交易策略研發。  2. 開發模型和工具，監控分析交易程序運行情況研究，實施統計套利策略，並研發統計套利回測工具。  3. 熟悉python R 或者c++,有自主研發量化策略的能力。 4. 具備機率、統計、機器學習和金融市場研究經驗 。  求才若渴 如果你(妳)有下列特質：  是個懶人： 希望以最小的力氣達成目標，甚至提升品質，懂得善用工具增加生產力，重構提煉自有的程式庫。  有團隊精神： 懂得協同合作提升整體效益，將團隊目標置於個人之前。  充滿好奇心： 喜歡接觸、學習新事物，發現各種創新的可能。  熱愛程式： 充滿熱情想改變世界，將巧思及創造力注入每一行程式碼。   歡迎加入我們！ 一起邁向偉大航道 : ) 將先以電子履歷篩選增加效率，請注意以下事項： ■ 履歷請詳述相關經驗並請提供 Github/Sample Code/作品，加速審核 。 ■ 我們非常重視求職者的職務申請，履歷將由相關團隊主管嚴謹評估，因履歷眾多，意者我們將主動聯繫，請求職者悉知並耐心等候。'"
      ]
     },
     "execution_count": 8,
     "metadata": {},
     "output_type": "execute_result"
    }
   ],
   "source": [
    "requirements[1]"
   ]
  },
  {
   "cell_type": "markdown",
   "metadata": {},
   "source": [
    "# Strip Punctuations"
   ]
  },
  {
   "cell_type": "code",
   "execution_count": 9,
   "metadata": {},
   "outputs": [
    {
     "data": {
      "text/plain": [
       "'1  研究市場數據和交易數據，並進行交易策略研發。  2  開發模型和工具，監控分析交易程序運行情況研究，實施統計套利策略，並研發統計套利回測工具。  3  熟悉python R 或者c 有自主研發量化策略的能力。 4  具備機率、統計、機器學習和金融市場研究經驗 。  求才若渴 如果你 妳 有下列特質：  是個懶人： 希望以最小的力氣達成目標，甚至提升品質，懂得善用工具增加生產力，重構提煉自有的程式庫。  有團隊精神： 懂得協同合作提升整體效益，將團隊目標置於個人之前。  充滿好奇心： 喜歡接觸、學習新事物，發現各種創新的可能。  熱愛程式： 充滿熱情想改變世界，將巧思及創造力注入每一行程式碼。   歡迎加入我們！ 一起邁向偉大航道     將先以電子履歷篩選增加效率，請注意以下事項： ■ 履歷請詳述相關經驗並請提供 Github Sample Code 作品，加速審核 。 ■ 我們非常重視求職者的職務申請，履歷將由相關團隊主管嚴謹評估，因履歷眾多，意者我們將主動聯繫，請求職者悉知並耐心等候。'"
      ]
     },
     "execution_count": 9,
     "metadata": {},
     "output_type": "execute_result"
    }
   ],
   "source": [
    "gensim.parsing.preprocessing.strip_punctuation(requirements[1])"
   ]
  },
  {
   "cell_type": "markdown",
   "metadata": {},
   "source": [
    "\n",
    "# Tokenize Chinese/English Sentences using Jieba package"
   ]
  },
  {
   "cell_type": "code",
   "execution_count": 10,
   "metadata": {},
   "outputs": [
    {
     "name": "stderr",
     "output_type": "stream",
     "text": [
      "Building prefix dict from the default dictionary ...\n",
      "Loading model from cache /tmp/jieba.cache\n",
      "Loading model cost 1.308 seconds.\n",
      "Prefix dict has been built succesfully.\n"
     ]
    }
   ],
   "source": [
    "doc = requirements[0]\n",
    "\n",
    "tokens = [t for t in jieba.cut(doc, cut_all=False)]"
   ]
  },
  {
   "cell_type": "code",
   "execution_count": 11,
   "metadata": {},
   "outputs": [
    {
     "data": {
      "text/plain": [
       "['-', ' ', 'Driver', ' ', 'development', ' ', 'and', ' ', 'fine', ' ']"
      ]
     },
     "execution_count": 11,
     "metadata": {},
     "output_type": "execute_result"
    }
   ],
   "source": [
    "tokens[:10]"
   ]
  },
  {
   "cell_type": "code",
   "execution_count": 12,
   "metadata": {},
   "outputs": [],
   "source": [
    "doc = requirements[1]\n",
    "\n",
    "tokens = [t for t in jieba.cut(doc, cut_all=False)]"
   ]
  },
  {
   "cell_type": "code",
   "execution_count": 13,
   "metadata": {},
   "outputs": [
    {
     "data": {
      "text/plain": [
       "['1', '.', ' ', '研究', '市場', '數據', '和', '交易', '數據', '，']"
      ]
     },
     "execution_count": 13,
     "metadata": {},
     "output_type": "execute_result"
    }
   ],
   "source": [
    "tokens[:10]"
   ]
  },
  {
   "cell_type": "markdown",
   "metadata": {},
   "source": [
    "#### Tokens '機器', '學習' should be a single token '機器學習'"
   ]
  },
  {
   "cell_type": "code",
   "execution_count": 14,
   "metadata": {},
   "outputs": [
    {
     "data": {
      "text/plain": [
       "['具備', '機率', '、', '統計', '、', '機器', '學習', '和', '金融', '市場']"
      ]
     },
     "execution_count": 14,
     "metadata": {},
     "output_type": "execute_result"
    }
   ],
   "source": [
    "tokens[70:80]"
   ]
  },
  {
   "cell_type": "markdown",
   "metadata": {},
   "source": [
    "# Load Custom Dictionary\n",
    "Reference: https://github.com/fxsjy/jieba\n",
    "\n",
    "* Usage： jieba.load_userdict(file_name) # file_name is a file-like object or the path of the custom dictionary\n",
    "* The dictionary format is the same as that of dict.txt: one word per line; each line is divided into three parts separated by a space: word, word frequency, POS tag. If file_name is a path or a file opened in binary mode, the dictionary must be UTF-8 encoded.\n",
    "* The word frequency and POS tag can be omitted respectively. The word frequency will be filled with a suitable value if omitted.\n",
    "\n",
    "For example:\n",
    "\n",
    "创新办 3 i\n",
    "\n",
    "云计算 5\n",
    "\n",
    "凱特琳 nz\n",
    "\n",
    "台中"
   ]
  },
  {
   "cell_type": "code",
   "execution_count": 15,
   "metadata": {},
   "outputs": [],
   "source": [
    "filename_userdict = './custom_dictionary.txt'\n",
    "jieba.load_userdict(filename_userdict)"
   ]
  },
  {
   "cell_type": "code",
   "execution_count": 16,
   "metadata": {},
   "outputs": [],
   "source": [
    "doc = requirements[4]\n",
    "\n",
    "tokens = [t for t in jieba.cut(doc, cut_all=False)]"
   ]
  },
  {
   "cell_type": "code",
   "execution_count": 17,
   "metadata": {},
   "outputs": [
    {
     "data": {
      "text/plain": [
       "['影像', '相關', '之', '深度學習', '演算法', '研究', '與', '開發', ' ', '1']"
      ]
     },
     "execution_count": 17,
     "metadata": {},
     "output_type": "execute_result"
    }
   ],
   "source": [
    "tokens[:10]"
   ]
  },
  {
   "cell_type": "markdown",
   "metadata": {},
   "source": [
    "# Read Chinese Stopwords\n",
    "Link to Chinese stopwords: https://github.com/goto456/stopwords"
   ]
  },
  {
   "cell_type": "code",
   "execution_count": 18,
   "metadata": {},
   "outputs": [
    {
     "name": "stdout",
     "output_type": "stream",
     "text": [
      "['$', '0', '1', '2', '3', '4', '5', '6', '7', '8']\n",
      "['一些', '一何', '一切', '一则', '一方面', '一旦', '一来', '一样', '一般', '一转眼']\n"
     ]
    }
   ],
   "source": [
    "with open('./中文停用词表.txt') as f:\n",
    "    lines = f.readlines()\n",
    "    stopwords_chinese = [w.strip() for w in lines]\n",
    "    \n",
    "    \n",
    "print(stopwords_chinese[:10])\n",
    "print(stopwords_chinese[20:30])"
   ]
  },
  {
   "cell_type": "markdown",
   "metadata": {},
   "source": [
    "# Preprocess Documents"
   ]
  },
  {
   "cell_type": "code",
   "execution_count": 19,
   "metadata": {},
   "outputs": [
    {
     "name": "stderr",
     "output_type": "stream",
     "text": [
      "100%|██████████| 996/996 [00:08<00:00, 112.33it/s]\n"
     ]
    }
   ],
   "source": [
    "def tokenizer(doc):\n",
    "    return jieba.cut(doc, cut_all=False)\n",
    "\n",
    "\n",
    "def preprocess_docs(raw_docs):\n",
    "    \"\"\"\n",
    "    Args:\n",
    "        raw_docs (list of string): list of documents\n",
    "        \n",
    "    Returns:\n",
    "        list of list: list of tokens in a document\n",
    "    \"\"\"\n",
    "    stopwords_custom = ['•', '與', '★', '●', '（', '’', '－', '✦', '◆', '◼', '✪', \n",
    "                        '※', '⁺', '', '', '·', '‧', '・', '）', '○', '】', '【', '✓', '']\n",
    "    \n",
    "    docs = []\n",
    "    \n",
    "    for d in tqdm(raw_docs):\n",
    "        # Remove punctuations\n",
    "#         d = gensim.parsing.preprocessing.strip_punctuation(d)\n",
    "        \n",
    "        # Normalize\n",
    "        d = d.lower()\n",
    "        \n",
    "        tokens = []\n",
    "        \n",
    "        # Tokenize and Remove stopwords\n",
    "        for t in tokenizer(d):\n",
    "            \n",
    "            t = gensim.parsing.preprocessing.strip_punctuation(t)\n",
    "            t = gensim.parsing.preprocessing.strip_numeric(t)\n",
    "            t = t.strip()\n",
    "            if t is '':\n",
    "                continue\n",
    "                \n",
    "            if t not in stopwords_chinese:\n",
    "                if t not in gensim.parsing.preprocessing.STOPWORDS:\n",
    "                    if t not in stopwords_custom:\n",
    "                        tokens.append(t)\n",
    "        \n",
    "        docs.append(tokens)\n",
    "        \n",
    "    return docs\n",
    "\n",
    "\n",
    "docs = preprocess_docs(requirements)"
   ]
  },
  {
   "cell_type": "code",
   "execution_count": 20,
   "metadata": {},
   "outputs": [
    {
     "data": {
      "text/plain": [
       "['driver',\n",
       " 'development',\n",
       " 'fine',\n",
       " 'tune',\n",
       " 'customized',\n",
       " 'hw',\n",
       " 'accelerator',\n",
       " 'opencv',\n",
       " 'opencl',\n",
       " 'openvx']"
      ]
     },
     "execution_count": 20,
     "metadata": {},
     "output_type": "execute_result"
    }
   ],
   "source": [
    "docs[0][:10]"
   ]
  },
  {
   "cell_type": "code",
   "execution_count": 21,
   "metadata": {},
   "outputs": [
    {
     "data": {
      "text/plain": [
       "['研究', '市場', '數據', '交易', '數據', '並進行', '交易', '策略', '研發', '開發']"
      ]
     },
     "execution_count": 21,
     "metadata": {},
     "output_type": "execute_result"
    }
   ],
   "source": [
    "docs[1][:10]"
   ]
  },
  {
   "cell_type": "code",
   "execution_count": null,
   "metadata": {},
   "outputs": [],
   "source": []
  },
  {
   "cell_type": "markdown",
   "metadata": {},
   "source": [
    "# Create Gensim Dictionary"
   ]
  },
  {
   "cell_type": "code",
   "execution_count": 41,
   "metadata": {},
   "outputs": [
    {
     "name": "stdout",
     "output_type": "stream",
     "text": [
      "10747\n"
     ]
    }
   ],
   "source": [
    "dictionary = gensim.corpora.Dictionary(docs)\n",
    "print(len(dictionary))"
   ]
  },
  {
   "cell_type": "code",
   "execution_count": 96,
   "metadata": {},
   "outputs": [
    {
     "name": "stdout",
     "output_type": "stream",
     "text": [
      "[('algorithm', 0), ('architecture', 1), ('arm', 2), ('assembly', 3), ('attitude', 4), ('bs', 5), ('cnn', 6), ('concepts', 7), ('customer', 8), ('customers', 9), ('customized', 10), ('deadlines', 11), ('driver', 12), ('electrical', 13), ('embedded', 14), ('fine', 15), ('g', 16), ('house', 17), ('hw', 18), ('image', 19), ('integration', 20), ('involve', 21), ('issues', 22), ('language', 23), ('maintain', 24), ('meeting', 25), ('motivated', 26), ('nice', 27), ('opencl', 28), ('opencv', 29), ('pressure', 30), ('real', 31), ('requests', 32), ('rtos', 33), ('sdk', 34), ('self', 35), ('senior', 36), ('skilled', 37), ('solve', 38), ('tight', 39), ('time', 40), ('understanding', 41), ('–', 42), ('code', 43), ('github', 44), ('sample', 45), ('一起', 46), ('下列', 47), ('世界', 48), ('並進行', 49), ('事物', 50), ('事項', 51), ('交易', 52), ('以下', 53), ('作品', 54), ('充滿', 55), ('創新', 56), ('加速', 57), ('協同', 58), ('可能', 59), ('各種', 60), ('合作', 61), ('品質', 62), ('喜歡', 63), ('增加', 64), ('好奇心', 65), ('將', 66), ('履歷', 67), ('工具', 68), ('市場', 69), ('希望', 70), ('庫', 71), ('想', 72), ('接觸', 73), ('提升', 74), ('效率', 75), ('整體', 76), ('數據', 77), ('新', 78), ('模型', 79), ('熱情', 80), ('熱愛', 81), ('特質', 82), ('申請', 83), ('發現', 84), ('監控', 85), ('目標', 86), ('研發', 87), ('研究', 88), ('程序', 89), ('策略', 90), ('篩選', 91), ('精神', 92), ('統計', 93), ('繫', 94), ('耐心', 95), ('聯', 96), ('職務', 97), ('自主', 98), ('評估', 99), ('請', 100), ('金融', 101), ('電子', 102), ('academic', 103), ('approaches', 104), ('atmosphere', 105), ('background', 106), ('brilliant', 107), ('candidate', 108), ('center', 109), ('challenging', 110), ('convolutional', 111), ('create', 112), ('creative', 113), ('detection', 114), ('digital', 115), ('exciting', 116), ('field', 117), ('following', 118), ('formulate', 119), ('friendly', 120), ('fun', 121), ('future', 122), ('generative', 123), ('healthcare', 124), ('help', 125), ('htc', 126), ('innovation', 127), ('inspiring', 128), ('join', 129), ('looking', 130), ('models', 131), ('ms', 132), ('networks', 133), ('neural', 134), ('novel', 135), ('object', 136), ('open', 137), ('papers', 138), ('phd', 139), ('powered', 140), ('problems', 141), ('propose', 142), ('reading', 143), ('recognition', 144), ('requirement', 145), ('segmentation', 146), ('services', 147), ('stimulating', 148), ('talents', 149)]\n"
     ]
    }
   ],
   "source": [
    "word_items = []\n",
    "for index, wi in enumerate(dictionary.token2id.items()):\n",
    "    if index < 150:\n",
    "        word_items.append(wi)\n",
    "        \n",
    "print(word_items)"
   ]
  },
  {
   "cell_type": "markdown",
   "metadata": {},
   "source": [
    "# Filter Extreme Words\n",
    "Remove very rare and very common words:"
   ]
  },
  {
   "cell_type": "code",
   "execution_count": 98,
   "metadata": {},
   "outputs": [
    {
     "name": "stdout",
     "output_type": "stream",
     "text": [
      "2445\n"
     ]
    }
   ],
   "source": [
    "'''\n",
    "- words appearing less than 5 times\n",
    "- words appearing in more than 10% of all documents\n",
    "'''\n",
    "dictionary = gensim.corpora.Dictionary(docs)\n",
    "dictionary.filter_extremes(no_below=6, no_above=0.1)\n",
    "print(len(dictionary))"
   ]
  },
  {
   "cell_type": "code",
   "execution_count": 99,
   "metadata": {},
   "outputs": [
    {
     "name": "stdout",
     "output_type": "stream",
     "text": [
      "[('algorithm', 0), ('architecture', 1), ('arm', 2), ('assembly', 3), ('attitude', 4), ('bs', 5), ('cnn', 6), ('concepts', 7), ('customer', 8), ('customers', 9), ('customized', 10), ('deadlines', 11), ('driver', 12), ('electrical', 13), ('embedded', 14), ('fine', 15), ('g', 16), ('house', 17), ('hw', 18), ('image', 19), ('integration', 20), ('involve', 21), ('issues', 22), ('language', 23), ('maintain', 24), ('meeting', 25), ('motivated', 26), ('nice', 27), ('opencl', 28), ('opencv', 29), ('pressure', 30), ('real', 31), ('requests', 32), ('rtos', 33), ('sdk', 34), ('self', 35), ('senior', 36), ('skilled', 37), ('solve', 38), ('tight', 39), ('time', 40), ('understanding', 41), ('–', 42), ('code', 43), ('github', 44), ('sample', 45), ('一起', 46), ('下列', 47), ('世界', 48), ('並進行', 49), ('事物', 50), ('事項', 51), ('交易', 52), ('以下', 53), ('作品', 54), ('充滿', 55), ('創新', 56), ('加速', 57), ('協同', 58), ('可能', 59), ('各種', 60), ('合作', 61), ('品質', 62), ('喜歡', 63), ('增加', 64), ('好奇心', 65), ('將', 66), ('履歷', 67), ('工具', 68), ('市場', 69), ('希望', 70), ('庫', 71), ('想', 72), ('接觸', 73), ('提升', 74), ('效率', 75), ('整體', 76), ('數據', 77), ('新', 78), ('模型', 79), ('熱情', 80), ('熱愛', 81), ('特質', 82), ('申請', 83), ('發現', 84), ('監控', 85), ('目標', 86), ('研發', 87), ('研究', 88), ('程序', 89), ('策略', 90), ('篩選', 91), ('精神', 92), ('統計', 93), ('繫', 94), ('耐心', 95), ('聯', 96), ('職務', 97), ('自主', 98), ('評估', 99), ('請', 100), ('金融', 101), ('電子', 102), ('academic', 103), ('approaches', 104), ('atmosphere', 105), ('background', 106), ('brilliant', 107), ('candidate', 108), ('center', 109), ('challenging', 110), ('convolutional', 111), ('create', 112), ('creative', 113), ('detection', 114), ('digital', 115), ('exciting', 116), ('field', 117), ('following', 118), ('formulate', 119), ('friendly', 120), ('fun', 121), ('future', 122), ('generative', 123), ('healthcare', 124), ('help', 125), ('htc', 126), ('innovation', 127), ('inspiring', 128), ('join', 129), ('looking', 130), ('models', 131), ('ms', 132), ('networks', 133), ('neural', 134), ('novel', 135), ('object', 136), ('open', 137), ('papers', 138), ('phd', 139), ('powered', 140), ('problems', 141), ('propose', 142), ('reading', 143), ('recognition', 144), ('requirement', 145), ('segmentation', 146), ('services', 147), ('stimulating', 148), ('talents', 149)]\n"
     ]
    }
   ],
   "source": [
    "word_items = []\n",
    "for index, wi in enumerate(dictionary.token2id.items()):\n",
    "    if index < 150:\n",
    "        word_items.append(wi)\n",
    "        \n",
    "print(word_items)"
   ]
  },
  {
   "cell_type": "markdown",
   "metadata": {},
   "source": [
    "# Generate BOW (Bag Of Words)"
   ]
  },
  {
   "cell_type": "code",
   "execution_count": 77,
   "metadata": {},
   "outputs": [],
   "source": [
    "bows = [dictionary.doc2bow(d) for d in docs]"
   ]
  },
  {
   "cell_type": "code",
   "execution_count": 102,
   "metadata": {},
   "outputs": [
    {
     "name": "stdout",
     "output_type": "stream",
     "text": [
      "60\n"
     ]
    },
    {
     "data": {
      "text/plain": [
       "[(53, 1),\n",
       " (54, 1),\n",
       " (55, 2),\n",
       " (56, 1),\n",
       " (57, 1),\n",
       " (58, 1),\n",
       " (59, 1),\n",
       " (60, 1),\n",
       " (61, 1),\n",
       " (62, 1)]"
      ]
     },
     "execution_count": 102,
     "metadata": {},
     "output_type": "execute_result"
    }
   ],
   "source": [
    "print(len(bows[1]))\n",
    "bows[1][10:20]"
   ]
  },
  {
   "cell_type": "code",
   "execution_count": 103,
   "metadata": {},
   "outputs": [
    {
     "name": "stdout",
     "output_type": "stream",
     "text": [
      "事物\n",
      "事項\n",
      "交易\n",
      "以下\n",
      "作品\n",
      "充滿\n",
      "創新\n",
      "加速\n",
      "協同\n",
      "可能\n"
     ]
    }
   ],
   "source": [
    "for id_word in range(50, 60):\n",
    "    print(dictionary.get(id_word))"
   ]
  },
  {
   "cell_type": "markdown",
   "metadata": {},
   "source": [
    "# LDA using BOW\n",
    "Hyper-parameters: https://markroxor.github.io/gensim/static/notebooks/lda_training_tips.html"
   ]
  },
  {
   "cell_type": "code",
   "execution_count": 80,
   "metadata": {},
   "outputs": [],
   "source": [
    "num_topics = 10\n",
    "passes = 20\n",
    "iterations = 400\n",
    "\n",
    "lda_model_bow = gensim.models.LdaModel(bows,\n",
    "                                      num_topics=num_topics,\n",
    "                                      id2word=dictionary,\n",
    "                                      passes=passes,\n",
    "                                      iterations=iterations,\n",
    "                                      alpha='auto', eta='auto')"
   ]
  },
  {
   "cell_type": "code",
   "execution_count": 81,
   "metadata": {},
   "outputs": [
    {
     "name": "stdout",
     "output_type": "stream",
     "text": [
      "Topic 0: 0.010*\"cloud\" + 0.009*\"image\" + 0.008*\"test\" + 0.007*\"web\" + 0.007*\"experiences\" + 0.007*\"like\" + 0.007*\"understanding\" + 0.006*\"architecture\" + 0.006*\"developing\" + 0.006*\"algorithm\"\n",
      "Topic 1: 0.020*\"舖\" + 0.014*\"環境\" + 0.013*\"客服\" + 0.013*\"顧\" + 0.008*\"包括\" + 0.008*\"equipment\" + 0.008*\"晉升\" + 0.008*\"清潔\" + 0.007*\"門市\" + 0.007*\"經營\"\n",
      "Topic 2: 0.040*\"舖\" + 0.039*\"經營\" + 0.028*\"主任\" + 0.024*\"培訓\" + 0.021*\"培育\" + 0.021*\"分店\" + 0.018*\"表現\" + 0.018*\"區\" + 0.018*\"約\" + 0.014*\"發展\"\n",
      "Topic 3: 0.016*\"training\" + 0.007*\"models\" + 0.007*\"techniques\" + 0.006*\"customer\" + 0.005*\"analytics\" + 0.005*\"statistical\" + 0.005*\"problems\" + 0.005*\"field\" + 0.005*\"projects\" + 0.004*\"statistics\"\n",
      "Topic 4: 0.021*\"sales\" + 0.013*\"customers\" + 0.011*\"customer\" + 0.010*\"marketing\" + 0.009*\"hr\" + 0.008*\"market\" + 0.008*\"content\" + 0.007*\"manage\" + 0.007*\"ensure\" + 0.006*\"manager\"\n",
      "Topic 5: 0.011*\"security\" + 0.009*\"review\" + 0.008*\"project\" + 0.008*\"service\" + 0.007*\"test\" + 0.007*\"d\" + 0.007*\"rf\" + 0.007*\"solution\" + 0.006*\"issues\" + 0.006*\"cnn\"\n",
      "Topic 6: 0.015*\"數據\" + 0.010*\"產品\" + 0.010*\"深度學習\" + 0.009*\"模型\" + 0.009*\"統計\" + 0.009*\"溝通\" + 0.009*\"研究\" + 0.009*\"專案\" + 0.008*\"需求\" + 0.008*\"軟體\"\n",
      "Topic 7: 0.010*\"佳\" + 0.010*\"經驗者\" + 0.010*\"軟體\" + 0.010*\"機械\" + 0.010*\"客戶\" + 0.009*\"操作\" + 0.008*\"工程\" + 0.007*\"產業\" + 0.007*\"工具\" + 0.007*\"條件\"\n",
      "Topic 8: 0.023*\"影像\" + 0.013*\"整合\" + 0.012*\"視覺\" + 0.011*\"控制\" + 0.010*\"資訊\" + 0.010*\"電機\" + 0.009*\"recognition\" + 0.009*\"檢測\" + 0.009*\"工程\" + 0.008*\"opencv\"\n",
      "Topic 9: 0.017*\"獎金\" + 0.017*\"環境\" + 0.016*\"門市\" + 0.016*\"完善\" + 0.014*\"制度\" + 0.013*\"教育\" + 0.013*\"年度\" + 0.013*\"福利\" + 0.013*\"請\" + 0.013*\"次\"\n"
     ]
    }
   ],
   "source": [
    "for index, topic in lda_model_bow.print_topics(-1):\n",
    "    print('Topic {}: {}'.format(index, topic))"
   ]
  },
  {
   "cell_type": "code",
   "execution_count": 82,
   "metadata": {},
   "outputs": [
    {
     "name": "stdout",
     "output_type": "stream",
     "text": [
      "Topic 0: \n",
      "\t\tcloud\n",
      "\t\timage\n",
      "\t\ttest\n",
      "\t\tweb\n",
      "\t\texperiences\n",
      "\t\tlike\n",
      "\t\tunderstanding\n",
      "\t\tarchitecture\n",
      "\t\tdeveloping\n",
      "\t\talgorithm\n",
      "\n",
      "\n",
      "Topic 1: \n",
      "\t\t舖\n",
      "\t\t環境\n",
      "\t\t客服\n",
      "\t\t顧\n",
      "\t\t包括\n",
      "\t\tequipment\n",
      "\t\t晉升\n",
      "\t\t清潔\n",
      "\t\t門市\n",
      "\t\t經營\n",
      "\n",
      "\n",
      "Topic 2: \n",
      "\t\t舖\n",
      "\t\t經營\n",
      "\t\t主任\n",
      "\t\t培訓\n",
      "\t\t培育\n",
      "\t\t分店\n",
      "\t\t表現\n",
      "\t\t區\n",
      "\t\t約\n",
      "\t\t發展\n",
      "\n",
      "\n",
      "Topic 3: \n",
      "\t\ttraining\n",
      "\t\tmodels\n",
      "\t\ttechniques\n",
      "\t\tcustomer\n",
      "\t\tanalytics\n",
      "\t\tstatistical\n",
      "\t\tproblems\n",
      "\t\tfield\n",
      "\t\tprojects\n",
      "\t\tstatistics\n",
      "\n",
      "\n",
      "Topic 4: \n",
      "\t\tsales\n",
      "\t\tcustomers\n",
      "\t\tcustomer\n",
      "\t\tmarketing\n",
      "\t\thr\n",
      "\t\tmarket\n",
      "\t\tcontent\n",
      "\t\tmanage\n",
      "\t\tensure\n",
      "\t\tmanager\n",
      "\n",
      "\n",
      "Topic 5: \n",
      "\t\tsecurity\n",
      "\t\treview\n",
      "\t\tproject\n",
      "\t\tservice\n",
      "\t\ttest\n",
      "\t\td\n",
      "\t\trf\n",
      "\t\tsolution\n",
      "\t\tissues\n",
      "\t\tcnn\n",
      "\n",
      "\n",
      "Topic 6: \n",
      "\t\t數據\n",
      "\t\t產品\n",
      "\t\t深度學習\n",
      "\t\t模型\n",
      "\t\t統計\n",
      "\t\t溝通\n",
      "\t\t研究\n",
      "\t\t專案\n",
      "\t\t需求\n",
      "\t\t軟體\n",
      "\n",
      "\n",
      "Topic 7: \n",
      "\t\t佳\n",
      "\t\t經驗者\n",
      "\t\t軟體\n",
      "\t\t機械\n",
      "\t\t客戶\n",
      "\t\t操作\n",
      "\t\t工程\n",
      "\t\t產業\n",
      "\t\t工具\n",
      "\t\t條件\n",
      "\n",
      "\n",
      "Topic 8: \n",
      "\t\t影像\n",
      "\t\t整合\n",
      "\t\t視覺\n",
      "\t\t控制\n",
      "\t\t資訊\n",
      "\t\t電機\n",
      "\t\trecognition\n",
      "\t\t檢測\n",
      "\t\t工程\n",
      "\t\topencv\n",
      "\n",
      "\n",
      "Topic 9: \n",
      "\t\t獎金\n",
      "\t\t環境\n",
      "\t\t門市\n",
      "\t\t完善\n",
      "\t\t制度\n",
      "\t\t教育\n",
      "\t\t年度\n",
      "\t\t福利\n",
      "\t\t請\n",
      "\t\t次\n",
      "\n",
      "\n"
     ]
    }
   ],
   "source": [
    "for index, topic in lda_model_bow.show_topics(-1, formatted=False):\n",
    "    print('Topic {}: '.format(index))\n",
    "    \n",
    "    for word, weight in topic:\n",
    "        print('\\t\\t{}'.format(word), end='\\n')\n",
    "#         print('{} '.format(word))\n",
    "\n",
    "\n",
    "    print('\\n')"
   ]
  },
  {
   "cell_type": "code",
   "execution_count": 109,
   "metadata": {},
   "outputs": [
    {
     "data": {
      "text/html": [
       "<div>\n",
       "<style scoped>\n",
       "    .dataframe tbody tr th:only-of-type {\n",
       "        vertical-align: middle;\n",
       "    }\n",
       "\n",
       "    .dataframe tbody tr th {\n",
       "        vertical-align: top;\n",
       "    }\n",
       "\n",
       "    .dataframe thead th {\n",
       "        text-align: right;\n",
       "    }\n",
       "</style>\n",
       "<table border=\"1\" class=\"dataframe\">\n",
       "  <thead>\n",
       "    <tr style=\"text-align: right;\">\n",
       "      <th></th>\n",
       "      <th>topic0</th>\n",
       "      <th>topic1</th>\n",
       "      <th>topic2</th>\n",
       "      <th>topic3</th>\n",
       "      <th>topic4</th>\n",
       "      <th>topic5</th>\n",
       "      <th>topic6</th>\n",
       "      <th>topic7</th>\n",
       "      <th>topic8</th>\n",
       "      <th>topic9</th>\n",
       "    </tr>\n",
       "  </thead>\n",
       "  <tbody>\n",
       "    <tr>\n",
       "      <th>0</th>\n",
       "      <td>cloud</td>\n",
       "      <td>舖</td>\n",
       "      <td>舖</td>\n",
       "      <td>training</td>\n",
       "      <td>sales</td>\n",
       "      <td>security</td>\n",
       "      <td>數據</td>\n",
       "      <td>佳</td>\n",
       "      <td>影像</td>\n",
       "      <td>獎金</td>\n",
       "    </tr>\n",
       "    <tr>\n",
       "      <th>1</th>\n",
       "      <td>image</td>\n",
       "      <td>環境</td>\n",
       "      <td>經營</td>\n",
       "      <td>models</td>\n",
       "      <td>customers</td>\n",
       "      <td>review</td>\n",
       "      <td>產品</td>\n",
       "      <td>經驗者</td>\n",
       "      <td>整合</td>\n",
       "      <td>環境</td>\n",
       "    </tr>\n",
       "    <tr>\n",
       "      <th>2</th>\n",
       "      <td>test</td>\n",
       "      <td>客服</td>\n",
       "      <td>主任</td>\n",
       "      <td>techniques</td>\n",
       "      <td>customer</td>\n",
       "      <td>project</td>\n",
       "      <td>深度學習</td>\n",
       "      <td>軟體</td>\n",
       "      <td>視覺</td>\n",
       "      <td>門市</td>\n",
       "    </tr>\n",
       "    <tr>\n",
       "      <th>3</th>\n",
       "      <td>web</td>\n",
       "      <td>顧</td>\n",
       "      <td>培訓</td>\n",
       "      <td>customer</td>\n",
       "      <td>marketing</td>\n",
       "      <td>service</td>\n",
       "      <td>模型</td>\n",
       "      <td>機械</td>\n",
       "      <td>控制</td>\n",
       "      <td>完善</td>\n",
       "    </tr>\n",
       "    <tr>\n",
       "      <th>4</th>\n",
       "      <td>experiences</td>\n",
       "      <td>包括</td>\n",
       "      <td>培育</td>\n",
       "      <td>analytics</td>\n",
       "      <td>hr</td>\n",
       "      <td>test</td>\n",
       "      <td>統計</td>\n",
       "      <td>客戶</td>\n",
       "      <td>資訊</td>\n",
       "      <td>制度</td>\n",
       "    </tr>\n",
       "    <tr>\n",
       "      <th>5</th>\n",
       "      <td>like</td>\n",
       "      <td>equipment</td>\n",
       "      <td>分店</td>\n",
       "      <td>statistical</td>\n",
       "      <td>market</td>\n",
       "      <td>d</td>\n",
       "      <td>溝通</td>\n",
       "      <td>操作</td>\n",
       "      <td>電機</td>\n",
       "      <td>教育</td>\n",
       "    </tr>\n",
       "    <tr>\n",
       "      <th>6</th>\n",
       "      <td>understanding</td>\n",
       "      <td>晉升</td>\n",
       "      <td>表現</td>\n",
       "      <td>problems</td>\n",
       "      <td>content</td>\n",
       "      <td>rf</td>\n",
       "      <td>研究</td>\n",
       "      <td>工程</td>\n",
       "      <td>recognition</td>\n",
       "      <td>年度</td>\n",
       "    </tr>\n",
       "    <tr>\n",
       "      <th>7</th>\n",
       "      <td>architecture</td>\n",
       "      <td>清潔</td>\n",
       "      <td>區</td>\n",
       "      <td>field</td>\n",
       "      <td>manage</td>\n",
       "      <td>solution</td>\n",
       "      <td>專案</td>\n",
       "      <td>產業</td>\n",
       "      <td>檢測</td>\n",
       "      <td>福利</td>\n",
       "    </tr>\n",
       "    <tr>\n",
       "      <th>8</th>\n",
       "      <td>developing</td>\n",
       "      <td>門市</td>\n",
       "      <td>約</td>\n",
       "      <td>projects</td>\n",
       "      <td>ensure</td>\n",
       "      <td>issues</td>\n",
       "      <td>需求</td>\n",
       "      <td>工具</td>\n",
       "      <td>工程</td>\n",
       "      <td>請</td>\n",
       "    </tr>\n",
       "    <tr>\n",
       "      <th>9</th>\n",
       "      <td>algorithm</td>\n",
       "      <td>經營</td>\n",
       "      <td>發展</td>\n",
       "      <td>statistics</td>\n",
       "      <td>manager</td>\n",
       "      <td>cnn</td>\n",
       "      <td>軟體</td>\n",
       "      <td>條件</td>\n",
       "      <td>opencv</td>\n",
       "      <td>次</td>\n",
       "    </tr>\n",
       "  </tbody>\n",
       "</table>\n",
       "</div>"
      ],
      "text/plain": [
       "          topic0     topic1 topic2       topic3     topic4    topic5 topic6  \\\n",
       "0          cloud          舖      舖     training      sales  security     數據   \n",
       "1          image         環境     經營       models  customers    review     產品   \n",
       "2           test         客服     主任   techniques   customer   project   深度學習   \n",
       "3            web          顧     培訓     customer  marketing   service     模型   \n",
       "4    experiences         包括     培育    analytics         hr      test     統計   \n",
       "5           like  equipment     分店  statistical     market         d     溝通   \n",
       "6  understanding         晉升     表現     problems    content        rf     研究   \n",
       "7   architecture         清潔      區        field     manage  solution     專案   \n",
       "8     developing         門市      約     projects     ensure    issues     需求   \n",
       "9      algorithm         經營     發展   statistics    manager       cnn     軟體   \n",
       "\n",
       "  topic7       topic8 topic9  \n",
       "0      佳           影像     獎金  \n",
       "1    經驗者           整合     環境  \n",
       "2     軟體           視覺     門市  \n",
       "3     機械           控制     完善  \n",
       "4     客戶           資訊     制度  \n",
       "5     操作           電機     教育  \n",
       "6     工程  recognition     年度  \n",
       "7     產業           檢測     福利  \n",
       "8     工具           工程      請  \n",
       "9     條件       opencv      次  "
      ]
     },
     "execution_count": 109,
     "metadata": {},
     "output_type": "execute_result"
    }
   ],
   "source": [
    "init_values = [['']*num_topics]*10\n",
    "bow_df = pd.DataFrame(init_values, columns=['topic{}'.format(i) for i in range(num_topics)])\n",
    "\n",
    "\n",
    "for i_topic, topic in lda_model_bow.show_topics(-1, formatted=False):\n",
    "#     print('Topic {}: '.format(index))\n",
    "    \n",
    "    for i_word, (word, weight) in enumerate(topic):\n",
    "#         print('\\t\\t{}'.format(word), end='\\n')\n",
    "        bow_df.iloc[i_word][i_topic] = word\n",
    "\n",
    "bow_df"
   ]
  },
  {
   "cell_type": "markdown",
   "metadata": {},
   "source": [
    "# LDA using TF-IDF"
   ]
  },
  {
   "cell_type": "code",
   "execution_count": 83,
   "metadata": {},
   "outputs": [],
   "source": [
    "def bow2tfidf(bows):\n",
    "    tfidf = gensim.models.TfidfModel(bows)\n",
    "    corpus_tfidf = tfidf[bows]\n",
    "    \n",
    "    return corpus_tfidf\n",
    "\n",
    "corpus_tfidf = bow2tfidf(bows)"
   ]
  },
  {
   "cell_type": "code",
   "execution_count": 84,
   "metadata": {},
   "outputs": [
    {
     "data": {
      "text/plain": [
       "gensim.interfaces.TransformedCorpus"
      ]
     },
     "execution_count": 84,
     "metadata": {},
     "output_type": "execute_result"
    }
   ],
   "source": [
    "type(corpus_tfidf)"
   ]
  },
  {
   "cell_type": "code",
   "execution_count": 85,
   "metadata": {},
   "outputs": [],
   "source": [
    "lda_model_tfidf = gensim.models.LdaModel(corpus_tfidf,\n",
    "                                        num_topics=num_topics,\n",
    "                                        id2word=dictionary,\n",
    "                                        passes=passes,\n",
    "                                        iterations=iterations,\n",
    "                                        alpha='auto', eta='auto')"
   ]
  },
  {
   "cell_type": "code",
   "execution_count": 86,
   "metadata": {},
   "outputs": [
    {
     "name": "stdout",
     "output_type": "stream",
     "text": [
      "Index 0: topic= 0.016*\"舖\" + 0.015*\"經營\" + 0.012*\"主任\" + 0.009*\"分店\" + 0.009*\"培訓\" + 0.009*\"培育\" + 0.007*\"區\" + 0.007*\"表現\" + 0.007*\"約\" + 0.006*\"三班\"\n",
      "Index 1: topic= 0.003*\"image\" + 0.003*\"熟\" + 0.003*\"機器\" + 0.002*\"caffe\" + 0.002*\"影像\" + 0.002*\"將\" + 0.002*\"algorithm\" + 0.002*\"app\" + 0.002*\"請\" + 0.002*\"toeic\"\n",
      "Index 2: topic= 0.004*\"training\" + 0.003*\"image\" + 0.003*\"project\" + 0.003*\"test\" + 0.003*\"customer\" + 0.003*\"algorithm\" + 0.003*\"cloud\" + 0.002*\"models\" + 0.002*\"experiences\" + 0.002*\"techniques\"\n",
      "Index 3: topic= 0.002*\"聯詠\" + 0.002*\"共創\" + 0.002*\"caffe\" + 0.002*\"經驗者\" + 0.002*\"image\" + 0.002*\"signal\" + 0.002*\"model\" + 0.002*\"影像\" + 0.002*\"algorithm\" + 0.002*\"佳\"\n",
      "Index 4: topic= 0.003*\"熟\" + 0.003*\"caffe\" + 0.002*\"model\" + 0.002*\"佳\" + 0.002*\"keras\" + 0.002*\"d\" + 0.002*\"機械\" + 0.002*\"navigation\" + 0.002*\"algorithm\" + 0.002*\"network\"\n",
      "Index 5: topic= 0.006*\"獎金\" + 0.005*\"完善\" + 0.005*\"門市\" + 0.005*\"環境\" + 0.004*\"制度\" + 0.004*\"次\" + 0.004*\"年度\" + 0.004*\"教育\" + 0.004*\"福利\" + 0.004*\"餐\"\n",
      "Index 6: topic= 0.003*\"caffe\" + 0.003*\"cnn\" + 0.002*\"network\" + 0.002*\"neural\" + 0.002*\"image\" + 0.002*\"機械\" + 0.002*\"algorithm\" + 0.002*\"like\" + 0.002*\"g\" + 0.002*\"model\"\n",
      "Index 7: topic= 0.006*\"影像\" + 0.005*\"數據\" + 0.005*\"軟體\" + 0.005*\"深度學習\" + 0.004*\"模型\" + 0.004*\"研究\" + 0.004*\"統計\" + 0.004*\"產品\" + 0.004*\"佳\" + 0.004*\"專案\"\n",
      "Index 8: topic= 0.007*\"舖\" + 0.005*\"環境\" + 0.005*\"顧\" + 0.005*\"客服\" + 0.004*\"性強\" + 0.004*\"明亮\" + 0.004*\"營運維護\" + 0.004*\"賣場\" + 0.003*\"整潔\" + 0.003*\"清潔\"\n",
      "Index 9: topic= 0.004*\"機械\" + 0.004*\"經驗者\" + 0.003*\"deepq\" + 0.003*\"compiler\" + 0.003*\"熟\" + 0.002*\"佳\" + 0.002*\"image\" + 0.002*\"open\" + 0.002*\"圖\" + 0.002*\"軟體\"\n"
     ]
    }
   ],
   "source": [
    "for index, topic in lda_model_tfidf.print_topics(-1):\n",
    "    print('Index {}: topic= {}'.format(index, topic))"
   ]
  },
  {
   "cell_type": "code",
   "execution_count": 87,
   "metadata": {},
   "outputs": [
    {
     "name": "stdout",
     "output_type": "stream",
     "text": [
      "Topic 0: \n",
      "\t\t舖\n",
      "\t\t經營\n",
      "\t\t主任\n",
      "\t\t分店\n",
      "\t\t培訓\n",
      "\t\t培育\n",
      "\t\t區\n",
      "\t\t表現\n",
      "\t\t約\n",
      "\t\t三班\n",
      "\n",
      "\n",
      "Topic 1: \n",
      "\t\timage\n",
      "\t\t熟\n",
      "\t\t機器\n",
      "\t\tcaffe\n",
      "\t\t影像\n",
      "\t\t將\n",
      "\t\talgorithm\n",
      "\t\tapp\n",
      "\t\t請\n",
      "\t\ttoeic\n",
      "\n",
      "\n",
      "Topic 2: \n",
      "\t\ttraining\n",
      "\t\timage\n",
      "\t\tproject\n",
      "\t\ttest\n",
      "\t\tcustomer\n",
      "\t\talgorithm\n",
      "\t\tcloud\n",
      "\t\tmodels\n",
      "\t\texperiences\n",
      "\t\ttechniques\n",
      "\n",
      "\n",
      "Topic 3: \n",
      "\t\t聯詠\n",
      "\t\t共創\n",
      "\t\tcaffe\n",
      "\t\t經驗者\n",
      "\t\timage\n",
      "\t\tsignal\n",
      "\t\tmodel\n",
      "\t\t影像\n",
      "\t\talgorithm\n",
      "\t\t佳\n",
      "\n",
      "\n",
      "Topic 4: \n",
      "\t\t熟\n",
      "\t\tcaffe\n",
      "\t\tmodel\n",
      "\t\t佳\n",
      "\t\tkeras\n",
      "\t\td\n",
      "\t\t機械\n",
      "\t\tnavigation\n",
      "\t\talgorithm\n",
      "\t\tnetwork\n",
      "\n",
      "\n",
      "Topic 5: \n",
      "\t\t獎金\n",
      "\t\t完善\n",
      "\t\t門市\n",
      "\t\t環境\n",
      "\t\t制度\n",
      "\t\t次\n",
      "\t\t年度\n",
      "\t\t教育\n",
      "\t\t福利\n",
      "\t\t餐\n",
      "\n",
      "\n",
      "Topic 6: \n",
      "\t\tcaffe\n",
      "\t\tcnn\n",
      "\t\tnetwork\n",
      "\t\tneural\n",
      "\t\timage\n",
      "\t\t機械\n",
      "\t\talgorithm\n",
      "\t\tlike\n",
      "\t\tg\n",
      "\t\tmodel\n",
      "\n",
      "\n",
      "Topic 7: \n",
      "\t\t影像\n",
      "\t\t數據\n",
      "\t\t軟體\n",
      "\t\t深度學習\n",
      "\t\t模型\n",
      "\t\t研究\n",
      "\t\t統計\n",
      "\t\t產品\n",
      "\t\t佳\n",
      "\t\t專案\n",
      "\n",
      "\n",
      "Topic 8: \n",
      "\t\t舖\n",
      "\t\t環境\n",
      "\t\t顧\n",
      "\t\t客服\n",
      "\t\t性強\n",
      "\t\t明亮\n",
      "\t\t營運維護\n",
      "\t\t賣場\n",
      "\t\t整潔\n",
      "\t\t清潔\n",
      "\n",
      "\n",
      "Topic 9: \n",
      "\t\t機械\n",
      "\t\t經驗者\n",
      "\t\tdeepq\n",
      "\t\tcompiler\n",
      "\t\t熟\n",
      "\t\t佳\n",
      "\t\timage\n",
      "\t\topen\n",
      "\t\t圖\n",
      "\t\t軟體\n",
      "\n",
      "\n"
     ]
    }
   ],
   "source": [
    "for index, topic in lda_model_tfidf.show_topics(-1, formatted=False):\n",
    "    print('Topic {}: '.format(index))\n",
    "    \n",
    "    for word, weight in topic:\n",
    "        print('\\t\\t{}'.format(word), end='\\n')\n",
    "#         print('{} '.format(word))\n",
    "\n",
    "\n",
    "    print('\\n') "
   ]
  },
  {
   "cell_type": "code",
   "execution_count": 110,
   "metadata": {},
   "outputs": [
    {
     "data": {
      "text/html": [
       "<div>\n",
       "<style scoped>\n",
       "    .dataframe tbody tr th:only-of-type {\n",
       "        vertical-align: middle;\n",
       "    }\n",
       "\n",
       "    .dataframe tbody tr th {\n",
       "        vertical-align: top;\n",
       "    }\n",
       "\n",
       "    .dataframe thead th {\n",
       "        text-align: right;\n",
       "    }\n",
       "</style>\n",
       "<table border=\"1\" class=\"dataframe\">\n",
       "  <thead>\n",
       "    <tr style=\"text-align: right;\">\n",
       "      <th></th>\n",
       "      <th>topic0</th>\n",
       "      <th>topic1</th>\n",
       "      <th>topic2</th>\n",
       "      <th>topic3</th>\n",
       "      <th>topic4</th>\n",
       "      <th>topic5</th>\n",
       "      <th>topic6</th>\n",
       "      <th>topic7</th>\n",
       "      <th>topic8</th>\n",
       "      <th>topic9</th>\n",
       "    </tr>\n",
       "  </thead>\n",
       "  <tbody>\n",
       "    <tr>\n",
       "      <th>0</th>\n",
       "      <td>舖</td>\n",
       "      <td>image</td>\n",
       "      <td>training</td>\n",
       "      <td>聯詠</td>\n",
       "      <td>熟</td>\n",
       "      <td>獎金</td>\n",
       "      <td>caffe</td>\n",
       "      <td>影像</td>\n",
       "      <td>舖</td>\n",
       "      <td>機械</td>\n",
       "    </tr>\n",
       "    <tr>\n",
       "      <th>1</th>\n",
       "      <td>經營</td>\n",
       "      <td>熟</td>\n",
       "      <td>image</td>\n",
       "      <td>共創</td>\n",
       "      <td>caffe</td>\n",
       "      <td>完善</td>\n",
       "      <td>cnn</td>\n",
       "      <td>數據</td>\n",
       "      <td>環境</td>\n",
       "      <td>經驗者</td>\n",
       "    </tr>\n",
       "    <tr>\n",
       "      <th>2</th>\n",
       "      <td>主任</td>\n",
       "      <td>機器</td>\n",
       "      <td>project</td>\n",
       "      <td>caffe</td>\n",
       "      <td>model</td>\n",
       "      <td>門市</td>\n",
       "      <td>network</td>\n",
       "      <td>軟體</td>\n",
       "      <td>顧</td>\n",
       "      <td>deepq</td>\n",
       "    </tr>\n",
       "    <tr>\n",
       "      <th>3</th>\n",
       "      <td>分店</td>\n",
       "      <td>caffe</td>\n",
       "      <td>test</td>\n",
       "      <td>經驗者</td>\n",
       "      <td>佳</td>\n",
       "      <td>環境</td>\n",
       "      <td>neural</td>\n",
       "      <td>深度學習</td>\n",
       "      <td>客服</td>\n",
       "      <td>compiler</td>\n",
       "    </tr>\n",
       "    <tr>\n",
       "      <th>4</th>\n",
       "      <td>培訓</td>\n",
       "      <td>影像</td>\n",
       "      <td>customer</td>\n",
       "      <td>image</td>\n",
       "      <td>keras</td>\n",
       "      <td>制度</td>\n",
       "      <td>image</td>\n",
       "      <td>模型</td>\n",
       "      <td>性強</td>\n",
       "      <td>熟</td>\n",
       "    </tr>\n",
       "    <tr>\n",
       "      <th>5</th>\n",
       "      <td>培育</td>\n",
       "      <td>將</td>\n",
       "      <td>algorithm</td>\n",
       "      <td>signal</td>\n",
       "      <td>d</td>\n",
       "      <td>次</td>\n",
       "      <td>機械</td>\n",
       "      <td>研究</td>\n",
       "      <td>明亮</td>\n",
       "      <td>佳</td>\n",
       "    </tr>\n",
       "    <tr>\n",
       "      <th>6</th>\n",
       "      <td>區</td>\n",
       "      <td>algorithm</td>\n",
       "      <td>cloud</td>\n",
       "      <td>model</td>\n",
       "      <td>機械</td>\n",
       "      <td>年度</td>\n",
       "      <td>algorithm</td>\n",
       "      <td>統計</td>\n",
       "      <td>營運維護</td>\n",
       "      <td>image</td>\n",
       "    </tr>\n",
       "    <tr>\n",
       "      <th>7</th>\n",
       "      <td>表現</td>\n",
       "      <td>app</td>\n",
       "      <td>models</td>\n",
       "      <td>影像</td>\n",
       "      <td>navigation</td>\n",
       "      <td>教育</td>\n",
       "      <td>like</td>\n",
       "      <td>產品</td>\n",
       "      <td>賣場</td>\n",
       "      <td>open</td>\n",
       "    </tr>\n",
       "    <tr>\n",
       "      <th>8</th>\n",
       "      <td>約</td>\n",
       "      <td>請</td>\n",
       "      <td>experiences</td>\n",
       "      <td>algorithm</td>\n",
       "      <td>algorithm</td>\n",
       "      <td>福利</td>\n",
       "      <td>g</td>\n",
       "      <td>佳</td>\n",
       "      <td>整潔</td>\n",
       "      <td>圖</td>\n",
       "    </tr>\n",
       "    <tr>\n",
       "      <th>9</th>\n",
       "      <td>三班</td>\n",
       "      <td>toeic</td>\n",
       "      <td>techniques</td>\n",
       "      <td>佳</td>\n",
       "      <td>network</td>\n",
       "      <td>餐</td>\n",
       "      <td>model</td>\n",
       "      <td>專案</td>\n",
       "      <td>清潔</td>\n",
       "      <td>軟體</td>\n",
       "    </tr>\n",
       "  </tbody>\n",
       "</table>\n",
       "</div>"
      ],
      "text/plain": [
       "  topic0     topic1       topic2     topic3      topic4 topic5     topic6  \\\n",
       "0      舖      image     training         聯詠           熟     獎金      caffe   \n",
       "1     經營          熟        image         共創       caffe     完善        cnn   \n",
       "2     主任         機器      project      caffe       model     門市    network   \n",
       "3     分店      caffe         test        經驗者           佳     環境     neural   \n",
       "4     培訓         影像     customer      image       keras     制度      image   \n",
       "5     培育          將    algorithm     signal           d      次         機械   \n",
       "6      區  algorithm        cloud      model          機械     年度  algorithm   \n",
       "7     表現        app       models         影像  navigation     教育       like   \n",
       "8      約          請  experiences  algorithm   algorithm     福利          g   \n",
       "9     三班      toeic   techniques          佳     network      餐      model   \n",
       "\n",
       "  topic7 topic8    topic9  \n",
       "0     影像      舖        機械  \n",
       "1     數據     環境       經驗者  \n",
       "2     軟體      顧     deepq  \n",
       "3   深度學習     客服  compiler  \n",
       "4     模型     性強         熟  \n",
       "5     研究     明亮         佳  \n",
       "6     統計   營運維護     image  \n",
       "7     產品     賣場      open  \n",
       "8      佳     整潔         圖  \n",
       "9     專案     清潔        軟體  "
      ]
     },
     "execution_count": 110,
     "metadata": {},
     "output_type": "execute_result"
    }
   ],
   "source": [
    "init_values = [['']*num_topics]*10\n",
    "tfidf_df = pd.DataFrame(init_values, columns=['topic{}'.format(i) for i in range(num_topics)])\n",
    "\n",
    "\n",
    "for i_topic, topic in lda_model_tfidf.show_topics(-1, formatted=False):\n",
    "#     print('Topic {}: '.format(index))\n",
    "    \n",
    "    for i_word, (word, weight) in enumerate(topic):\n",
    "#         print('\\t\\t{}'.format(word), end='\\n')\n",
    "        tfidf_df.iloc[i_word][i_topic] = word\n",
    "\n",
    "tfidf_df"
   ]
  },
  {
   "cell_type": "code",
   "execution_count": 118,
   "metadata": {},
   "outputs": [
    {
     "name": "stdout",
     "output_type": "stream",
     "text": [
      "Topic 0: 舖 經營 主任 分店 培訓 培育 區 表現 約 三班\n",
      "Topic 1: image 熟 機器 caffe 影像 將 algorithm app 請 toeic\n",
      "Topic 2: training image project test customer algorithm cloud models experiences techniques\n",
      "Topic 3: 聯詠 共創 caffe 經驗者 image signal model 影像 algorithm 佳\n",
      "Topic 4: 熟 caffe model 佳 keras d 機械 navigation algorithm network\n",
      "Topic 5: 獎金 完善 門市 環境 制度 次 年度 教育 福利 餐\n",
      "Topic 6: caffe cnn network neural image 機械 algorithm like g model\n",
      "Topic 7: 影像 數據 軟體 深度學習 模型 研究 統計 產品 佳 專案\n",
      "Topic 8: 舖 環境 顧 客服 性強 明亮 營運維護 賣場 整潔 清潔\n",
      "Topic 9: 機械 經驗者 deepq compiler 熟 佳 image open 圖 軟體\n"
     ]
    },
    {
     "data": {
      "image/png": "[encoded data removed]",
      "text/plain": [
       "<matplotlib.figure.Figure at 0x7f3cdc6c9e10>"
      ]
     },
     "metadata": {
      "needs_background": "light"
     },
     "output_type": "display_data"
    }
   ],
   "source": [
    "fig, axs = plt.subplots(num_topics)\n",
    "fig.set_figheight(8*num_topics)\n",
    "fig.set_figwidth(8)\n",
    "\n",
    "for i_topic in range(num_topics):\n",
    "    text = ' '.join(w for w in tfidf_df.iloc[:, i_topic])\n",
    "    print('Topic {}: {}'.format(i_topic, text))\n",
    "    wordCloud = WordCloud(background_color='white').generate(text)\n",
    "    \n",
    "    axs[i_topic].imshow(wordCloud)\n",
    "    axs[i_topic].axis('off')\n",
    "    axs[i_topic].set_title('Topic {}'.format(i_topic), size=20)"
   ]
  },
  {
   "cell_type": "code",
   "execution_count": null,
   "metadata": {},
   "outputs": [],
   "source": []
  }
 ],
 "metadata": {
  "kernelspec": {
   "display_name": "Python 3",
   "language": "python",
   "name": "python3"
  },
  "language_info": {
   "codemirror_mode": {
    "name": "ipython",
    "version": 3
   },
   "file_extension": ".py",
   "mimetype": "text/x-python",
   "name": "python",
   "nbconvert_exporter": "python",
   "pygments_lexer": "ipython3",
   "version": "3.6.3"
  }
 },
 "nbformat": 4,
 "nbformat_minor": 2
}
