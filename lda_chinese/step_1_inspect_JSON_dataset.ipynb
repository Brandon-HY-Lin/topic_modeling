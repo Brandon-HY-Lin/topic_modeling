{
 "cells": [
  {
   "cell_type": "markdown",
   "metadata": {},
   "source": [
    "# Inspect JSON Dataset"
   ]
  },
  {
   "cell_type": "code",
   "execution_count": 1,
   "metadata": {},
   "outputs": [],
   "source": [
    "import pandas as pd\n",
    "import gensim\n",
    "import jieba"
   ]
  },
  {
   "cell_type": "markdown",
   "metadata": {},
   "source": [
    "# Load Dataset and Inpect Few Rows"
   ]
  },
  {
   "cell_type": "code",
   "execution_count": 2,
   "metadata": {},
   "outputs": [],
   "source": [
    "filename_dataset = '../crawler/employment_website_104/dataset/jobs_104.json'\n",
    "\n",
    "dataset_df = pd.read_json(filename_dataset)"
   ]
  },
  {
   "cell_type": "code",
   "execution_count": 3,
   "metadata": {},
   "outputs": [
    {
     "data": {
      "text/plain": [
       "996"
      ]
     },
     "execution_count": 3,
     "metadata": {},
     "output_type": "execute_result"
    }
   ],
   "source": [
    "len(dataset_df)"
   ]
  },
  {
   "cell_type": "code",
   "execution_count": 4,
   "metadata": {},
   "outputs": [
    {
     "data": {
      "text/html": [
       "<div>\n",
       "<style scoped>\n",
       "    .dataframe tbody tr th:only-of-type {\n",
       "        vertical-align: middle;\n",
       "    }\n",
       "\n",
       "    .dataframe tbody tr th {\n",
       "        vertical-align: top;\n",
       "    }\n",
       "\n",
       "    .dataframe thead th {\n",
       "        text-align: right;\n",
       "    }\n",
       "</style>\n",
       "<table border=\"1\" class=\"dataframe\">\n",
       "  <thead>\n",
       "    <tr style=\"text-align: right;\">\n",
       "      <th></th>\n",
       "      <th>address</th>\n",
       "      <th>benefit</th>\n",
       "      <th>company</th>\n",
       "      <th>experience</th>\n",
       "      <th>requirement</th>\n",
       "      <th>requirement_others</th>\n",
       "      <th>salary</th>\n",
       "      <th>title</th>\n",
       "    </tr>\n",
       "  </thead>\n",
       "  <tbody>\n",
       "    <tr>\n",
       "      <th>0</th>\n",
       "      <td>\\n                                        台北市內...</td>\n",
       "      <td>\\n福利健全 \\n■ 優渥的薪資、獎金 \\n◎ 端午節、中秋節、年終獎金。 \\n◎ 定期依工...</td>\n",
       "      <td>芯鼎科技股份有限公司</td>\n",
       "      <td>不拘</td>\n",
       "      <td>- Driver development and fine tune of customiz...</td>\n",
       "      <td>- A BS degree in Computer Engineering, Electri...</td>\n",
       "      <td>待遇面議                                          ...</td>\n",
       "      <td>\\n                        系統應用工程師-台北(CD2320)  ...</td>\n",
       "    </tr>\n",
       "    <tr>\n",
       "      <th>1</th>\n",
       "      <td>\\n                                        台北市大...</td>\n",
       "      <td>\\n＊獎金福利＊1. 年節禮金2. 生日禮金3. 年終分紅4. 人才介紹獎金＊休假福利＊1....</td>\n",
       "      <td>銓鴻資訊有限公司</td>\n",
       "      <td>1年以上</td>\n",
       "      <td>1. 研究市場數據和交易數據，並進行交易策略研發。 \\n2. 開發模型和工具，監控分析交易程...</td>\n",
       "      <td>將先以電子履歷篩選增加效率，請注意以下事項：\\n■ 履歷請詳述相關經驗並請提供 Github...</td>\n",
       "      <td>年薪 1,000,000~2,500,000元                       ...</td>\n",
       "      <td>\\n                        計量交易員 Quantitative T...</td>\n",
       "    </tr>\n",
       "    <tr>\n",
       "      <th>2</th>\n",
       "      <td>\\n                                        新北市新...</td>\n",
       "      <td>\\n《薪酬福利＠HTC》我們極力落實利潤與員工分享的精神，透過多元的薪酬組合與完善的福利方案...</td>\n",
       "      <td>宏達電 HTC Corporation_宏達國際電子股份有限公司</td>\n",
       "      <td>不拘</td>\n",
       "      <td>Join the creative thinkers at HTC Healthcare. ...</td>\n",
       "      <td>Requirement:-MS or PhD in computer science or ...</td>\n",
       "      <td>待遇面議                                          ...</td>\n",
       "      <td>\\n                        (RD S/W) DeepQ - Com...</td>\n",
       "    </tr>\n",
       "    <tr>\n",
       "      <th>3</th>\n",
       "      <td>\\n                                        桃園市中...</td>\n",
       "      <td>\\n正職/全職人員之福利與訓練制度：\\n\\n【薪酬福利】\\n-每年依市場薪資水準評估薪資調整...</td>\n",
       "      <td>OK超商_來來超商股份有限公司</td>\n",
       "      <td>不拘</td>\n",
       "      <td>OK超商認為，用心經營的企業，首重人才培訓。\\n\\n因此，我們投入了大量的訓練資源，積極培育...</td>\n",
       "      <td>1.具服務熱忱，科系、經驗不拘，須輪班。\\n2.須自備交通工具及電腦網路設備(透過e-Lea...</td>\n",
       "      <td>月薪 31,000~33,000元                             ...</td>\n",
       "      <td>\\n                        儲備幹部(大桃園地區)         ...</td>\n",
       "    </tr>\n",
       "    <tr>\n",
       "      <th>4</th>\n",
       "      <td>\\n                                        新竹縣竹...</td>\n",
       "      <td>\\n【工作福利】彈性上下班。 \\n【休假福利】週休二日、國定假日、婚假、產假、陪產假、特休假...</td>\n",
       "      <td>神亞科技股份有限公司</td>\n",
       "      <td>3年以上</td>\n",
       "      <td>影像相關之深度學習演算法研究與開發</td>\n",
       "      <td>1. 有開發image processing相關應用經驗\\n2. 熟悉深度學習相關算法（e....</td>\n",
       "      <td>待遇面議                                          ...</td>\n",
       "      <td>\\n                        AI 工程師              ...</td>\n",
       "    </tr>\n",
       "  </tbody>\n",
       "</table>\n",
       "</div>"
      ],
      "text/plain": [
       "                                             address  \\\n",
       "0  \\n                                        台北市內...   \n",
       "1  \\n                                        台北市大...   \n",
       "2  \\n                                        新北市新...   \n",
       "3  \\n                                        桃園市中...   \n",
       "4  \\n                                        新竹縣竹...   \n",
       "\n",
       "                                             benefit  \\\n",
       "0  \\n福利健全 \\n■ 優渥的薪資、獎金 \\n◎ 端午節、中秋節、年終獎金。 \\n◎ 定期依工...   \n",
       "1  \\n＊獎金福利＊1. 年節禮金2. 生日禮金3. 年終分紅4. 人才介紹獎金＊休假福利＊1....   \n",
       "2  \\n《薪酬福利＠HTC》我們極力落實利潤與員工分享的精神，透過多元的薪酬組合與完善的福利方案...   \n",
       "3  \\n正職/全職人員之福利與訓練制度：\\n\\n【薪酬福利】\\n-每年依市場薪資水準評估薪資調整...   \n",
       "4  \\n【工作福利】彈性上下班。 \\n【休假福利】週休二日、國定假日、婚假、產假、陪產假、特休假...   \n",
       "\n",
       "                            company experience  \\\n",
       "0                        芯鼎科技股份有限公司         不拘   \n",
       "1                          銓鴻資訊有限公司       1年以上   \n",
       "2  宏達電 HTC Corporation_宏達國際電子股份有限公司         不拘   \n",
       "3                   OK超商_來來超商股份有限公司         不拘   \n",
       "4                        神亞科技股份有限公司       3年以上   \n",
       "\n",
       "                                         requirement  \\\n",
       "0  - Driver development and fine tune of customiz...   \n",
       "1  1. 研究市場數據和交易數據，並進行交易策略研發。 \\n2. 開發模型和工具，監控分析交易程...   \n",
       "2  Join the creative thinkers at HTC Healthcare. ...   \n",
       "3  OK超商認為，用心經營的企業，首重人才培訓。\\n\\n因此，我們投入了大量的訓練資源，積極培育...   \n",
       "4                                  影像相關之深度學習演算法研究與開發   \n",
       "\n",
       "                                  requirement_others  \\\n",
       "0  - A BS degree in Computer Engineering, Electri...   \n",
       "1  將先以電子履歷篩選增加效率，請注意以下事項：\\n■ 履歷請詳述相關經驗並請提供 Github...   \n",
       "2  Requirement:-MS or PhD in computer science or ...   \n",
       "3  1.具服務熱忱，科系、經驗不拘，須輪班。\\n2.須自備交通工具及電腦網路設備(透過e-Lea...   \n",
       "4  1. 有開發image processing相關應用經驗\\n2. 熟悉深度學習相關算法（e....   \n",
       "\n",
       "                                              salary  \\\n",
       "0  待遇面議                                          ...   \n",
       "1  年薪 1,000,000~2,500,000元                       ...   \n",
       "2  待遇面議                                          ...   \n",
       "3  月薪 31,000~33,000元                             ...   \n",
       "4  待遇面議                                          ...   \n",
       "\n",
       "                                               title  \n",
       "0  \\n                        系統應用工程師-台北(CD2320)  ...  \n",
       "1  \\n                        計量交易員 Quantitative T...  \n",
       "2  \\n                        (RD S/W) DeepQ - Com...  \n",
       "3  \\n                        儲備幹部(大桃園地區)         ...  \n",
       "4  \\n                        AI 工程師              ...  "
      ]
     },
     "execution_count": 4,
     "metadata": {},
     "output_type": "execute_result"
    }
   ],
   "source": [
    "dataset_df.head()"
   ]
  },
  {
   "cell_type": "code",
   "execution_count": 5,
   "metadata": {},
   "outputs": [],
   "source": [
    "requirements = dataset_df['requirement'] + ' ' + dataset_df['requirement_others']"
   ]
  },
  {
   "cell_type": "code",
   "execution_count": 6,
   "metadata": {},
   "outputs": [
    {
     "data": {
      "text/plain": [
       "0    - Driver development and fine tune of customiz...\n",
       "1    1. 研究市場數據和交易數據，並進行交易策略研發。 \\n2. 開發模型和工具，監控分析交易程...\n",
       "dtype: object"
      ]
     },
     "execution_count": 6,
     "metadata": {},
     "output_type": "execute_result"
    }
   ],
   "source": [
    "requirements[0:2]"
   ]
  },
  {
   "cell_type": "code",
   "execution_count": 12,
   "metadata": {},
   "outputs": [
    {
     "data": {
      "text/plain": [
       "'1. 研究市場數據和交易數據，並進行交易策略研發。 \\n2. 開發模型和工具，監控分析交易程序運行情況研究，實施統計套利策略，並研發統計套利回測工具。 \\n3. 熟悉python R 或者c++,有自主研發量化策略的能力。\\n4. 具備機率、統計、機器學習和金融市場研究經驗 。\\n\\n求才若渴\\n如果你(妳)有下列特質：\\n\\n是個懶人：\\n希望以最小的力氣達成目標，甚至提升品質，懂得善用工具增加生產力，重構提煉自有的程式庫。\\n\\n有團隊精神：\\n懂得協同合作提升整體效益，將團隊目標置於個人之前。\\n\\n充滿好奇心：\\n喜歡接觸、學習新事物，發現各種創新的可能。\\n\\n熱愛程式：\\n充滿熱情想改變世界，將巧思及創造力注入每一行程式碼。\\n\\n\\n歡迎加入我們！ 一起邁向偉大航道 : ) 將先以電子履歷篩選增加效率，請注意以下事項：\\n■ 履歷請詳述相關經驗並請提供 Github/Sample Code/作品，加速審核 。\\n■ 我們非常重視求職者的職務申請，履歷將由相關團隊主管嚴謹評估，因履歷眾多，意者我們將主動聯繫，請求職者悉知並耐心等候。'"
      ]
     },
     "execution_count": 12,
     "metadata": {},
     "output_type": "execute_result"
    }
   ],
   "source": [
    "requirements[1]"
   ]
  },
  {
   "cell_type": "markdown",
   "metadata": {},
   "source": [
    "\n",
    "# Tokenize Chinese/English Sentences using Jieba package"
   ]
  },
  {
   "cell_type": "code",
   "execution_count": 17,
   "metadata": {},
   "outputs": [],
   "source": [
    "doc = requirements[0]\n",
    "\n",
    "tokens = [t for t in jieba.cut(doc, cut_all=False)]"
   ]
  },
  {
   "cell_type": "code",
   "execution_count": 18,
   "metadata": {},
   "outputs": [
    {
     "data": {
      "text/plain": [
       "['-', ' ', 'Driver', ' ', 'development', ' ', 'and', ' ', 'fine', ' ']"
      ]
     },
     "execution_count": 18,
     "metadata": {},
     "output_type": "execute_result"
    }
   ],
   "source": [
    "tokens[:10]"
   ]
  },
  {
   "cell_type": "code",
   "execution_count": 20,
   "metadata": {},
   "outputs": [],
   "source": [
    "doc = requirements[1]\n",
    "\n",
    "tokens = [t for t in jieba.cut(doc, cut_all=False)]"
   ]
  },
  {
   "cell_type": "code",
   "execution_count": 30,
   "metadata": {},
   "outputs": [
    {
     "data": {
      "text/plain": [
       "['1',\n",
       " '.',\n",
       " ' ',\n",
       " '研究',\n",
       " '市場',\n",
       " '數據',\n",
       " '和',\n",
       " '交易',\n",
       " '數據',\n",
       " '，',\n",
       " '並進行',\n",
       " '交易',\n",
       " '策略',\n",
       " '研發',\n",
       " '。',\n",
       " ' ',\n",
       " '\\n',\n",
       " '2',\n",
       " '.',\n",
       " ' ',\n",
       " '開發',\n",
       " '模型',\n",
       " '和',\n",
       " '工具',\n",
       " '，',\n",
       " '監控',\n",
       " '分析',\n",
       " '交易',\n",
       " '程序',\n",
       " '運',\n",
       " '行情',\n",
       " '況',\n",
       " '研究',\n",
       " '，',\n",
       " '實施',\n",
       " '統計',\n",
       " '套利',\n",
       " '策略',\n",
       " '，',\n",
       " '並研',\n",
       " '發統計',\n",
       " '套利',\n",
       " '回測',\n",
       " '工具',\n",
       " '。',\n",
       " ' ',\n",
       " '\\n',\n",
       " '3',\n",
       " '.',\n",
       " ' ',\n",
       " '熟悉',\n",
       " 'python',\n",
       " ' ',\n",
       " 'R',\n",
       " ' ',\n",
       " '或者',\n",
       " 'c++',\n",
       " ',',\n",
       " '有',\n",
       " '自主',\n",
       " '研發',\n",
       " '量化',\n",
       " '策略',\n",
       " '的',\n",
       " '能力',\n",
       " '。',\n",
       " '\\n',\n",
       " '4',\n",
       " '.',\n",
       " ' ',\n",
       " '具備',\n",
       " '機率',\n",
       " '、',\n",
       " '統計',\n",
       " '、',\n",
       " '機器',\n",
       " '學習',\n",
       " '和',\n",
       " '金融',\n",
       " '市場',\n",
       " '研究',\n",
       " '經驗',\n",
       " ' ',\n",
       " '。',\n",
       " '\\n',\n",
       " '\\n',\n",
       " '求才若渴',\n",
       " '\\n',\n",
       " '如果',\n",
       " '你',\n",
       " '(',\n",
       " '妳',\n",
       " ')',\n",
       " '有',\n",
       " '下列',\n",
       " '特質',\n",
       " '：',\n",
       " '\\n',\n",
       " '\\n',\n",
       " '是']"
      ]
     },
     "execution_count": 30,
     "metadata": {},
     "output_type": "execute_result"
    }
   ],
   "source": [
    "tokens[:100]"
   ]
  },
  {
   "cell_type": "markdown",
   "metadata": {},
   "source": [
    "# Load Custom Dictionary\n",
    "Reference: https://github.com/fxsjy/jieba\n",
    "\n",
    "* Usage： jieba.load_userdict(file_name) # file_name is a file-like object or the path of the custom dictionary\n",
    "* The dictionary format is the same as that of dict.txt: one word per line; each line is divided into three parts separated by a space: word, word frequency, POS tag. If file_name is a path or a file opened in binary mode, the dictionary must be UTF-8 encoded.\n",
    "* The word frequency and POS tag can be omitted respectively. The word frequency will be filled with a suitable value if omitted.\n",
    "\n",
    "For example:\n",
    "\n",
    "创新办 3 i\n",
    "\n",
    "云计算 5\n",
    "\n",
    "凱特琳 nz\n",
    "\n",
    "台中"
   ]
  },
  {
   "cell_type": "code",
   "execution_count": 64,
   "metadata": {},
   "outputs": [],
   "source": [
    "filename_userdict = './custom_dictionary.txt'\n",
    "jieba.load_userdict(filename_userdict)"
   ]
  },
  {
   "cell_type": "code",
   "execution_count": 65,
   "metadata": {},
   "outputs": [],
   "source": [
    "doc = requirements[4]\n",
    "\n",
    "tokens = [t for t in jieba.cut(doc, cut_all=False)]"
   ]
  },
  {
   "cell_type": "code",
   "execution_count": 69,
   "metadata": {},
   "outputs": [
    {
     "data": {
      "text/plain": [
       "['影像', '相關', '之', '深度學習', '演算法', '研究', '與', '開發', ' ', '1']"
      ]
     },
     "execution_count": 69,
     "metadata": {},
     "output_type": "execute_result"
    }
   ],
   "source": [
    "tokens[:10]"
   ]
  },
  {
   "cell_type": "markdown",
   "metadata": {},
   "source": [
    "# Generate Documents in Tokens"
   ]
  },
  {
   "cell_type": "code",
   "execution_count": 78,
   "metadata": {},
   "outputs": [],
   "source": [
    "def tokenizer(doc):\n",
    "    return jieba.cut(doc, cut_all=False)\n",
    "\n",
    "\n",
    "def preprocess_docs(raw_docs):\n",
    "    \"\"\"\n",
    "    Args:\n",
    "        raw_docs (list of string): list of documents\n",
    "        \n",
    "    Returns:\n",
    "        list of list: list of tokens in a document\n",
    "    \"\"\"\n",
    "    docs = []\n",
    "    \n",
    "    for d in raw_docs:\n",
    "        tokens = []\n",
    "        \n",
    "        for t in tokenizer(d):\n",
    "            tokens.append(t)\n",
    "        \n",
    "        docs.append(tokens)\n",
    "        \n",
    "    return docs\n",
    "\n",
    "\n",
    "docs = preprocess_docs(requirements)"
   ]
  },
  {
   "cell_type": "code",
   "execution_count": 79,
   "metadata": {},
   "outputs": [
    {
     "data": {
      "text/plain": [
       "['-', ' ', 'Driver', ' ', 'development', ' ', 'and', ' ', 'fine', ' ']"
      ]
     },
     "execution_count": 79,
     "metadata": {},
     "output_type": "execute_result"
    }
   ],
   "source": [
    "docs[0][:10]"
   ]
  },
  {
   "cell_type": "code",
   "execution_count": 80,
   "metadata": {},
   "outputs": [
    {
     "data": {
      "text/plain": [
       "['1', '.', ' ', '研究', '市場', '數據', '和', '交易', '數據', '，']"
      ]
     },
     "execution_count": 80,
     "metadata": {},
     "output_type": "execute_result"
    }
   ],
   "source": [
    "docs[1][:10]"
   ]
  },
  {
   "cell_type": "markdown",
   "metadata": {},
   "source": [
    "# Create Gensim Dictionary"
   ]
  },
  {
   "cell_type": "code",
   "execution_count": 82,
   "metadata": {},
   "outputs": [],
   "source": [
    "dictionary = gensim.corpora.Dictionary(docs)"
   ]
  },
  {
   "cell_type": "code",
   "execution_count": 86,
   "metadata": {},
   "outputs": [
    {
     "data": {
      "text/plain": [
       "[(0, 18),\n",
       " (2, 1),\n",
       " (3, 2),\n",
       " (4, 1),\n",
       " (6, 4),\n",
       " (8, 2),\n",
       " (9, 1),\n",
       " (10, 1),\n",
       " (127, 23),\n",
       " (128, 1),\n",
       " (129, 1),\n",
       " (130, 1),\n",
       " (131, 1),\n",
       " (132, 1),\n",
       " (133, 1),\n",
       " (134, 1),\n",
       " (135, 1),\n",
       " (136, 1),\n",
       " (137, 2),\n",
       " (138, 3),\n",
       " (139, 10),\n",
       " (140, 1),\n",
       " (141, 1),\n",
       " (142, 1),\n",
       " (143, 1),\n",
       " (144, 1),\n",
       " (145, 1),\n",
       " (146, 1),\n",
       " (147, 1),\n",
       " (148, 1),\n",
       " (149, 1),\n",
       " (150, 1),\n",
       " (151, 3),\n",
       " (152, 1),\n",
       " (153, 1),\n",
       " (154, 1),\n",
       " (155, 1),\n",
       " (156, 1),\n",
       " (157, 2),\n",
       " (158, 2),\n",
       " (159, 1),\n",
       " (160, 1),\n",
       " (161, 1),\n",
       " (162, 1),\n",
       " (163, 1),\n",
       " (164, 1),\n",
       " (165, 1),\n",
       " (166, 1),\n",
       " (167, 1),\n",
       " (168, 1),\n",
       " (169, 1),\n",
       " (170, 1),\n",
       " (171, 3),\n",
       " (172, 1),\n",
       " (173, 1),\n",
       " (174, 1),\n",
       " (175, 1),\n",
       " (176, 1),\n",
       " (177, 1),\n",
       " (178, 1),\n",
       " (179, 2),\n",
       " (180, 1),\n",
       " (181, 2),\n",
       " (182, 1),\n",
       " (183, 1),\n",
       " (184, 1),\n",
       " (185, 1),\n",
       " (186, 1),\n",
       " (187, 1),\n",
       " (188, 1),\n",
       " (189, 1),\n",
       " (190, 1),\n",
       " (191, 1),\n",
       " (192, 2),\n",
       " (193, 1),\n",
       " (194, 3),\n",
       " (195, 1),\n",
       " (196, 2),\n",
       " (197, 1),\n",
       " (198, 1),\n",
       " (199, 1),\n",
       " (200, 1),\n",
       " (201, 1),\n",
       " (202, 2),\n",
       " (203, 1),\n",
       " (204, 3),\n",
       " (205, 1),\n",
       " (206, 1),\n",
       " (207, 1),\n",
       " (208, 2),\n",
       " (209, 1),\n",
       " (210, 1),\n",
       " (211, 1),\n",
       " (212, 1),\n",
       " (213, 1),\n",
       " (214, 2),\n",
       " (215, 1),\n",
       " (216, 1),\n",
       " (217, 1),\n",
       " (218, 1),\n",
       " (219, 2),\n",
       " (220, 1),\n",
       " (221, 1),\n",
       " (222, 1),\n",
       " (223, 1),\n",
       " (224, 1),\n",
       " (225, 1),\n",
       " (226, 1),\n",
       " (227, 1),\n",
       " (228, 1),\n",
       " (229, 1),\n",
       " (230, 1),\n",
       " (231, 1),\n",
       " (232, 1),\n",
       " (233, 1),\n",
       " (234, 1),\n",
       " (235, 1),\n",
       " (236, 1),\n",
       " (237, 1),\n",
       " (238, 1),\n",
       " (239, 1),\n",
       " (240, 5),\n",
       " (241, 1),\n",
       " (242, 2),\n",
       " (243, 2),\n",
       " (244, 1),\n",
       " (245, 3),\n",
       " (246, 3),\n",
       " (247, 1),\n",
       " (248, 1),\n",
       " (249, 3),\n",
       " (250, 1),\n",
       " (251, 3),\n",
       " (252, 1),\n",
       " (253, 1),\n",
       " (254, 3),\n",
       " (255, 2),\n",
       " (256, 1),\n",
       " (257, 1),\n",
       " (258, 1),\n",
       " (259, 1),\n",
       " (260, 1),\n",
       " (261, 2),\n",
       " (262, 1),\n",
       " (263, 1),\n",
       " (264, 1),\n",
       " (265, 1),\n",
       " (266, 1),\n",
       " (267, 1),\n",
       " (268, 1),\n",
       " (269, 2),\n",
       " (270, 1),\n",
       " (271, 1),\n",
       " (272, 1),\n",
       " (273, 1),\n",
       " (274, 1),\n",
       " (275, 1),\n",
       " (276, 1),\n",
       " (277, 1),\n",
       " (278, 1),\n",
       " (279, 1),\n",
       " (280, 1),\n",
       " (281, 1),\n",
       " (282, 16),\n",
       " (283, 6)]"
      ]
     },
     "execution_count": 86,
     "metadata": {},
     "output_type": "execute_result"
    }
   ],
   "source": [
    "d = docs[1]\n",
    "dictionary.doc2bow(d)"
   ]
  },
  {
   "cell_type": "code",
   "execution_count": null,
   "metadata": {},
   "outputs": [],
   "source": []
  }
 ],
 "metadata": {
  "kernelspec": {
   "display_name": "Python 3",
   "language": "python",
   "name": "python3"
  },
  "language_info": {
   "codemirror_mode": {
    "name": "ipython",
    "version": 3
   },
   "file_extension": ".py",
   "mimetype": "text/x-python",
   "name": "python",
   "nbconvert_exporter": "python",
   "pygments_lexer": "ipython3",
   "version": "3.6.3"
  }
 },
 "nbformat": 4,
 "nbformat_minor": 2
}
