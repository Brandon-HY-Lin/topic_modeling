{
 "cells": [
  {
   "cell_type": "markdown",
   "metadata": {},
   "source": [
    "# Inspect JSON Dataset"
   ]
  },
  {
   "cell_type": "code",
   "execution_count": 299,
   "metadata": {},
   "outputs": [],
   "source": [
    "import pandas as pd\n",
    "import gensim\n",
    "import jieba\n",
    "from tqdm import tqdm"
   ]
  },
  {
   "cell_type": "markdown",
   "metadata": {},
   "source": [
    "# Load Dataset and Inpect Few Rows"
   ]
  },
  {
   "cell_type": "code",
   "execution_count": 300,
   "metadata": {},
   "outputs": [],
   "source": [
    "filename_dataset = '../crawler/employment_website_104/dataset/jobs_104.json'\n",
    "\n",
    "dataset_df = pd.read_json(filename_dataset)"
   ]
  },
  {
   "cell_type": "code",
   "execution_count": 301,
   "metadata": {},
   "outputs": [
    {
     "data": {
      "text/plain": [
       "996"
      ]
     },
     "execution_count": 301,
     "metadata": {},
     "output_type": "execute_result"
    }
   ],
   "source": [
    "len(dataset_df)"
   ]
  },
  {
   "cell_type": "code",
   "execution_count": 302,
   "metadata": {},
   "outputs": [
    {
     "data": {
      "text/html": [
       "<div>\n",
       "<style scoped>\n",
       "    .dataframe tbody tr th:only-of-type {\n",
       "        vertical-align: middle;\n",
       "    }\n",
       "\n",
       "    .dataframe tbody tr th {\n",
       "        vertical-align: top;\n",
       "    }\n",
       "\n",
       "    .dataframe thead th {\n",
       "        text-align: right;\n",
       "    }\n",
       "</style>\n",
       "<table border=\"1\" class=\"dataframe\">\n",
       "  <thead>\n",
       "    <tr style=\"text-align: right;\">\n",
       "      <th></th>\n",
       "      <th>address</th>\n",
       "      <th>benefit</th>\n",
       "      <th>company</th>\n",
       "      <th>experience</th>\n",
       "      <th>requirement</th>\n",
       "      <th>requirement_others</th>\n",
       "      <th>salary</th>\n",
       "      <th>title</th>\n",
       "    </tr>\n",
       "  </thead>\n",
       "  <tbody>\n",
       "    <tr>\n",
       "      <th>0</th>\n",
       "      <td>台北市內湖...</td>\n",
       "      <td>福利健全  ■ 優渥的薪資、獎金  ◎ 端午節、中秋節、年終獎金。  ◎ 定期依工作績效調...</td>\n",
       "      <td>芯鼎科技股份有限公司</td>\n",
       "      <td>不拘</td>\n",
       "      <td>- Driver development and fine tune of customiz...</td>\n",
       "      <td>- A BS degree in Computer Engineering, Electri...</td>\n",
       "      <td>待遇面議                                          ...</td>\n",
       "      <td>系統應用工程師-台北(CD2320)   ...</td>\n",
       "    </tr>\n",
       "    <tr>\n",
       "      <th>1</th>\n",
       "      <td>台北市大安...</td>\n",
       "      <td>＊獎金福利＊1. 年節禮金2. 生日禮金3. 年終分紅4. 人才介紹獎金＊休假福利＊1. ...</td>\n",
       "      <td>銓鴻資訊有限公司</td>\n",
       "      <td>1年以上</td>\n",
       "      <td>1. 研究市場數據和交易數據，並進行交易策略研發。  2. 開發模型和工具，監控分析交易程序...</td>\n",
       "      <td>將先以電子履歷篩選增加效率，請注意以下事項： ■ 履歷請詳述相關經驗並請提供 Github/...</td>\n",
       "      <td>年薪 1,000,000~2,500,000元                       ...</td>\n",
       "      <td>計量交易員 Quantitative Tr...</td>\n",
       "    </tr>\n",
       "    <tr>\n",
       "      <th>2</th>\n",
       "      <td>新北市新店...</td>\n",
       "      <td>《薪酬福利＠HTC》我們極力落實利潤與員工分享的精神，透過多元的薪酬組合與完善的福利方案，...</td>\n",
       "      <td>宏達電 HTC Corporation_宏達國際電子股份有限公司</td>\n",
       "      <td>不拘</td>\n",
       "      <td>Join the creative thinkers at HTC Healthcare. ...</td>\n",
       "      <td>Requirement:-MS or PhD in computer science or ...</td>\n",
       "      <td>待遇面議                                          ...</td>\n",
       "      <td>(RD S/W) DeepQ - Comp...</td>\n",
       "    </tr>\n",
       "    <tr>\n",
       "      <th>3</th>\n",
       "      <td>桃園市中壢...</td>\n",
       "      <td>正職/全職人員之福利與訓練制度：  【薪酬福利】 -每年依市場薪資水準評估薪資調整專案 -...</td>\n",
       "      <td>OK超商_來來超商股份有限公司</td>\n",
       "      <td>不拘</td>\n",
       "      <td>OK超商認為，用心經營的企業，首重人才培訓。  因此，我們投入了大量的訓練資源，積極培育新一...</td>\n",
       "      <td>1.具服務熱忱，科系、經驗不拘，須輪班。 2.須自備交通工具及電腦網路設備(透過e-Lear...</td>\n",
       "      <td>月薪 31,000~33,000元                             ...</td>\n",
       "      <td>儲備幹部(大桃園地區)          ...</td>\n",
       "    </tr>\n",
       "    <tr>\n",
       "      <th>4</th>\n",
       "      <td>新竹縣竹北...</td>\n",
       "      <td>【工作福利】彈性上下班。  【休假福利】週休二日、國定假日、婚假、產假、陪產假、特休假、彈...</td>\n",
       "      <td>神亞科技股份有限公司</td>\n",
       "      <td>3年以上</td>\n",
       "      <td>影像相關之深度學習演算法研究與開發</td>\n",
       "      <td>1. 有開發image processing相關應用經驗 2. 熟悉深度學習相關算法（e.g...</td>\n",
       "      <td>待遇面議                                          ...</td>\n",
       "      <td>AI 工程師               ...</td>\n",
       "    </tr>\n",
       "  </tbody>\n",
       "</table>\n",
       "</div>"
      ],
      "text/plain": [
       "                                             address  \\\n",
       "0                                           台北市內湖...   \n",
       "1                                           台北市大安...   \n",
       "2                                           新北市新店...   \n",
       "3                                           桃園市中壢...   \n",
       "4                                           新竹縣竹北...   \n",
       "\n",
       "                                             benefit  \\\n",
       "0   福利健全  ■ 優渥的薪資、獎金  ◎ 端午節、中秋節、年終獎金。  ◎ 定期依工作績效調...   \n",
       "1   ＊獎金福利＊1. 年節禮金2. 生日禮金3. 年終分紅4. 人才介紹獎金＊休假福利＊1. ...   \n",
       "2   《薪酬福利＠HTC》我們極力落實利潤與員工分享的精神，透過多元的薪酬組合與完善的福利方案，...   \n",
       "3   正職/全職人員之福利與訓練制度：  【薪酬福利】 -每年依市場薪資水準評估薪資調整專案 -...   \n",
       "4   【工作福利】彈性上下班。  【休假福利】週休二日、國定假日、婚假、產假、陪產假、特休假、彈...   \n",
       "\n",
       "                            company experience  \\\n",
       "0                        芯鼎科技股份有限公司         不拘   \n",
       "1                          銓鴻資訊有限公司       1年以上   \n",
       "2  宏達電 HTC Corporation_宏達國際電子股份有限公司         不拘   \n",
       "3                   OK超商_來來超商股份有限公司         不拘   \n",
       "4                        神亞科技股份有限公司       3年以上   \n",
       "\n",
       "                                         requirement  \\\n",
       "0  - Driver development and fine tune of customiz...   \n",
       "1  1. 研究市場數據和交易數據，並進行交易策略研發。  2. 開發模型和工具，監控分析交易程序...   \n",
       "2  Join the creative thinkers at HTC Healthcare. ...   \n",
       "3  OK超商認為，用心經營的企業，首重人才培訓。  因此，我們投入了大量的訓練資源，積極培育新一...   \n",
       "4                                  影像相關之深度學習演算法研究與開發   \n",
       "\n",
       "                                  requirement_others  \\\n",
       "0  - A BS degree in Computer Engineering, Electri...   \n",
       "1  將先以電子履歷篩選增加效率，請注意以下事項： ■ 履歷請詳述相關經驗並請提供 Github/...   \n",
       "2  Requirement:-MS or PhD in computer science or ...   \n",
       "3  1.具服務熱忱，科系、經驗不拘，須輪班。 2.須自備交通工具及電腦網路設備(透過e-Lear...   \n",
       "4  1. 有開發image processing相關應用經驗 2. 熟悉深度學習相關算法（e.g...   \n",
       "\n",
       "                                              salary  \\\n",
       "0  待遇面議                                          ...   \n",
       "1  年薪 1,000,000~2,500,000元                       ...   \n",
       "2  待遇面議                                          ...   \n",
       "3  月薪 31,000~33,000元                             ...   \n",
       "4  待遇面議                                          ...   \n",
       "\n",
       "                                               title  \n",
       "0                           系統應用工程師-台北(CD2320)   ...  \n",
       "1                           計量交易員 Quantitative Tr...  \n",
       "2                           (RD S/W) DeepQ - Comp...  \n",
       "3                           儲備幹部(大桃園地區)          ...  \n",
       "4                           AI 工程師               ...  "
      ]
     },
     "execution_count": 302,
     "metadata": {},
     "output_type": "execute_result"
    }
   ],
   "source": [
    "dataset_df.head()"
   ]
  },
  {
   "cell_type": "code",
   "execution_count": 303,
   "metadata": {},
   "outputs": [
    {
     "data": {
      "text/plain": [
       "'1.\\t熟悉Linux系統, 具C/C++/Python程式語言設計經驗  2.\\t熟悉Machine Learning以及Deep Learning framework, 具AI需求分析與應用開發經驗  3.\\t具Machine Learning以及Deep Learning演算法開發與優化經驗者尤佳  4.\\t有 Caffe, TensorFlow, Keras等 相關經驗為佳 5.\\t熟悉語音訊號處理, 例如: 回聲消除/ 噪音抑制/ 麥克風陣列訊號處理等  6.\\t熟悉語音演算法應用, 例如: 語音辨識/ 語者辨識/ 語音喚醒等  【共創A+聯詠】 穩健踏實、專家精神、創造優勢 驅動科技、開發創新、引領未來 邀請優秀人才，共創A+聯詠'"
      ]
     },
     "execution_count": 303,
     "metadata": {},
     "output_type": "execute_result"
    }
   ],
   "source": [
    "dataset_df['requirement'][986]"
   ]
  },
  {
   "cell_type": "code",
   "execution_count": 304,
   "metadata": {},
   "outputs": [],
   "source": [
    "requirements = dataset_df['requirement'] + ' ' + dataset_df['requirement_others']"
   ]
  },
  {
   "cell_type": "code",
   "execution_count": 305,
   "metadata": {},
   "outputs": [
    {
     "data": {
      "text/plain": [
       "0    - Driver development and fine tune of customiz...\n",
       "1    1. 研究市場數據和交易數據，並進行交易策略研發。  2. 開發模型和工具，監控分析交易程序...\n",
       "dtype: object"
      ]
     },
     "execution_count": 305,
     "metadata": {},
     "output_type": "execute_result"
    }
   ],
   "source": [
    "requirements[0:2]"
   ]
  },
  {
   "cell_type": "code",
   "execution_count": 306,
   "metadata": {},
   "outputs": [
    {
     "data": {
      "text/plain": [
       "'1. 研究市場數據和交易數據，並進行交易策略研發。  2. 開發模型和工具，監控分析交易程序運行情況研究，實施統計套利策略，並研發統計套利回測工具。  3. 熟悉python R 或者c++,有自主研發量化策略的能力。 4. 具備機率、統計、機器學習和金融市場研究經驗 。  求才若渴 如果你(妳)有下列特質：  是個懶人： 希望以最小的力氣達成目標，甚至提升品質，懂得善用工具增加生產力，重構提煉自有的程式庫。  有團隊精神： 懂得協同合作提升整體效益，將團隊目標置於個人之前。  充滿好奇心： 喜歡接觸、學習新事物，發現各種創新的可能。  熱愛程式： 充滿熱情想改變世界，將巧思及創造力注入每一行程式碼。   歡迎加入我們！ 一起邁向偉大航道 : ) 將先以電子履歷篩選增加效率，請注意以下事項： ■ 履歷請詳述相關經驗並請提供 Github/Sample Code/作品，加速審核 。 ■ 我們非常重視求職者的職務申請，履歷將由相關團隊主管嚴謹評估，因履歷眾多，意者我們將主動聯繫，請求職者悉知並耐心等候。'"
      ]
     },
     "execution_count": 306,
     "metadata": {},
     "output_type": "execute_result"
    }
   ],
   "source": [
    "requirements[1]"
   ]
  },
  {
   "cell_type": "markdown",
   "metadata": {},
   "source": [
    "# Strip Punctuations"
   ]
  },
  {
   "cell_type": "code",
   "execution_count": 307,
   "metadata": {},
   "outputs": [
    {
     "data": {
      "text/plain": [
       "'1  研究市場數據和交易數據，並進行交易策略研發。  2  開發模型和工具，監控分析交易程序運行情況研究，實施統計套利策略，並研發統計套利回測工具。  3  熟悉python R 或者c 有自主研發量化策略的能力。 4  具備機率、統計、機器學習和金融市場研究經驗 。  求才若渴 如果你 妳 有下列特質：  是個懶人： 希望以最小的力氣達成目標，甚至提升品質，懂得善用工具增加生產力，重構提煉自有的程式庫。  有團隊精神： 懂得協同合作提升整體效益，將團隊目標置於個人之前。  充滿好奇心： 喜歡接觸、學習新事物，發現各種創新的可能。  熱愛程式： 充滿熱情想改變世界，將巧思及創造力注入每一行程式碼。   歡迎加入我們！ 一起邁向偉大航道     將先以電子履歷篩選增加效率，請注意以下事項： ■ 履歷請詳述相關經驗並請提供 Github Sample Code 作品，加速審核 。 ■ 我們非常重視求職者的職務申請，履歷將由相關團隊主管嚴謹評估，因履歷眾多，意者我們將主動聯繫，請求職者悉知並耐心等候。'"
      ]
     },
     "execution_count": 307,
     "metadata": {},
     "output_type": "execute_result"
    }
   ],
   "source": [
    "gensim.parsing.preprocessing.strip_punctuation(requirements[1])"
   ]
  },
  {
   "cell_type": "markdown",
   "metadata": {},
   "source": [
    "\n",
    "# Tokenize Chinese/English Sentences using Jieba package"
   ]
  },
  {
   "cell_type": "code",
   "execution_count": 308,
   "metadata": {},
   "outputs": [],
   "source": [
    "doc = requirements[0]\n",
    "\n",
    "tokens = [t for t in jieba.cut(doc, cut_all=False)]"
   ]
  },
  {
   "cell_type": "code",
   "execution_count": 309,
   "metadata": {},
   "outputs": [
    {
     "data": {
      "text/plain": [
       "['-', ' ', 'Driver', ' ', 'development', ' ', 'and', ' ', 'fine', ' ']"
      ]
     },
     "execution_count": 309,
     "metadata": {},
     "output_type": "execute_result"
    }
   ],
   "source": [
    "tokens[:10]"
   ]
  },
  {
   "cell_type": "code",
   "execution_count": 310,
   "metadata": {},
   "outputs": [],
   "source": [
    "doc = requirements[1]\n",
    "\n",
    "tokens = [t for t in jieba.cut(doc, cut_all=False)]"
   ]
  },
  {
   "cell_type": "code",
   "execution_count": 311,
   "metadata": {},
   "outputs": [
    {
     "data": {
      "text/plain": [
       "['1', '.', ' ', '研究', '市場', '數據', '和', '交易', '數據', '，']"
      ]
     },
     "execution_count": 311,
     "metadata": {},
     "output_type": "execute_result"
    }
   ],
   "source": [
    "tokens[:10]"
   ]
  },
  {
   "cell_type": "markdown",
   "metadata": {},
   "source": [
    "#### Tokens '機器', '學習' should be a single token '機器學習'"
   ]
  },
  {
   "cell_type": "code",
   "execution_count": 312,
   "metadata": {},
   "outputs": [
    {
     "data": {
      "text/plain": [
       "[' ', '具備', '機率', '、', '統計', '、', '機器學習', '和', '金融', '市場']"
      ]
     },
     "execution_count": 312,
     "metadata": {},
     "output_type": "execute_result"
    }
   ],
   "source": [
    "tokens[70:80]"
   ]
  },
  {
   "cell_type": "markdown",
   "metadata": {},
   "source": [
    "# Load Custom Dictionary\n",
    "Reference: https://github.com/fxsjy/jieba\n",
    "\n",
    "* Usage： jieba.load_userdict(file_name) # file_name is a file-like object or the path of the custom dictionary\n",
    "* The dictionary format is the same as that of dict.txt: one word per line; each line is divided into three parts separated by a space: word, word frequency, POS tag. If file_name is a path or a file opened in binary mode, the dictionary must be UTF-8 encoded.\n",
    "* The word frequency and POS tag can be omitted respectively. The word frequency will be filled with a suitable value if omitted.\n",
    "\n",
    "For example:\n",
    "\n",
    "创新办 3 i\n",
    "\n",
    "云计算 5\n",
    "\n",
    "凱特琳 nz\n",
    "\n",
    "台中"
   ]
  },
  {
   "cell_type": "code",
   "execution_count": 313,
   "metadata": {},
   "outputs": [],
   "source": [
    "filename_userdict = './custom_dictionary.txt'\n",
    "jieba.load_userdict(filename_userdict)"
   ]
  },
  {
   "cell_type": "code",
   "execution_count": 314,
   "metadata": {},
   "outputs": [],
   "source": [
    "doc = requirements[4]\n",
    "\n",
    "tokens = [t for t in jieba.cut(doc, cut_all=False)]"
   ]
  },
  {
   "cell_type": "code",
   "execution_count": 315,
   "metadata": {},
   "outputs": [
    {
     "data": {
      "text/plain": [
       "['影像', '相關', '之', '深度學習', '演算法', '研究', '與', '開發', ' ', '1']"
      ]
     },
     "execution_count": 315,
     "metadata": {},
     "output_type": "execute_result"
    }
   ],
   "source": [
    "tokens[:10]"
   ]
  },
  {
   "cell_type": "markdown",
   "metadata": {},
   "source": [
    "# Read Chinese Stopwords\n",
    "Link to Chinese stopwords: https://github.com/goto456/stopwords"
   ]
  },
  {
   "cell_type": "code",
   "execution_count": 316,
   "metadata": {},
   "outputs": [
    {
     "name": "stdout",
     "output_type": "stream",
     "text": [
      "['$', '0', '1', '2', '3', '4', '5', '6', '7', '8']\n",
      "['一些', '一何', '一切', '一则', '一方面', '一旦', '一来', '一样', '一般', '一转眼']\n"
     ]
    }
   ],
   "source": [
    "with open('./中文停用词表.txt') as f:\n",
    "    lines = f.readlines()\n",
    "    stopwords_chinese = [w.strip() for w in lines]\n",
    "    \n",
    "    \n",
    "print(stopwords_chinese[:10])\n",
    "print(stopwords_chinese[20:30])"
   ]
  },
  {
   "cell_type": "markdown",
   "metadata": {},
   "source": [
    "# Preprocess Documents"
   ]
  },
  {
   "cell_type": "code",
   "execution_count": null,
   "metadata": {},
   "outputs": [],
   "source": []
  },
  {
   "cell_type": "code",
   "execution_count": null,
   "metadata": {},
   "outputs": [],
   "source": []
  },
  {
   "cell_type": "code",
   "execution_count": 361,
   "metadata": {},
   "outputs": [
    {
     "name": "stderr",
     "output_type": "stream",
     "text": [
      "100%|██████████| 996/996 [00:09<00:00, 108.40it/s]\n"
     ]
    }
   ],
   "source": [
    "def tokenizer(doc):\n",
    "    return jieba.cut(doc, cut_all=False)\n",
    "\n",
    "\n",
    "def preprocess_docs(raw_docs):\n",
    "    \"\"\"\n",
    "    Args:\n",
    "        raw_docs (list of string): list of documents\n",
    "        \n",
    "    Returns:\n",
    "        list of list: list of tokens in a document\n",
    "    \"\"\"\n",
    "    stopwords_custom = ['•', '與', '★', '●', '（', '’', '－', '✦', '◆', '◼', '✪', \n",
    "                        '※', '⁺', '', '', '·', '‧', '・', '）', '○', '】', '【', '✓', '']\n",
    "    \n",
    "    docs = []\n",
    "    \n",
    "    for d in tqdm(raw_docs):\n",
    "        # Remove punctuations\n",
    "#         d = gensim.parsing.preprocessing.strip_punctuation(d)\n",
    "        \n",
    "        # Normalize\n",
    "        d = d.lower()\n",
    "        \n",
    "        tokens = []\n",
    "        \n",
    "        # Tokenize and Remove stopwords\n",
    "        for t in tokenizer(d):\n",
    "            \n",
    "            t = gensim.parsing.preprocessing.strip_punctuation(t)\n",
    "            t = gensim.parsing.preprocessing.strip_numeric(t)\n",
    "            t = t.strip()\n",
    "            if t is '':\n",
    "                continue\n",
    "                \n",
    "            if t not in stopwords_chinese:\n",
    "                if t not in gensim.parsing.preprocessing.STOPWORDS:\n",
    "                    if t not in stopwords_custom:\n",
    "                        tokens.append(t)\n",
    "        \n",
    "        docs.append(tokens)\n",
    "        \n",
    "    return docs\n",
    "\n",
    "\n",
    "docs = preprocess_docs(requirements)"
   ]
  },
  {
   "cell_type": "code",
   "execution_count": 362,
   "metadata": {},
   "outputs": [
    {
     "data": {
      "text/plain": [
       "['driver',\n",
       " 'development',\n",
       " 'fine',\n",
       " 'tune',\n",
       " 'customized',\n",
       " 'hw',\n",
       " 'accelerator',\n",
       " 'opencv',\n",
       " 'opencl',\n",
       " 'openvx']"
      ]
     },
     "execution_count": 362,
     "metadata": {},
     "output_type": "execute_result"
    }
   ],
   "source": [
    "docs[0][:10]"
   ]
  },
  {
   "cell_type": "code",
   "execution_count": 363,
   "metadata": {},
   "outputs": [
    {
     "data": {
      "text/plain": [
       "['研究', '市場', '數據', '交易', '數據', '並進行', '交易', '策略', '研發', '開發']"
      ]
     },
     "execution_count": 363,
     "metadata": {},
     "output_type": "execute_result"
    }
   ],
   "source": [
    "docs[1][:10]"
   ]
  },
  {
   "cell_type": "code",
   "execution_count": null,
   "metadata": {},
   "outputs": [],
   "source": []
  },
  {
   "cell_type": "markdown",
   "metadata": {},
   "source": [
    "# Create Gensim Dictionary"
   ]
  },
  {
   "cell_type": "code",
   "execution_count": 364,
   "metadata": {},
   "outputs": [],
   "source": [
    "dictionary = gensim.corpora.Dictionary(docs)"
   ]
  },
  {
   "cell_type": "code",
   "execution_count": 365,
   "metadata": {},
   "outputs": [
    {
     "data": {
      "text/plain": [
       "dict_items([('ability', 0), ('accelerator', 1), ('algorithm', 2), ('algorithms', 3), ('analysis', 4), ('architecture', 5), ('arm', 6), ('assembly', 7), ('attitude', 8), ('bs', 9), ('bsp', 10), ('c', 11), ('cnn', 12), ('collaboratively', 13), ('communication', 14), ('concepts', 15), ('cpu', 16), ('customer', 17), ('customers', 18), ('customized', 19), ('deadlines', 20), ('deep', 21), ('degree', 22), ('design', 23), ('development', 24), ('discuss', 25), ('driver', 26), ('e', 27), ('ecos', 28), ('electrical', 29), ('embedded', 30), ('engineering', 31), ('environment', 32), ('experience', 33), ('familiar', 34), ('fine', 35), ('frames', 36), ('framework', 37), ('freertos', 38), ('g', 39), ('good', 40), ('house', 41), ('hw', 42), ('icatchos', 43), ('image', 44), ('integration', 45), ('interactions', 46), ('involve', 47), ('issues', 48), ('knowledge', 49), ('language', 50), ('learning', 51), ('machine', 52), ('maintain', 53), ('meeting', 54), ('mips', 55), ('motivated', 56), ('nice', 57), ('opencl', 58), ('opencv', 59), ('opengl', 60), ('openvx', 61), ('performance', 62), ('pressure', 63), ('process', 64), ('processing', 65), ('programming', 66), ('real', 67), ('related', 68), ('requests', 69), ('rtlinux', 70), ('rtos', 71), ('science', 72), ('sdk', 73), ('self', 74), ('senior', 75), ('skilled', 76), ('skills', 77), ('software', 78), ('solve', 79), ('strong', 80), ('team', 81), ('technical', 82), ('threadx', 83), ('tight', 84), ('time', 85), ('tune', 86), ('understanding', 87), ('vision', 88), ('work', 89), ('years', 90), ('–', 91), ('…', 92), ('code', 93), ('github', 94), ('python', 95), ('r', 96), ('sample', 97), ('■', 98), ('一行', 99), ('一起', 100), ('下列', 101), ('世界', 102), ('並', 103), ('並請', 104), ('並進行', 105), ('主管', 106), ('之前', 107), ('事物', 108), ('事項', 109), ('交易', 110), ('以下', 111), ('作品', 112), ('個', 113), ('充滿', 114), ('具備', 115), ('分析', 116), ('創新', 117), ('創造力', 118), ('力氣', 119), ('加入', 120), ('加速', 121), ('協同', 122), ('可能', 123), ('各種', 124), ('合作', 125), ('品質', 126), ('善用', 127), ('喜歡', 128), ('嚴謹', 129), ('回測', 130), ('因履', 131), ('團隊', 132), ('增加', 133), ('套利', 134), ('好奇心', 135), ('妳', 136), ('學習', 137), ('實施', 138), ('審核', 139), ('將', 140), ('將主動', 141), ('將先以', 142), ('將團隊', 143), ('履歷', 144), ('履歷將', 145), ('工具', 146), ('巧思', 147), ('市場', 148), ('希望', 149), ('庫', 150), ('悉', 151), ('想', 152), ('意者', 153), ('懂得', 154), ('懶人', 155), ('我們', 156), ('接觸', 157), ('提供', 158), ('提升', 159), ('提煉', 160), ('改變', 161), ('效率', 162), ('效益', 163), ('整體', 164), ('數據', 165), ('新', 166), ('於', 167), ('最小', 168), ('有團隊', 169), ('模型', 170), ('機器學習', 171), ('機率', 172), ('歡迎', 173), ('歷眾', 174), ('求才若渴', 175), ('況', 176), ('注入', 177), ('注意', 178), ('熟悉', 179), ('熱情', 180), ('熱愛', 181), ('特質', 182), ('生產力', 183), ('申請', 184), ('發現', 185), ('監控', 186), ('目標', 187), ('相關', 188), ('知並', 189), ('研發', 190), ('研究', 191), ('碼', 192), ('程序', 193), ('程式', 194), ('等候', 195), ('策略', 196), ('篩選', 197), ('精神', 198), ('統計', 199), ('經驗', 200), ('繫', 201), ('置', 202), ('耐心', 203), ('聯', 204), ('職務', 205), ('職者', 206), ('能力', 207), ('自主', 208), ('自有', 209), ('航道', 210), ('行情', 211), ('評估', 212), ('詳述', 213), ('請', 214), ('請求', 215), ('運', 216), ('達成', 217), ('邁向偉大', 218), ('重構', 219), ('重視求', 220), ('量化', 221), ('金融', 222), ('開發', 223), ('電子', 224), ('非常', 225), ('academic', 226), ('adversarial', 227), ('ai', 228), ('approaches', 229), ('atmosphere', 230), ('background', 231), ('brilliant', 232), ('candidate', 233), ('center', 234), ('challenging', 235), ('convolutional', 236), ('create', 237), ('creative', 238), ('cvpr', 239), ('detection', 240), ('digital', 241), ('eccv', 242), ('exciting', 243), ('field', 244), ('following', 245), ('formulate', 246), ('friendly', 247), ('fun', 248), ('future', 249), ('generative', 250), ('healthcare', 251), ('help', 252), ('htc', 253), ('iccv', 254), ('innovation', 255), ('inspiring', 256), ('join', 257), ('looking', 258), ('miccai', 259), ('models', 260), ('ms', 261), ('networks', 262), ('neural', 263), ('new', 264), ('novel', 265), ('object', 266), ('open', 267), ('papers', 268), ('phd', 269), ('powered', 270), ('problems', 271), ('propose', 272), ('reading', 273), ('recognition', 274), ('required', 275), ('requirement', 276), ('research', 277), ('segmentation', 278), ('services', 279), ('stimulating', 280), ('talents', 281), ('techniques', 282), ('thinkers', 283), ('use', 284), ('ok', 285), ('三班', 286), ('主任', 287), ('之輔導', 288), ('交通工具', 289), ('人才', 290), ('企業', 291), ('休制', 292), ('作學習', 293), ('依個', 294), ('依店', 295), ('便利商店', 296), ('億營業額', 297), ('內', 298), ('內實', 299), ('公司', 300), ('具服務', 301), ('出勤', 302), ('分店', 303), ('初階訓練', 304), ('加盟店', 305), ('務', 306), ('區', 307), ('升', 308), ('含', 309), ('培育', 310), ('培訓', 311), ('基礎', 312), ('大量', 313), ('安排', 314), ('完成', 315), ('客服', 316), ('家店', 317), ('家直', 318), ('實作', 319), ('實務', 320), ('專業', 321), ('對', 322), ('工作', 323), ('店', 324), ('店經理', 325), ('形象', 326), ('後', 327), ('從門市', 328), ('意願', 329), ('投入', 330), ('擇優', 331), ('教學', 332), ('新一代', 333), ('方式', 334), ('時間', 335), ('晉升區', 336), ('月', 337), ('有志', 338), ('有興趣', 339), ('朋友', 340), ('服務', 341), ('朝區域', 342), ('期', 343), ('期間', 344), ('業經營', 345), ('每年', 346), ('流通', 347), ('混成', 348), ('為', 349), ('熱忱', 350), ('營店', 351), ('營業', 352), ('營運', 353), ('用心', 354), ('發展', 355), ('直接', 356), ('科系', 357), ('積極', 358), ('第一', 359), ('管理', 360), ('約', 361), ('結訓', 362), ('結訓後依', 363), ('經營', 364), ('經理', 365), ('維護', 366), ('網路', 367), ('線', 368), ('線上', 369), ('總', 370), ('職務晉', 371), ('職涯', 372), ('舖', 373), ('行列', 374), ('表現', 375), ('規劃', 376), ('訓練', 377), ('設備', 378), ('認為', 379), ('課堂', 380), ('課程', 381), ('調整', 382), ('調至', 383), ('負責', 384), ('資源', 385), ('超商', 386), ('輔導', 387), ('輪', 388), ('輪班作業', 389), ('輪班輪', 390), ('透過', 391), ('進階訓練', 392), ('邁進', 393), ('配合', 394), ('重點', 395), ('長', 396), ('開始', 397), ('隨時', 398), ('電腦', 399), ('須自備', 400), ('須輪班', 401), ('顧', 402), ('首重', 403), ('augmentation', 404), ('caffe', 405), ('data', 406), ('keras', 407), ('nn', 408), ('pytorch', 409), ('resnet', 410), ('tensorflow', 411), ('任一', 412), ('同等', 413), ('影像', 414), ('應用', 415), ('深度學習', 416), ('演算法', 417), ('算法', 418), ('級', 419), ('至少', 420), ('訓練過', 421), ('api', 422), ('container', 423), ('end', 424), ('firmware', 425), ('git', 426), ('instruction', 427), ('java', 428), ('javascript', 429), ('linux', 430), ('ros', 431), ('virtualenv', 432), ('任務', 433), ('內容', 434), ('具軟體', 435), ('前端', 436), ('報表', 437), ('技能', 438), ('溝通', 439), ('熱誠語', 440), ('爬蟲', 441), ('端', 442), ('網站', 443), ('良好', 444), ('言', 445), ('資料', 446), ('雜項', 447), ('architect', 448), ('aws', 449), ('bigdata', 450), ('certified', 451), ('cloud', 452), ('database', 453), ('gcp', 454), ('google', 455), ('iaas', 456), ('kubernetes', 457), ('networking', 458), ('paas', 459), ('platform', 460), ('professional', 461), ('storage', 462), ('virtualization', 463), ('windows', 464), ('並具備', 465), ('並對', 466), ('並願意', 467), ('主動', 468), ('了解', 469), ('作', 470), ('使用', 471), ('個性', 472), ('優', 473), ('公有', 474), ('具', 475), ('具協調', 476), ('分', 477), ('分享', 478), ('加', 479), ('協助', 480), ('問諮詢', 481), ('問題', 482), ('好奇', 483), ('專案', 484), ('尋客戶', 485), ('對應', 486), ('導入', 487), ('建置', 488), ('態度', 489), ('成果', 490), ('找', 491), ('技術', 492), ('技術顧', 493), ('抗壓力', 494), ('持有', 495), ('挑戰', 496), ('排除', 497), ('探索', 498), ('接受', 499), ('支援', 500), ('方案', 501), ('有學習', 502), ('架構', 503), ('柢', 504), ('根究', 505), ('格寫', 506), ('樂', 507), ('混合', 508), ('環境', 509), ('產品', 510), ('異常', 511), ('痛點', 512), ('研討會', 513), ('端系', 514), ('統架構', 515), ('經驗者', 516), ('維運', 517), ('腳本', 518), ('自動化', 519), ('解決', 520), ('討論', 521), ('認真', 522), ('證照', 523), ('負責架構', 524), ('追', 525), ('運用', 526), ('部落', 527), ('重視', 528), ('雲', 529), ('雲端', 530), ('需求', 531), ('顧問', 532), ('專科', 533), ('時段', 534), ('畢', 535), ('accuracy', 536), ('acquisition', 537), ('activities', 538), ('administer', 539), ('administration', 540), ('administrator', 541), ('apex', 542), ('apis', 543), ('artificial', 544), ('automation', 545), ('bachelor', 546), ('based', 547), ('building', 548), ('business', 549), ('certifications', 550), ('class', 551), ('closely', 552), ('coding', 553), ('collect', 554), ('combination', 555), ('communications', 556), ('company', 557), ('creating', 558), ('creation', 559), ('dashboards', 560), ('databases', 561), ('day', 562), ('deliver', 563), ('delivering', 564), ('develop', 565), ('developer', 566), ('directly', 567), ('driving', 568), ('education', 569), ('employees', 570), ('engagement', 571), ('enterprise', 572), ('excellent', 573), ('execution', 574), ('expanding', 575), ('experienced', 576), ('force', 577), ('formulas', 578), ('functions', 579), ('global', 580), ('group', 581), ('implement', 582), ('implementation', 583), ('increase', 584), ('information', 585), ('integrating', 586), ('intelligence', 587), ('interfaces', 588), ('internal', 589), ('job', 590), ('lead', 591), ('levels', 592), ('lightning', 593), ('loader', 594), ('manage', 595), ('management', 596), ('marketing', 597), ('marketo', 598), ('meet', 599), ('multiple', 600), ('needed', 601), ('needs', 602), ('normalization', 603), ('organization', 604), ('oriented', 605), ('partnering', 606), ('patches', 607), ('perform', 608), ('permission', 609), ('platforms', 610), ('plus', 611), ('points', 612), ('position', 613), ('preferably', 614), ('preferred', 615), ('presentation', 616), ('productivity', 617), ('profiles', 618), ('pulling', 619), ('pushing', 620), ('queries', 621), ('regions', 622), ('regular', 623), ('report', 624), ('reporting', 625), ('reports', 626), ('requirements', 627), ('responsibilities', 628), ('responsible', 629), ('rest', 630), ('results', 631), ('retention', 632), ('s', 633), ('sales', 634), ('salesforce', 635), ('security', 636), ('sets', 637), ('settings', 638), ('soap', 639), ('soql', 640), ('sources', 641), ('stakeholders', 642), ('standardization', 643), ('structure', 644), ('support', 645), ('sync', 646), ('systems', 647), ('teams', 648), ('technology', 649), ('timezones', 650), ('training', 651), ('translate', 652), ('trigger', 653), ('triggers', 654), ('understand', 655), ('upgrades', 656), ('user', 657), ('users', 658), ('value', 659), ('verbal', 660), ('visual', 661), ('visualforce', 662), ('vive', 663), ('vr', 664), ('web', 665), ('workflow', 666), ('working', 667), ('written', 668), ('apply', 669), ('basic', 670), ('capability', 671), ('cause', 672), ('chemical', 673), ('collection', 674), ('concept', 675), ('continuous', 676), ('control', 677), ('coordinator', 678), ('daily', 679), ('details', 680), ('division', 681), ('dmaic', 682), ('documents', 683), ('ecn', 684), ('eep', 685), ('eer', 686), ('equipment', 687), ('experiments', 688), ('floor', 689), ('flow', 690), ('fundamental', 691), ('grasp', 692), ('guidance', 693), ('guide', 694), ('handover', 695), ('hands', 696), ('impacts', 697), ('improvement', 698), ('improvements', 699), ('investigation', 700), ('leader', 701), ('manual', 702), ('manufacturing', 703), ('material', 704), ('migration', 705), ('mma', 706), ('mte', 707), ('operation', 708), ('output', 709), ('plant', 710), ('principles', 711), ('product', 712), ('productions', 713), ('project', 714), ('provide', 715), ('quality', 716), ('reliability', 717), ('review', 718), ('root', 719), ('shooting', 720), ('shop', 721), ('solving', 722), ('successful', 723), ('suggestions', 724), ('sustains', 725), ('tank', 726), ('trouble', 727), ('venders', 728), ('adopt', 729), ('agile', 730), ('amounts', 731), ('analytics', 732), ('applying', 733), ('appropriate', 734), ('ar', 735), ('assisted', 736), ('attendance', 737), ('base', 738), ('believing', 739), ('budget', 740), ('build', 741), ('career', 742), ('cases', 743), ('changes', 744), ('chili', 745), ('choice', 746), ('cohesive', 747), ('collaborate', 748), ('com', 749), ('compensating', 750), ('complimentary', 751), ('components', 752), ('conference', 753), ('configurable', 754), ('contribute', 755), ('contributing', 756), ('currently', 757), ('cutting', 758), ('cycle', 759), ('d', 760), ('depends', 761), ('deployment', 762), ('developments', 763), ('disambiguation', 764), ('diverse', 765), ('drive', 766), ('earning', 767), ('edge', 768), ('effectively', 769), ('efficiency', 770), ('encouraged', 771), ('engineer', 772), ('english', 773), ('enjoyable', 774), ('extraction', 775), ('facebook', 776), ('features', 777), ('fhmmzpdsgu', 778), ('focus', 779), ('follow', 780), ('forrester', 781), ('forresterwave', 782), ('funded', 783), ('gear', 784), ('godaddy', 785), ('graph', 786), ('growth', 787), ('html', 788), ('https', 789), ('identify', 790), ('imax', 791), ('improve', 792), ('including', 793), ('individual', 794), ('industry', 795), ('informed', 796), ('initiatives', 797), ('innovative', 798), ('insights', 799), ('instagram', 800), ('large', 801), ('leaders', 802), ('level', 803), ('libraries', 804), ('major', 805), ('massive', 806), ('media', 807), ('members', 808), ('methodology', 809), ('microservices', 810), ('mission', 811), ('modules', 812), ('natural', 813), ('need', 814), ('netbase', 815), ('nlp', 816), ('offered', 817), ('ongoing', 818), ('packages', 819), ('pages', 820), ('personal', 821), ('pipeline', 822), ('projects', 823), ('promise', 824), ('rave', 825), ('recognize', 826), ('relying', 827), ('saturdays', 828), ('scalability', 829), ('social', 830), ('solutions', 831), ('space', 832), ('spend', 833), ('stay', 834), ('success', 835), ('surface', 836), ('survey', 837), ('technologies', 838), ('text', 839), ('twitter', 840), ('v', 841), ('values', 842), ('video', 843), ('visa', 844), ('volumes', 845), ('watch', 846), ('wave', 847), ('www', 848), ('youtube', 849), ('一家', 850), ('做出', 851), ('全球', 852), ('創業', 853), ('商業', 854), ('圖片', 855), ('地位', 856), ('媒體', 857), ('客戶', 858), ('將網際網', 859), ('尖端', 860), ('幫助', 861), ('平台', 862), ('快', 863), ('快速', 864), ('成長', 865), ('更', 866), ('未填寫', 867), ('決策', 868), ('理技術', 869), ('留言', 870), ('矽谷', 871), ('社群', 872), ('精準', 873), ('經由', 874), ('網基', 875), ('美商', 876), ('自然', 877), ('處', 878), ('視覺', 879), ('語言處', 880), ('貼文', 881), ('資訊', 882), ('路上', 883), ('轉化', 884), ('達到', 885), ('部位', 886), ('關於', 887), ('領先', 888), ('apr', 889), ('bonus', 890), ('contents', 891), ('dft', 892), ('eda', 893), ('intro', 894), ('perl', 895), ('result', 896), ('script', 897), ('shell', 898), ('skill', 899), ('solution', 900), ('tcl', 901), ('teamwork', 902), ('toeic', 903), ('tool', 904), ('utility', 905), ('同學', 906), ('單', 907), ('成績', 908), ('論文', 909), ('附上', 910), ('analyses', 911), ('analytic', 912), ('analytical', 913), ('analyze', 914), ('areas', 915), ('automate', 916), ('blogging', 917), ('channel', 918), ('cms', 919), ('communicate', 920), ('cross', 921), ('decision', 922), ('decisions', 923), ('driven', 924), ('drupal', 925), ('expert', 926), ('explain', 927), ('functional', 928), ('ga', 929), ('hacker', 930), ('hive', 931), ('improving', 932), ('knowledgeable', 933), ('logic', 934), ('making', 935), ('managing', 936), ('mentality', 937), ('mindset', 938), ('minimum', 939), ('mixpanel', 940), ('mixture', 941), ('moz', 942), ('numbers', 943), ('online', 944), ('organized', 945), ('overall', 946), ('preprocessing', 947), ('present', 948), ('proficient', 949), ('qualifications', 950), ('scale', 951), ('scripting', 952), ('scripts', 953), ('seo', 954), ('specific', 955), ('sql', 956), ('starter', 957), ('startup', 958), ('strategic', 959), ('tableau', 960), ('teammates', 961), ('thinker', 962), ('tools', 963), ('usually', 964), ('wordpress', 965), ('application', 966), ('aspects', 967), ('automated', 968), ('big', 969), ('definition', 970), ('docker', 971), ('ecosystem', 972), ('ensuring', 973), ('frontend', 974), ('hadoop', 975), ('high', 976), ('maintenance', 977), ('nosql', 978), ('power', 979), ('primary', 980), ('responsiveness', 981), ('robust', 982), ('scalable', 983), ('server', 984), ('set', 985), ('technique', 986), ('testing', 987), ('tests', 988), ('unit', 989), ('advanced', 990), ('applications', 991), ('autonomous', 992), ('chain', 993), ('chance', 994), ('complex', 995), ('component', 996), ('computational', 997), ('conceive', 998), ('developing', 999), ('distributed', 1000), ('electrics', 1001), ('expertise', 1002), ('general', 1003), ('hand', 1004), ('hardware', 1005), ('implementations', 1006), ('include', 1007), ('intellectual', 1008), ('interface', 1009), ('intersection', 1010), ('languages', 1011), ('like', 1012), ('ll', 1013), ('localization', 1014), ('master', 1015), ('matlab', 1016), ('mechanical', 1017), ('methods', 1018), ('modeling', 1019), ('perception', 1020), ('ph', 1021), ('physical', 1022), ('plan', 1023), ('planning', 1024), ('plans', 1025), ('portfolio', 1026), ('practical', 1027), ('prediction', 1028), ('property', 1029), ('robotics', 1030), ('routing', 1031), ('simulink', 1032), ('sophisticated', 1033), ('strengthen', 1034), ('technically', 1035), ('test', 1036), ('validation', 1037), ('variety', 1038), ('art', 1039), ('cooperate', 1040), ('digi', 1041), ('frameworks', 1042), ('state', 1043), ('talent', 1044), ('優先', 1045), ('將依學', 1046), ('工業局', 1047), ('待遇', 1048), ('敘薪', 1049), ('研習生', 1050), ('經歷', 1051), ('經濟部', 1052), ('計畫', 1053), ('進行', 1054), ('面試', 1055), ('事', 1056), ('具國貿', 1057), ('售後服務', 1058), ('商學', 1059), ('商經營', 1060), ('基本操作', 1061), ('外客', 1062), ('外銷', 1063), ('大學', 1064), ('寫', 1065), ('從', 1066), ('戶聯絡', 1067), ('推廣', 1068), ('新市場', 1069), ('會電腦', 1070), ('機械', 1071), ('流利', 1072), ('海外', 1073), ('為佳', 1074), ('理工', 1075), ('經銷', 1076), ('聽', 1077), ('與國', 1078), ('英文', 1079), ('說', 1080), ('談判', 1081), ('讀', 1082), ('銷售', 1083), ('agility', 1084), ('esp', 1085), ('excel', 1086), ('powerpoint', 1087), ('problem', 1088), ('spoken', 1089), ('word', 1090), ('之運送', 1091), ('交辦', 1092), ('作業', 1093), ('倉儲', 1094), ('儲位', 1095), ('儲相', 1096), ('出口', 1097), ('出貨', 1098), ('協商', 1099), ('執行', 1100), ('報關', 1101), ('帳務', 1102), ('控管', 1103), ('整理', 1104), ('文件', 1105), ('業務', 1106), ('流程', 1107), ('清潔', 1108), ('物料', 1109), ('物流', 1110), ('監督人員', 1111), ('盤點', 1112), ('系統', 1113), ('處理', 1114), ('補貨', 1115), ('負責倉', 1116), ('進', 1117), ('部門', 1118), ('關進', 1119), ('fw', 1120), ('party', 1121), ('positive', 1122), ('rd', 1123), ('sw', 1124), ('able', 1125), ('advantage', 1126), ('associates', 1127), ('come', 1128), ('fluent', 1129), ('liaise', 1130), ('mandarin', 1131), ('order', 1132), ('schedule', 1133), ('speaking', 1134), ('competitions', 1135), ('comprehend', 1136), ('encompasses', 1137), ('engineers', 1138), ('evaluation', 1139), ('exploration', 1140), ('framing', 1141), ('gan', 1142), ('grandmaster', 1143), ('interaction', 1144), ('involves', 1145), ('kaggle', 1146), ('learn', 1147), ('lot', 1148), ('ml', 1149), ('model', 1150), ('monitor', 1151), ('network', 1152), ('opening', 1153), ('preprocess', 1154), ('processes', 1155), ('range', 1156), ('read', 1157), ('requires', 1158), ('residual', 1159), ('rl', 1160), ('rnn', 1161), ('role', 1162), ('wide', 1163), ('willingness', 1164), ('ad', 1165), ('advantages', 1166), ('adwords', 1167), ('analyzing', 1168), ('architectures', 1169), ('assess', 1170), ('b', 1171), ('catalyst', 1172), ('clustering', 1173), ('computing', 1174), ('coordinate', 1175), ('coordinating', 1176), ('coremetrics', 1177), ('crimson', 1178), ('different', 1179), ('distributions', 1180), ('drawbacks', 1181), ('effectiveness', 1182), ('experiences', 1183), ('gathering', 1184), ('ggplote', 1185), ('hexagon', 1186), ('leveraging', 1187), ('manipulating', 1188), ('map', 1189), ('mathematics', 1190), ('mining', 1191), ('net', 1192), ('opportunities', 1193), ('optimize', 1194), ('outcomes', 1195), ('owners', 1196), ('parties', 1197), ('predictive', 1198), ('presenting', 1199), ('proper', 1200), ('properties', 1201), ('quantitative', 1202), ('querying', 1203), ('reduce', 1204), ('regression', 1205), ('site', 1206), ('spark', 1207), ('statistical', 1208), ('statistics', 1209), ('strategies', 1210), ('targeting', 1211), ('tree', 1212), ('usage', 1213), ('visualizing', 1214), ('willing', 1215), ('fpga', 1216), ('ic', 1217), ('verilog', 1218), ('vhdl', 1219), ('具創', 1220), ('具邏輯', 1221), ('判斷', 1222), ('思考', 1223), ('速度', 1224), ('區域', 1225), ('服務業', 1226), ('歡迎具', 1227), ('輪調', 1228), ('須', 1229), ('acoustics', 1230), ('add', 1231), ('demonstrated', 1232), ('domain', 1233), ('domains', 1234), ('especially', 1235), ('evaluate', 1236), ('formulation', 1237), ('graduate', 1238), ('labs', 1239), ('oral', 1240), ('pick', 1241), ('quickly', 1242), ('recent', 1243), ('sufficient', 1244), ('university', 1245), ('welcome', 1246), ('world', 1247), ('中應用', 1248), ('人工智慧', 1249), ('以供', 1250), ('以解決', 1251), ('估', 1252), ('制定', 1253), ('實際', 1254), ('尤其', 1255), ('文本', 1256), ('最先', 1257), ('神經', 1258), ('網絡', 1259), ('聲學', 1260), ('致力', 1261), ('部署', 1262), ('需評', 1263), ('領域', 1264), ('並擬定', 1265), ('並評', 1266), ('人力', 1267), ('修正', 1268), ('分配', 1269), ('協調', 1270), ('原', 1271), ('原料', 1272), ('因素', 1273), ('工人', 1274), ('建議', 1275), ('排程', 1276), ('提出', 1277), ('操作', 1278), ('有關', 1279), ('機器', 1280), ('生產', 1281), ('生產計畫', 1282), ('生產量', 1283), ('考量', 1284), ('負責產銷', 1285), ('進度', 1286), ('適當', 1287), ('銷售量', 1288), ('限制', 1289), ('零件', 1290), ('預測', 1291), ('achieve', 1292), ('android', 1293), ('assist', 1294), ('audits', 1295), ('bachelors', 1296), ('bdd', 1297), ('cd', 1298), ('ci', 1299), ('closing', 1300), ('codes', 1301), ('competence', 1302), ('conduct', 1303), ('db', 1304), ('designing', 1305), ('desired', 1306), ('ensure', 1307), ('equivalent', 1308), ('establishing', 1309), ('execute', 1310), ('gap', 1311), ('generate', 1312), ('highly', 1313), ('influence', 1314), ('integrations', 1315), ('investigate', 1316), ('js', 1317), ('key', 1318), ('kpis', 1319), ('leadership', 1320), ('location', 1321), ('mentor', 1322), ('metrics', 1323), ('mongodb', 1324), ('necessary', 1325), ('postgresql', 1326), ('practices', 1327), ('products', 1328), ('programs', 1329), ('qa', 1330), ('redis', 1331), ('regional', 1332), ('satisfaction', 1333), ('sense', 1334), ('sla', 1335), ('smarter', 1336), ('standards', 1337), ('suggest', 1338), ('taipei', 1339), ('taiwan', 1340), ('tdd', 1341), ('telecommunication', 1342), ('travel', 1343), ('validate', 1344), ('ways', 1345), ('write', 1346), ('halcon', 1347), ('scikit', 1348), ('ui', 1349), ('yolo', 1350), ('佳', 1351), ('套件', 1352), ('尤佳', 1353), ('框架', 1354), ('機台', 1355), ('背景', 1356), ('軟體', 1357), ('acquire', 1358), ('activity', 1359), ('administrators', 1360), ('advocating', 1361), ('architects', 1362), ('asia', 1363), ('bioinformatics', 1364), ('biology', 1365), ('challenges', 1366), ('clients', 1367), ('cloudmile', 1368), ('cloudmiler', 1369), ('comprehensive', 1370), ('conducting', 1371), ('critical', 1372), ('custom', 1373), ('deliverables', 1374), ('demonstrate', 1375), ('description', 1376), ('difficult', 1377), ('django', 1378), ('economics', 1379), ('effective', 1380), ('enables', 1381), ('falcon', 1382), ('flask', 1383), ('functionally', 1384), ('given', 1385), ('grade', 1386), ('includes', 1387), ('industrial', 1388), ('infrastructure', 1389), ('interact', 1390), ('investment', 1391), ('iteratively', 1392), ('leading', 1393), ('markets', 1394), ('non', 1395), ('north', 1396), ('notch', 1397), ('operations', 1398), ('particular', 1399), ('partner', 1400), ('people', 1401), ('physics', 1402), ('pipelines', 1403), ('premier', 1404), ('presentations', 1405), ('prototype', 1406), ('providers', 1407), ('qualification', 1408), ('responsibility', 1409), ('restful', 1410), ('right', 1411), ('routine', 1412), ('scientist', 1413), ('selecting', 1414), ('sessions', 1415), ('specializations', 1416), ('specification', 1417), ('start', 1418), ('structures', 1419), ('teach', 1420), ('thrive', 1421), ('vendors', 1422), ('young', 1423), ('並在', 1424), ('以即', 1425), ('企劃', 1426), ('佔', 1427), ('初步', 1428), ('參與', 1429), ('及產量', 1430), ('合約作', 1431), ('商展', 1432), ('回應', 1433), ('國際', 1434), ('報告', 1435), ('定期', 1436), ('必要', 1437), ('掌握', 1438), ('時', 1439), ('時尋求', 1440), ('時程', 1441), ('有率', 1442), ('活動', 1443), ('狀況', 1444), ('英語', 1445), ('行銷', 1446), ('西班牙文', 1447), ('設計', 1448), ('針對', 1449), ('需', 1450), ('accountable', 1451), ('circuit', 1452), ('ciruit', 1453), ('colleagues', 1454), ('command', 1455), ('curious', 1456), ('debugging', 1457), ('diode', 1458), ('electromechanical', 1459), ('experiment', 1460), ('instatllation', 1461), ('lines', 1462), ('logical', 1463), ('operators', 1464), ('orcad', 1465), ('paper', 1466), ('parts', 1467), ('passion', 1468), ('plc', 1469), ('prepare', 1470), ('procurement', 1471), ('production', 1472), ('program', 1473), ('purchase', 1474), ('setup', 1475), ('staffs', 1476), ('supervise', 1477), ('thinking', 1478), ('train', 1479), ('wiring', 1480), ('writing', 1481), ('year', 1482), ('cognitive', 1483), ('commercial', 1484), ('dl', 1485), ('fit', 1486), ('formulated', 1487), ('identifying', 1488), ('involving', 1489), ('japan', 1490), ('keywords', 1491), ('lidar', 1492), ('m', 1493), ('place', 1494), ('point', 1495), ('recipes', 1496), ('source', 1497), ('verify', 1498), ('並實現', 1499), ('佈', 1500), ('光學雷達', 1501), ('前', 1502), ('台北', 1503), ('地點', 1504), ('如開', 1505), ('實現', 1506), ('工程', 1507), ('師', 1508), ('日本', 1509), ('智能', 1510), ('物體', 1511), ('發及', 1512), ('署', 1513), ('辨識', 1514), ('運算', 1515), ('pattern', 1516), ('分之英語', 1517), ('參加', 1518), ('如無法', 1519), ('將於', 1520), ('應數', 1521), ('本院', 1522), ('檢測', 1523), ('檢附', 1524), ('測驗', 1525), ('相當', 1526), ('碩士', 1527), ('經運算', 1528), ('複', 1529), ('試時', 1530), ('證明', 1531), ('資工', 1532), ('電機', 1533), ('類神', 1534), ('bnn', 1535), ('explore', 1536), ('generation', 1537), ('home', 1538), ('reduction', 1539), ('reinforcement', 1540), ('smart', 1541), ('smartphone', 1542), ('surveillance', 1543), ('twn', 1544), ('unsupervised', 1545), ('vehicles', 1546), ('不限', 1547), ('修補', 1548), ('偵測', 1549), ('具多', 1550), ('具獨立', 1551), ('具類', 1552), ('勇', 1553), ('包括', 1554), ('善溝通', 1555), ('善表達', 1556), ('增強', 1557), ('壓縮', 1558), ('媒體訊號', 1559), ('學歷', 1560), ('專攻', 1561), ('擴增', 1562), ('數理', 1563), ('方法', 1564), ('清理', 1565), ('理論', 1566), ('瑕疵', 1567), ('產品化', 1568), ('知識', 1569), ('研討', 1570), ('科學', 1571), ('突破', 1572), ('聲音', 1573), ('視覺化', 1574), ('解析度', 1575), ('資料分析', 1576), ('超', 1577), ('阻礙', 1578), ('adlink', 1579), ('connectivity', 1580), ('culture', 1581), ('demonstration', 1582), ('devops', 1583), ('diagram', 1584), ('document', 1585), ('event', 1586), ('inference', 1587), ('micro', 1588), ('mm', 1589), ('oop', 1590), ('principle', 1591), ('scrum', 1592), ('service', 1593), ('solid', 1594), ('touch', 1595), ('uml', 1596), ('worldwide', 1597), ('avaliable', 1598), ('boosting', 1599), ('builds', 1600), ('cataloged', 1601), ('cs', 1602), ('departments', 1603), ('maintained', 1604), ('metadata', 1605), ('optional', 1606), ('reliable', 1607), ('scala', 1608), ('svm', 1609), ('tuning', 1610), ('algebra', 1611), ('bayesian', 1612), ('calculus', 1613), ('ensemble', 1614), ('knn', 1615), ('know', 1616), ('linear', 1617), ('multivariable', 1618), ('natworks', 1619), ('spss', 1620), ('visualization', 1621), ('「', 1622), ('」', 1623), ('一同', 1624), ('不斷', 1625), ('中心', 1626), ('人員', 1627), ('以外', 1628), ('任心', 1629), ('伙伴', 1630), ('來', 1631), ('做', 1632), ('全家', 1633), ('具責', 1634), ('分析模型', 1635), ('包含', 1636), ('各項', 1637), ('同時', 1638), ('商品', 1639), ('堅強', 1640), ('大家庭', 1641), ('大數據', 1642), ('子公司', 1643), ('完善', 1644), ('實踐', 1645), ('師之', 1646), ('年', 1647), ('年來', 1648), ('建模', 1649), ('彙', 1650), ('情報', 1651), ('扮演', 1652), ('承擔', 1653), ('挑戰者', 1654), ('整', 1655), ('整合', 1656), ('數以', 1657), ('文化', 1658), ('有限公司', 1659), ('條件', 1660), ('標準', 1661), ('此職', 1662), ('治理', 1663), ('百計', 1664), ('皆', 1665), ('盾', 1666), ('科技', 1667), ('穩定', 1668), ('符合', 1669), ('管理系', 1670), ('精藤', 1671), ('精藤做', 1672), ('精進', 1673), ('組織', 1674), ('統', 1675), ('統規劃', 1676), ('缺需', 1677), ('股份', 1678), ('背', 1679), ('自行', 1680), ('著', 1681), ('行動', 1682), ('裝置', 1683), ('語言', 1684), ('誠摯', 1685), ('責任', 1686), ('資訊系', 1687), ('資訊系統', 1688), ('近年', 1689), ('追求', 1690), ('這團隊', 1691), ('通路', 1692), ('集團', 1693), ('零售', 1694), ('需具備', 1695), ('須具備', 1696), ('領航者', 1697), ('auto', 1698), ('cad', 1699), ('修改', 1700), ('圖', 1701), ('均', 1702), ('改良', 1703), ('明', 1704), ('械', 1705), ('機', 1706), ('熟', 1707), ('男女', 1708), ('細', 1709), ('缺點', 1710), ('裝', 1711), ('製', 1712), ('計', 1713), ('設', 1714), ('設計以', 1715), ('詳', 1716), ('storm', 1717), ('一定', 1718), ('中', 1719), ('交流', 1720), ('交通', 1721), ('什麼', 1722), ('信件', 1723), ('值得', 1724), ('先電話', 1725), ('六號', 1726), ('具有', 1727), ('分散式', 1728), ('加分', 1729), ('印尼', 1730), ('及技術', 1731), ('告訴', 1732), ('哪裡', 1733), ('善', 1734), ('善導市', 1735), ('回信', 1736), ('回答', 1737), ('大陸', 1738), ('太', 1739), ('學及', 1740), ('學術論', 1741), ('定位', 1742), ('定義與', 1743), ('工業', 1744), ('平常', 1745), ('平行', 1746), ('幾年', 1747), ('想法', 1748), ('應徵', 1749), ('投資', 1750), ('抗壓性', 1751), ('數值', 1752), ('數學', 1753), ('文發表', 1754), ('文章', 1755), ('方便', 1756), ('會', 1757), ('未來', 1758), ('東拿亞區域', 1759), ('清晰', 1760), ('溝通協', 1761), ('獨立', 1762), ('理念', 1763), ('目前', 1764), ('看技術', 1765), ('站', 1766), ('細心', 1767), ('續', 1768), ('美國', 1769), ('職缺', 1770), ('舒適', 1771), ('菲律賓', 1772), ('裡', 1773), ('覺得', 1774), ('話', 1775), ('認同', 1776), ('調佳', 1777), ('這份', 1778), ('這個', 1779), ('進展', 1780), ('過去', 1781), ('適合', 1782), ('邏輯', 1783), ('重要', 1784), ('靠近', 1785), ('項目', 1786), ('順便', 1787), ('願意', 1788), ('高', 1789), ('主辦', 1790), ('圖面', 1791), ('繪', 1792), ('angular', 1793), ('angularjs', 1794), ('calculation', 1795), ('classification', 1796), ('clean', 1797), ('cntk', 1798), ('css', 1799), ('dimension', 1800), ('factor', 1801), ('jquery', 1802), ('mysql', 1803), ('node', 1804), ('normalize', 1805), ('postgresdb', 1806), ('risk', 1807), ('series', 1808), ('svn', 1809), ('ux', 1810), ('valuation', 1811), ('一種', 1812), ('串接', 1813), ('以利', 1814), ('係', 1815), ('價值', 1816), ('利用', 1817), ('動態', 1818), ('型態', 1819), ('定價', 1820), ('專精', 1821), ('工程系', 1822), ('庫系統', 1823), ('庫資料', 1824), ('建構', 1825), ('強', 1826), ('性結', 1827), ('抓取', 1828), ('更新', 1829), ('構產品', 1830), ('濃厚', 1831), ('熟軟體', 1832), ('特微', 1833), ('現象', 1834), ('相互', 1835), ('系統化', 1836), ('統開發', 1837), ('網頁', 1838), ('編程', 1839), ('自動', 1840), ('與計', 1841), ('興趣', 1842), ('著重', 1843), ('衍生', 1844), ('衍生品', 1845), ('計算', 1846), ('運作', 1847), ('量分析', 1848), ('錄取', 1849), ('開源', 1850), ('關', 1851), ('風險', 1852), ('app', 1853), ('authentication', 1854), ('biometric', 1855), ('fingerprint', 1856), ('hal', 1857), ('jni', 1858), ('具英語', 1859), ('前瞻', 1860), ('協定', 1861), ('可免', 1862), ('國外', 1863), ('正式', 1864), ('無線', 1865), ('系國家', 1866), ('經歷者', 1867), ('網', 1868), ('訊', 1869), ('路通', 1870), ('通訊', 1871), ('電信', 1872), ('須中', 1873), ('anatomy', 1874), ('batch', 1875), ('category', 1876), ('checking', 1877), ('client', 1878), ('clinical', 1879), ('computation', 1880), ('context', 1881), ('dedicated', 1882), ('dicom', 1883), ('disease', 1884), ('efficient', 1885), ('ethic', 1886), ('fast', 1887), ('fields', 1888), ('images', 1889), ('imaging', 1890), ('independently', 1891), ('intelligent', 1892), ('labeling', 1893), ('legacy', 1894), ('math', 1895), ('medical', 1896), ('organizational', 1897), ('port', 1898), ('sagemaker', 1899), ('scientists', 1900), ('segment', 1901), ('trials', 1902), ('主要', 1903), ('健康', 1904), ('加班', 1905), ('可學習', 1906), ('工時', 1907), ('平日', 1908), ('手動', 1909), ('日', 1910), ('晚間', 1911), ('有車', 1912), ('無經驗', 1913), ('組件', 1914), ('組包', 1915), ('組立', 1916), ('組裝', 1917), ('縫', 1918), ('裝作業', 1919), ('記錄', 1920), ('身體', 1921), ('防護', 1922), ('零', 1923), ('零組件', 1924), ('library', 1925), ('一大', 1926), ('一群', 1927), ('不予', 1928), ('並有', 1929), ('人生', 1930), ('以相應', 1931), ('你會', 1932), ('多項', 1933), ('專長', 1934), ('已有', 1935), ('恕', 1936), ('探究', 1937), ('改善', 1938), ('既有', 1939), ('核心', 1940), ('樂事', 1941), ('無相關', 1942), ('熱誠的', 1943), ('競爭', 1944), ('這裡', 1945), ('閱讀', 1946), ('集', 1947), ('需熟', 1948), ('高手', 1949), ('之數據', 1950), ('二年', 1951), ('使用者', 1952), ('具團隊', 1953), ('具簡報', 1954), ('具資料', 1955), ('化表達', 1956), ('協', 1957), ('同行', 1958), ('呈', 1959), ('告', 1960), ('單位', 1961), ('報', 1962), ('市場面', 1963), ('序列', 1964), ('庫維護', 1965), ('建立', 1966), ('採集', 1967), ('探勘', 1968), ('探討', 1969), ('推薦', 1970), ('撰', 1971), ('文書', 1972), ('方向', 1973), ('會員分', 1974), ('案例', 1975), ('模擬', 1976), ('現並', 1977), ('結果', 1978), ('群', 1979), ('能以', 1980), ('蒐集', 1981), ('行為', 1982), ('覺化', 1983), ('資料視', 1984), ('過往', 1985), ('銷', 1986), ('applied', 1987), ('array', 1988), ('audio', 1989), ('automotive', 1990), ('beam', 1991), ('cancellation', 1992), ('devices', 1993), ('dnn', 1994), ('echo', 1995), ('ee', 1996), ('enhancement', 1997), ('far', 1998), ('forming', 1999), ('integrated', 2000), ('iot', 2001), ('lstm', 2002), ('microphone', 2003), ('mobile', 2004), ('nb', 2005), ('noise', 2006), ('pc', 2007), ('phone', 2008), ('recording', 2009), ('shipped', 2010), ('signal', 2011), ('speech', 2012), ('suppression', 2013), ('tasks', 2014), ('voice', 2015), ('wearable', 2016), ('crm', 2017), ('sop', 2018), ('◎', 2019), ('之勞保', 2020), ('之團體', 2021), ('享有', 2022), ('人流', 2023), ('人績', 2024), ('人群', 2025), ('休假', 2026), ('住宿', 2027), ('依據個', 2028), ('保險', 2029), ('假天', 2030), ('健保', 2031), ('健全', 2032), ('免費', 2033), ('內部', 2034), ('全民', 2035), ('全額', 2036), ('具門市', 2037), ('制度', 2038), ('勞基法', 2039), ('勞退', 2040), ('升遷', 2041), ('及旗', 2042), ('口頭', 2043), ('台灣訊崴', 2044), ('同仁', 2045), ('員', 2046), ('員工', 2047), ('售後諮詢', 2048), ('回饋', 2049), ('基本', 2050), ('多元化', 2051), ('夥伴', 2052), ('天半薪', 2053), ('天特', 2054), ('完整', 2055), ('工慶', 2056), ('市場訊息', 2057), ('店務', 2058), ('性利和績', 2059), ('技巧', 2060), ('效及', 2061), ('效獎', 2062), ('教育', 2063), ('數將', 2064), ('時尚', 2065), ('晉升及', 2066), ('書面', 2067), ('服務及', 2068), ('業績', 2069), ('機會', 2070), ('檢查', 2071), ('比例', 2072), ('活力', 2073), ('激勵', 2074), ('營運狀況', 2075), ('獎金', 2076), ('生會', 2077), ('產業', 2078), ('當天', 2079), ('病假', 2080), ('發放具', 2081), ('福利制度', 2082), ('競爭力', 2083), ('第一年', 2084), ('職前', 2085), ('職培訓', 2086), ('職掌', 2087), ('職日', 2088), ('艦產品', 2089), ('英檢', 2090), ('薪資', 2091), ('薪酬', 2092), ('補助', 2093), ('調薪', 2094), ('費', 2095), ('辦法', 2096), ('透明', 2097), ('通訊產業', 2098), ('郵件', 2099), ('金', 2100), ('門市', 2101), ('體驗', 2102), ('active', 2103), ('allow', 2104), ('allows', 2105), ('automatic', 2106), ('better', 2107), ('billion', 2108), ('blood', 2109), ('bootstrap', 2110), ('caching', 2111), ('cancer', 2112), ('cell', 2113), ('cells', 2114), ('cellular', 2115), ('charge', 2116), ('completely', 2117), ('considered', 2118), ('crucial', 2119), ('detect', 2120), ('detecting', 2121), ('doctors', 2122), ('documentation', 2123), ('eventually', 2124), ('example', 2125), ('existing', 2126), ('expected', 2127), ('fda', 2128), ('fight', 2129), ('functionality', 2130), ('great', 2131), ('ideas', 2132), ('ieee', 2133), ('implementing', 2134), ('important', 2135), ('improved', 2136), ('instrument', 2137), ('interactive', 2138), ('iso', 2139), ('loading', 2140), ('look', 2141), ('means', 2142), ('micareo', 2143), ('numerical', 2144), ('patient', 2145), ('precisely', 2146), ('rare', 2147), ('react', 2148), ('researchers', 2149), ('samples', 2150), ('similar', 2151), ('single', 2152), ('spa', 2153), ('spring', 2154), ('treatment', 2155), ('treatments', 2156), ('types', 2157), ('unix', 2158), ('usable', 2159), ('vue', 2160), ('dqn', 2161), ('gradient', 2162), ('policy', 2163), ('vae', 2164), ('並實', 2165), ('互動', 2166), ('人機', 2167), ('作過', 2168), ('具開', 2169), ('圖像識別', 2170), ('對話', 2171), ('據', 2172), ('智能算法', 2173), ('有聲音', 2174), ('期刊', 2175), ('熟習', 2176), ('物聯網', 2177), ('特別', 2178), ('理解', 2179), ('發對', 2180), ('發表', 2181), ('監督式', 2182), ('語義', 2183), ('語音識別', 2184), ('負責大數', 2185), ('非', 2186), ('baysian', 2187), ('bd', 2188), ('etl', 2189), ('logistic', 2190), ('recursive', 2191), ('並且', 2192), ('並從', 2193), ('之處', 2194), ('信息', 2195), ('分布式', 2196), ('分類', 2197), ('功底', 2198), ('博士', 2199), ('回歸', 2200), ('基本功', 2201), ('大規模', 2202), ('如統', 2203), ('它們', 2204), ('常用命令', 2205), ('強弱', 2206), ('強烈', 2207), ('思維', 2208), ('折騰', 2209), ('挖掘', 2210), ('推理', 2211), ('敏感', 2212), ('方面', 2213), ('有扎實', 2214), ('模式', 2215), ('樹', 2216), ('機科學', 2217), ('歸納', 2218), ('海量', 2219), ('深度', 2220), ('精通', 2221), ('統計學', 2222), ('聚類', 2223), ('職位', 2224), ('要求', 2225), ('計學習', 2226), ('貝葉斯', 2227), ('azure', 2228), ('php', 2229), ('並具', 2230), ('式', 2231), ('應', 2232), ('擇一', 2233), ('敏捷', 2234), ('服務上', 2235), ('架', 2236), ('構師', 2237), ('細部', 2238), ('開發雲端', 2239), ('mxnet', 2240), ('來源', 2241), ('依據', 2242), ('優化', 2243), ('參與產品', 2244), ('呈現', 2245), ('實作練習', 2246), ('市面上', 2247), ('收集', 2248), ('新技術', 2249), ('智識', 2250), ('概念', 2251), ('模組', 2252), ('測試', 2253), ('熱愛學習', 2254), ('特性', 2255), ('確認', 2256), ('超過', 2257), ('轉檔', 2258), ('運算系統', 2259), ('accelerate', 2260), ('actionable', 2261), ('assessment', 2262), ('behavior', 2263), ('bidding', 2264), ('clear', 2265), ('collaboration', 2266), ('datasets', 2267), ('demand', 2268), ('dmp', 2269), ('drives', 2270), ('feasible', 2271), ('findings', 2272), ('fluency', 2273), ('handling', 2274), ('life', 2275), ('lifetime', 2276), ('measuring', 2277), ('multi', 2278), ('oo', 2279), ('optimization', 2280), ('reasonable', 2281), ('recommendations', 2282), ('suggestion', 2283), ('theory', 2284), ('transactions', 2285), ('traveling', 2286), ('valuable', 2287), ('visualizations', 2288), ('vpon', 2289), ('使命', 2290), ('各式', 2291), ('學家', 2292), ('將其', 2293), ('廣告', 2294), ('心理', 2295), ('成效', 2296), ('投放', 2297), ('洞', 2298), ('深信', 2299), ('由電腦', 2300), ('科學家', 2301), ('競價', 2302), ('終生', 2303), ('組成', 2304), ('能付', 2305), ('見', 2306), ('觀察', 2307), ('諸行動', 2308), ('跨', 2309), ('進而', 2310), ('電商', 2311), ('顧客', 2312), ('accurate', 2313), ('agents', 2314), ('attorneys', 2315), ('china', 2316), ('cluster', 2317), ('cores', 2318), ('cultures', 2319), ('devises', 2320), ('enabling', 2321), ('ended', 2322), ('experts', 2323), ('feature', 2324), ('gpu', 2325), ('hundreds', 2326), ('hybrid', 2327), ('leverage', 2328), ('litigation', 2329), ('million', 2330), ('offline', 2331), ('parallel', 2332), ('passionate', 2333), ('patent', 2334), ('patents', 2335), ('premise', 2336), ('prior', 2337), ('prosecution', 2338), ('proven', 2339), ('rank', 2340), ('record', 2341), ('rigorous', 2342), ('servers', 2343), ('tackle', 2344), ('track', 2345), ('access', 2346), ('achievement', 2347), ('acumen', 2348), ('advice', 2349), ('alignment', 2350), ('ambiguity', 2351), ('assignments', 2352), ('behaviors', 2353), ('best', 2354), ('businesses', 2355), ('calculations', 2356), ('capabilities', 2357), ('certification', 2358), ('common', 2359), ('competencies', 2360), ('corporate', 2361), ('cultivate', 2362), ('deal', 2363), ('direct', 2364), ('disparate', 2365), ('enable', 2366), ('external', 2367), ('finance', 2368), ('function', 2369), ('gaining', 2370), ('geographic', 2371), ('globally', 2372), ('goals', 2373), ('hoc', 2374), ('impact', 2375), ('lean', 2376), ('led', 2377), ('logistics', 2378), ('mapping', 2379), ('matrix', 2380), ('modern', 2381), ('motivate', 2382), ('o', 2383), ('oracle', 2384), ('parameters', 2385), ('perspective', 2386), ('powerbi', 2387), ('relational', 2388), ('sap', 2389), ('sell', 2390), ('sigma', 2391), ('standard', 2392), ('strategy', 2393), ('supply', 2394), ('table', 2395), ('topics', 2396), ('utilization', 2397), ('win', 2398), ('semantic', 2399), ('具電腦', 2400), ('占率', 2401), ('國內', 2402), ('學經歷', 2403), ('實驗', 2404), ('將邀', 2405), ('專注', 2406), ('專題', 2407), ('市', 2408), ('廠商', 2409), ('或論文', 2410), ('搜尋應', 2411), ('最高', 2412), ('理解力', 2413), ('監測', 2414), ('結構', 2415), ('認知', 2416), ('語意', 2417), ('語言學', 2418), ('附', 2419), ('需實際', 2420), ('領導', 2421), ('homework', 2422), ('lesson', 2423), ('兼職', 2424), ('加強', 2425), ('孩童', 2426), ('學期間', 2427), ('學生', 2428), ('寒暑假', 2429), ('引導', 2430), ('批改', 2431), ('指導', 2432), ('排班', 2433), ('接聽', 2434), ('接送', 2435), ('教室', 2436), ('每天', 2437), ('無法', 2438), ('班', 2439), ('生學校', 2440), ('發音', 2441), ('習', 2442), ('考試', 2443), ('聲明', 2444), ('蓋此', 2445), ('補課', 2446), ('進班', 2447), ('電話', 2448), ('需涵', 2449), ('須於學', 2450), ('一致', 2451), ('中年', 2452), ('主項', 2453), ('件', 2454), ('倉庫', 2455), ('備料', 2456), ('包材類', 2457), ('將單', 2458), ('工單', 2459), ('帳入帳', 2460), ('庫單', 2461), ('成品', 2462), ('扣', 2463), ('收入', 2464), ('數量', 2465), ('料件', 2466), ('核對', 2467), ('正確', 2468), ('每日', 2469), ('清點', 2470), ('清點入', 2471), ('準備', 2472), ('登入', 2473), ('確實點', 2474), ('終盤點', 2475), ('經驗佳', 2476), ('肯學習', 2477), ('金件', 2478), ('鈑', 2479), ('類', 2480), ('發維護', 2481), ('表單', 2482), ('開', 2483), ('div', 2484), ('studio', 2485), ('一週', 2486), ('三天', 2487), ('作品集', 2488), ('兩', 2489), ('六日', 2490), ('回覆', 2491), ('定性', 2492), ('實', 2493), ('局', 2494), ('工讀', 2495), ('影片', 2496), ('微', 2497), ('拍攝', 2498), ('有視覺', 2499), ('期工讀', 2500), ('歸檔', 2501), ('活動頁', 2502), ('穩', 2503), ('經', 2504), ('維', 2505), ('能長', 2506), ('行', 2507), ('設計執', 2508), ('護', 2509), ('週一至', 2510), ('週五可', 2511), ('需實習', 2512), ('頁', 2513), ('驗', 2514), ('高中', 2515), ('advise', 2516), ('alerting', 2517), ('ansible', 2518), ('atom', 2519), ('availability', 2520), ('backend', 2521), ('broad', 2522), ('cassandra', 2523), ('challenge', 2524), ('chef', 2525), ('comfortable', 2526), ('consumer', 2527), ('content', 2528), ('core', 2529), ('date', 2530), ('delivery', 2531), ('diamond', 2532), ('discussion', 2533), ('email', 2534), ('ers', 2535), ('evolving', 2536), ('faster', 2537), ('file', 2538), ('frs', 2539), ('fully', 2540), ('graphite', 2541), ('ideal', 2542), ('kind', 2543), ('lamp', 2544), ('line', 2545), ('logstash', 2546), ('loop', 2547), ('maintainable', 2548), ('measurable', 2549), ('minimize', 2550), ('monitoring', 2551), ('nagios', 2552), ('operate', 2553), ('opinion', 2554), ('oversee', 2555), ('protocols', 2556), ('puppet', 2557), ('reputation', 2558), ('ruby', 2559), ('sharing', 2560), ('stacks', 2561), ('strive', 2562), ('surrounding', 2563), ('tech', 2564), ('threat', 2565), ('utilize', 2566), ('vmware', 2567), ('vpn', 2568), ('wrs', 2569), ('wse', 2570), ('x', 2571), ('yamato', 2572), ('一個', 2573), ('三', 2574), ('三刀', 2575), ('不同', 2576), ('不論', 2577), ('中建', 2578), ('二脈', 2579), ('以防', 2580), ('促進', 2581), ('充分', 2582), ('刀', 2583), ('化繁', 2584), ('十八般', 2585), ('原因', 2586), ('可能性', 2587), ('嘗試', 2588), ('基石', 2589), ('多元', 2590), ('奠定', 2591), ('好面', 2592), ('威脅', 2593), ('安全', 2594), ('客行', 2595), ('尋未來', 2596), ('強化開', 2597), ('成為', 2598), ('戰力', 2599), ('戰鬥', 2600), ('找出', 2601), ('技術力', 2602), ('抱持', 2603), ('摸索', 2604), ('敏感度', 2605), ('整個', 2606), ('是否', 2607), ('曾經', 2608), ('最新', 2609), ('會議', 2610), ('構出', 2611), ('正解', 2612), ('武藝', 2613), ('歷練', 2614), ('流', 2615), ('流行', 2616), ('漏洞', 2617), ('發團隊', 2618), ('發揮', 2619), ('白帽', 2620), ('監控系', 2621), ('目的', 2622), ('看過', 2623), ('瞭解', 2624), ('禦', 2625), ('端的', 2626), ('簡', 2627), ('簡馭', 2628), ('累積', 2629), ('統維運', 2630), ('維運展現', 2631), ('繁', 2632), ('習得', 2633), ('聽過', 2634), ('能夠', 2635), ('能量', 2636), ('藉由', 2637), ('虛擬', 2638), ('角色', 2639), ('變化', 2640), ('趨勢', 2641), ('這些', 2642), ('通任督', 2643), ('遠見', 2644), ('防範', 2645), ('預防潛', 2646), ('駭', 2647), ('駭客', 2648), ('主動且', 2649), ('具統', 2650), ('心及', 2651), ('抗壓', 2652), ('業', 2653), ('計學', 2654), ('豐富', 2655), ('較強', 2656), ('造', 2657), ('account', 2658), ('aerospace', 2659), ('alternative', 2660), ('carry', 2661), ('connectors', 2662), ('cooling', 2663), ('defense', 2664), ('en', 2665), ('fuels', 2666), ('http', 2667), ('injection', 2668), ('interpersonal', 2669), ('literate', 2670), ('market', 2671), ('mechanic', 2672), ('min', 2673), ('mold', 2674), ('motivator', 2675), ('objectives', 2676), ('office', 2677), ('pioneering', 2678), ('plastics', 2679), ('relationship', 2680), ('staubli', 2681), ('steel', 2682), ('targets', 2683), ('vertical', 2684), ('works', 2685), ('人履', 2686), ('冷', 2687), ('出差', 2688), ('化學', 2689), ('卻', 2690), ('參考', 2691), ('塑膠', 2692), ('射出', 2693), ('帶個', 2694), ('接頭', 2695), ('攜', 2696), ('模具', 2697), ('橡塑膠', 2698), ('歷表', 2699), ('汽車', 2700), ('津貼', 2701), ('流體', 2702), ('液油壓', 2703), ('空壓', 2704), ('職經歷', 2705), ('自備', 2706), ('至本', 2707), ('配件', 2708), ('鋼鐵', 2709), ('需具', 2710), ('academia', 2711), ('acceleration', 2712), ('actively', 2713), ('agencies', 2714), ('aoi', 2715), ('approach', 2716), ('delta', 2717), ('devoted', 2718), ('dlib', 2719), ('drc', 2720), ('dsp', 2721), ('duties', 2722), ('established', 2723), ('facilities', 2724), ('government', 2725), ('institutions', 2726), ('internet', 2727), ('limited', 2728), ('mutual', 2729), ('partners', 2730), ('pcl', 2731), ('practice', 2732), ('sectors', 2733), ('takes', 2734), ('things', 2735), ('toolkits', 2736), ('transformation', 2737), ('upgrade', 2738), ('fae', 2739), ('icam', 2740), ('不定期', 2741), ('並教導', 2742), ('中上', 2743), ('事前', 2744), ('事後產品', 2745), ('人際', 2746), ('介面', 2747), ('估測試', 2748), ('具工業', 2749), ('具機器', 2750), ('前往', 2751), ('功能', 2752), ('友善', 2753), ('另針', 2754), ('咨詢', 2755), ('問', 2756), ('器視', 2757), ('國內外', 2758), ('場', 2759), ('客', 2760), ('戶', 2761), ('拜訪', 2762), ('支持', 2763), ('新產品', 2764), ('特定', 2765), ('特殊', 2766), ('現', 2767), ('現場', 2768), ('產品部', 2769), ('畢業', 2770), ('相機', 2771), ('研華', 2772), ('研華機', 2773), ('範例', 2774), ('覺產品', 2775), ('角度', 2776), ('軟硬體', 2777), ('部建議', 2778), ('階段', 2779), ('面評', 2780), ('題', 2781), ('advocate', 2782), ('deploy', 2783), ('educational', 2784), ('enhancements', 2785), ('feedback', 2786), ('guides', 2787), ('implemented', 2788), ('inspirational', 2789), ('offerings', 2790), ('peers', 2791), ('prioritize', 2792), ('prompt', 2793), ('providing', 2794), ('resolution', 2795), ('reviews', 2796), ('tutorials', 2797), ('vs', 2798), ('elasticsearch', 2799), ('elk', 2800), ('pm', 2801), ('一言堂', 2802), ('一面', 2803), ('上班', 2804), ('不過', 2805), ('並能', 2806), ('事不過', 2807), ('互相', 2808), ('任制', 2809), ('低', 2810), ('作為後盾', 2811), ('做小螺絲', 2812), ('全方位', 2813), ('公室', 2814), ('共同', 2815), ('出', 2816), ('創意', 2817), ('化', 2818), ('及大數', 2819), ('可協助', 2820), ('吵架', 2821), ('品', 2822), ('單純', 2823), ('困擾', 2824), ('坐在', 2825), ('培養', 2826), ('基', 2827), ('增進', 2828), ('多大', 2829), ('尚未', 2830), ('師不僅', 2831), ('成熟', 2832), ('指令', 2833), ('整合性', 2834), ('新知', 2835), ('最佳', 2836), ('會為', 2837), ('期待', 2838), ('期望', 2839), ('每個員工', 2840), ('沒有', 2841), ('沒關', 2842), ('深知', 2843), ('激發出', 2844), ('犯錯', 2845), ('獨特', 2846), ('獨當', 2847), ('現行', 2848), ('生動', 2849), ('產', 2850), ('發', 2851), ('真的', 2852), ('管控', 2853), ('絕對', 2854), ('聯瞻', 2855), ('聯瞻有', 2856), ('聯絡', 2857), ('自由', 2858), ('補休', 2859), ('規定', 2860), ('訪談及', 2861), ('說明', 2862), ('讓', 2863), ('費或', 2864), ('趕', 2865), ('輕', 2866), ('辦', 2867), ('造成', 2868), ('過程', 2869), ('釘', 2870), ('需要', 2871), ('非責', 2872), ('頻率', 2873), ('classifiers', 2874), ('infortrend', 2875), ('integrate', 2876), ('managers', 2877), ('popular', 2878), ('prototypes', 2879), ('roadmap', 2880), ('scratch', 2881), ('selection', 2882), ('並開', 2883), ('之產品', 2884), ('伴們', 2885), ('伴關', 2886), ('具企圖', 2887), ('夥', 2888), ('富有', 2889), ('專責', 2890), ('尋找', 2891), ('心', 2892), ('普安', 2893), ('暨', 2894), ('正在', 2895), ('產品線', 2896), ('發具', 2897), ('硬體', 2898), ('系列', 2899), ('規格', 2900), ('軟', 2901), ('關鍵', 2902), ('accounts', 2903), ('electronics', 2904), ('energized', 2905), ('focused', 2906), ('handle', 2907), ('korean', 2908), ('adas', 2909), ('estimation', 2910), ('ex', 2911), ('generator', 2912), ('sematic', 2913), ('並根據', 2914), ('並與', 2915), ('中能', 2916), ('人士', 2917), ('取員', 2918), ('學校', 2919), ('想要', 2920), ('或業界', 2921), ('或甫', 2922), ('持續', 2923), ('擷', 2924), ('擷取', 2925), ('根據', 2926), ('歡迎甫', 2927), ('深入研究', 2928), ('準則', 2929), ('無', 2930), ('發揮者', 2931), ('研讀', 2932), ('退役', 2933), ('重新', 2934), ('bio', 2935), ('having', 2936), ('majoring', 2937), ('solar', 2938), ('spc', 2939), ('spirit', 2940), ('保養', 2941), ('備品', 2942), ('庫存', 2943), ('故障', 2944), ('維修', 2945), ('courses', 2946), ('disciplines', 2947), ('higher', 2948), ('independent', 2949), ('initiative', 2950), ('inspection', 2951), ('mind', 2952), ('tensor', 2953), ('theano', 2954), ('absenteeism', 2955), ('accordance', 2956), ('accordingly', 2957), ('accountability', 2958), ('action', 2959), ('acts', 2960), ('affecting', 2961), ('affirmative', 2962), ('anticipate', 2963), ('applicant', 2964), ('assigned', 2965), ('attention', 2966), ('benefit', 2967), ('capital', 2968), ('careful', 2969), ('changing', 2970), ('committed', 2971), ('compensation', 2972), ('competitiveness', 2973), ('compliance', 2974), ('contract', 2975), ('contributor', 2976), ('cost', 2977), ('costs', 2978), ('directed', 2979), ('directs', 2980), ('eeo', 2981), ('employee', 2982), ('ensures', 2983), ('equity', 2984), ('expand', 2985), ('hr', 2986), ('human', 2987), ('initiate', 2988), ('integrity', 2989), ('interpret', 2990), ('keeping', 2991), ('laws', 2992), ('manager', 2993), ('manner', 2994), ('negotiation', 2995), ('obtain', 2996), ('operational', 2997), ('participate', 2998), ('payroll', 2999), ('personnel', 3000), ('pertaining', 3001), ('pertinent', 3002), ('player', 3003), ('policies', 3004), ('possible', 3005), ('productive', 3006), ('promotions', 3007), ('proposed', 3008), ('recommend', 3009), ('recruitment', 3010), ('regulations', 3011), ('relating', 3012), ('relations', 3013), ('relationships', 3014), ('representative', 3015), ('resources', 3016), ('responsive', 3017), ('retirees', 3018), ('significant', 3019), ('special', 3020), ('staffing', 3021), ('steps', 3022), ('store', 3023), ('tracking', 3024), ('transfers', 3025), ('trends', 3026), ('turnover', 3027), ('ads', 3028), ('construction', 3029), ('consulting', 3030), ('easy', 3031), ('emphasis', 3032), ('entity', 3033), ('era', 3034), ('forest', 3035), ('formed', 3036), ('glm', 3037), ('grow', 3038), ('impala', 3039), ('increasing', 3040), ('majors', 3041), ('makes', 3042), ('mathmiatics', 3043), ('memcached', 3044), ('methdologies', 3045), ('mongo', 3046), ('named', 3047), ('placed', 3048), ('random', 3049), ('rdbms', 3050), ('sciences', 3051), ('screen', 3052), ('servcie', 3053), ('silkrode', 3054), ('speed', 3055), ('stable', 3056), ('succeed', 3057), ('tagging', 3058), ('transnational', 3059), ('trees', 3060), ('ultimate', 3061), ('supervised', 3062), ('ablility', 3063), ('customize', 3064), ('inferencing', 3065), ('mcu', 3066), ('processor', 3067), ('quantization', 3068), ('runtime', 3069), ('stack', 3070), ('toolchain', 3071), ('variant', 3072), ('aaai', 3073), ('icdm', 3074), ('icml', 3075), ('jmlr', 3076), ('kafka', 3077), ('nips', 3078), ('numpy', 3079), ('pami', 3080), ('scipy', 3081), ('sigkdd', 3082), ('tkdd', 3083), ('torch', 3084), ('一篇', 3085), ('不符', 3086), ('之類', 3087), ('信', 3088), ('刊登', 3089), ('勞保', 3090), ('勞保局', 3091), ('勞動部', 3092), ('另檢附', 3093), ('國際頂', 3094), ('外地', 3095), ('大學及', 3096), ('妥適', 3097), ('審查', 3098), ('尖會議', 3099), ('嵌入式', 3100), ('所著', 3101), ('投保', 3102), ('推論', 3103), ('晶片', 3104), ('最佳化', 3105), ('有助', 3106), ('未檢', 3107), ('歷年', 3108), ('版本', 3109), ('研究所', 3110), ('系所', 3111), ('統維護', 3112), ('考生', 3113), ('視同', 3114), ('計算機', 3115), ('資料表', 3116), ('資格', 3117), ('賦予', 3118), ('附者', 3119), ('頂', 3120), ('頂尖', 3121), ('須能', 3122), ('jetson', 3123), ('navigation', 3124), ('nvidia', 3125), ('path', 3126), ('slam', 3127), ('tx', 3128), ('室', 3129), ('控制', 3130), ('搬', 3131), ('撰寫', 3132), ('智慧', 3133), ('無人', 3134), ('運動', 3135), ('運車', 3136), ('analog', 3137), ('area', 3138), ('baseband', 3139), ('define', 3140), ('depth', 3141), ('designers', 3142), ('eecs', 3143), ('impairment', 3144), ('kaiketek', 3145), ('learner', 3146), ('mixed', 3147), ('radar', 3148), ('relevant', 3149), ('rf', 3150), ('seeks', 3151), ('spec', 3152), ('specialization', 3153), ('specifications', 3154), ('theories', 3155), ('verification', 3156), ('wireless', 3157), ('administrative', 3158), ('arrangement', 3159), ('copies', 3160), ('edit', 3161), ('hard', 3162), ('maintaining', 3163), ('materials', 3164), ('minutes', 3165), ('preparation', 3166), ('progresses', 3167), ('slides', 3168), ('soft', 3169), ('tables', 3170), ('update', 3171), ('workers', 3172), ('上韌體', 3173), ('可測', 3174), ('學類', 3175), ('已鎖定', 3176), ('準確', 3177), ('科學學門', 3178), ('試化', 3179), ('驅動', 3180), ('artifact', 3181), ('color', 3182), ('conversion', 3183), ('enhancing', 3184), ('frame', 3185), ('interlaced', 3186), ('interlacing', 3187), ('motion', 3188), ('post', 3189), ('progressive', 3190), ('rate', 3191), ('stereo', 3192), ('super', 3193), ('優勢', 3194), ('優秀', 3195), ('共創', 3196), ('創造', 3197), ('專家', 3198), ('引領', 3199), ('穩健踏實', 3200), ('聯詠', 3201), ('邀請', 3202), ('一展', 3203), ('事業', 3204), ('介紹', 3205), ('依階段', 3206), ('保障', 3207), ('元', 3208), ('先來電', 3209), ('全勤', 3210), ('出餐', 3211), ('別', 3212), ('制服', 3213), ('可望', 3214), ('台南市', 3215), ('台服', 3216), ('各點', 3217), ('喜慶', 3218), ('團保', 3219), ('基層', 3220), ('外向', 3221), ('外員工', 3222), ('外派', 3223), ('外送', 3224), ('夜點津', 3225), ('夢', 3226), ('婚喪', 3227), ('客人', 3228), ('對餐', 3229), ('尾牙', 3230), ('年度', 3231), ('年節', 3232), ('店鋪', 3233), ('店長', 3234), ('康樂', 3235), ('必須', 3236), ('性升遷', 3237), ('成真', 3238), ('投遞', 3239), ('指定', 3240), ('採行', 3241), ('接待', 3242), ('提撥', 3243), ('換算', 3244), ('收銀', 3245), ('旅遊', 3246), ('春酒', 3247), ('晉升', 3248), ('有心', 3249), ('機車', 3250), ('櫃', 3251), ('次', 3252), ('每月', 3253), ('活潑', 3254), ('清潔維護', 3255), ('然後讓', 3256), ('照者', 3257), ('熱血', 3258), ('熱誠且', 3259), ('特', 3260), ('生日', 3261), ('督導', 3262), ('福利', 3263), ('禮品', 3264), ('禮金', 3265), ('管道', 3266), ('累計', 3267), ('終獎', 3268), ('結帳', 3269), ('績效', 3270), ('繼光', 3271), ('考核', 3272), ('考核制度', 3273), ('聚餐', 3274), ('職', 3275), ('職能', 3276), ('自我', 3277), ('衛生', 3278), ('親切', 3279), ('註', 3280), ('貼', 3281), ('透明化', 3282), ('過後成', 3283), ('門', 3284), ('階級', 3285), ('雙月', 3286), ('雞有', 3287), ('青年', 3288), ('面談', 3289), ('項', 3290), ('預約', 3291), ('願', 3292), ('食品', 3293), ('飲', 3294), ('飲業', 3295), ('餐', 3296), ('餐聚', 3297), ('餐點', 3298), ('香香', 3299), ('駕', 3300), ('駕照', 3301), ('點', 3302), ('點菜', 3303), ('iec', 3304), ('release', 3305), ('suite', 3306), ('leaning', 3307), ('module', 3308), ('pad', 3309), ('spi', 3310), ('touchpad', 3311), ('usb', 3312), ('具電子', 3313), ('微處', 3314), ('數位', 3315), ('理器', 3316), ('發設', 3317), ('筆開', 3318), ('計及', 3319), ('訊號', 3320), ('電路', 3321), ('韌體', 3322), ('驗證', 3323), ('ecom', 3324), ('extend', 3325), ('extract', 3326), ('fintech', 3327), ('forecast', 3328), ('instance', 3329), ('inventory', 3330), ('load', 3331), ('transform', 3332), ('一項', 3333), ('依學', 3334), ('實際薪', 3335), ('核薪', 3336), ('資會', 3337), ('加薪', 3338), ('大專', 3339), ('隨職務', 3340), ('augment', 3341), ('augmented', 3342), ('body', 3343), ('camera', 3344), ('candidates', 3345), ('develops', 3346), ('latest', 3347), ('pose', 3348), ('qualcomm', 3349), ('reality', 3350), ('reconstruction', 3351), ('running', 3352), ('seeking', 3353), ('skeleton', 3354), ('smartphones', 3355), ('virtual', 3356), ('adept', 3357), ('analyst', 3358), ('discover', 3359), ('disseminate', 3360), ('essential', 3361), ('getchee', 3362), ('interpreting', 3363), ('knack', 3364), ('organize', 3365), ('patterns', 3366), ('raw', 3367), ('sas', 3368), ('structured', 3369), ('undertake', 3370), ('unstructured', 3371), ('varies', 3372), ('laravel', 3373), ('並曾', 3374), ('各類', 3375), ('延攬', 3376), ('情境', 3377), ('愛酷', 3378), ('招募', 3379), ('擴大', 3380), ('消費者', 3381), ('獲', 3382), ('現在', 3383), ('聊天', 3384), ('肯定', 3385), ('資訊大獎', 3386), ('台北市', 3387), ('新北市', 3388), ('arrange', 3389), ('bleeding', 3390), ('boring', 3391), ('box', 3392), ('creativity', 3393), ('dream', 3394), ('dreamers', 3395), ('elite', 3396), ('environments', 3397), ('exhibit', 3398), ('factors', 3399), ('familiarity', 3400), ('form', 3401), ('free', 3402), ('hbase', 3403), ('ingenuity', 3404), ('innovator', 3405), ('international', 3406), ('interpretation', 3407), ('involved', 3408), ('k', 3409), ('lab', 3410), ('long', 3411), ('mathematical', 3412), ('mentoring', 3413), ('monthly', 3414), ('near', 3415), ('newly', 3416), ('outside', 3417), ('personally', 3418), ('phases', 3419), ('play', 3420), ('possess', 3421), ('posted', 3422), ('potential', 3423), ('profession', 3424), ('roles', 3425), ('salary', 3426), ('seasoned', 3427), ('statements', 3428), ('thinks', 3429), ('traditional', 3430), ('trapped', 3431), ('unsolvable', 3432), ('accomplish', 3433), ('added', 3434), ('advance', 3435), ('annual', 3436), ('asset', 3437), ('biggest', 3438), ('care', 3439), ('careers', 3440), ('centric', 3441), ('change', 3442), ('chase', 3443), ('cities', 3444), ('coming', 3445), ('companies', 3446), ('cybersecurity', 3447), ('definitely', 3448), ('developed', 3449), ('developmental', 3450), ('dive', 3451), ('eclipse', 3452), ('efficiently', 3453), ('electronic', 3454), ('financial', 3455), ('firm', 3456), ('foundry', 3457), ('goes', 3458), ('head', 3459), ('helping', 3460), ('hire', 3461), ('hubs', 3462), ('ide', 3463), ('importance', 3464), ('individuals', 3465), ('innovations', 3466), ('innovators', 3467), ('institution', 3468), ('integral', 3469), ('intellj', 3470), ('invested', 3471), ('jpmorgan', 3472), ('junit', 3473), ('maven', 3474), ('member', 3475), ('microservice', 3476), ('mocking', 3477), ('native', 3478), ('payments', 3479), ('performing', 3480), ('private', 3481), ('proficiency', 3482), ('progress', 3483), ('properly', 3484), ('public', 3485), ('remain', 3486), ('strengths', 3487), ('tasked', 3488), ('technologists', 3489), ('toolset', 3490), ('toolsets', 3491), ('wealth', 3492), ('capsule', 3493), ('年薪', 3494), ('覺及', 3495), ('電腦視', 3496), ('bay', 3497), ('contributions', 3498), ('engine', 3499), ('memory', 3500), ('neutral', 3501), ('npu', 3502), ('participated', 3503), ('pluses', 3504), ('powers', 3505), ('share', 3506), ('umbo', 3507), ('事務及', 3508), ('劃', 3509), ('執', 3510), ('學習產', 3511), ('容', 3512), ('平面', 3513), ('排', 3514), ('教學產業', 3515), ('教材', 3516), ('溝通表達', 3517), ('程', 3518), ('簡報', 3519), ('編寫', 3520), ('編輯', 3521), ('臨時', 3522), ('行政', 3523), ('規', 3524), ('課', 3525), ('高度', 3526), ('cacti', 3527), ('eai', 3528), ('firewall', 3529), ('ftp', 3530), ('ip', 3531), ('l', 3532), ('ldap', 3533), ('log', 3534), ('mis', 3535), ('mmis', 3536), ('nbu', 3537), ('patch', 3538), ('prtg', 3539), ('rconfig', 3540), ('router', 3541), ('san', 3542), ('smd', 3543), ('ssr', 3544), ('switch', 3545), ('tacacs', 3546), ('truview', 3547), ('vmp', 3548), ('window', 3549), ('wsus', 3550), ('yum', 3551), ('主控台', 3552), ('主機', 3553), ('之維護', 3554), ('之規劃', 3555), ('五年', 3556), ('伺服器', 3557), ('備份', 3558), ('備援', 3559), ('內訓', 3560), ('原規劃', 3561), ('及維護', 3562), ('及網', 3563), ('址', 3564), ('外部', 3565), ('大型', 3566), ('安裝', 3567), ('審視', 3568), ('寬', 3569), ('復', 3570), ('成本', 3571), ('房內', 3572), ('機房', 3573), ('等級', 3574), ('管理工具', 3575), ('管系統', 3576), ('組態', 3577), ('網路頻', 3578), ('網際網', 3579), ('線路', 3580), ('訊協', 3581), ('設定', 3582), ('設施', 3583), ('資安', 3584), ('資訊機', 3585), ('跳板', 3586), ('連線', 3587), ('金流', 3588), ('障礙', 3589), ('abilities', 3590), ('alpha', 3591), ('alphas', 3592), ('applicants', 3593), ('citadel', 3594), ('classes', 3595), ('communicator', 3596), ('constantly', 3597), ('dare', 3598), ('decade', 3599), ('democratize', 3600), ('difficulty', 3601), ('eager', 3602), ('flat', 3603), ('frequency', 3604), ('fund', 3605), ('funds', 3606), ('gain', 3607), ('hedge', 3608), ('hours', 3609), ('intermediate', 3610), ('kronos', 3611), ('leverages', 3612), ('matter', 3613), ('merit', 3614), ('old', 3615), ('overseas', 3616), ('probability', 3617), ('quant', 3618), ('quants', 3619), ('rapidly', 3620), ('reasoning', 3621), ('rewards', 3622), ('securities', 3623), ('seek', 3624), ('solely', 3625), ('strongly', 3626), ('talented', 3627), ('think', 3628), ('tower', 3629), ('trading', 3630), ('truth', 3631), ('virtu', 3632), ('中獲', 3633), ('中等', 3634), ('倫比', 3635), ('出眾', 3636), ('出色', 3637), ('加密', 3638), ('卓越', 3639), ('及計量', 3640), ('取決', 3641), ('受益', 3642), ('基金', 3643), ('多種', 3644), ('夜班', 3645), ('天分', 3646), ('完全', 3647), ('將會', 3648), ('將開', 3649), ('尖', 3650), ('帶來', 3651), ('建設', 3652), ('扁平化', 3653), ('有效', 3654), ('沖', 3655), ('溝通者', 3656), ('無限', 3657), ('獎勵', 3658), ('發關', 3659), ('短', 3660), ('組合', 3661), ('舊', 3662), ('菁英', 3663), ('解法', 3664), ('計量', 3665), ('貢獻', 3666), ('貨幣', 3667), ('資產層級', 3668), ('身為', 3669), ('高頻', 3670), ('hrv', 3671), ('三鐵', 3672), ('判別', 3673), ('單車', 3674), ('報名費', 3675), ('姿勢', 3676), ('完賽則', 3677), ('寫作', 3678), ('專利', 3679), ('庫運用', 3680), ('心率', 3681), ('慢跑', 3682), ('拉松', 3683), ('推導', 3684), ('擁有', 3685), ('敏感性', 3686), ('游泳', 3687), ('熱愛運動', 3688), ('特質者', 3689), ('生物', 3690), ('生育', 3691), ('睡眠', 3692), ('穿戴', 3693), ('結婚', 3694), ('能團隊', 3695), ('解讀', 3696), ('變異', 3697), ('賽事', 3698), ('足夠', 3699), ('醫學', 3700), ('馬', 3701), ('afraid', 3702), ('applicable', 3703), ('beijing', 3704), ('clearly', 3705), ('consultancy', 3706), ('desire', 3707), ('determine', 3708), ('evaluating', 3709), ('experimental', 3710), ('externally', 3711), ('face', 3712), ('fitamos', 3713), ('internally', 3714), ('known', 3715), ('opportunity', 3716), ('publications', 3717), ('run', 3718), ('scene', 3719), ('scope', 3720), ('shanghai', 3721), ('singapore', 3722), ('vibrant', 3723), ('viscovery', 3724), ('visionary', 3725), ('上海', 3726), ('亞洲', 3727), ('先驅', 3728), ('力強', 3729), ('北京', 3730), ('台灣', 3731), ('實力', 3732), ('新加坡', 3733), ('現正', 3734), ('發光', 3735), ('發熱', 3736), ('看到', 3737), ('自認', 3738), ('舞台', 3739), ('足跡', 3740), ('遍', 3741), ('願景', 3742), ('capacity', 3743), ('conditions', 3744), ('consumption', 3745), ('consumptions', 3746), ('continuously', 3747), ('distribution', 3748), ('enhance', 3749), ('gas', 3750), ('legislations', 3751), ('met', 3752), ('microsoft', 3753), ('operating', 3754), ('optimum', 3755), ('prevent', 3756), ('procedures', 3757), ('recurrence', 3758), ('repair', 3759), ('restore', 3760), ('safety', 3761), ('shortest', 3762), ('troubleshooting', 3763), ('utilities', 3764), ('acqua', 3765), ('aec', 3766), ('agc', 3767), ('conversation', 3768), ('effect', 3769), ('filter', 3770), ('fir', 3771), ('iir', 3772), ('investigating', 3773), ('multimedia', 3774), ('ns', 3775), ('optimal', 3776), ('personality', 3777), ('researching', 3778), ('reviewing', 3779), ('sound', 3780), ('telephony', 3781), ('upl', 3782), ('adapt', 3783), ('ambassador', 3784), ('assimilate', 3785), ('attract', 3786), ('backgrounds', 3787), ('brand', 3788), ('chinese', 3789), ('commitment', 3790), ('confidence', 3791), ('consider', 3792), ('consultation', 3793), ('contributes', 3794), ('definite', 3795), ('deloitte', 3796), ('demonstrates', 3797), ('expectations', 3798), ('explores', 3799), ('focuses', 3800), ('fundamentals', 3801), ('gaps', 3802), ('initiation', 3803), ('instill', 3804), ('perspectives', 3805), ('priorities', 3806), ('produce', 3807), ('purpose', 3808), ('situations', 3809), ('superior', 3810), ('understands', 3811), ('analyse', 3812), ('analysing', 3813), ('collecting', 3814), ('elegant', 3815), ('favourite', 3816), ('interesting', 3817), ('items', 3818), ('live', 3819), ('optimise', 3820), ('preferable', 3821), ('reusable', 3822), ('revolution', 3823), ('stand', 3824), ('study', 3825), ('supporting', 3826), ('clothings', 3827), ('digitize', 3828), ('graphics', 3829), ('inpainting', 3830), ('objects', 3831), ('perfect', 3832), ('textured', 3833), ('文字', 3834), ('紀錄', 3835), ('診斷', 3836), ('醫療', 3837), ('bash', 3838), ('graphical', 3839), ('porting', 3840), ('probabilistic', 3841), ('或系統', 3842), ('現有', 3843), ('相對', 3844), ('語音訊號', 3845), ('dplyr', 3846), ('ggplot', 3847), ('hdfs', 3848), ('matplotlib', 3849), ('pandas', 3850), ('wrangling', 3851), ('人類', 3852), ('以數', 3853), ('保持', 3854), ('信念', 3855), ('先面', 3856), ('切換', 3857), ('可實用', 3858), ('圖表視', 3859), ('大展身手', 3860), ('實戰', 3861), ('寶藏', 3862), ('將優', 3863), ('必備', 3864), ('打造', 3865), ('指標', 3866), ('有用', 3867), ('業務端', 3868), ('洞悉', 3869), ('渴望', 3870), ('特徵', 3871), ('空間', 3872), ('競賽', 3873), ('等待', 3874), ('統計及', 3875), ('若有', 3876), ('觀點', 3877), ('談', 3878), ('證券', 3879), ('買', 3880), ('賣', 3881), ('轉置', 3882), ('靈活', 3883), ('aforementioned', 3884), ('algorithmsit', 3885), ('appreciated', 3886), ('bandit', 3887), ('carlo', 3888), ('deepq', 3889), ('desirable', 3890), ('devise', 3891), ('employ', 3892), ('formalize', 3893), ('monte', 3894), ('search', 3895), ('ajax', 3896), ('asp', 3897), ('autocad', 3898), ('cim', 3899), ('controller', 3900), ('cv', 3901), ('demo', 3902), ('denso', 3903), ('epson', 3904), ('ios', 3905), ('keyence', 3906), ('matrox', 3907), ('mil', 3908), ('mitsubishi', 3909), ('solidworks', 3910), ('winiot', 3911), ('一次', 3912), ('三年', 3913), ('下方', 3914), ('二路', 3915), ('交直流', 3916), ('傳', 3917), ('儲存', 3918), ('元件', 3919), ('先進', 3920), ('光學', 3921), ('動', 3922), ('化生', 3923), ('區樟樹', 3924), ('原理', 3925), ('及人機', 3926), ('同事', 3927), ('國際視野', 3928), ('垂直', 3929), ('大數', 3930), ('孰悉', 3931), ('對策', 3932), ('山區', 3933), ('工廠', 3934), ('工業物', 3935), ('市龜', 3936), ('廠', 3937), ('廠區', 3938), ('感器', 3939), ('感應器', 3940), ('感測器', 3941), ('手臂', 3942), ('技', 3943), ('拓展', 3944), ('控制元件', 3945), ('控制板', 3946), ('會應', 3947), ('本部', 3948), ('林口', 3949), ('桃園', 3950), ('機構', 3951), ('機電', 3952), ('機電光', 3953), ('汐止', 3954), ('滑台', 3955), ('生態', 3956), ('產設備', 3957), ('用到', 3958), ('相', 3959), ('空油壓', 3960), ('範圍', 3961), ('精密', 3962), ('結合大數', 3963), ('網路層', 3964), ('聯網', 3965), ('華亞', 3966), ('號', 3967), ('術', 3968), ('訊息', 3969), ('達', 3970), ('邁向', 3971), ('鏈', 3972), ('電控', 3973), ('isp', 3974), ('一年', 3975), ('良率', 3976), ('campaigns', 3977), ('channels', 3978), ('country', 3979), ('director', 3980), ('korea', 3981), ('kpi', 3982), ('lifecycle', 3983), ('messages', 3984), ('messaging', 3985), ('referral', 3986), ('repeat', 3987), ('touchpoint', 3988), ('achieving', 3989), ('age', 3990), ('appier', 3991), ('authoring', 3992), ('concurrent', 3993), ('connect', 3994), ('constructing', 3995), ('developement', 3996), ('digit', 3997), ('easier', 3998), ('enjoy', 3999), ('excitement', 4000), ('flexible', 4001), ('flink', 4002), ('flourishing', 4003), ('growing', 4004), ('heterogeneous', 4005), ('incredible', 4006), ('jenkins', 4007), ('love', 4008), ('mnist', 4009), ('paced', 4010), ('query', 4011), ('talk', 4012), ('turn', 4013), ('want', 4014), ('witness', 4015), ('yes', 4016), ('chatbot', 4017), ('fb', 4018), ('ideally', 4019), ('mesos', 4020), ('messager', 4021), ('qq', 4022), ('scaling', 4023), ('函式', 4024), ('台', 4025), ('學碩士', 4026), ('benchmarking', 4027), ('parallelism', 4028), ('verifying', 4029), ('deploying', 4030), ('explored', 4031), ('extreme', 4032), ('extremely', 4033), ('going', 4034), ('listed', 4035), ('ownership', 4036), ('tested', 4037), ('theoretical', 4038), ('view', 4039), ('rcnn', 4040), ('vggnet', 4041), ('accept', 4042), ('characterization', 4043), ('device', 4044), ('frequent', 4045), ('sensor', 4046), ('style', 4047), ('amd', 4048), ('ceph', 4049), ('gpgpu', 4050), ('lustre', 4051), ('openstack', 4052), ('poc', 4053), ('並可', 4054), ('信心', 4055), ('先考', 4056), ('及責', 4057), ('各部', 4058), ('咨尋', 4059), ('度佳', 4060), ('性強', 4061), ('慮', 4062), ('抱負', 4063), ('效能', 4064), ('耐力', 4065), ('虛擬化', 4066), ('調效並', 4067), ('較表', 4068), ('門專業', 4069), ('blockchain', 4070), ('compiler', 4071), ('compilers', 4072), ('consensus', 4073), ('contribution', 4074), ('ethereum', 4075), ('golang', 4076), ('llvm', 4077), ('machines', 4078), ('passes', 4079), ('protocol', 4080), ('static', 4081), ('stellar', 4082), ('tendermint', 4083), ('agency', 4084), ('apac', 4085), ('consistency', 4086), ('display', 4087), ('evaluated', 4088), ('executing', 4089), ('input', 4090), ('joint', 4091), ('ntdsalary', 4092), ('available', 4093), ('dobby', 4094), ('hotline', 4095), ('immediate', 4096), ('installation', 4097), ('jacquard', 4098), ('machinery', 4099), ('textile', 4100), ('textiles', 4101), ('weaving', 4102), ('case', 4103), ('consult', 4104), ('coordination', 4105), ('escalation', 4106), ('hooks', 4107), ('proactive', 4108), ('recommending', 4109), ('require', 4110), ('resolve', 4111), ('size', 4112), ('startups', 4113), ('testability', 4114), ('version', 4115), ('aiot', 4116), ('cafffe', 4117), ('coretex', 4118), ('kernel', 4119), ('onnx', 4120), ('os', 4121), ('ti', 4122), ('ansys', 4123), ('dynamics', 4124), ('element', 4125), ('heat', 4126), ('transfer', 4127), ('vibration', 4128), ('修習', 4129), ('前述', 4130), ('力學', 4131), ('動力學', 4132), ('可靠', 4133), ('度', 4134), ('從事', 4135), ('振動', 4136), ('振動學', 4137), ('熱傳', 4138), ('熱傳學', 4139), ('需獨立', 4140), ('需閱', 4141), ('高等', 4142), ('\\uf0a1', 4143), ('合適', 4144), ('套用', 4145), ('至現', 4146), ('通訊產品', 4147), ('cup', 4148), ('jmp', 4149), ('kdd', 4150), ('全世界', 4151), ('具統計', 4152), ('半導體', 4153), ('另計', 4154), ('國際化', 4155), ('外頂', 4156), ('密切', 4157), ('封裝', 4158), ('成就', 4159), ('手法', 4160), ('排名', 4161), ('揮灑', 4162), ('新興', 4163), ('月光', 4164), ('有志一同', 4165), ('洞察', 4166), ('競賽者', 4167), ('精彩', 4168), ('行動化', 4169), ('設計及', 4170), ('費與', 4171), ('迎接', 4172), ('連結', 4173), ('ddr', 4174), ('defines', 4175), ('designs', 4176), ('dio', 4177), ('dma', 4178), ('emulation', 4179), ('flash', 4180), ('gather', 4181), ('irq', 4182), ('microbalze', 4183), ('pci', 4184), ('rtl', 4185), ('scatter', 4186), ('simulation', 4187), ('sram', 4188), ('synthesis', 4189), ('uart', 4190), ('相關系', 4191), ('cdn', 4192), ('cyber', 4193), ('ec', 4194), ('elb', 4195), ('elevates', 4196), ('emerging', 4197), ('entire', 4198), ('es', 4199), ('happen', 4200), ('health', 4201), ('immersive', 4202), ('json', 4203), ('junior', 4204), ('leveraged', 4205), ('mechanism', 4206), ('mid', 4207), ('mvc', 4208), ('nginx', 4209), ('primarily', 4210), ('qualified', 4211), ('redux', 4212), ('short', 4213), ('skillful', 4214), ('sqs', 4215), ('term', 4216), ('tomcat', 4217), ('uses', 4218), ('具數據', 4219), ('具證券', 4220), ('投信', 4221), ('投顧業務員', 4222), ('知識者', 4223), ('股票', 4224), ('評價', 4225), ('財金', 4226), ('高業', 4227), ('ipas', 4228), ('ise', 4229), ('證書者', 4230), ('鑑定', 4231), ('affairs', 4232), ('bda', 4233), ('cleaning', 4234), ('dimensional', 4235), ('economic', 4236), ('interview', 4237), ('ministry', 4238), ('priority', 4239), ('序列化', 4240), ('整備', 4241), ('最終', 4242), ('生醫', 4243), ('融合', 4244), ('認證', 4245), ('資科', 4246), ('資管', 4247), ('輔助', 4248), ('醫材', 4249), ('link', 4250), ('pinkoi', 4251), ('recommendation', 4252), ('retrieval', 4253), ('上線後能', 4254), ('上者', 4255), ('不夠', 4256), ('不用', 4257), ('中文', 4258), ('來驗證', 4259), ('信欄位', 4260), ('假設', 4261), ('充實', 4262), ('出來', 4263), ('受理', 4264), ('各個', 4265), ('各有不同', 4266), ('商家', 4267), ('國家', 4268), ('外', 4269), ('媒合', 4270), ('容易', 4271), ('實驗驗', 4272), ('將負責', 4273), ('履歷表', 4274), ('平', 4275), ('引擎', 4276), ('徵者', 4277), ('應徵條件', 4278), ('應變', 4279), ('手機版', 4280), ('找到', 4281), ('挑戰性', 4282), ('排序', 4283), ('提高', 4284), ('搜尋', 4285), ('數不完', 4286), ('日文', 4287), ('曝光', 4288), ('更主動', 4289), ('更好', 4290), ('最大化', 4291), ('有效率', 4292), ('未附', 4293), ('極大興趣', 4294), ('概不', 4295), ('機制', 4296), ('欲應', 4297), ('泰文', 4298), ('洞見', 4299), ('爲', 4300), ('版面', 4301), ('現在列', 4302), ('當個', 4303), ('知識來', 4304), ('簡繁', 4305), ('聰明', 4306), ('自多個', 4307), ('臺', 4308), ('與驗證', 4309), ('補全', 4310), ('解釋', 4311), ('設計館', 4312), ('詞', 4313), ('語系', 4314), ('證假設', 4315), ('變動', 4316), ('買家', 4317), ('趕快', 4318), ('跨平台', 4319), ('跨文化', 4320), ('跨語', 4321), ('這', 4322), ('選擇', 4323), ('電腦版', 4324), ('面', 4325), ('sdi', 4326), ('亦可', 4327), ('南投', 4328), ('新竹', 4329), ('產線', 4330), ('表面', 4331), ('設有', 4332), ('類神經', 4333), ('機械科', 4334), ('evm', 4335), ('iota', 4336), ('mad', 4337), ('pi', 4338), ('raspberry', 4339), ('無礙', 4340), ('系', 4341), ('體', 4342), ('adjust', 4343), ('architectural', 4344), ('basing', 4345), ('beliefs', 4346), ('challenged', 4347), ('cinnamon', 4348), ('combined', 4349), ('comfort', 4350), ('compellingly', 4351), ('cuda', 4352), ('deeply', 4353), ('discard', 4354), ('discussing', 4355), ('dollar', 4356), ('energy', 4357), ('engines', 4358), ('game', 4359), ('hypotheses', 4360), ('insurance', 4361), ('limitations', 4362), ('linchpin', 4363), ('observational', 4364), ('offer', 4365), ('positions', 4366), ('pre', 4367), ('proceed', 4368), ('proposal', 4369), ('publication', 4370), ('received', 4371), ('recurrent', 4372), ('relevance', 4373), ('researcher', 4374), ('revise', 4375), ('specs', 4376), ('studies', 4377), ('tradeoffs', 4378), ('trillion', 4379), ('visualize', 4380), ('way', 4381), ('advertisers', 4382), ('dedicates', 4383), ('headquartered', 4384), ('ikala', 4385), ('jobs', 4386), ('marketers', 4387), ('nets', 4388), ('thailand', 4389), ('vietnam', 4390), ('事宜', 4391), ('內外', 4392), ('整潔', 4393), ('明亮', 4394), ('營運維護', 4395), ('賣場', 4396), ('grid', 4397), ('qt', 4398), ('robotic', 4399), ('二', 4400), ('則', 4401), ('助理', 4402), ('四', 4403), ('控制法', 4404), ('負責馬達', 4405), ('週邊', 4406), ('選型', 4407), ('電力', 4408), ('驅動器', 4409), ('embrace', 4410), ('interested', 4411), ('kotlin', 4412), ('ks', 4413), ('neoj', 4414), ('orchestration', 4415), ('oss', 4416), ('sf', 4417), ('answer', 4418), ('hds', 4419), ('hmi', 4420), ('modify', 4421), ('questions', 4422), ('sds', 4423), ('siemens', 4424), ('或升級', 4425), ('accessibility', 4426), ('authorization', 4427), ('bsc', 4428), ('debug', 4429), ('depending', 4430), ('desktop', 4431), ('differences', 4432), ('elements', 4433), ('facing', 4434), ('jinja', 4435), ('mako', 4436), ('mapper', 4437), ('match', 4438), ('mercurial', 4439), ('methodologies', 4440), ('optimizing', 4441), ('orm', 4442), ('pluswill', 4443), ('processarchitecture', 4444), ('protection', 4445), ('pyramid', 4446), ('represent', 4447), ('schemas', 4448), ('specificplatform', 4449), ('task', 4450), ('templating', 4451), ('threading', 4452), ('versioning', 4453), ('並優化', 4454), ('並確定', 4455), ('主修', 4456), ('主流', 4457), ('之間', 4458), ('事件', 4459), ('交付', 4460), ('代碼', 4461), ('保護', 4462), ('優先級', 4463), ('元素', 4464), ('具體', 4465), ('創建', 4466), ('力', 4467), ('匹配', 4468), ('原則', 4469), ('可訪', 4470), ('合規性', 4471), ('問性', 4472), ('單元', 4473), ('多個', 4474), ('多功能', 4475), ('將多個', 4476), ('差異', 4477), ('強大', 4478), ('性能', 4479), ('授權', 4480), ('擴展', 4481), ('改進', 4482), ('數據庫', 4483), ('數據源', 4484), ('映射', 4485), ('服務器', 4486), ('桌面', 4487), ('模板', 4488), ('流利地', 4489), ('熟練', 4490), ('熱衷', 4491), ('版本控制', 4492), ('理學士', 4493), ('用戶', 4494), ('移動', 4495), ('線程', 4496), ('編碼', 4497), ('職責', 4498), ('自學', 4499), ('表示', 4500), ('調試', 4501), ('象關', 4502), ('身份', 4503), ('軟件', 4504), ('輸出', 4505), ('進程', 4506), ('開發後端', 4507), ('集成', 4508), ('雲體驗', 4509), ('面向', 4510), ('響應', 4511), ('體系', 4512), ('factory', 4513), ('iiot', 4514), ('optical', 4515), ('computers', 4516), ('configuration', 4517), ('labview', 4518), ('located', 4519), ('synchronization', 4520), ('synchronize', 4521), ('dashboard', 4522), ('experimentation', 4523), ('failure', 4524), ('forecasting', 4525), ('insight', 4526), ('instrumentation', 4527), ('semi', 4528), ('units', 4529), ('香繼光', 4530), ('academies', 4531), ('ambiguous', 4532), ('articles', 4533), ('balance', 4534), ('blogs', 4535), ('books', 4536), ('break', 4537), ('catch', 4538), ('coaching', 4539), ('competitive', 4540), ('conferences', 4541), ('conventions', 4542), ('curriculum', 4543), ('dynamic', 4544), ('educating', 4545), ('events', 4546), ('fluently', 4547), ('forefront', 4548), ('forums', 4549), ('idiomatically', 4550), ('internationally', 4551), ('learners', 4552), ('magazine', 4553), ('matters', 4554), ('obtaining', 4555), ('official', 4556), ('option', 4557), ('organizations', 4558), ('presence', 4559), ('press', 4560), ('progression', 4561), ('publish', 4562), ('receiving', 4563), ('simple', 4564), ('speak', 4565), ('terms', 4566), ('traincoate', 4567), ('trainoacte', 4568), ('trainocate', 4569), ('understood', 4570), ('universities', 4571), ('vendor', 4572), ('whitepapers', 4573), ('wise', 4574), ('workshops', 4575), ('理由', 4576), ('講師', 4577), ('上述', 4578), ('任業務', 4579), ('企業級', 4580), ('商擔', 4581), ('學', 4582), ('採購', 4583), ('政府', 4584), ('有意', 4585), ('民間', 4586), ('科', 4587), ('統廠', 4588), ('統有', 4589), ('統銷售', 4590), ('虛擬機', 4591), ('願朝', 4592), ('birth', 4593), ('breathe', 4594), ('combine', 4595), ('community', 4596), ('coverage', 4597), ('cycles', 4598), ('detailed', 4599), ('dnns', 4600), ('enablement', 4601), ('enthusiasm', 4602), ('gdb', 4603), ('greatest', 4604), ('impressive', 4605), ('invite', 4606), ('jtag', 4607), ('lowest', 4608), ('millions', 4609), ('number', 4610), ('overview', 4611), ('processors', 4612), ('profiling', 4613), ('qualcomms', 4614), ('reported', 4615), ('resolving', 4616), ('scenarios', 4617), ('semiconductor', 4618), ('snapdragon', 4619), ('speaker', 4620), ('specially', 4621), ('telecommunications', 4622), ('二度', 4623), ('台中市', 4624), ('就業者', 4625), ('slack', 4626), ('sprint', 4627), ('實務開', 4628), ('巨量', 4629), ('常用', 4630), ('發經驗', 4631), ('adopted', 4632), ('clova', 4633), ('dialogue', 4634), ('everyday', 4635), ('family', 4636), ('finding', 4637), ('forward', 4638), ('hearing', 4639), ('homonym', 4640), ('jp', 4641), ('kr', 4642), ('multilingual', 4643), ('q', 4644), ('savvy', 4645), ('soon', 4646), ('summarization', 4647), ('summary', 4648), ('topic', 4649), ('agree', 4650), ('agreement', 4651), ('basis', 4652), ('central', 4653), ('clicking', 4654), ('default', 4655), ('described', 4656), ('disability', 4657), ('discriminate', 4658), ('diversity', 4659), ('docs', 4660), ('employer', 4661), ('equal', 4662), ('eu', 4663), ('exploit', 4664), ('facilitate', 4665), ('fmcg', 4666), ('fulfill', 4667), ('gender', 4668), ('hong', 4669), ('indicators', 4670), ('kong', 4671), ('license', 4672), ('marital', 4673), ('national', 4674), ('notice', 4675), ('orientation', 4676), ('origin', 4677), ('pdf', 4678), ('pmi', 4679), ('preference', 4680), ('privacy', 4681), ('protect', 4682), ('purposes', 4683), ('race', 4684), ('refer', 4685), ('religion', 4686), ('retailers', 4687), ('send', 4688), ('sexual', 4689), ('sfvrsn', 4690), ('southern', 4691), ('status', 4692), ('submit', 4693), ('suitable', 4694), ('sustainable', 4695), ('switzerland', 4696), ('tactical', 4697), ('territory', 4698), ('trade', 4699), ('usa', 4700), ('valid', 4701), ('veteran', 4702), ('visibility', 4703), ('volume', 4704), ('之客', 4705), ('以達', 4706), ('依職', 4707), ('分別', 4708), ('及學習', 4709), ('及度', 4710), ('及業務', 4711), ('台中', 4712), ('客車', 4713), ('我要', 4714), ('戶關', 4715), ('所屬', 4716), ('消費性', 4717), ('發新', 4718), ('缺', 4719), ('能見度', 4720), ('落實', 4721), ('資訊以', 4722), ('階層', 4723), ('零售商', 4724), ('高雄辦', 4725), ('programing', 4726), ('月薪', 4727), ('萬', 4728), ('刀具', 4729), ('加工', 4730), ('固定', 4731), ('夾具', 4732), ('夾板', 4733), ('工件', 4734), ('操作工', 4735), ('藍圖', 4736), ('裝配', 4737), ('act', 4738), ('authority', 4739), ('bau', 4740), ('bawm', 4741), ('card', 4742), ('check', 4743), ('contact', 4744), ('copy', 4745), ('courteously', 4746), ('curve', 4747), ('derivatives', 4748), ('duty', 4749), ('exit', 4750), ('files', 4751), ('filing', 4752), ('hris', 4753), ('inductions', 4754), ('inquiries', 4755), ('insurances', 4756), ('interviews', 4757), ('japanese', 4758), ('kinds', 4759), ('kye', 4760), ('leave', 4761), ('list', 4762), ('literacy', 4763), ('mainly', 4764), ('meals', 4765), ('movement', 4766), ('onboarding', 4767), ('ordering', 4768), ('ot', 4769), ('p', 4770), ('pic', 4771), ('posting', 4772), ('records', 4773), ('reservation', 4774), ('secom', 4775), ('venue', 4776), ('應屆', 4777), ('畢業生', 4778), ('nature', 4779), ('robot', 4780), ('tensorrt', 4781), ('abb', 4782), ('調機', 4783), ('不輪', 4784), ('介', 4785), ('例行', 4786), ('協助店', 4787), ('大夜班', 4788), ('小時', 4789), ('性', 4790), ('正', 4791), ('班別', 4792), ('站立', 4793), ('職務為', 4794), ('職門市', 4795), ('輪班', 4796), ('重物', 4797), ('須長', 4798), ('obs', 4799), ('rtmp', 4800), ('ubuntu', 4801), ('wechat', 4802), ('串流', 4803), ('對遊戲', 4804), ('影音', 4805), ('有系統', 4806), ('直播', 4807), ('第三方', 4808), ('視訊', 4809), ('言及', 4810), ('語', 4811), ('遊戲', 4812), ('ann', 4813), ('forests', 4814), ('regularization', 4815), ('xgb', 4816), ('之經驗', 4817), ('實驗室', 4818), ('建庫', 4819), ('臨床', 4820), ('變型', 4821), ('進階', 4822), ('assemble', 4823), ('assembling', 4824), ('diagnosing', 4825), ('expansion', 4826), ('machining', 4827), ('repeated', 4828), ('school', 4829), ('師機台', 4830), ('師設備', 4831), ('整設備', 4832), ('aggregate', 4833), ('cleanse', 4834), ('ecommerce', 4835), ('feed', 4836), ('goal', 4837), ('advising', 4838), ('benefits', 4839), ('direction', 4840), ('generalist', 4841), ('headcount', 4842), ('incentive', 4843), ('influencing', 4844), ('negotiating', 4845), ('possesses', 4846), ('promotion', 4847), ('remuneration', 4848), ('resource', 4849), ('efforts', 4850), ('managed', 4851), ('transport', 4852), ('transportation', 4853), ('slot', 4854), ('具遊戲', 4855), ('攜帶', 4856), ('棋牌', 4857), ('氣氛', 4858), ('類遊戲', 4859), ('excellence', 4860), ('spirits', 4861), ('sqlite', 4862), ('webservice', 4863), ('上架', 4864), ('人臉', 4865), ('各方', 4866), ('各產業', 4867), ('域', 4868), ('基底', 4869), ('年齡', 4870), ('性別', 4871), ('情緒', 4872), ('意願強', 4873), ('檢附過', 4874), ('職務範圍', 4875), ('車牌', 4876), ('電子電', 4877), ('領', 4878), ('因果', 4879), ('圖表', 4880), ('將透', 4881), ('數字化', 4882), ('用以', 4883), ('精確', 4884), ('結合', 4885), ('過物', 4886), ('關聯及', 4887), ('extracting', 4888), ('abnormal', 4889), ('air', 4890), ('avoid', 4891), ('bi', 4892), ('bit', 4893), ('consolidating', 4894), ('cooperation', 4895), ('department', 4896), ('early', 4897), ('excess', 4898), ('garmin', 4899), ('garminapply', 4900), ('headquarter', 4901), ('idle', 4902), ('introduction', 4903), ('issue', 4904), ('ly', 4905), ('mass', 4906), ('meetings', 4907), ('ocean', 4908), ('pfmea', 4909), ('pid', 4910), ('pilot', 4911), ('quick', 4912), ('ratio', 4913), ('response', 4914), ('satisfy', 4915), ('shipment', 4916), ('shortage', 4917), ('ups', 4918), ('weekly', 4919), ('不凡', 4920), ('供應', 4921), ('兩年', 4922), ('即將', 4923), ('周年', 4924), ('報名', 4925), ('場次', 4926), ('夏', 4927), ('定義', 4928), ('展開', 4929), ('應徵說', 4930), ('新鮮人', 4931), ('熱烈', 4932), ('生產計劃', 4933), ('第三季', 4934), ('職場', 4935), ('藉', 4936), ('點進', 4937), ('商務', 4938), ('服務技術', 4939), ('理財', 4940), ('cent', 4941), ('並建構', 4942), ('並確', 4943), ('並維護', 4944), ('之星', 4945), ('保資', 4946), ('師將', 4947), ('料到', 4948), ('清洗', 4949), ('潛力', 4950), ('版控', 4951), ('純熟', 4952), ('accessible', 4953), ('advancing', 4954), ('billions', 4955), ('bring', 4956), ('capture', 4957), ('cdma', 4958), ('combines', 4959), ('complexity', 4960), ('continue', 4961), ('dhcp', 4962), ('diagnosis', 4963), ('dns', 4964), ('eliminating', 4965), ('enthusiastic', 4966), ('evolve', 4967), ('fresh', 4968), ('gsm', 4969), ('helpful', 4970), ('hrpd', 4971), ('lives', 4972), ('lte', 4973), ('modem', 4974), ('pixel', 4975), ('powerful', 4976), ('push', 4977), ('qualities', 4978), ('radically', 4979), ('seamless', 4980), ('tcp', 4981), ('tds', 4982), ('umts', 4983), ('universally', 4984), ('useful', 4985), ('versatile', 4986), ('basics', 4987), ('error', 4988), ('nand', 4989), ('圖形', 4990), ('移植', 4991), ('xcode', 4992), ('according', 4993), ('accurately', 4994), ('agreed', 4995), ('alliances', 4996), ('aptitude', 4997), ('assisting', 4998), ('beginning', 4999), ('behavioral', 5000), ('billed', 5001), ('bookings', 5002), ('budgeting', 5003), ('calendars', 5004), ('charges', 5005), ('coupled', 5006), ('dd', 5007), ('deciding', 5008), ('deployed', 5009), ('determined', 5010), ('determining', 5011), ('displaying', 5012), ('divisions', 5013), ('engagements', 5014), ('equipped', 5015), ('etiquette', 5016), ('ii', 5017), ('iii', 5018), ('instructors', 5019), ('kits', 5020), ('laboratory', 5021), ('local', 5022), ('locally', 5023), ('ls', 5024), ('ordinate', 5025), ('outputs', 5026), ('planned', 5027), ('predefined', 5028), ('pricing', 5029), ('procedure', 5030), ('promote', 5031), ('quantify', 5032), ('refine', 5033), ('schedules', 5034), ('scheduling', 5035), ('selling', 5036), ('stop', 5037), ('supports', 5038), ('telephone', 5039), ('telephonic', 5040), ('timeously', 5041), ('type', 5042), ('articlecontent', 5043), ('batmobile', 5044), ('brain', 5045), ('id', 5046), ('inside', 5047), ('journey', 5048), ('news', 5049), ('sort', 5050), ('tw', 5051), ('人化', 5052), ('兩個', 5053), ('報導', 5054), ('完', 5055), ('官網', 5056), ('專屬', 5057), ('屬', 5058), ('從技術', 5059), ('每個', 5060), ('真正', 5061), ('私有化', 5062), ('蝙蝠', 5063), ('走', 5064), ('andes', 5065), ('consciousness', 5066), ('soc', 5067), ('合肥', 5068), ('深圳', 5069), ('需長', 5070), ('駐大陸', 5071), ('abap', 5072), ('eip', 5073), ('erp', 5074), ('fi', 5075), ('hana', 5076), ('mes', 5077), ('pos', 5078), ('rfc', 5079), ('sd', 5080), ('t', 5081), ('transaction', 5082), ('三麥', 5083), ('中央', 5084), ('串聯', 5085), ('人員資訊', 5086), ('全面', 5087), ('具企業', 5088), ('具開發', 5089), ('再到', 5090), ('前後端', 5091), ('化營運', 5092), ('升級', 5093), ('嗎', 5094), ('場景', 5095), ('委外', 5096), ('必', 5097), ('技術控', 5098), ('接口', 5099), ('會員系統', 5100), ('次世代', 5101), ('正向', 5102), ('滿腹', 5103), ('物流配送', 5104), ('簽核表單', 5105), ('總部後勤', 5106), ('自建', 5107), ('記憶', 5108), ('資訊人', 5109), ('資訊處', 5110), ('這中間', 5111), ('這是', 5112), ('金色', 5113), ('開發維護', 5114), ('間', 5115), ('電子化', 5116), ('體式', 5117), ('體業務', 5118), ('banking', 5119), ('bu', 5120), ('cleansing', 5121), ('exchanging', 5122), ('focusing', 5123), ('interfacing', 5124), ('martech', 5125), ('overlap', 5126), ('personalization', 5127), ('presales', 5128), ('targeted', 5129), ('wiliness', 5130), ('arduino', 5131), ('builder', 5132), ('selenium', 5133), ('college', 5134), ('commonly', 5135), ('exempt', 5136), ('finanical', 5137), ('itri', 5138), ('pass', 5139), ('proof', 5140), ('score', 5141), ('cnc', 5142), ('並設計', 5143), ('估算', 5144), ('及維修', 5145), ('工料', 5146), ('控制箱', 5147), ('推動', 5148), ('生產及', 5149), ('裝設', 5150), ('設計業務', 5151), ('蹤', 5152), ('配置', 5153), ('additional', 5154), ('complaint', 5155), ('contacting', 5156), ('diploma', 5157), ('exhibitors', 5158), ('invoice', 5159), ('invoices', 5160), ('lists', 5161), ('orders', 5162), ('organizing', 5163), ('proforma', 5164), ('quotations', 5165), ('specifically', 5166), ('visit', 5167), ('催貨款', 5168), ('參展', 5169), ('報價', 5170), ('抱怨', 5171), ('推廣計畫', 5172), ('推銷', 5173), ('擬定', 5174), ('樣品', 5175), ('處理單', 5176), ('訂單', 5177), ('計劃', 5178), ('開發並', 5179), ('開立', 5180), ('acrobat', 5181), ('adobe', 5182), ('clarify', 5183), ('concisely', 5184), ('editing', 5185), ('express', 5186), ('framemaker', 5187), ('grammatical', 5188), ('illustrator', 5189), ('labels', 5190), ('manuals', 5191), ('message', 5192), ('precise', 5193), ('strings', 5194), ('target', 5195), ('wording', 5196), ('gles', 5197), ('neon', 5198), ('openni', 5199), ('圖像', 5200), ('實時', 5201), ('對計算', 5202), ('幾何', 5203), ('感知', 5204), ('扎實', 5205), ('機架構', 5206), ('深刻', 5207), ('理', 5208), ('理想', 5209), ('發明', 5210), ('目開', 5211), ('精', 5212), ('認識', 5213), ('識別', 5214), ('負責視覺', 5215), ('通常', 5216), ('運行', 5217), ('高性能', 5218), ('圖及', 5219), ('大小', 5220), ('實物', 5221), ('影響', 5222), ('所須', 5223), ('指示', 5224), ('控制器', 5225), ('檢閱', 5226), ('物件', 5227), ('縮小', 5228), ('草圖', 5229), ('詳細', 5230), ('adaption', 5231), ('atl', 5232), ('baby', 5233), ('btl', 5234), ('capable', 5235), ('identifies', 5236), ('implements', 5237), ('leads', 5238), ('profit', 5239), ('cudnn', 5240), ('existed', 5241), ('refined', 5242), ('revising', 5243), ('visionworks', 5244), ('controllers', 5245), ('diagrams', 5246), ('motors', 5247), ('mvvm', 5248), ('robots', 5249), ('servo', 5250), ('si', 5251), ('vison', 5252), ('wpf', 5253), ('accelerated', 5254), ('address', 5255), ('adoption', 5256), ('alleviate', 5257), ('articulating', 5258), ('attainment', 5259), ('blockers', 5260), ('broader', 5261), ('classroom', 5262), ('close', 5263), ('closed', 5264), ('communities', 5265), ('completion', 5266), ('configurations', 5267), ('consisting', 5268), ('contracting', 5269), ('deals', 5270), ('demonstrating', 5271), ('differentiated', 5272), ('ecosystems', 5273), ('educators', 5274), ('empowering', 5275), ('empowers', 5276), ('examples', 5277), ('executive', 5278), ('exposure', 5279), ('extensive', 5280), ('forecasts', 5281), ('foster', 5282), ('foundations', 5283), ('founding', 5284), ('gatherings', 5285), ('healthy', 5286), ('helps', 5287), ('inclusive', 5288), ('inspire', 5289), ('intune', 5290), ('launched', 5291), ('lifelong', 5292), ('lighthouse', 5293), ('listening', 5294), ('makers', 5295), ('mandate', 5296), ('maturity', 5297), ('mba', 5298), ('mechanisms', 5299), ('ministries', 5300), ('mobility', 5301), ('navigate', 5302), ('nurture', 5303), ('oem', 5304), ('offers', 5305), ('orchestrate', 5306), ('orchestrating', 5307), ('passions', 5308), ('person', 5309), ('predictable', 5310), ('price', 5311), ('proactively', 5312), ('propositions', 5313), ('quota', 5314), ('reach', 5315), ('references', 5316), ('remarkable', 5317), ('resulting', 5318), ('return', 5319), ('revenue', 5320), ('seminars', 5321), ('serve', 5322), ('setting', 5323), ('specialist', 5324), ('students', 5325), ('successfully', 5326), ('surveys', 5327), ('threats', 5328), ('total', 5329), ('trained', 5330), ('trust', 5331), ('webinars', 5332), ('yammer', 5333), ('advisor', 5334), ('commissioning', 5335), ('inspector', 5336), ('medium', 5337), ('必需', 5338), ('手背', 5339), ('associated', 5340), ('combinatorics', 5341), ('compose', 5342), ('malicious', 5343), ('物聯', 5344), ('生產品質', 5345), ('網大數', 5346), ('cantonese', 5347), ('terminal', 5348), ('平板', 5349), ('手機', 5350), ('語音', 5351), ('需條件', 5352), ('香港', 5353), ('維護量', 5354), ('展示', 5355), ('ap', 5356), ('apache', 5357), ('cloudera', 5358), ('kit', 5359), ('sci', 5360), ('並轉化', 5361), ('交互', 5362), ('創', 5363), ('新解', 5364), ('決', 5365), ('語言多輪', 5366), ('責任心', 5367), ('雜業務', 5368), ('abnormality', 5369), ('communicating', 5370), ('parameter', 5371), ('recipe', 5372), ('shift', 5373), ('stability', 5374), ('sustain', 5375), ('yield', 5376), ('三個', 5377), ('值班', 5378), ('具外', 5379), ('加速器', 5380), ('國學歷', 5381), ('企畫', 5382), ('扳金件展', 5383), ('生產線', 5384), ('立', 5385), ('組', 5386), ('規畫', 5387), ('開圖', 5388), ('demands', 5389), ('departmental', 5390), ('hotel', 5391), ('oriental', 5392), ('ppt', 5393), ('preparing', 5394), ('trainings', 5395), ('workbook', 5396), ('具飯', 5397), ('契約', 5398), ('約聘', 5399), ('需有', 5400), ('clouds', 5401), ('dynamo', 5402), ('experiencing', 5403), ('gradle', 5404), ('imagineer', 5405), ('jenkin', 5406), ('mangodb', 5407), ('migo', 5408), ('minimal', 5409), ('npm', 5410), ('postgres', 5411), ('prefer', 5412), ('umls', 5413), ('一成', 5414), ('不變', 5415), ('厭倦', 5416), ('碼農', 5417), ('設計師', 5418), ('dispatching', 5419), ('doctor', 5420), ('genetic', 5421), ('heuristic', 5422), ('maximize', 5423), ('vb', 5424), ('dash', 5425), ('entries', 5426), ('favorite', 5427), ('kkbox', 5428), ('meaningful', 5429), ('music', 5430), ('presto', 5431), ('streaming', 5432), ('subscriber', 5433), ('undergraduate', 5434), ('upperclass', 5435), ('utilizing', 5436), ('workflows', 5437), ('complete', 5438), ('current', 5439), ('demos', 5440), ('hows', 5441), ('majored', 5442), ('productization', 5443), ('recommended', 5444), ('synergies', 5445), ('understandings', 5446), ('acceptance', 5447), ('annotation', 5448), ('biomedical', 5449), ('cleanup', 5450), ('collaborative', 5451), ('csdn', 5452), ('everfortune', 5453), ('identification', 5454), ('journal', 5455), ('merge', 5456), ('publishing', 5457), ('signals', 5458), ('ijcv', 5459), ('jcai', 5460), ('tip', 5461), ('tpami', 5462), ('trans', 5463), ('visiona', 5464), ('代數', 5465), ('任主', 5466), ('作者', 5467), ('勿', 5468), ('如微', 5469), ('擾', 5470), ('曾擔', 5471), ('滿意', 5472), ('積分', 5473), ('線性', 5474), ('負責圖', 5475), ('amp', 5476), ('analyzed', 5477), ('bottlenecks', 5478), ('ce', 5479), ('compatibility', 5480), ('crowd', 5481), ('developers', 5482), ('directcompute', 5483), ('entrepreneurial', 5484), ('evangelizing', 5485), ('failures', 5486), ('fixes', 5487), ('isolate', 5488), ('kernels', 5489), ('loves', 5490), ('occasionally', 5491), ('optimizations', 5492), ('relieve', 5493), ('rocm', 5494), ('triage', 5495), ('desk', 5496), ('doubleclick', 5497), ('peopleview', 5498), ('並執行', 5499), ('並成', 5500), ('具技術', 5501), ('具數位', 5502), ('合作伙伴', 5503), ('品牌', 5504), ('多方', 5505), ('定向', 5506), ('將資料', 5507), ('尋並', 5508), ('影響力', 5509), ('或產品', 5510), ('描繪', 5511), ('會員', 5512), ('會員資料', 5513), ('有產品', 5514), ('服務品', 5515), ('格式', 5516), ('構性', 5517), ('檢定', 5518), ('步驟', 5519), ('深化', 5520), ('產出', 5521), ('縝密', 5522), ('資料並', 5523), ('質', 5524), ('跨部門', 5525), ('轉換', 5526), ('適應', 5527), ('除錯', 5528), ('aframe', 5529), ('webgl', 5530), ('webxr', 5531), ('擅長', 5532), ('開發過', 5533), ('actions', 5534), ('aided', 5535), ('ambition', 5536), ('article', 5537), ('asme', 5538), ('awareness', 5539), ('brazil', 5540), ('calibration', 5541), ('calypso', 5542), ('characteristics', 5543), ('computed', 5544), ('continues', 5545), ('ct', 5546), ('cultural', 5547), ('deviation', 5548), ('dimensioning', 5549), ('effects', 5550), ('entry', 5551), ('environmental', 5552), ('establish', 5553), ('european', 5554), ('exceed', 5555), ('fitting', 5556), ('flex', 5557), ('gd', 5558), ('geometrical', 5559), ('gps', 5560), ('guided', 5561), ('inspections', 5562), ('interim', 5563), ('iteration', 5564), ('masters', 5565), ('mean', 5566), ('measurand', 5567), ('measurement', 5568), ('measurements', 5569), ('metrological', 5570), ('metrology', 5571), ('mexico', 5572), ('nations', 5573), ('neoinsight', 5574), ('officer', 5575), ('passport', 5576), ('plastic', 5577), ('precision', 5578), ('preventative', 5579), ('preventing', 5580), ('pro', 5581), ('provided', 5582), ('rapid', 5583), ('ray', 5584), ('regulatory', 5585), ('restrictions', 5586), ('safe', 5587), ('scans', 5588), ('states', 5589), ('substituted', 5590), ('timing', 5591), ('tolerancing', 5592), ('tomography', 5593), ('traceability', 5594), ('trend', 5595), ('uncertainty', 5596), ('union', 5597), ('united', 5598), ('voxel', 5599), ('week', 5600), ('y', 5601), ('zeiss', 5602), ('abusing', 5603), ('addition', 5604), ('anti', 5605), ('appscan', 5606), ('attack', 5607), ('blackbox', 5608), ('burpsuite', 5609), ('checkmarx', 5610), ('choose', 5611), ('compiling', 5612), ('contemporary', 5613), ('encryption', 5614), ('fortify', 5615), ('guidelines', 5616), ('mandatory', 5617), ('mentioned', 5618), ('oauth', 5619), ('owasp', 5620), ('penetration', 5621), ('respective', 5622), ('saml', 5623), ('scan', 5624), ('secure', 5625), ('tls', 5626), ('vulnerability', 5627), ('webauth', 5628), ('webinspect', 5629), ('whitebox', 5630), ('mart', 5631), ('可依下', 5632), ('夜校生', 5633), ('彈性', 5634), ('課時間', 5635), ('commit', 5636), ('compute', 5637), ('conductor', 5638), ('conductors', 5639), ('correlating', 5640), ('course', 5641), ('eligible', 5642), ('fabless', 5643), ('fault', 5644), ('final', 5645), ('incorporated', 5646), ('interns', 5647), ('internship', 5648), ('investing', 5649), ('largest', 5650), ('manufacturer', 5651), ('months', 5652), ('nurturing', 5653), ('offering', 5654), ('owned', 5655), ('pmic', 5656), ('pte', 5657), ('pursing', 5658), ('rffe', 5659), ('serving', 5660), ('silicon', 5661), ('simulations', 5662), ('starting', 5663), ('subsidiary', 5664), ('summer', 5665), ('talking', 5666), ('vlsi', 5667), ('wholly', 5668), ('aver', 5669), ('minded', 5670), ('pil', 5671), ('人工智能', 5672), ('tesorflow', 5673), ('並導入', 5674), ('介接', 5675), ('分派', 5676), ('叢集', 5677), ('台南', 5678), ('應用者', 5679), ('環境者', 5680), ('元起', 5681), ('起薪', 5682), ('先', 5683), ('具圖片', 5684), ('具對', 5685), ('另行安排', 5686), ('含自傳', 5687), ('圖譜', 5688), ('微積分', 5689), ('書會', 5690), ('本項', 5691), ('照片', 5692), ('發圖', 5693), ('組讀', 5694), ('人數', 5695), ('全程', 5696), ('參與本', 5697), ('名', 5698), ('基隆', 5699), ('專任', 5700), ('年期', 5701), ('庚', 5702), ('眼科', 5703), ('經參', 5704), ('經相關', 5705), ('部', 5706), ('醫院', 5707), ('院區', 5708), ('launch', 5709), ('small', 5710), ('phm', 5711), ('vm', 5712), ('備佐證', 5713), ('具相關', 5714), ('實例', 5715), ('戰性', 5716), ('熱情者', 5717), ('熱愛挑', 5718), ('系所碩士', 5719), ('興', 5720), ('趣', 5721), ('conept', 5722), ('familar', 5723), ('knowing', 5724), ('discipline', 5725), ('organise', 5726), ('retail', 5727), ('aim', 5728), ('answering', 5729), ('automates', 5730), ('ba', 5731), ('bot', 5732), ('chabot', 5733), ('chatbots', 5734), ('collaborating', 5735), ('conversations', 5736), ('created', 5737), ('dialog', 5738), ('effortless', 5739), ('inquiry', 5740), ('jarvis', 5741), ('modal', 5742), ('modelling', 5743), ('particularly', 5744), ('provides', 5745), ('question', 5746), ('sentiment', 5747), ('ship', 5748), ('systemqualification', 5749), ('transactional', 5750), ('trendmicro', 5751), ('vea', 5752), ('原型', 5753), ('和解', 5754), ('entensive', 5755), ('scientific', 5756), ('技術者', 5757), ('conclusions', 5758), ('draw', 5759), ('investigations', 5760), ('returns', 5761), ('streams', 5762), ('substantial', 5763), ('upper', 5764), ('graphs', 5765), ('企圖心', 5766), ('有責', 5767), ('autobiography', 5768), ('bom', 5769), ('briefing', 5770), ('graphic', 5771), ('prefered', 5772), ('resume', 5773), ('solidedge', 5774), ('julia', 5775), ('mr', 5776), ('動力', 5777), ('多媒體', 5778), ('服務系統', 5779), ('物理', 5780), ('amqp', 5781), ('coap', 5782), ('cps', 5783), ('fog', 5784), ('indoor', 5785), ('mqtt', 5786), ('nexcom', 5787), ('positioning', 5788), ('queue', 5789), ('room', 5790), ('rpc', 5791), ('scada', 5792), ('socket', 5793), ('war', 5794), ('xmpp', 5795), ('『', 5796), ('』', 5797), ('並儲備', 5798), ('之幹部', 5799), ('之產業', 5800), ('之雲端', 5801), ('以實現', 5802), ('含有', 5803), ('如虛', 5804), ('容器', 5805), ('將到', 5806), ('尋求', 5807), ('戰情室', 5808), ('擬化', 5809), ('時代', 5810), ('系統觀', 5811), ('網宇', 5812), ('虛實', 5813), ('行雲霧', 5814), ('資通訊', 5815), ('門亦進', 5816), ('高效能', 5817), ('containerization', 5818), ('ssis', 5819), ('stored', 5820), ('商品交易', 5821), ('庫數據', 5822), ('期貨', 5823), ('異質', 5824), ('語法', 5825), ('correctness', 5826), ('exceptional', 5827), ('foundation', 5828), ('fuse', 5829), ('infuse', 5830), ('joining', 5831), ('low', 5832), ('mindful', 5833), ('multidisciplinary', 5834), ('orbweb', 5835), ('participating', 5836), ('routines', 5837), ('sdks', 5838), ('subsystems', 5839), ('sure', 5840), ('temporal', 5841), ('dealer', 5842), ('devotion', 5843), ('liquidity', 5844), ('money', 5845), ('treasury', 5846), ('aboard', 5847), ('domestic', 5848), ('fpd', 5849), ('lcd', 5850), ('maintains', 5851), ('orbotech', 5852), ('panel', 5853), ('brainstorm', 5854), ('couchdb', 5855), ('exploring', 5856), ('heroku', 5857), ('honest', 5858), ('nodejs', 5859), ('ping', 5860), ('pong', 5861), ('proud', 5862), ('unwind', 5863), ('advancements', 5864), ('allocation', 5865), ('allowing', 5866), ('asic', 5867), ('avc', 5868), ('champion', 5869), ('codec', 5870), ('codecs', 5871), ('compression', 5872), ('conception', 5873), ('considerable', 5874), ('dof', 5875), ('encoder', 5876), ('formats', 5877), ('gamut', 5878), ('granted', 5879), ('h', 5880), ('hevc', 5881), ('itu', 5882), ('jvet', 5883), ('mode', 5884), ('mpeg', 5885), ('perceptually', 5886), ('prototyping', 5887), ('simd', 5888), ('staff', 5889), ('vceg', 5890), ('vvc', 5891), ('flexibility', 5892), ('foreigners', 5893), ('modification', 5894), ('nasdaq', 5895), ('package', 5896), ('preventive', 5897), ('regularly', 5898), ('spare', 5899), ('stocks', 5900), ('應徵者', 5901), ('福利待遇', 5902), ('align', 5903), ('allocate', 5904), ('amgen', 5905), ('biopharma', 5906), ('bus', 5907), ('coach', 5908), ('competency', 5909), ('counterpart', 5910), ('dot', 5911), ('dsms', 5912), ('engage', 5913), ('facilitation', 5914), ('hires', 5915), ('intermediary', 5916), ('investigational', 5917), ('japac', 5918), ('jobid', 5919), ('leaner', 5920), ('observe', 5921), ('pharmaceutical', 5922), ('prescription', 5923), ('quarterly', 5924), ('region', 5925), ('reps', 5926), ('reviewed', 5927), ('sfe', 5928), ('showjob', 5929), ('sizing', 5930), ('sr', 5931), ('suited', 5932), ('timely', 5933), ('veeva', 5934), ('—', 5935), ('gpp', 5936), ('nr', 5937), ('ofdm', 5938), ('信號', 5939), ('讀過', 5940), ('通訊系統', 5941), ('boost', 5942), ('filesystems', 5943), ('logs', 5944), ('mapreduce', 5945), ('recommender', 5946), ('shopping', 5947), ('specialty', 5948), ('sticker', 5949), ('today', 5950), ('automations', 5951), ('extensions', 5952), ('subject', 5953), ('wcf', 5954), ('xml', 5955), ('abo', 5956), ('abos', 5957), ('associate', 5958), ('blended', 5959), ('certificate', 5960), ('delivered', 5961), ('distributors', 5962), ('graduated', 5963), ('multilateral', 5964), ('nutrition', 5965), ('participants', 5966), ('remained', 5967), ('standardize', 5968), ('trainer', 5969), ('trainers', 5970), ('保直', 5971), ('品牌形象', 5972), ('商', 5973), ('商培訓', 5974), ('培', 5975), ('大使', 5976), ('大學學習', 5977), ('師資達', 5978), ('成功', 5979), ('效果', 5980), ('標', 5981), ('水準', 5982), ('準', 5983), ('牌', 5984), ('直銷', 5985), ('直銷商', 5986), ('種子', 5987), ('經銷商', 5988), ('訓', 5989), ('詢服務', 5990), ('課後評量', 5991), ('諮', 5992), ('銷商', 5993), ('養成', 5994), ('responsiblities', 5995), ('adopts', 5996), ('centers', 5997), ('defined', 5998), ('doctoral', 5999), ('employment', 6000), ('groups', 6001), ('institutes', 6002), ('internships', 6003), ('pacific', 6004), ('span', 6005), ('typically', 6006), ('xilinx', 6007), ('amazon', 6008), ('comprehension', 6009), ('convert', 6010), ('eagers', 6011), ('games', 6012), ('gaming', 6013), ('generasting', 6014), ('greater', 6015), ('lover', 6016), ('mastery', 6017), ('narrow', 6018), ('owns', 6019), ('pipeliness', 6020), ('playing', 6021), ('profound', 6022), ('realize', 6023), ('sre', 6024), ('tremendous', 6025), ('ubitus', 6026), ('dataproc', 6027), ('gl', 6028), ('goo', 6029), ('pixnet', 6030), ('sklearn', 6031), ('sryriz', 6032), ('並透過', 6033), ('作出', 6034), ('作資料', 6035), ('億', 6036), ('廣大用', 6037), ('很大', 6038), ('戶們', 6039), ('技術來', 6040), ('敏銳', 6041), ('服務給', 6042), ('本文', 6043), ('本職', 6044), ('給後端', 6045), ('萬客', 6046), ('觀念', 6047), ('語言實', 6048), ('進而產生', 6049), ('部分', 6050), ('cons', 6051), ('emr', 6052), ('iam', 6053), ('jd', 6054), ('judge', 6055), ('main', 6056), ('pros', 6057), ('secondary', 6058), ('stream', 6059), ('usability', 6060), ('vpc', 6061), ('次要', 6062), ('aiaas', 6063), ('調教', 6064), ('appstore', 6065), ('bang', 6066), ('coredata', 6067), ('lbs', 6068), ('miner', 6069), ('mssql', 6070), ('sequence', 6071), ('spiral', 6072), ('waterfall', 6073), ('並堅定', 6074), ('俱溝通', 6075), ('含括', 6076), ('深厚', 6077), ('爭取', 6078), ('理解能力', 6079), ('積極樂觀', 6080), ('行動產品', 6081), ('豐富產品', 6082), ('過', 6083), ('需全', 6084), ('asymtek', 6085), ('axis', 6086), ('ccm', 6087), ('choices', 6088), ('continuing', 6089), ('dispensing', 6090), ('jetting', 6091), ('miniature', 6092), ('musashi', 6093), ('phds', 6094), ('piezo', 6095), ('ssi', 6096), ('underfill', 6097), ('你將', 6098), ('備', 6099), ('光電', 6100), ('台大', 6101), ('唯一', 6102), ('噴射閥', 6103), ('塗', 6104), ('塗膠', 6105), ('多位', 6106), ('專功', 6107), ('微型化', 6108), ('念及', 6109), ('機械及', 6110), ('永續', 6111), ('知名', 6112), ('膠', 6113), ('薄膜', 6114), ('邏輯觀', 6115), ('高階點', 6116), ('點膠', 6117), ('got', 6118), ('heart', 6119), ('photography', 6120), ('shape', 6121), ('shelf', 6122), ('spaces', 6123), ('unique', 6124), ('ve', 6125), ('並應用', 6126), ('心強', 6127), ('調較', 6128), ('board', 6129), ('launching', 6130), ('pcb', 6131), ('saving', 6132), ('openshift', 6133), ('statistic', 6134), ('及維運', 6135), ('情況', 6136), ('服務運行', 6137), ('維運時', 6138), ('analyzers', 6139), ('aptitudes', 6140), ('bare', 6141), ('blocks', 6142), ('boot', 6143), ('boulder', 6144), ('ca', 6145), ('cache', 6146), ('caliber', 6147), ('chipset', 6148), ('clock', 6149), ('cortex', 6150), ('covering', 6151), ('cpus', 6152), ('cr', 6153), ('debuggers', 6154), ('diagnostic', 6155), ('diego', 6156), ('drivers', 6157), ('dsps', 6158), ('emulators', 6159), ('gnu', 6160), ('hlos', 6161), ('initial', 6162), ('interrupt', 6163), ('manufacture', 6164), ('metal', 6165), ('na', 6166), ('nocs', 6167), ('odm', 6168), ('odms', 6169), ('pcie', 6170), ('peripheral', 6171), ('peripherals', 6172), ('profilers', 6173), ('rtoss', 6174), ('serial', 6175), ('swd', 6176), ('timers', 6177), ('worked', 6178), ('zone', 6179), ('dla', 6180), ('ips', 6181), ('thread', 6182), ('vpu', 6183), ('bridge', 6184), ('contingency', 6185), ('dc', 6186), ('justify', 6187), ('necessity', 6188), ('requested', 6189), ('sa', 6190), ('upgrading', 6191), ('anf', 6192), ('audit', 6193), ('ball', 6194), ('critial', 6195), ('estableishment', 6196), ('mount', 6197), ('mtba', 6198), ('mtbf', 6199), ('oven', 6200), ('plasma', 6201), ('並於報', 6202), ('人員薪資', 6203), ('依學歷', 6204), ('其學習', 6205), ('勞工', 6206), ('另議', 6207), ('台稼動率', 6208), ('報到', 6209), ('敘', 6210), ('新人', 6211), ('機台稼動率', 6212), ('檢報告', 6213), ('權益', 6214), ('法令', 6215), ('異常及', 6216), ('異常站', 6217), ('當日', 6218), ('發生', 6219), ('立即', 6220), ('紀錄表', 6221), ('綜合核', 6222), ('繳交體', 6223), ('職業', 6224), ('衛生法', 6225), ('資深', 6226), ('重大', 6227), ('針對機', 6228), ('體格', 6229), ('體檢', 6230), ('＊', 6231), ('cts', 6232), ('framworks', 6233), ('pythoncaffe', 6234), ('awesome', 6235), ('backlog', 6236), ('believe', 6237), ('bench', 6238), ('bonuses', 6239), ('bug', 6240), ('catered', 6241), ('cn', 6242), ('complementary', 6243), ('conflict', 6244), ('days', 6245), ('dealing', 6246), ('delight', 6247), ('dinner', 6248), ('discussions', 6249), ('easily', 6250), ('exposed', 6251), ('fear', 6252), ('fixed', 6253), ('fixing', 6254), ('forget', 6255), ('gets', 6256), ('hardcore', 6257), ('heard', 6258), ('hunger', 6259), ('iterative', 6260), ('little', 6261), ('longer', 6262), ('marked', 6263), ('mentored', 6264), ('night', 6265), ('nope', 6266), ('org', 6267), ('organisation', 6268), ('outing', 6269), ('owner', 6270), ('pantry', 6271), ('pesky', 6272), ('players', 6273), ('possibilities', 6274), ('primer', 6275), ('quest', 6276), ('refactoring', 6277), ('reflective', 6278), ('relaxation', 6279), ('repaired', 6280), ('resolutions', 6281), ('respond', 6282), ('salaries', 6283), ('scrumguide', 6284), ('scrumguides', 6285), ('scrumprimer', 6286), ('situation', 6287), ('sleep', 6288), ('split', 6289), ('stocked', 6290), ('subsidies', 6291), ('titansoft', 6292), ('traits', 6293), ('voices', 6294), ('中文版', 6295), ('指南', 6296), ('簡介', 6297), ('英文版', 6298), ('accredited', 6299), ('analysts', 6300), ('assistance', 6301), ('award', 6302), ('bbc', 6303), ('benchmarks', 6304), ('betting', 6305), ('birmingham', 6306), ('britain', 6307), ('captured', 6308), ('consideration', 6309), ('educated', 6310), ('eye', 6311), ('halesowen', 6312), ('historical', 6313), ('hq', 6314), ('huge', 6315), ('keen', 6316), ('measure', 6317), ('negotiable', 6318), ('predicative', 6319), ('previous', 6320), ('privately', 6321), ('recognized', 6322), ('relocation', 6323), ('sought', 6324), ('star', 6325), ('sunday', 6326), ('times', 6327), ('title', 6328), ('uk', 6329), ('whilst', 6330), ('winning', 6331), ('‘', 6332), ('analyzes', 6333), ('assists', 6334), ('capturing', 6335), ('car', 6336), ('causes', 6337), ('controlling', 6338), ('cse', 6339), ('diagnoses', 6340), ('discretion', 6341), ('electro', 6342), ('enhances', 6343), ('evaluates', 6344), ('exist', 6345), ('exp', 6346), ('expenses', 6347), ('facility', 6348), ('incurred', 6349), ('installations', 6350), ('labor', 6351), ('note', 6352), ('occurring', 6353), ('prepares', 6354), ('quotes', 6355), ('reason', 6356), ('repairs', 6357), ('travels', 6358), ('troubleshoots', 6359), ('updates', 6360), ('advertising', 6361), ('audiences', 6362), ('disciplinary', 6363), ('exploratory', 6364), ('extra', 6365), ('fair', 6366), ('gitlab', 6367), ('guarantee', 6368), ('hood', 6369), ('ntd', 6370), ('pay', 6371), ('predict', 6372), ('rata', 6373), ('sick', 6374), ('systematically', 6375), ('tailor', 6376), ('短期', 6377), ('inventor', 6378), ('及治具', 6379), ('廠內', 6380), ('案件', 6381), ('繪圖', 6382), ('設計變', 6383), ('需熟練', 6384), ('bear', 6385), ('brands', 6386), ('cadence', 6387), ('let', 6388), ('ranges', 6389), ('smoothly', 6390), ('try', 6391), ('worlds', 6392), ('curricula', 6393), ('elearning', 6394), ('connected', 6395), ('contro', 6396), ('departure', 6397), ('door', 6398), ('ecu', 6399), ('electric', 6400), ('flexray', 6401), ('gateway', 6402), ('gcu', 6403), ('infotainment', 6404), ('inter', 6405), ('ivi', 6406), ('lane', 6407), ('lin', 6408), ('method', 6409), ('neting', 6410), ('plug', 6411), ('powertrain', 6412), ('risc', 6413), ('rke', 6414), ('seat', 6415), ('sunroof', 6416), ('theft', 6417), ('vehicle', 6418), ('vv', 6419), ('warning', 6420), ('wi', 6421), ('wiper', 6422), ('一台', 6423), ('上開', 6424), ('不僅', 6425), ('不合理', 6426), ('不經濟', 6427), ('中介', 6428), ('主控制', 6429), ('也須', 6430), ('付出', 6431), ('代價', 6432), ('以系統', 6433), ('低落', 6434), ('使用方便', 6435), ('依然', 6436), ('俱', 6437), ('俱備', 6438), ('俱有', 6439), ('偏移', 6440), ('儀表系統', 6441), ('先行', 6442), ('內將', 6443), ('分為', 6444), ('基本技能', 6445), ('多屬', 6446), ('天窗', 6447), ('定義出', 6448), ('履歷者', 6449), ('左右', 6450), ('常見', 6451), ('年代', 6452), ('幾個', 6453), ('座椅', 6454), ('微機', 6455), ('成車', 6456), ('成面', 6457), ('所列', 6458), ('新一波', 6459), ('普及率', 6460), ('未', 6461), ('材料', 6462), ('樣樣', 6463), ('檢視', 6464), ('歸納為', 6465), ('減少車', 6466), ('滿足', 6467), ('為主', 6468), ('為主如', 6469), ('為系統', 6470), ('為面', 6471), ('現代', 6472), ('生產階段', 6473), ('產品面', 6474), ('用率', 6475), ('界面', 6476), ('發車', 6477), ('研究生', 6478), ('確保', 6479), ('統電路', 6480), ('線束', 6481), ('總結', 6482), ('繁瑣', 6483), ('缺乏', 6484), ('自診斷', 6485), ('被動', 6486), ('調查', 6487), ('調節', 6488), ('警示', 6489), ('負責開', 6490), ('路由器', 6491), ('身電子', 6492), ('車內須', 6493), ('車型', 6494), ('車用', 6495), ('車種', 6496), ('車身', 6497), ('車門', 6498), ('車體', 6499), ('通訊架構', 6500), ('通訊系', 6501), ('連網', 6502), ('道路', 6503), ('邊窗', 6504), ('銅等', 6505), ('錯級', 6506), ('鎳', 6507), ('開發產品', 6508), ('閘道', 6509), ('防盜', 6510), ('雖產生', 6511), ('雨刷', 6512), ('電源', 6513), ('電系統', 6514), ('類型', 6515), ('顯示採', 6516), ('高價位', 6517), ('additive', 6518), ('converter', 6519), ('cosine', 6520), ('estimator', 6521), ('focal', 6522), ('loss', 6523), ('margin', 6524), ('mask', 6525), ('mobilenet', 6526), ('shufflenet', 6527), ('squeezenet', 6528), ('ssd', 6529), ('triplet', 6530), ('xception', 6531), ('兼具', 6532), ('名次', 6533), ('發表過', 6534), ('移動式', 6535), ('端產品', 6536), ('純', 6537), ('臉識別', 6538), ('一心', 6539), ('下去', 6540), ('不銹鋼', 6541), ('之路', 6542), ('五十年', 6543), ('今年', 6544), ('他們', 6545), ('以人', 6546), ('來襲', 6547), ('做事', 6548), ('傳承', 6549), ('兩岸', 6550), ('典範', 6551), ('再造', 6552), ('力行', 6553), ('努力', 6554), ('匠人', 6555), ('只想', 6556), ('可持續', 6557), ('哲學', 6558), ('回首', 6559), ('失敗', 6560), ('將專業', 6561), ('將畢生', 6562), ('導向', 6563), ('嶄露', 6564), ('帶動', 6565), ('成立', 6566), ('所學', 6567), ('所長', 6568), ('持守', 6569), ('指', 6570), ('推進', 6571), ('新麗華', 6572), ('智能化', 6573), ('更是', 6574), ('期盼', 6575), ('極致', 6576), ('機遇', 6577), ('浪潮', 6578), ('淬', 6579), ('清整', 6580), ('濟', 6581), ('盡所能', 6582), ('相信', 6583), ('社會', 6584), ('稱', 6585), ('穩健', 6586), ('精實', 6587), ('經得', 6588), ('經濟', 6589), ('線纜', 6590), ('義的', 6591), ('能成', 6592), ('與視', 6593), ('華新麗華', 6594), ('華新麗華亦竭', 6595), ('華新麗華積極', 6596), ('見證', 6597), ('設廠', 6598), ('誠信', 6599), ('走向', 6600), ('轉型', 6601), ('逃避', 6602), ('這樣', 6603), ('達成華', 6604), ('邁入', 6605), ('鍊', 6606), ('關聯性', 6607), ('隨著', 6608), ('頭角', 6609), ('高雄', 6610), ('dart', 6611), ('graphql', 6612), ('grpc', 6613), ('jwt', 6614), ('openapi', 6615), ('rust', 6616), ('swagger', 6617), ('swift', 6618), ('兩種', 6619), ('師優化', 6620), ('種', 6621), ('維護及', 6622), ('語言有', 6623), ('貢獻過', 6624), ('催外', 6625), ('包廠', 6626), ('商之', 6627), ('開小貨車', 6628), ('須會', 6629), ('adaptive', 6630), ('cmm', 6631), ('compulsory', 6632), ('consistent', 6633), ('constructive', 6634), ('controls', 6635), ('conventional', 6636), ('corresponding', 6637), ('criticism', 6638), ('drawings', 6639), ('goods', 6640), ('improvise', 6641), ('inward', 6642), ('judgement', 6643), ('kaizen', 6644), ('lathe', 6645), ('lathes', 6646), ('managerial', 6647), ('marine', 6648), ('mechatronics', 6649), ('milling', 6650), ('nantong', 6651), ('oil', 6652), ('outgoing', 6653), ('overcoming', 6654), ('physically', 6655), ('pieces', 6656), ('possibly', 6657), ('quantities', 6658), ('regard', 6659), ('respect', 6660), ('respectable', 6661), ('sector', 6662), ('situational', 6663), ('supervision', 6664), ('supervisory', 6665), ('tenacity', 6666), ('toolbox', 6667), ('trustworthy', 6668), ('workshop', 6669), ('acquired', 6670), ('aprc', 6671), ('backed', 6672), ('corporation', 6673), ('curriculums', 6674), ('endorsed', 6675), ('entrepreneurs', 6676), ('esl', 6677), ('financially', 6678), ('founded', 6679), ('founders', 6680), ('inform', 6681), ('investors', 6682), ('ipo', 6683), ('larger', 6684), ('operates', 6685), ('permit', 6686), ('personalized', 6687), ('ponddy', 6688), ('respected', 6689), ('revision', 6690), ('second', 6691), ('suit', 6692), ('teaching', 6693), ('technologist', 6694), ('tesol', 6695), ('toefl', 6696), ('valley', 6697), ('aspx', 6698), ('itutorgroup', 6699), ('tutorabc', 6700), ('一線面', 6701), ('不在意', 6702), ('不會', 6703), ('並為', 6704), ('並鼓勵', 6705), ('串', 6706), ('人工', 6707), ('介入', 6708), ('作戰', 6709), ('佼佼者', 6710), ('前瞻性', 6711), ('創新思維', 6712), ('參與過', 6713), ('只求', 6714), ('喜愛觀察人', 6715), ('埋', 6716), ('學術', 6717), ('完美', 6718), ('成就感', 6719), ('抵', 6720), ('攜手', 6721), ('最合適', 6722), ('有夢想', 6723), ('構建', 6724), ('沒', 6725), ('深入', 6726), ('無國界', 6727), ('瓶', 6728), ('生活', 6729), ('秀才', 6730), ('精確度', 6731), ('群眾', 6732), ('膽識', 6733), ('華絕', 6734), ('連起', 6735), ('重用', 6736), ('錯誤', 6737), ('降低', 6738), ('雜的', 6739), ('頸', 6740), ('類行', 6741), ('體驗給', 6742), ('高科技', 6743), ('cf', 6744), ('embedding', 6745), ('ettoday', 6746), ('fm', 6747), ('softwares', 6748), ('一千', 6749), ('一步', 6750), ('上線', 6751), ('並運用', 6752), ('以文', 6753), ('兩百萬用', 6754), ('戶線', 6755), ('找文', 6756), ('數百萬用', 6757), ('新聞', 6758), ('新聞類', 6759), ('朝氣', 6760), ('東森', 6761), ('正積極', 6762), ('瀏覽', 6763), ('率', 6764), ('發新聞', 6765), ('線下', 6766), ('觸及', 6767), ('貼標', 6768), ('輕有', 6769), ('造訪', 6770), ('點擊', 6771), ('ab', 6772), ('advertiser', 6773), ('assets', 6774), ('commander', 6775), ('commerce', 6776), ('eulerian', 6777), ('formulations', 6778), ('gmv', 6779), ('gtm', 6780), ('square', 6781), ('tag', 6782), ('tags', 6783), ('testy', 6784), ('visualisation', 6785), ('作法', 6786), ('實績', 6787), ('業經驗', 6788), ('顧客關', 6789), ('macbook', 6790), ('配', 6791), ('amba', 6792), ('avalon', 6793), ('axi', 6794), ('chip', 6795), ('hls', 6796), ('sta', 6797), ('filtering', 6798), ('fourier', 6799), ('transforms', 6800), ('wavelet', 6801), ('z', 6802), ('中帶', 6803), ('之訊號', 6804), ('做業', 6805), ('傅利葉', 6806), ('傳換', 6807), ('具訊號', 6808), ('可標定', 6809), ('圖訊號', 6810), ('天期', 6811), ('如濾波', 6812), ('小波', 6813), ('心電', 6814), ('心電訊號', 6815), ('現實', 6816), ('至心', 6817), ('變量', 6818), ('通', 6819), ('雜訊', 6820), ('雜訊區', 6821), ('電圖', 6822), ('bb', 6823), ('並適', 6824), ('傾', 6825), ('具培', 6826), ('具服務業', 6827), ('及表達', 6828), ('意思', 6829), ('推擴', 6830), ('旺盛', 6831), ('相關業務', 6832), ('管科', 6833), ('考', 6834), ('能獨', 6835), ('自運作', 6836), ('解說', 6837), ('訓業務', 6838), ('訓練業務開', 6839), ('aid', 6840), ('bridges', 6841), ('brightest', 6842), ('brilliance', 6843), ('conversational', 6844), ('criteria', 6845), ('definitions', 6846), ('fosters', 6847), ('generating', 6848), ('incumbent', 6849), ('independence', 6850), ('minds', 6851), ('ops', 6852), ('pb', 6853), ('refining', 6854), ('sampling', 6855), ('student', 6856), ('suitability', 6857), ('tenure', 6858), ('variable', 6859), ('variables', 6860), ('／', 6861), ('１', 6862), ('middleware', 6863), ('studied', 6864), ('visionpreferred', 6865), ('中和區', 6866), ('人格', 6867), ('區皆可', 6868), ('合群', 6869), ('樂觀', 6870), ('永康', 6871), ('blas', 6872), ('boosts', 6873), ('functionalities', 6874), ('innovate', 6875), ('mindtronicai', 6876), ('nna', 6877), ('smooth', 6878), ('website', 6879), ('一員', 6880), ('具食材', 6881), ('冰箱', 6882), ('及餐', 6883), ('吃', 6884), ('帶位', 6885), ('廚房', 6886), ('擔任', 6887), ('料理', 6888), ('早晚', 6889), ('盛裝', 6890), ('碗盤', 6891), ('笑容', 6892), ('精心', 6893), ('臉上', 6894), ('鍋爐', 6895), ('雞', 6896), ('露出', 6897), ('食材', 6898), ('飲內場', 6899), ('餐廳', 6900), ('傳統', 6901), ('合理', 6902), ('恰當', 6903), ('手段', 6904), ('森林', 6905), ('評', 6906), ('證', 6907), ('隨機', 6908), ('lucene', 6909), ('solr', 6910), ('具大數', 6911), ('並撰', 6912), ('並負', 6913), ('參與會議', 6914), ('及報', 6915), ('合約', 6916), ('寫會議', 6917), ('時程表', 6918), ('曆', 6919), ('書目', 6920), ('檔案', 6921), ('行事', 6922), ('表', 6923), ('議程', 6924), ('負責費用', 6925), ('責會議', 6926), ('預估', 6927), ('learningit', 6928), ('u', 6929), ('akka', 6930), ('archiving', 6931), ('bigtable', 6932), ('collected', 6933), ('emergency', 6934), ('enrich', 6935), ('filesystem', 6936), ('freebsd', 6937), ('hacking', 6938), ('liked', 6939), ('malware', 6940), ('ntdtg', 6941), ('pig', 6942), ('select', 6943), ('spn', 6944), ('virus', 6945), ('yarn', 6946), ('安技', 6947), ('定義產品', 6948), ('將和', 6949), ('師在', 6950), ('師是', 6951), ('師未來', 6952), ('廣度', 6953), ('意圖', 6954), ('有千萬筆', 6955), ('磨練', 6956), ('給產品', 6957), ('致勝', 6958), ('著迷', 6959), ('許多產品', 6960), ('資', 6961), ('進系統', 6962), ('領頭', 6963), ('龐大', 6964), ('一流', 6965), ('並可提', 6966), ('佳者', 6967), ('儘', 6968), ('履', 6969), ('常有', 6970), ('徵求', 6971), ('料', 6972), ('歐洲', 6973), ('歷', 6974), ('禮聘', 6975), ('程度', 6976), ('至國外', 6977), ('試車', 6978), ('路', 6979), ('迴', 6980), ('速', 6981), ('雜機械', 6982), ('須有', 6983), ('高薪', 6984), ('construct', 6985), ('datastores', 6986), ('decisioning', 6987), ('disconnected', 6988), ('install', 6989), ('latency', 6990), ('logging', 6991), ('throughput', 6992), ('warehouse', 6993), ('approve', 6994), ('asm', 6995), ('attach', 6996), ('bond', 6997), ('bonding', 6998), ('buildsheet', 6999), ('buy', 7000), ('cars', 7001), ('cft', 7002), ('cpk', 7003), ('cu', 7004), ('die', 7005), ('diebonding', 7006), ('epoxy', 7007), ('esec', 7008), ('fmea', 7009), ('fol', 7010), ('gold', 7011), ('hold', 7012), ('lots', 7013), ('mrb', 7014), ('npi', 7015), ('pda', 7016), ('qual', 7017), ('readiness', 7018), ('shinkawa', 7019), ('sign', 7020), ('signoff', 7021), ('sourcing', 7022), ('wire', 7023), ('wirebonding', 7024), ('東莞廠', 7025), ('概依', 7026), ('聘用', 7027), ('辦理', 7028), ('aesthetics', 7029), ('appreciates', 7030), ('categories', 7031), ('ceo', 7032), ('chaos', 7033), ('copywriting', 7034), ('dig', 7035), ('drastic', 7036), ('ergonomics', 7037), ('expat', 7038), ('facts', 7039), ('furthermore', 7040), ('histories', 7041), ('idea', 7042), ('included', 7043), ('judgment', 7044), ('knows', 7045), ('man', 7046), ('managementskills', 7047), ('manages', 7048), ('opinions', 7049), ('pivot', 7050), ('planner', 7051), ('provider', 7052), ('rationally', 7053), ('renewal', 7054), ('sensibility', 7055), ('stp', 7056), ('tangible', 7057), ('till', 7058), ('uncertainties', 7059), ('unified', 7060), ('unsatisfied', 7061), ('fft', 7062), ('karas', 7063), ('scikitlearn', 7064), ('viterbi', 7065), ('五', 7066), ('傅立葉', 7067), ('全國前', 7068), ('前十', 7069), ('國立', 7070), ('大學前', 7071), ('學院', 7072), ('崗位', 7073), ('應濾', 7074), ('抽樣', 7075), ('時機', 7076), ('波器', 7077), ('濾波器', 7078), ('生理', 7079), ('矩陣', 7080), ('自適', 7081), ('負責驗證', 7082), ('適用', 7083), ('comdevelop', 7084), ('cooperating', 7085), ('aggressive', 7086), ('artficial', 7087), ('comprising', 7088), ('interests', 7089), ('sentence', 7090), ('acquainted', 7091), ('anova', 7092), ('comparable', 7093), ('concurrently', 7094), ('corning', 7095), ('curiosity', 7096), ('dedication', 7097), ('doe', 7098), ('finished', 7099), ('hypothesis', 7100), ('inferential', 7101), ('interdisciplinary', 7102), ('learnings', 7103), ('locations', 7104), ('minitab', 7105), ('mix', 7106), ('multifunctional', 7107), ('multinational', 7108), ('multivariate', 7109), ('ones', 7110), ('openly', 7111), ('options', 7112), ('promoting', 7113), ('quantifiable', 7114), ('spectrum', 7115), ('summarizing', 7116), ('transforming', 7117), ('vast', 7118), ('bamboohr', 7119), ('bigquery', 7120), ('dataflow', 7121), ('digdag', 7122), ('embulk', 7123), ('fluentd', 7124), ('opensource', 7125), ('predicting', 7126), ('pub', 7127), ('stackdriver', 7128), ('storytelling', 7129), ('sub', 7130), ('technic', 7131), ('truly', 7132), ('謝謝', 7133), ('complaints', 7134), ('eq', 7135), ('stress', 7136), ('段', 7137), ('輪班時', 7138), ('五金件', 7139), ('倉管', 7140), ('具品質', 7141), ('具應用', 7142), ('具機械識', 7143), ('字', 7144), ('工科', 7145), ('打字速度', 7146), ('測技術', 7147), ('生管', 7148), ('量', 7149), ('之解決', 7150), ('曁', 7151), ('有開', 7152), ('發過', 7153), ('且樂', 7154), ('並進', 7155), ('中研院', 7156), ('交派', 7157), ('圖論', 7158), ('行程', 7159), ('並起', 7160), ('但專', 7161), ('修整', 7162), ('切削速度', 7163), ('動試', 7164), ('半自動', 7165), ('手輪', 7166), ('操縱', 7167), ('略同', 7168), ('螺栓', 7169), ('車', 7170), ('車床', 7171), ('進刀', 7172), ('選定', 7173), ('銑', 7174), ('銑床', 7175), ('零配件', 7176), ('fabric', 7177), ('nvm', 7178), ('nvme', 7179), ('sata', 7180), ('smbus', 7181), ('smr', 7182), ('w', 7183), ('並針', 7184), ('商開會', 7185), ('構者', 7186), ('語言且', 7187), ('跟廠', 7188), ('須擅', 7189), ('advocacy', 7190), ('aids', 7191), ('assure', 7192), ('backup', 7193), ('calls', 7194), ('clinics', 7195), ('comply', 7196), ('concerning', 7197), ('consignment', 7198), ('convince', 7199), ('detailing', 7200), ('evidence', 7201), ('implants', 7202), ('inventories', 7203), ('mdt', 7204), ('medtronic', 7205), ('強化', 7206), ('機視覺', 7207), ('無監督', 7208), ('簡化', 7209), ('nfv', 7210), ('tightly', 7211), ('需準備', 7212), ('equipments', 7213), ('gui', 7214), ('kinematics', 7215), ('winforms', 7216), ('人學', 7217), ('人運動', 7218), ('為視覺', 7219), ('運動學', 7220), ('capitalize', 7221), ('corrective', 7222), ('enforce', 7223), ('mechnical', 7224), ('monthlypreventive', 7225), ('overhaul', 7226), ('pag', 7227), ('pants', 7228), ('plants', 7229), ('prepared', 7230), ('rotary', 7231), ('sapre', 7232), ('trailer', 7233), ('tube', 7234), ('yrs', 7235), ('scooter', 7236), ('wemo', 7237), ('以確', 7238), ('保數', 7239), ('即時', 7240), ('城市', 7241), ('展出', 7242), ('庫開', 7243), ('新創', 7244), ('服人', 7245), ('樣貌', 7246), ('營運業務及', 7247), ('節奏', 7248), ('籌備', 7249), ('訊息並', 7250), ('adversely', 7251), ('appreciation', 7252), ('operaiton', 7253), ('profitability', 7254), ('risks', 7255), ('rolling', 7256), ('slide', 7257), ('spreadsheet', 7258), ('volatility', 7259), ('在校', 7260), ('庫架構', 7261), ('懂', 7262), ('或開', 7263), ('萬元起', 7264), ('輿情', 7265), ('上級', 7266), ('並將訂', 7267), ('協助業務', 7268), ('協助業務訂', 7269), ('單處理', 7270), ('單資料', 7271), ('回收', 7272), ('國外口', 7273), ('存檔', 7274), ('帳款', 7275), ('推展', 7276), ('新增', 7277), ('書信', 7278), ('為後勤', 7279), ('自傳', 7280), ('處理並', 7281), ('訂', 7282), ('語溝', 7283), ('負責國', 7284), ('通者', 7285), ('argumentation', 7286), ('casual', 7287), ('convergence', 7288), ('covers', 7289), ('creator', 7290), ('dataset', 7291), ('defect', 7292), ('getac', 7293), ('iaiot', 7294), ('innovated', 7295), ('mainstream', 7296), ('viewpoint', 7297), ('accountabilitiesdata', 7298), ('ada', 7299), ('adhered', 7300), ('affluent', 7301), ('analyticsdata', 7302), ('aspect', 7303), ('attributes', 7304), ('authorizes', 7305), ('bcbsdata', 7306), ('bold', 7307), ('campaign', 7308), ('conformance', 7309), ('constraints', 7310), ('dashboarding', 7311), ('defining', 7312), ('duplication', 7313), ('effort', 7314), ('financials', 7315), ('governance', 7316), ('landscape', 7317), ('minimizing', 7318), ('onboard', 7319), ('oversight', 7320), ('period', 7321), ('pressures', 7322), ('prioritization', 7323), ('prioritizes', 7324), ('redundancy', 7325), ('remediation', 7326), ('responsibilitiesresponsible', 7327), ('reusability', 7328), ('reuse', 7329), ('sdlc', 7330), ('skilltechnical', 7331), ('standardized', 7332), ('steward', 7333), ('su', 7334), ('subsumed', 7335), ('threshold', 7336), ('unnecessary', 7337), ('wider', 7338), ('fidelity', 7339), ('obtained', 7340), ('tolerance', 7341), ('場景識別', 7342), ('author', 7343), ('cameras', 7344), ('doctorate', 7345), ('invent', 7346), ('researches', 7347), ('sensing', 7348), ('specify', 7349), ('videos', 7350), ('assembler', 7351), ('debugger', 7352), ('gcc', 7353), ('徵才', 7354), ('approval', 7355), ('conducts', 7356), ('correct', 7357), ('delivers', 7358), ('gmail', 7359), ('graveyard', 7360), ('holidays', 7361), ('instructional', 7362), ('interventions', 7363), ('lcms', 7364), ('lms', 7365), ('motivational', 7366), ('obtains', 7367), ('participates', 7368), ('questors', 7369), ('sheets', 7370), ('shifts', 7371), ('submits', 7372), ('supervises', 7373), ('trainees', 7374), ('weekends', 7375), ('approximately', 7376), ('arcgis', 7377), ('assessments', 7378), ('assured', 7379), ('boast', 7380), ('celebrate', 7381), ('citizen', 7382), ('citizens', 7383), ('comprised', 7384), ('confident', 7385), ('congestion', 7386), ('count', 7387), ('countries', 7388), ('detected', 7389), ('difference', 7390), ('emissions', 7391), ('expression', 7392), ('genetics', 7393), ('geography', 7394), ('gis', 7395), ('identity', 7396), ('individually', 7397), ('intern', 7398), ('invest', 7399), ('maps', 7400), ('naturally', 7401), ('offices', 7402), ('outcome', 7403), ('putting', 7404), ('qgis', 7405), ('ready', 7406), ('screened', 7407), ('solvers', 7408), ('spent', 7409), ('spread', 7410), ('starters', 7411), ('studying', 7412), ('thorough', 7413), ('tomorrow', 7414), ('tomtom', 7415), ('tooling', 7416), ('competitor', 7417), ('cover', 7418), ('famous', 7419), ('fastcut', 7420), ('inquire', 7421), ('intend', 7422), ('letter', 7423), ('overtake', 7424), ('protects', 7425), ('sent', 7426), ('tailed', 7427), ('commercialized', 7428), ('designed', 7429), ('documentations', 7430), ('feasibility', 7431), ('flowcharts', 7432), ('flume', 7433), ('ingestion', 7434), ('layouts', 7435), ('oozie', 7436), ('testable', 7437), ('troubleshoot', 7438), ('師來', 7439), ('成員', 7440), ('aligned', 7441), ('francisco', 7442), ('intensive', 7443), ('london', 7444), ('selected', 7445), ('ae', 7446), ('analyzer', 7447), ('boards', 7448), ('bsee', 7449), ('conclusion', 7450), ('duplicate', 7451), ('figure', 7452), ('fix', 7453), ('ipmi', 7454), ('irons', 7455), ('jog', 7456), ('layout', 7457), ('limit', 7458), ('mother', 7459), ('msee', 7460), ('oscilloscope', 7461), ('outstanding', 7462), ('returned', 7463), ('rma', 7464), ('roughly', 7465), ('soldering', 7466), ('supermicro', 7467), ('unexpected', 7468), ('predicted', 7469), ('addressing', 7470), ('alerts', 7471), ('assistant', 7472), ('begin', 7473), ('boarding', 7474), ('chat', 7475), ('circulation', 7476), ('coachable', 7477), ('comprehensively', 7478), ('concerns', 7479), ('cooperative', 7480), ('emails', 7481), ('executives', 7482), ('faq', 7483), ('identified', 7484), ('incentivized', 7485), ('jr', 7486), ('membership', 7487), ('paid', 7488), ('personalty', 7489), ('phones', 7490), ('po', 7491), ('prospect', 7492), ('ranging', 7493), ('registration', 7494), ('replies', 7495), ('retaining', 7496), ('satisfactory', 7497), ('subscribes', 7498), ('subscription', 7499), ('telesales', 7500), ('translating', 7501), ('trial', 7502), ('unmet', 7503), ('updating', 7504), ('zendesk', 7505), ('zoom', 7506), ('維運及', 7507), ('大三', 7508), ('實習', 7509), ('暑期', 7510), ('需進行', 7511), ('ibm', 7512), ('transmission', 7513), ('webrtc', 7514), ('優先入', 7515), ('取', 7516), ('駐點', 7517), ('fiori', 7518), ('並輔導', 7519), ('中時', 7520), ('五百', 7521), ('個國家', 7522), ('原廠', 7523), ('地區', 7524), ('外交', 7525), ('外語', 7526), ('大軟體', 7527), ('家', 7528), ('工作者', 7529), ('已釋', 7530), ('強企業', 7531), ('性佳', 7532), ('或海', 7533), ('換學生', 7534), ('社團', 7535), ('第三', 7536), ('聞名', 7537), ('語言入門', 7538), ('財務會計', 7539), ('通過', 7540), ('須檢附', 7541), ('buffer', 7542), ('linkou', 7543), ('對大數', 7544), ('法規', 7545), ('真', 7546), ('行擬', 7547), ('解析', 7548), ('錯及', 7549), ('開發佳', 7550), ('aac', 7551), ('aliyun', 7552), ('eme', 7553), ('mse', 7554), ('opentok', 7555), ('playback', 7556), ('specializing', 7557), ('tokbox', 7558), ('vp', 7559), ('arrangements', 7560), ('contractors', 7561), ('expedite', 7562), ('frequently', 7563), ('outline', 7564), ('quotation', 7565), ('respecting', 7566), ('specialists', 7567), ('suppliers', 7568), ('updated', 7569), ('nc', 7570), ('七', 7571), ('丙', 7572), ('五面', 7573), ('交期', 7574), ('價格', 7575), ('六', 7576), ('加工成本', 7577), ('化及', 7578), ('協力', 7579), ('單據', 7580), ('塘床', 7581), ('常識', 7582), ('床', 7583), ('掌控', 7584), ('母機', 7585), ('氬', 7586), ('焊', 7587), ('監督', 7588), ('程控', 7589), ('立銑', 7590), ('管制', 7591), ('管把關', 7592), ('精度', 7593), ('証', 7594), ('評定', 7595), ('評選', 7596), ('識圖', 7597), ('鉋', 7598), ('電焊', 7599), ('龍門', 7600), ('任職', 7601), ('困難', 7602), ('很強', 7603), ('毅力', 7604), ('熟系', 7605), ('熱誠與', 7606), ('er', 7607), ('vorch', 7608), ('世代', 7609), ('人脈', 7610), ('代表', 7611), ('傳遞', 7612), ('價值觀', 7613), ('利他', 7614), ('創業家', 7615), ('參', 7616), ('取成', 7617), ('圈', 7618), ('學生們', 7619), ('帶', 7620), ('意味著', 7621), ('有爭', 7622), ('火炬', 7623), ('給下個', 7624), ('職夥伴', 7625), ('著不僅', 7626), ('開放', 7627), ('領年', 7628), ('cafe', 7629), ('original', 7630), ('形識別', 7631), ('column', 7632), ('dbms', 7633), ('openjpa', 7634), ('時須', 7635), ('略懂', 7636), ('統端', 7637), ('設計者', 7638), ('開發系', 7639), ('前後台', 7640), ('bpm', 7641), ('hrm', 7642), ('moodle', 7643), ('sharepoint', 7644), ('bnext', 7645), ('deeplearning', 7646), ('gdpr', 7647), ('ipcamera', 7648), ('vivotek', 7649), ('有熱', 7650), ('誠', 7651), ('vgonf', 7652), ('主題', 7653), ('假日', 7654), ('別面議', 7655), ('助您', 7656), ('可針', 7657), ('帶課', 7658), ('排課', 7659), ('教授', 7660), ('班鐘', 7661), ('規劃並', 7662), ('講師協', 7663), ('部份', 7664), ('點費', 7665), ('compressive', 7666), ('convex', 7667), ('edu', 7668), ('iis', 7669), ('lcs', 7670), ('sinica', 7671), ('應徵資格', 7672), ('algorithmic', 7673), ('buzzorange', 7674), ('expect', 7675), ('keynote', 7676), ('mahout', 7677), ('migrated', 7678), ('milestones', 7679), ('presented', 7680), ('ref', 7681), ('summit', 7682), ('techorange', 7683), ('不合', 7684), ('另行通知', 7685), ('合', 7686), ('通知', 7687), ('適者', 7688), ('適者則', 7689), ('schema', 7690), ('realization', 7691), ('binder', 7692), ('contexts', 7693), ('directors', 7694), ('enrollment', 7695), ('escalate', 7696), ('facsimile', 7697), ('ich', 7698), ('investigators', 7699), ('photocopier', 7700), ('printer', 7701), ('procedural', 7702), ('simultaneously', 7703), ('sites', 7704), ('submission', 7705), ('timelines', 7706), ('不滿', 7707), ('優異者', 7708), ('全行', 7709), ('各產品', 7710), ('客群', 7711), ('庫行銷', 7712), ('應徵請', 7713), ('附大學', 7714), ('glow', 7715), ('mediatek', 7716), ('tvm', 7717), ('xla', 7718), ('accomplishment', 7719), ('discovery', 7720), ('equip', 7721), ('gce', 7722), ('layer', 7723), ('packets', 7724), ('professions', 7725), ('proxy', 7726), ('rendering', 7727), ('saas', 7728), ('scheme', 7729), ('sdn', 7730), ('不吝', 7731), ('並將', 7732), ('以開', 7733), ('全面性', 7734), ('出新', 7735), ('原本', 7736), ('因為', 7737), ('型', 7738), ('多元性', 7739), ('大化', 7740), ('寬廣', 7741), ('封包', 7742), ('將會面', 7743), ('專業度', 7744), ('展現', 7745), ('庫類', 7746), ('懷抱', 7747), ('推', 7748), ('推出', 7749), ('放', 7750), ('新環境', 7751), ('更佳', 7752), ('更要', 7753), ('更長', 7754), ('更願意', 7755), ('最好', 7756), ('極', 7757), ('決定', 7758), ('流量', 7759), ('當開', 7760), ('發出', 7761), ('發架構', 7762), ('秉持', 7763), ('考驗', 7764), ('膽大心細', 7765), ('許多', 7766), ('調力', 7767), ('跨界', 7768), ('路徑', 7769), ('軟體語', 7770), ('進化', 7771), ('開拓', 7772), ('陳', 7773), ('魔法', 7774), ('龐大架構', 7775), ('aml', 7776), ('consultant', 7777), ('degrees', 7778), ('enlgish', 7779), ('firms', 7780), ('fraud', 7781), ('holdings', 7782), ('informationand', 7783), ('insurtech', 7784), ('j', 7785), ('juris', 7786), ('kyc', 7787), ('law', 7788), ('legal', 7789), ('multitask', 7790), ('pain', 7791), ('poof', 7792), ('regtech', 7793), ('revamp', 7794), ('roundtable', 7795), ('session', 7796), ('solved', 7797), ('crawler', 7798), ('crawling', 7799), ('himirror', 7800), ('matloplib', 7801), ('agriculture', 7802), ('fusion', 7803), ('broadcasting', 7804), ('cto', 7805), ('escepially', 7806), ('interpolation', 7807), ('morer', 7808), ('nowadays', 7809), ('prorducts', 7810), ('pursue', 7811), ('simplylive', 7812), ('slow', 7813), ('aggregation', 7814), ('commands', 7815), ('lambda', 7816), ('pursuing', 7817), ('warehousing', 7818), ('derive', 7819), ('maintainability', 7820), ('opview', 7821), ('人員將', 7822), ('佐證', 7823), ('全國', 7824), ('公關', 7825), ('及品', 7826), ('口碑', 7827), ('可獨立', 7828), ('嗅', 7829), ('如有', 7830), ('實際產品', 7831), ('庫內', 7832), ('廣泛', 7833), ('延伸', 7834), ('憧憬', 7835), ('擴充', 7836), ('收納', 7837), ('數億筆', 7838), ('族群', 7839), ('最大', 7840), ('檢核', 7841), ('聲量', 7842), ('藍資訊', 7843), ('規模', 7844), ('覺敏銳', 7845), ('觀測', 7846), ('負責意', 7847), ('資料源', 7848), ('質驗證', 7849), ('面對', 7850), ('頻道', 7851), ('asr', 7852), ('lip', 7853), ('owtaissvwk', 7854), ('tts', 7855), ('人範例', 7856), ('合成', 7857), ('生成', 7858), ('轉語音', 7859), ('ttqs', 7860), ('任用', 7861), ('問卷', 7862), ('料及', 7863), ('相關資', 7864), ('家庭', 7865), ('照護', 7866), ('﹜', 7867), ('具生', 7868), ('取出', 7869), ('可供驗證', 7870), ('可透過', 7871), ('態且', 7872), ('相關訊號', 7873), ('醫相關', 7874), ('dhob', 7875), ('hob', 7876), ('上層', 7877), ('並執', 7878), ('各品', 7879), ('名品', 7880), ('堅持力', 7881), ('對人員', 7882), ('工學習', 7883), ('彈性度', 7884), ('情感', 7885), ('意見', 7886), ('感受', 7887), ('成人', 7888), ('搭配', 7889), ('時能', 7890), ('有計畫', 7891), ('服飾', 7892), ('混合式', 7893), ('熱誠', 7894), ('當', 7895), ('科技化', 7896), ('精品', 7897), ('習性', 7898), ('聯結', 7899), ('職計畫', 7900), ('自信', 7901), ('自我管理', 7902), ('融入', 7903), ('行客', 7904), ('觀察到', 7905), ('讀寫', 7906), ('適度', 7907), ('重要性', 7908), ('銷售行', 7909), ('attend', 7910), ('biz', 7911), ('exhibition', 7912), ('mile', 7913), ('partnerships', 7914), ('soild', 7915), ('拆圖', 7916), ('爆炸', 7917), ('三種', 7918), ('修過', 7919), ('共用', 7920), ('函數庫', 7921), ('劇本', 7922), ('及驗證', 7923), ('專', 7924), ('引進', 7925), ('案', 7926), ('設計並', 7927), ('通用', 7928), ('高階', 7929), ('高難度', 7930), ('accomplishes', 7931), ('appointments', 7932), ('commissions', 7933), ('contacts', 7934), ('coordinates', 7935), ('establishes', 7936), ('executes', 7937), ('extensively', 7938), ('follows', 7939), ('gives', 7940), ('incentives', 7941), ('increases', 7942), ('marketplace', 7943), ('md', 7944), ('physicians', 7945), ('preplanned', 7946), ('prescribed', 7947), ('professionals', 7948), ('promotes', 7949), ('promotional', 7950), ('recommends', 7951), ('serves', 7952), ('tender', 7953), ('therapeutic', 7954), ('visits', 7955), ('optics', 7956), ('sensors', 7957), ('stage', 7958), ('superb', 7959), ('hear', 7960), ('learned', 7961), ('shortening', 7962), ('significantly', 7963), ('straas', 7964), ('￭', 7965), ('scenario', 7966), ('tester', 7967), ('上櫃', 7968), ('之溝', 7969), ('之訪', 7970), ('化成', 7971), ('因應業績', 7972), ('寫出', 7973), ('將其轉', 7974), ('將根據', 7975), ('師的', 7976), ('師與', 7977), ('幫', 7978), ('眾多', 7979), ('緯創', 7980), ('規格書', 7981), ('詳談', 7982), ('證券業', 7983), ('資安系統', 7984), ('資深者', 7985), ('通協調', 7986), ('通訊業', 7987), ('銀行', 7988), ('面板', 7989), ('類別', 7990), ('３', 7991), ('chemometrics', 7992), ('attached', 7993), ('audience', 7994), ('branch', 7995), ('brief', 7996), ('commvault', 7997), ('encourage', 7998), ('envisions', 7999), ('host', 8000), ('hsinchu', 8001), ('hyper', 8002), ('hypervisor', 8003), ('instrumental', 8004), ('kvm', 8005), ('nakivo', 8006), ('nas', 8007), ('plays', 8008), ('presale', 8009), ('qnap', 8010), ('se', 8011), ('snapshot', 8012), ('veeam', 8013), ('veritas', 8014), ('white', 8015), ('xizhi', 8016), ('儲域', 8017), ('協銷', 8018), ('強調', 8019), ('挑戰及', 8020), ('concurrency', 8021), ('considering', 8022), ('contracts', 8023), ('hyperledger', 8024), ('jpa', 8025), ('jsos', 8026), ('solidity', 8027), ('token', 8028), ('webj', 8029), ('區塊', 8030), ('實體層', 8031), ('adequate', 8032), ('elesticssearch', 8033), ('informatics', 8034), ('maple', 8035), ('並結合', 8036), ('分詞', 8037), ('務開發', 8038), ('句法分析', 8039), ('定義問題', 8040), ('微服', 8041), ('或具', 8042), ('摘要', 8043), ('整實驗', 8044), ('景痛點', 8045), ('業務場', 8046), ('標注', 8047), ('檢索', 8048), ('清楚', 8049), ('潛在', 8050), ('發掘', 8051), ('研擬', 8052), ('至銀行', 8053), ('詞性', 8054), ('catia', 8055), ('knowhow', 8056), ('outlook', 8057), ('proengineer', 8058), ('taiwanese', 8059), ('tornos', 8060), ('證明者', 8061), ('身心', 8062), ('attacks', 8063), ('coursework', 8064), ('curl', 8065), ('ddos', 8066), ('dev', 8067), ('exploding', 8068), ('hping', 8069), ('ipv', 8070), ('knowledges', 8071), ('lua', 8072), ('nmap', 8073), ('plane', 8074), ('sip', 8075), ('ssl', 8076), ('tcpdump', 8077), ('udp', 8078), ('wget', 8079), ('wireshark', 8080), ('好手', 8081), ('維度', 8082), ('風控', 8083), ('可用', 8084), ('右腦', 8085), ('專團隊', 8086), ('左腦', 8087), ('性質', 8088), ('盡', 8089), ('絞', 8090), ('腦汁', 8091), ('解', 8092), ('跨國', 8093), ('administrate', 8094), ('戶行', 8095), ('營運上', 8096), ('購物', 8097), ('chipmakers', 8098), ('icos', 8099), ('industries', 8100), ('inspect', 8101), ('kla', 8102), ('metallurgical', 8103), ('nanoelectronics', 8104), ('sorting', 8105), ('tape', 8106), ('tray', 8107), ('budgets', 8108), ('creo', 8109), ('expense', 8110), ('laboratories', 8111), ('prints', 8112), ('purchasing', 8113), ('adapting', 8114), ('strategically', 8115), ('單業務', 8116), ('國貿', 8117), ('advantageous', 8118), ('jobreqcareer', 8119), ('microelectronics', 8120), ('micron', 8121), ('sfcareer', 8122), ('successfactors', 8123), ('username', 8124), ('上查', 8125), ('下載', 8126), ('並於面', 8127), ('事先', 8128), ('健保卡', 8129), ('填畢', 8130), ('庫供', 8131), ('徵人員', 8132), ('應徵本', 8133), ('應試', 8134), ('擔心', 8135), ('整至本', 8136), ('日期', 8137), ('查詢', 8138), ('無點', 8139), ('第二', 8140), ('紙本', 8141), ('美光應', 8142), ('試當', 8143), ('請務', 8144), ('請務必', 8145), ('證件', 8146), ('證及', 8147), ('身分', 8148), ('閱紀錄', 8149), ('閱覽', 8150), ('須知', 8151), ('並樂', 8152), ('動腦', 8153), ('及光', 8154), ('口', 8155), ('告並', 8156), ('外論', 8157), ('學雷達', 8158), ('寫及', 8159), ('文報', 8160), ('相關國', 8161), ('解題', 8162), ('cat', 8163), ('hibernate', 8164), ('jsp', 8165), ('struts', 8166), ('tom', 8167), ('師應', 8168), ('徵', 8169), ('或後端', 8170), ('２', 8171), ('alyssa', 8172), ('kindly', 8173), ('manpower', 8174), ('openings', 8175), ('yang', 8176), ('began', 8177), ('customization', 8178), ('finish', 8179), ('history', 8180), ('innovating', 8181), ('inventions', 8182), ('inventive', 8183), ('kindle', 8184), ('pastries', 8185), ('pride', 8186), ('profile', 8187), ('readers', 8188), ('releasing', 8189), ('tablets', 8190), ('tough', 8191), ('tv', 8192), ('alteryx', 8193), ('qlik', 8194), ('transformational', 8195), ('travelling', 8196), ('visualise', 8197), ('商業用', 8198), ('定義邏輯', 8199), ('將數據', 8200), ('提取', 8201), ('數', 8202), ('歸', 8203), ('變成', 8204), ('induction', 8205), ('psychology', 8206), ('randomly', 8207), ('chips', 8208), ('route', 8209), ('shall', 8210), ('dcard', 8211), ('grnh', 8212), ('ifruw', 8213), ('n', 8214), ('⼤', 8215), ('⼯', 8216), ('⽂', 8217), ('⽉', 8218), ('⽤', 8219), ('⾯', 8220), ('一千四百', 8221), ('主', 8222), ('以萬計', 8223), ('信息流', 8224), ('倉', 8225), ('偏好', 8226), ('儲系統', 8227), ('加快', 8228), ('動手', 8229), ('喔', 8230), ('喜愛', 8231), ('地方', 8232), ('將不', 8233), ('將有', 8234), ('平凡', 8235), ('平凡人', 8236), ('戶產生', 8237), ('打開', 8238), ('收到', 8239), ('放心', 8240), ('故事', 8241), ('時候', 8242), ('有大規模', 8243), ('有數', 8244), ('有趣', 8245), ('每次', 8246), ('溝通能', 8247), ('熱愛挑戰', 8248), ('產生', 8249), ('程師', 8250), ('程師進', 8251), ('立刻', 8252), ('絡', 8253), ('美好', 8254), ('與後端', 8255), ('萬不重', 8256), ('表達', 8257), ('訪客', 8258), ('這邊', 8259), ('重', 8260), ('面試者', 8261), ('驚喜', 8262), ('量', 8263), ('力', 8264), ('行', 8265), ('～', 8266), ('一位', 8267), ('一間', 8268), ('吸引', 8269), ('將改變', 8270), ('慾', 8271), ('文案', 8272), ('現階段', 8273), ('百大', 8274), ('眼球', 8275), ('購買', 8276), ('高博思', 8277), ('closure', 8278), ('deduction', 8279), ('ems', 8280), ('footprint', 8281), ('footprints', 8282), ('ipc', 8283), ('jedec', 8284), ('lga', 8285), ('manufacturability', 8286), ('mol', 8287), ('notifications', 8288), ('outsourced', 8289), ('pcn', 8290), ('phase', 8291), ('plm', 8292), ('preparations', 8293), ('request', 8294), ('rohs', 8295), ('sme', 8296), ('smt', 8297), ('solderability', 8298), ('stencils', 8299), ('streamlining', 8300), ('supplier', 8301), ('swi', 8302), ('thermal', 8303), ('modified', 8304), ('aspiring', 8305), ('black', 8306), ('convention', 8307), ('emnlp', 8308), ('fashion', 8309), ('icra', 8310), ('journals', 8311), ('justification', 8312), ('looks', 8313), ('msc', 8314), ('supportive', 8315), ('multithread', 8316), ('stl', 8317), ('偵測率', 8318), ('庫亦能', 8319), ('活體', 8320), ('表情', 8321), ('記憶體', 8322), ('cbt', 8323), ('中高級', 8324), ('交', 8325), ('人表現', 8326), ('具國', 8327), ('向國內', 8328), ('商訪價', 8329), ('團體', 8330), ('外廠', 8331), ('外文系', 8332), ('外業務', 8333), ('大學國貿', 8334), ('工程部', 8335), ('廠商資', 8336), ('建檔', 8337), ('往來', 8338), ('成溝', 8339), ('托福', 8340), ('接洽', 8341), ('文書及', 8342), ('樑', 8343), ('狀', 8344), ('畢可', 8345), ('的橋', 8346), ('處理國', 8347), ('處理進', 8348), ('訴', 8349), ('調', 8350), ('貨', 8351), ('貿易', 8352), ('軟體者', 8353), ('連絡', 8354), ('進取', 8355), ('門間', 8356), ('將用', 8357), ('梳理', 8358), ('accompany', 8359), ('executable', 8360), ('hiring', 8361), ('hunt', 8362), ('inspires', 8363), ('jusda', 8364), ('rounded', 8365), ('一名', 8366), ('並協助', 8367), ('人資', 8368), ('以面', 8369), ('作為', 8370), ('候選人', 8371), ('全', 8372), ('初創', 8373), ('力量', 8374), ('可促', 8375), ('合法', 8376), ('合規', 8377), ('定', 8378), ('對接', 8379), ('工表現', 8380), ('得到', 8381), ('招聘', 8382), ('推行', 8383), ('政策', 8384), ('每一個', 8385), ('準時', 8386), ('滿足員工', 8387), ('監察', 8388), ('策略性', 8389), ('總部', 8390), ('資上', 8391), ('資副理', 8392), ('資計劃', 8393), ('越南', 8394), ('越南人', 8395), ('通力合作', 8396), ('進員', 8397), ('達現', 8398), ('願景及', 8399), ('高層', 8400), ('高管', 8401), ('aan', 8402), ('dimensionality', 8403), ('incomplete', 8404), ('jira', 8405), ('label', 8406), ('missing', 8407), ('sgd', 8408), ('story', 8409), ('telling', 8410), ('unbalanced', 8411), ('uncertain', 8412), ('varying', 8413), ('visualizarion', 8414), ('並規劃', 8415), ('以處理', 8416), ('模組化', 8417), ('議題', 8418), ('雲計算', 8419), ('cli', 8420), ('click', 8421), ('firebase', 8422), ('不畏', 8423), ('並分', 8424), ('事情', 8425), ('人文', 8426), ('例', 8427), ('做過', 8428), ('及架構', 8429), ('同理', 8430), ('品味', 8431), ('品質控', 8432), ('商務及', 8433), ('尊重', 8434), ('廣等', 8435), ('懼', 8436), ('換位', 8437), ('攤且', 8438), ('收費', 8439), ('會話', 8440), ('法', 8441), ('發想', 8442), ('直覺', 8443), ('立場', 8444), ('管及', 8445), ('衝突', 8446), ('設限', 8447), ('開發者', 8448), ('agent', 8449), ('automobile', 8450), ('blending', 8451), ('fuzzy', 8452), ('gazebo', 8453), ('mindtronic', 8454), ('partnership', 8455), ('revolutionary', 8456), ('simulators', 8457), ('taken', 8458), ('ultrasounds', 8459), ('vrep', 8460), ('city', 8461), ('landing', 8462), ('discovering', 8463), ('hidden', 8464), ('manipulate', 8465), ('scrapping', 8466), ('shl', 8467), ('spot', 8468), ('taking', 8469), ('weak', 8470), ('bce', 8471), ('七億下', 8472), ('下載量', 8473), ('十億則', 8474), ('特徵學習', 8475), ('臉部', 8476), ('載量', 8477), ('drill', 8478), ('fixture', 8479), ('fixtures', 8480), ('presses', 8481), ('newest', 8482), ('systematic', 8483), ('approved', 8484), ('documented', 8485), ('exercise', 8486), ('expectation', 8487), ('forms', 8488), ('fulfilled', 8489), ('incoming', 8490), ('mature', 8491), ('produced', 8492), ('qas', 8493), ('showstoppers', 8494), ('thing', 8495), ('及團隊', 8496), ('特效', 8497), ('美工', 8498), ('電玩遊戲', 8499), ('attentive', 8500), ('calm', 8501), ('crafting', 8502), ('empathy', 8503), ('figuring', 8504), ('flagged', 8505), ('getcubo', 8506), ('inappropriate', 8507), ('incident', 8508), ('incidents', 8509), ('patience', 8510), ('reactivity', 8511), ('representatives', 8512), ('responder', 8513), ('rock', 8514), ('speedy', 8515), ('visible', 8516), ('將簡', 8517), ('歷寄到', 8518), ('pl', 8519), ('並確實', 8520), ('優劣', 8521), ('其語', 8522), ('具工廠', 8523), ('利用率', 8524), ('局限', 8525), ('涵蓋', 8526), ('credit', 8527), ('大四', 8528), ('對象', 8529), ('碩士生', 8530), ('datastage', 8531), ('informatica', 8532), ('企元', 8533), ('具數', 8534), ('客户', 8535), ('專心', 8536), ('技術諮詢', 8537), ('據庫', 8538), ('日常', 8539), ('書', 8540), ('服務團隊', 8541), ('測試資', 8542), ('熱誠人員', 8543), ('獲得', 8544), ('緊密', 8545), ('處理及', 8546), ('魄力', 8547), ('wbe', 8548), ('能主動', 8549), ('薪資會', 8550), ('制', 8551), ('工作效率', 8552), ('有生', 8553), ('生廠', 8554), ('產良率', 8555), ('ambitious', 8556), ('autonomy', 8557), ('backgroundgogoro', 8558), ('batteries', 8559), ('battery', 8560), ('boundaries', 8561), ('candid', 8562), ('charging', 8563), ('comes', 8564), ('concert', 8565), ('conducted', 8566), ('confounding', 8567), ('consumes', 8568), ('descriptionyou', 8569), ('district', 8570), ('electricity', 8571), ('excited', 8572), ('faceted', 8573), ('fearless', 8574), ('freedom', 8575), ('gigawatt', 8576), ('gogoro', 8577), ('guishan', 8578), ('intercontinental', 8579), ('ion', 8580), ('lifespan', 8581), ('lithium', 8582), ('locationwork', 8583), ('methodical', 8584), ('multidimensional', 8585), ('naked', 8586), ('packs', 8587), ('songshan', 8588), ('stations', 8589), ('swap', 8590), ('swappable', 8591), ('taoyuan', 8592), ('thoughtful', 8593), ('thousands', 8594), ('venture', 8595), ('youyou', 8596), ('centos', 8597), ('eco', 8598), ('finishing', 8599), ('greenplum', 8600), ('hortonworks', 8601), ('hue', 8602), ('mpp', 8603), ('teradata', 8604), ('具價值', 8605), ('刻', 8606), ('商務數', 8607), ('已驗', 8608), ('技術將', 8609), ('演算', 8610), ('萃取', 8611), ('證為', 8612), ('balancing', 8613), ('sever', 8614), ('switching', 8615), ('周邊', 8616), ('庫備', 8617), ('援', 8618), ('檢維護', 8619), ('設備點', 8620), ('謹慎', 8621), ('webapp', 8622), ('之測試', 8623), ('包裝', 8624), ('參與開', 8625), ('發行動', 8626), ('adaptability', 8627), ('compelling', 8628), ('有學', 8629), ('習熱', 8630), ('cyberlink', 8631), ('dreamweaver', 8632), ('localize', 8633), ('photodirector', 8634), ('photoshop', 8635), ('powerdirector', 8636), ('tutorial', 8637), ('upcoming', 8638), ('adx', 8639), ('archives', 8640), ('io', 8641), ('rtb', 8642), ('ssp', 8643), ('statement', 8644), ('tenmax', 8645), ('一席之地', 8646), ('七年', 8647), ('上維運', 8648), ('並受', 8649), ('並貼', 8650), ('之外', 8651), ('人員不會', 8652), ('以能', 8653), ('但務實', 8654), ('位子', 8655), ('低調', 8656), ('何要', 8657), ('信任', 8658), ('信義', 8659), ('具線', 8660), ('具處理', 8661), ('前段', 8662), ('協作', 8663), ('原生', 8664), ('參照', 8665), ('及產業', 8666), ('受眾', 8667), ('只面', 8668), ('商業夥伴', 8669), ('大安', 8670), ('孤單', 8671), ('已站', 8672), ('師也', 8673), ('師們', 8674), ('延遲', 8675), ('採用', 8676), ('敦南', 8677), ('整條', 8678), ('更積', 8679), ('服務範圍', 8680), ('期許', 8681), ('本土', 8682), ('東南亞', 8683), ('極開', 8684), ('橫跨', 8685), ('熟稔', 8686), ('營運議題', 8687), ('生態系', 8688), ('當責', 8689), ('發新產品', 8690), ('發議題', 8691), ('穩台灣區', 8692), ('竹北', 8693), ('系中', 8694), ('素材', 8695), ('自擁', 8696), ('講究', 8697), ('軟體界', 8698), ('近', 8699), ('還需面', 8700), ('雖然', 8701), ('雲架構', 8702), ('面臨', 8703), ('高鐵前', 8704), ('主動式', 8705), ('以數據', 8706), ('儀表版', 8707), ('分群', 8708), ('及行銷', 8709), ('及話術', 8710), ('名單', 8711), ('採礦', 8712), ('數據視', 8713), ('趨動', 8714), ('crawled', 8715), ('login', 8716), ('ming', 8717), ('nltk', 8718), ('tunning', 8719), ('具實際', 8720), ('畢業者', 8721), ('規律', 8722), ('optimized', 8723), ('refactor', 8724), ('designated', 8725), ('dives', 8726), ('performs', 8727), ('segments', 8728), ('compliances', 8729), ('credible', 8730), ('gained', 8731), ('linked', 8732), ('mnc', 8733), ('philosophy', 8734), ('sensitively', 8735), ('sizable', 8736), ('specialized', 8737), ('任及', 8738), ('分鐘', 8739), ('剪裁', 8740), ('加分項', 8741), ('及細心', 8742), ('指導下', 8743), ('時獨立', 8744), ('自傳及', 8745), ('英打', 8746), ('資訊及', 8747), ('需對', 8748), ('類專案', 8749), ('alarm', 8750), ('ancillary', 8751), ('auditing', 8752), ('avionics', 8753), ('biomed', 8754), ('consolidation', 8755), ('dialysate', 8756), ('dialysis', 8757), ('disinfection', 8758), ('elevators', 8759), ('hd', 8760), ('panels', 8761), ('purified', 8762), ('repairing', 8763), ('water', 8764), ('並給予', 8765), ('半導', 8766), ('將依據', 8767), ('師等', 8768), ('業產線', 8769), ('涉及', 8770), ('附帶', 8771), ('需能夠', 8772), ('體業', 8773), ('isa', 8774), ('linker', 8775), ('qemu', 8776), ('animation', 8777), ('facial', 8778), ('unity', 8779), ('unreal', 8780), ('pythoon', 8781), ('tm', 8782), ('生產數', 8783), ('訪談', 8784), ('abroad', 8785), ('american', 8786), ('creatively', 8787), ('editors', 8788), ('engaging', 8789), ('kindergarten', 8790), ('relative', 8791), ('scholarly', 8792), ('teachers', 8793), ('writers', 8794), ('competition', 8795), ('gmm', 8796), ('hrtf', 8797), ('mmse', 8798), ('soundscape', 8799), ('三節', 8800), ('享勞健保', 8801), ('創辦', 8802), ('募產品', 8803), ('國際級', 8804), ('外群', 8805), ('常常', 8806), ('微控器', 8807), ('手滑購', 8808), ('效分紅', 8809), ('營運績', 8810), ('狂熱者', 8811), ('發燒友', 8812), ('竭誠歡', 8813), ('買國內', 8814), ('走入', 8815), ('迎', 8816), ('鍛', 8817), ('零到', 8818), ('音樂家', 8819), ('音訊', 8820), ('音響', 8821), ('並尋找', 8822), ('以應用', 8823), ('儀', 8824), ('商科', 8825), ('學科', 8826), ('板', 8827), ('真實', 8828), ('研究成果', 8829), ('能將', 8830), ('進階統計', 8831), ('錶', 8832), ('akatsuki', 8833), ('branding', 8834), ('一道', 8835), ('上火', 8836), ('下班', 8837), ('不再', 8838), ('不騙', 8839), ('並將員工', 8840), ('並落', 8841), ('他持續', 8842), ('任你玩', 8843), ('例行工作', 8844), ('們', 8845), ('傾訴', 8846), ('前進', 8847), ('加深', 8848), ('只會', 8849), ('可愛美麗', 8850), ('吃不完', 8851), ('同意', 8852), ('咖啡', 8853), ('商用', 8854), ('喝', 8855), ('圖書館', 8856), ('多類', 8857), ('大方', 8858), ('實員工', 8859), ('對員工', 8860), ('工們', 8861), ('工會', 8862), ('工績', 8863), ('工間', 8864), ('帥氣', 8865), ('幕', 8866), ('引路人', 8867), ('形式', 8868), ('形成', 8869), ('從員工', 8870), ('心情', 8871), ('快樂', 8872), ('想親', 8873), ('想針', 8874), ('意義深', 8875), ('感到', 8876), ('手', 8877), ('打電動', 8878), ('投影幕', 8879), ('指引', 8880), ('提案', 8881), ('改', 8882), ('效', 8883), ('教案', 8884), ('散播', 8885), ('是曉數碼', 8886), ('曉數碼', 8887), ('曙光', 8888), ('業或新創', 8889), ('溫暖', 8890), ('煩惱', 8891), ('熱心', 8892), ('當然', 8893), ('疏導', 8894), ('發揚', 8895), ('真心', 8896), ('研修', 8897), ('考慮', 8898), ('職種', 8899), ('與員', 8900), ('舒服', 8901), ('規劃員工', 8902), ('評價系統', 8903), ('負責任', 8904), ('超大', 8905), ('趣味', 8906), ('進心', 8907), ('遠', 8908), ('還是', 8909), ('那顆', 8910), ('那麼', 8911), ('都將', 8912), ('重視員工', 8913), ('隻', 8914), ('離開', 8915), ('零食', 8916), ('首要', 8917), ('黑暗', 8918), ('︎', 8919), ('retrievals', 8920), ('不需', 8921), ('動作', 8922), ('實境', 8923), ('習慣', 8924), ('bugs', 8925), ('estimate', 8926), ('resolved', 8927), ('thoroughly', 8928), ('accounting', 8929), ('disbursement', 8930), ('payment', 8931), ('requestors', 8932), ('choke', 8933), ('emi', 8934), ('femm', 8935), ('finite', 8936), ('inductor', 8937), ('magnetics', 8938), ('mathcad', 8939), ('pfc', 8940), ('quickfield', 8941), ('resonant', 8942), ('transformer', 8943), ('mlp', 8944), ('obsession', 8945), ('predictions', 8946), ('solvable', 8947), ('weka', 8948), ('benchmark', 8949), ('commercialization', 8950), ('competitors', 8951), ('crazytalk', 8952), ('draft', 8953), ('iclone', 8954), ('print', 8955), ('shaping', 8956), ('taste', 8957), ('bundled', 8958), ('cisco', 8959), ('correction', 8960), ('gcr', 8961), ('handles', 8962), ('isv', 8963), ('presents', 8964), ('smb', 8965), ('specified', 8966), ('wish', 8967), ('dna', 8968), ('mrna', 8969), ('具積極', 8970), ('或訊號', 8971), ('熟數位', 8972), ('蛋白', 8973), ('decode', 8974), ('encode', 8975), ('編解碼', 8976), ('陣列', 8977), ('麥克風', 8978), ('大水', 8979), ('arima', 8980), ('concise', 8981), ('convincing', 8982), ('generalized', 8983), ('hit', 8984), ('nonlinear', 8985), ('predictor', 8986), ('scorecard', 8987), ('scoring', 8988), ('statistician', 8989), ('survival', 8990), ('transformations', 8991), ('utilized', 8992), ('au', 8993), ('buffering', 8994), ('delay', 8995), ('demuxed', 8996), ('discrimination', 8997), ('foremost', 8998), ('intuitive', 8999), ('kkstream', 9000), ('kkstreamwe', 9001), ('kktv', 9002), ('quantifying', 9003), ('sharpen', 9004), ('smoothness', 9005), ('summarywe', 9006), ('viewing', 9007), ('waiting', 9008), ('west', 9009), ('fluid', 9010), ('intellengent', 9011), ('reaserch', 9012), ('annotated', 9013), ('blends', 9014), ('convey', 9015), ('dictate', 9016), ('elegantly', 9017), ('evangelist', 9018), ('ideation', 9019), ('intuitively', 9020), ('personas', 9021), ('qualitative', 9022), ('remains', 9023), ('sketches', 9024), ('wires', 9025), ('之大數', 9026), ('各型', 9027), ('並測', 9028), ('以達成', 9029), ('及圖', 9030), ('可行性', 9031), ('與訊號', 9032), ('試及', 9033), ('請檢', 9034), ('內容識別', 9035), ('填補', 9036), ('嶄', 9037), ('愛好', 9038), ('揉合', 9039), ('擅', 9040), ('未知', 9041), ('特徵擷', 9042), ('現時', 9043), ('研究者', 9044), ('碩', 9045), ('縫合', 9046), ('風格', 9047), ('並處', 9048), ('國', 9049), ('我司', 9050), ('投', 9051), ('接單', 9052), ('理進', 9053), ('盡快', 9054), ('翻譯', 9055), ('職信', 9056), ('認交期', 9057), ('遞求', 9058), ('ho', 9059), ('sparkml', 9060), ('f', 9061), ('互聯網', 9062), ('人性', 9063), ('你剛', 9064), ('你還', 9065), ('信仰', 9066), ('優質', 9067), ('具服務熱', 9068), ('創新及', 9069), ('回來', 9070), ('大膽', 9071), ('學員', 9072), ('少兒', 9073), ('很多', 9074), ('心想', 9075), ('感', 9076), ('成學習', 9077), ('拉近', 9078), ('整學程', 9079), ('時調', 9080), ('最具', 9081), ('歲', 9082), ('每位', 9083), ('氣質佳', 9084), ('注重', 9085), ('派遣', 9086), ('細節', 9087), ('美洲', 9088), ('習者', 9089), ('老師', 9090), ('苦', 9091), ('視野', 9092), ('親和力強', 9093), ('言表', 9094), ('語言成', 9095), ('課狀態', 9096), ('距離', 9097), ('身處', 9098), ('進入', 9099), ('還在', 9100), ('開拓學', 9101), ('關懷', 9102), ('韓國', 9103), ('館', 9104), ('駕駛', 9105), ('grafana', 9106), ('hp', 9107), ('newrelic', 9108), ('prometheus', 9109), ('vlan', 9110), ('七層', 9111), ('具監', 9112), ('協助開', 9113), ('排查', 9114), ('控系統', 9115), ('有雲端', 9116), ('狀態', 9117), ('管理者', 9118), ('雲基礎', 9119), ('經驗具', 9120), ('dr', 9121), ('dynamodb', 9122), ('ha', 9123), ('highest', 9124), ('desires', 9125), ('determines', 9126), ('influences', 9127), ('keyword', 9128), ('routers', 9129), ('年次', 9130), ('役', 9131), ('軍事', 9132), ('需服', 9133), ('預聘', 9134), ('ble', 9135), ('carriers', 9136), ('chipsets', 9137), ('circuits', 9138), ('duplexer', 9139), ('excelling', 9140), ('fcc', 9141), ('gnss', 9142), ('matching', 9143), ('mft', 9144), ('notes', 9145), ('pa', 9146), ('radio', 9147), ('saw', 9148), ('schematic', 9149), ('schematics', 9150), ('simulating', 9151), ('supervising', 9152), ('tasking', 9153), ('bump', 9154), ('month', 9155), ('enviroment', 9156), ('marriott', 9157), ('五星', 9158), ('級國際', 9159), ('飯店', 9160), ('問服務', 9161), ('詢顧', 9162), ('優惠', 9163), ('全貌', 9164), ('營銷', 9165), ('終身', 9166), ('電商產業', 9167), ('arrival', 9168), ('asking', 9169), ('finalize', 9170), ('getting', 9171), ('proliferation', 9172), ('conferring', 9173), ('pretty', 9174), ('居服務', 9175), ('maxwel', 9176), ('事電磁', 9177), ('需從', 9178), ('新能源', 9179), ('純軟產業', 9180), ('關於資料', 9181), ('behalf', 9182), ('holder', 9183), ('relation', 9184), ('succession', 9185), ('expressions', 9186), ('landmarks', 9187), ('attempt', 9188), ('cold', 9189), ('confronted', 9190), ('directions', 9191), ('discoveries', 9192), ('ferret', 9193), ('hiringlead', 9194), ('imagine', 9195), ('performances', 9196), ('possessing', 9197), ('songs', 9198), ('summarykkbox', 9199), ('theoretically', 9200), ('及行', 9201), ('所需', 9202), ('做大數', 9203), ('判讀', 9204), ('因應', 9205), ('工商', 9206), ('業邏輯', 9207), ('給善', 9208), ('視', 9209), ('之後端', 9210), ('具彈性', 9211), ('壓力', 9212), ('層面', 9213), ('接觸過', 9214), ('界接', 9215), ('穩固', 9216), ('開發架構', 9217), ('programmer', 9218), ('skils', 9219), ('uat', 9220), ('cl', 9221), ('學理', 9222), ('缺為', 9223), ('號處理', 9224), ('amplify', 9225), ('calibre', 9226), ('cmos', 9227), ('decades', 9228), ('decks', 9229), ('dracula', 9230), ('esd', 9231), ('evolves', 9232), ('flows', 9233), ('hercules', 9234), ('ignited', 9235), ('invention', 9236), ('lvs', 9237), ('pll', 9238), ('primeyield', 9239), ('recently', 9240), ('redefined', 9241), ('reinvented', 9242), ('revolutionized', 9243), ('rules', 9244), ('sparked', 9245), ('submicron', 9246), ('virtuoso', 9247), ('odometry', 9248), ('三年制', 9249), ('兵役制度', 9250), ('導引', 9251), ('役期', 9252), ('技術開', 9253), ('服完', 9254), ('電氣', 9255), ('aps', 9256), ('rwd', 9257), ('位', 9258), ('可視化', 9259), ('採', 9260), ('歷及', 9261), ('生產履', 9262), ('☑', 9263), ('下一代', 9264), ('主導系', 9265), ('他部門', 9266), ('任務為', 9267), ('你樂', 9268), ('初出', 9269), ('及後端', 9270), ('可供', 9271), ('多年', 9272), ('客戶們', 9273), ('將先進', 9274), ('將我們', 9275), ('成', 9276), ('拳腳', 9277), ('棒', 9278), ('業龍頭', 9279), ('當中', 9280), ('箇中', 9281), ('給我們', 9282), ('舉足', 9283), ('茅廬', 9284), ('處理過', 9285), ('設計系', 9286), ('質產品', 9287), ('輕重', 9288), ('迫不及待', 9289), ('重量', 9290), ('骨幹', 9291), ('高品', 9292), ('absolute', 9293), ('assignment', 9294), ('chi', 9295), ('east', 9296), ('minh', 9297), ('penetrate', 9298), ('sensitive', 9299), ('south', 9300), ('station', 9301), ('mfg', 9302), ('新竹市', 9303), ('正職', 9304), ('響應式', 9305), ('caffee', 9306), ('pill', 9307), ('red', 9308), ('smaller', 9309), ('tourch', 9310), ('三頭', 9311), ('六臂', 9312), ('想成', 9313), ('acoustic', 9314), ('haptic', 9315), ('hci', 9316), ('mechanics', 9317), ('modalities', 9318), ('assurance', 9319), ('streamline', 9320), ('testng', 9321), ('traffic', 9322), ('存取', 9323), ('整進行', 9324), ('覺理論', 9325), ('\\uf06e', 9326), ('外國', 9327), ('導向系', 9328), ('統開', 9329), ('chou', 9330), ('eric', 9331), ('globe', 9332), ('hshinchu', 9333), ('springasia', 9334), ('thank', 9335), ('tier', 9336), ('welfare', 9337), ('wonderful', 9338), ('\\u200b', 9339), ('之碩士', 9340), ('執行力', 9341), ('强', 9342), ('攻關', 9343), ('有語', 9344), ('業務有', 9345), ('系统', 9346), ('結構化', 9347), ('结合', 9348), ('行人', 9349), ('視頻', 9350), ('視頻邊', 9351), ('解碼', 9352), ('语語', 9353), ('車輛', 9354), ('較', 9355), ('通話', 9356), ('鉴恐', 9357), ('鉴黄', 9358), ('限于', 9359), ('難點', 9360), ('音識別', 9361), ('领先', 9362), ('领域', 9363), ('ebu', 9364), ('oca', 9365), ('servlet', 9366), ('外訓', 9367), ('或外', 9368), ('紀律', 9369), ('舉辦', 9370), ('負責業務', 9371), ('非必要', 9372), ('automatically', 9373), ('crawl', 9374), ('mlb', 9375), ('nba', 9376), ('nfl', 9377), ('nicely', 9378), ('selfless', 9379), ('soccer', 9380), ('chemistry', 9381), ('prices', 9382), ('rossmann', 9383), ('titanic', 9384), ('內涵', 9385), ('出脈絡', 9386), ('商機', 9387), ('師需', 9388), ('發表佳', 9389), ('統計理論', 9390), ('財務', 9391), ('龐雜', 9392), ('具不銹鋼', 9393), ('機械識', 9394), ('焊技術', 9395), ('焊經驗', 9396), ('具自動', 9397), ('分析方法', 9398), ('生', 9399), ('關聯庫', 9400), ('將升級', 9401), ('從委外', 9402), ('模組維運', 9403), ('維運開', 9404), ('進行式', 9405), ('儀表板', 9406), ('動能', 9407), ('搜尋系統', 9408), ('版位', 9409), ('門與', 9410), ('import', 9411), ('以定', 9412), ('具帶', 9413), ('各系', 9414), ('周', 9415), ('場域', 9416), ('統之', 9417), ('義專案', 9418), ('邊', 9419), ('領團隊', 9420), ('或論', 9421), ('文主題', 9422), ('infrastructures', 9423), ('activate', 9424), ('aligns', 9425), ('exams', 9426), ('peer', 9427), ('多國際', 9428), ('擴張', 9429), ('擴編', 9430), ('本國', 9431), ('繼續', 9432), ('\\x08', 9433), ('kaldi', 9434), ('抽取', 9435), ('浮點', 9436), ('調校', 9437), ('轉定點', 9438), ('需相關', 9439), ('優秀者', 9440), ('全工時', 9441), ('升碩一', 9442), ('博士生', 9443), ('博班', 9444), ('各技術', 9445), ('名額', 9446), ('周一', 9447), ('學士生', 9448), ('寬頻', 9449), ('年啟', 9450), ('截止', 9451), ('接軌', 9452), ('提前', 9453), ('暑假', 9454), ('有限', 9455), ('期限', 9456), ('欲', 9457), ('此實習', 9458), ('碁', 9459), ('碩二', 9460), ('統計系', 9461), ('起碩士生', 9462), ('重覆', 9463), ('額滿', 9464), ('calendar', 9465), ('concentration', 9466), ('counterparts', 9467), ('lastly', 9468), ('maximizing', 9469), ('pioneer', 9470), ('ridiculously', 9471), ('sufficiently', 9472), ('tandem', 9473), ('taskus', 9474), ('tenured', 9475), ('tl', 9476), ('暫無需', 9477), ('輪值', 9478), ('需能', 9479), ('aware', 9480), ('extended', 9481), ('ptz', 9482), ('potentially', 9483), ('stackholders', 9484), ('activation', 9485), ('rdb', 9486), ('並實作', 9487), ('統一', 9488), ('＆', 9489), ('formal', 9490), ('adjusts', 9491), ('emotibot', 9492), ('emotion', 9493), ('emotional', 9494), ('learns', 9495), ('meets', 9496), ('memories', 9497), ('vocie', 9498), ('前置', 9499), ('或語', 9500), ('音辨識', 9501), ('acoustical', 9502), ('auditory', 9503), ('potentials', 9504), ('spatial', 9505), ('steamvr', 9506), ('並強化', 9507), ('之聲音', 9508), ('企業夥伴', 9509), ('位候', 9510), ('侷', 9511), ('優越', 9512), ('內容開', 9513), ('嘉惠', 9514), ('如類', 9515), ('想像力', 9516), ('攝像', 9517), ('新穎技術', 9518), ('更多', 9519), ('業界', 9520), ('極度', 9521), ('比電路', 9522), ('沉浸', 9523), ('發者', 9524), ('終端', 9525), ('聲訊', 9526), ('職務隸屬', 9527), ('脈動', 9528), ('該職', 9529), ('選人將', 9530), ('鏡頭', 9531), ('限', 9532), ('音效', 9533), ('領人類', 9534), ('顯示', 9535), ('顯示器', 9536), ('碼並', 9537), ('等後端', 9538), ('連結開', 9539), ('reinforce', 9540), ('人形', 9541), ('居家', 9542), ('本科', 9543), ('監控產品', 9544), ('進而開', 9545), ('降低功耗', 9546), ('accelerates', 9547), ('adaptation', 9548), ('ate', 9549), ('breaking', 9550), ('bringup', 9551), ('cdr', 9552), ('collects', 9553), ('consumed', 9554), ('creations', 9555), ('ctle', 9556), ('dfe', 9557), ('ground', 9558), ('nanotime', 9559), ('nvdia', 9560), ('offset', 9561), ('primetime', 9562), ('proprietary', 9563), ('serdes', 9564), ('systemverilog', 9565), ('uvm', 9566), ('algoritms', 9567), ('並改', 9568), ('進生產', 9569), ('開發及', 9570), ('cnns', 9571), ('trivial', 9572), ('一月', 9573), ('上學期', 9574), ('下學期', 9575), ('中正路', 9576), ('九月', 9577), ('二月', 9578), ('六月', 9579), ('北部', 9580), ('及學生', 9581), ('威盛', 9582), ('新店', 9583), ('隔', 9584), ('ccna', 9585), ('console', 9586), ('creativeness', 9587), ('curiousness', 9588), ('developmentc', 9589), ('dockertcp', 9590), ('mec', 9591), ('vcp', 9592), ('underpinnings', 9593), ('warping', 9594), ('也夠', 9595), ('教導', 9596), ('本事', 9597), ('構標', 9598), ('準化', 9599), ('熱誠及', 9600), ('產品樣', 9601), ('項及', 9602), ('cleanness', 9603), ('commissioned', 9604), ('condition', 9605), ('conversions', 9606), ('cooperates', 9607), ('discordant', 9608), ('ehs', 9609), ('immediately', 9610), ('indicated', 9611), ('informs', 9612), ('instructions', 9613), ('labour', 9614), ('manufactured', 9615), ('packing', 9616), ('rotation', 9617), ('shopfloor', 9618), ('stoppages', 9619), ('supervisor', 9620), ('technician', 9621), ('treats', 9622), ('walk', 9623), ('waste', 9624), ('workstation', 9625), ('不良', 9626), ('久', 9627), ('保', 9628), ('偏差', 9629), ('停機', 9630), ('具基礎', 9631), ('合宜', 9632), ('向產線', 9633), ('呈報', 9634), ('品與', 9635), ('定點', 9636), ('廢料', 9637), ('打工', 9638), ('技師', 9639), ('指派', 9640), ('換機', 9641), ('檢驗', 9642), ('環安衛', 9643), ('生具', 9644), ('管理程序', 9645), ('簡易', 9646), ('系統性', 9647), ('處置', 9648), ('規章', 9649), ('規範', 9650), ('負責產線', 9651), ('走動', 9652), ('遇', 9653), ('高者', 9654), ('高速', 9655), ('autopilot', 9656), ('navigations', 9657), ('road', 9658), ('bitbucket', 9659), ('thanks', 9660), ('實行', 9661), ('解悉', 9662), ('農業', 9663), ('dependency', 9664), ('empowered', 9665), ('entertaining', 9666), ('evangelize', 9667), ('executed', 9668), ('fans', 9669), ('inventing', 9670), ('iterating', 9671), ('mitigation', 9672), ('ott', 9673), ('ranged', 9674), ('sequencing', 9675), ('ticketing', 9676), ('weakness', 9677), ('meaningfully', 9678), ('並以', 9679), ('並參', 9680), ('做法', 9681), ('及後續', 9682), ('同儕間', 9683), ('問題點', 9684), ('層', 9685), ('層樓', 9686), ('數據化', 9687), ('盡力', 9688), ('相處', 9689), ('簡單', 9690), ('精要', 9691), ('融洽', 9692), ('進修', 9693), ('關聯式', 9694), ('需資源', 9695), ('affiliates', 9696), ('establishment', 9697), ('grounding', 9698), ('initiated', 9699), ('investigator', 9700), ('kol', 9701), ('kols', 9702), ('molecular', 9703), ('pharmacology', 9704), ('thought', 9705), ('unsolicited', 9706), ('知識佳', 9707), ('pacs', 9708), ('並解決', 9709), ('任感', 9710), ('學士', 9711), ('富責', 9712), ('對學習', 9713), ('溝通及', 9714), ('維運雲端', 9715), ('lcm', 9716), ('tp', 9717), ('全貼', 9718), ('合經驗', 9719), ('clarity', 9720), ('cognition', 9721), ('competing', 9722), ('humor', 9723), ('meta', 9724), ('motivation', 9725), ('past', 9726), ('diversified', 9727), ('domestically', 9728), ('enabled', 9729), ('responsibilties', 9730), ('cloudchip', 9731), ('之維修', 9732), ('善溝', 9733), ('壓鑄機', 9734), ('射', 9735), ('成形', 9736), ('期為', 9737), ('海內外', 9738), ('職務須', 9739), ('試用', 9740), ('chainer', 9741), ('擅常', 9742), ('appropriated', 9743), ('archive', 9744), ('collections', 9745), ('descriptionlittle', 9746), ('differentiate', 9747), ('discovered', 9748), ('fabrics', 9749), ('fact', 9750), ('foresee', 9751), ('gradually', 9752), ('king', 9753), ('logically', 9754), ('procurements', 9755), ('relentlessly', 9756), ('sports', 9757), ('stages', 9758), ('succinctly', 9759), ('thoughts', 9760), ('wears', 9761), ('統計訊號', 9762), ('mac', 9763), ('mp', 9764), ('osx', 9765), ('並願', 9766), ('中英文', 9767), ('交往', 9768), ('以協助', 9769), ('意在', 9770), ('所在地', 9771), ('日程', 9772), ('時區', 9773), ('根本原因', 9774), ('業務團隊', 9775), ('窗口', 9776), ('資源並', 9777), ('錯', 9778), ('cognex', 9779), ('accomplishments', 9780), ('bearing', 9781), ('laser', 9782), ('methodically', 9783), ('proe', 9784), ('abreast', 9785), ('accountabilities', 9786), ('adheres', 9787), ('alternate', 9788), ('minor', 9789), ('notification', 9790), ('remote', 9791), ('scores', 9792), ('segmenting', 9793), ('soluto', 9794), ('translated', 9795), ('translation', 9796), ('translations', 9797), ('writer', 9798), ('allbound', 9799), ('eos', 9800), ('fieds', 9801), ('hyperaware', 9802), ('impartner', 9803), ('includea', 9804), ('licensing', 9805), ('perpetual', 9806), ('platformdesired', 9807), ('pmp', 9808), ('prm', 9809), ('prtner', 9810), ('resourcesb', 9811), ('confirmation', 9812), ('installed', 9813), ('mrp', 9814), ('negotiate', 9815), ('qc', 9816), ('rfq', 9817), ('sp', 9818), ('stock', 9819), ('中國', 9820), ('之供', 9821), ('供', 9822), ('價和售服', 9823), ('協助售服', 9824), ('品管', 9825), ('專員', 9826), ('應商', 9827), ('應鏈', 9828), ('時處', 9829), ('根據詢', 9830), ('機產業', 9831), ('每種', 9832), ('熟台語', 9833), ('理部門', 9834), ('議價', 9835), ('購', 9836), ('適供', 9837), ('cash', 9838), ('chains', 9839), ('coaches', 9840), ('customs', 9841), ('downstream', 9842), ('escalations', 9843), ('euro', 9844), ('npl', 9845), ('planners', 9846), ('sl', 9847), ('stocking', 9848), ('structural', 9849), ('valued', 9850), ('zero', 9851), ('人誠懇', 9852), ('做產', 9853), ('品相', 9854), ('關技術', 9855), ('cool', 9856), ('下單', 9857), ('個小時', 9858), ('傑西', 9859), ('免', 9860), ('免電腦', 9861), ('厲害', 9862), ('及持續', 9863), ('單系統', 9864), ('回測系', 9865), ('家中', 9866), ('對期', 9867), ('徵求期', 9868), ('成交', 9869), ('投機客', 9870), ('推播', 9871), ('最活', 9872), ('李佛摩', 9873), ('盤', 9874), ('盯', 9875), ('秒', 9876), ('第二天', 9877), ('統則', 9878), ('股市', 9879), ('自動下', 9880), ('貨界', 9881), ('貨買', 9882), ('躍的', 9883), ('還不滿意', 9884), ('affect', 9885), ('guideline', 9886), ('年學', 9887), ('理工科', 9888), ('網址', 9889), ('altium', 9890), ('bootloader', 9891), ('designer', 9892), ('ivd', 9893), ('modbus', 9894), ('pcr', 9895), ('polymerase', 9896), ('reaction', 9897), ('儀器', 9898), ('反應', 9899), ('單片機', 9900), ('意識', 9901), ('手冊', 9902), ('檢測系', 9903), ('熱控', 9904), ('獲取', 9905), ('生化', 9906), ('統之技術', 9907), ('聚合酶', 9908), ('鏈鎖', 9909), ('類比', 9910), ('中正', 9911), ('北區', 9912), ('大遠百', 9913), ('巨城', 9914), ('東區', 9915), ('街', 9916), ('西大', 9917), ('西門', 9918), ('djanjo', 9919), ('mariadb', 9920), ('phalcon', 9921), ('slim', 9922), ('bloomberg', 9923), ('cfa', 9924), ('discerning', 9925), ('eyes', 9926), ('institutional', 9927), ('loan', 9928), ('occasional', 9929), ('offshore', 9930), ('pitches', 9931), ('proposals', 9932), ('roadshow', 9933), ('taishin', 9934), ('wind', 9935), ('anomaly', 9936), ('extending', 9937), ('manipulation', 9938), ('outlier', 9939), ('並重', 9940), ('人員能夠', 9941), ('創見', 9942), ('簡讓', 9943), ('繁為', 9944), ('視團隊', 9945), ('appraisal', 9946), ('calibrate', 9947), ('carrying', 9948), ('cgmp', 9949), ('cmc', 9950), ('complies', 9951), ('dissolution', 9952), ('dosage', 9953), ('drug', 9954), ('filler', 9955), ('gc', 9956), ('hplc', 9957), ('instruments', 9958), ('liquid', 9959), ('liquids', 9960), ('mixer', 9961), ('ointment', 9962), ('oncology', 9963), ('packaging', 9964), ('periodical', 9965), ('pharmaceutics', 9966), ('sops', 9967), ('tablet', 9968), ('uplc', 9969), ('知道', 9970), ('ｒ', 9971), ('adversaries', 9972), ('aligning', 9973), ('bright', 9974), ('browser', 9975), ('complement', 9976), ('cryptographic', 9977), ('essence', 9978), ('layers', 9979), ('oath', 9980), ('oathoath', 9981), ('paranoids', 9982), ('places', 9983), ('practiced', 9984), ('religiously', 9985), ('safest', 9986), ('uswhen', 9987), ('verizon', 9988), ('vulnerabilities', 9989), ('amazing', 9990), ('block', 9991), ('demonstrable', 9992), ('disrupt', 9993), ('quo', 9994), ('unthinkable', 9995), ('作業者', 9996), ('之道', 9997), ('以統計', 9998), ('以開放', 9999), ('及物', 10000), ('台達', 10001), ('尋', 10002), ('服務業務', 10003), ('求解', 10004), ('決問題', 10005), ('產官學', 10006), ('研生態', 10007), ('研究院', 10008), ('贏生態', 10009), ('位訊號', 10010), ('特徵辨識', 10011), ('負責聲', 10012), ('跨團', 10013), ('隊間', 10014), ('雜訊濾', 10015), ('音數', 10016), ('advisory', 10017), ('glue', 10018), ('redshift', 10019), ('sow', 10020), ('以滿', 10021), ('學位', 10022), ('對雲技術', 10023), ('構雲端', 10024), ('演講', 10025), ('知識會', 10026), ('設計雲端', 10027), ('詢', 10028), ('足業務', 10029), ('運營', 10030), ('accessing', 10031), ('dimensions', 10032), ('事務', 10033), ('以滿足', 10034), ('公務', 10035), ('公務車', 10036), ('及家電', 10037), ('及會', 10038), ('商客', 10039), ('器材', 10040), ('安全措施', 10041), ('招待', 10042), ('用品', 10043), ('維護辦', 10044), ('規則', 10045), ('議室', 10046), ('辦公區域', 10047), ('辦公環境', 10048), ('門之', 10049), ('傳票', 10050), ('具套', 10051), ('單價', 10052), ('尤加', 10053), ('應付', 10054), ('應收', 10055), ('收支', 10056), ('會計', 10057), ('歷者', 10058), ('登', 10059), ('登打', 10060), ('發票', 10061), ('裝軟體', 10062), ('詳細學經', 10063), ('貨及', 10064), ('轉帳', 10065), ('進貨銷', 10066), ('銷貨', 10067), ('需財務', 10068), ('holmes', 10069), ('novelty', 10070), ('vector', 10071), ('不絕', 10072), ('剝繭', 10073), ('千萬筆', 10074), ('大未來', 10075), ('巨人', 10076), ('性子', 10077), ('悠遊', 10078), ('抽絲', 10079), ('抽象', 10080), ('摩斯', 10081), ('新月', 10082), ('構成', 10083), ('死', 10084), ('源源', 10085), ('現代福爾', 10086), ('瓶頸', 10087), ('異', 10088), ('病毒', 10089), ('耐著', 10090), ('肩膀', 10091), ('脈絡', 10092), ('腦', 10093), ('資安相關', 10094), ('跡象', 10095), ('追根究底', 10096), ('jupyter', 10097), ('notebook', 10098), ('具撰', 10099), ('名稱', 10100), ('庫及', 10101), ('應徵時', 10102), ('應試者', 10103), ('或大數', 10104), ('或會議', 10105), ('或面', 10106), ('比賽', 10107), ('筆記', 10108), ('義主題', 10109), ('自定', 10110), ('資訊視', 10111), ('雲端化', 10112), ('extjs', 10113), ('prevention', 10114), ('workable', 10115), ('母機者', 10116), ('焊接', 10117), ('生產機', 10118), ('速食', 10119), ('麵', 10120), ('ambarella', 10121), ('supercam', 10122), ('adjacent', 10123), ('advantest', 10124), ('dfm', 10125), ('diagnostics', 10126), ('families', 10127), ('graduates', 10128), ('hsio', 10129), ('iflex', 10130), ('microprocessors', 10131), ('rfee', 10132), ('teradyne', 10133), ('uflex', 10134), ('發後端', 10135), ('維護後端', 10136), ('組架構', 10137), ('設計模', 10138), ('daa', 10139), ('問相', 10140), ('投資顧', 10141), ('關產業', 10142), ('achievements', 10143), ('advices', 10144), ('centered', 10145), ('collaborates', 10146), ('facilitates', 10147), ('flipped', 10148), ('generally', 10149), ('giving', 10150), ('gm', 10151), ('instructor', 10152), ('ul', 10153), ('ulu', 10154), ('yearly', 10155), ('asip', 10156), ('wcdma', 10157), ('assumes', 10158), ('assures', 10159), ('dismantling', 10160), ('habits', 10161), ('installing', 10162), ('modifies', 10163), ('modifying', 10164), ('represents', 10165), ('shows', 10166), ('lpic', 10167), ('mcse', 10168), ('rhce', 10169), ('具系統', 10170), ('力作', 10171), ('牆', 10172), ('獨', 10173), ('相關證', 10174), ('端相', 10175), ('經驗並', 10176), ('防火', 10177), ('arithmetic', 10178), ('fimiliar', 10179), ('gem', 10180), ('simt', 10181), ('systemc', 10182), ('vliw', 10183), ('ethics', 10184), ('participant', 10185), ('cmd', 10186), ('template', 10187), ('受訓', 10188), ('範型', 10189), ('acceptability', 10190), ('adequacy', 10191), ('communicates', 10192), ('examine', 10193), ('variations', 10194), ('上網', 10195), ('過國', 10196), ('adventure', 10197), ('aeolus', 10198), ('aeolusbot', 10199), ('alongside', 10200), ('assistants', 10201), ('breakthrough', 10202), ('capitalized', 10203), ('catkin', 10204), ('ces', 10205), ('cis', 10206), ('cmake', 10207), ('compile', 10208), ('darpa', 10209), ('demonstrations', 10210), ('drone', 10211), ('ease', 10212), ('genius', 10213), ('household', 10214), ('manufacturers', 10215), ('measured', 10216), ('prowess', 10217), ('responding', 10218), ('spun', 10219), ('technological', 10220), ('travis', 10221), ('watson', 10222), ('ald', 10223), ('atomic', 10224), ('bonder', 10225), ('coating', 10226), ('cvd', 10227), ('deposition', 10228), ('evaporation', 10229), ('grinding', 10230), ('singulation', 10231), ('sputtering', 10232), ('vapor', 10233), ('代理', 10234), ('代理商', 10235), ('保護液', 10236), ('分選機', 10237), ('切割', 10238), ('原子', 10239), ('商社', 10240), ('固晶機', 10241), ('太陽能', 10242), ('導電膠', 10243), ('尾款', 10244), ('收回', 10245), ('液', 10246), ('濺', 10247), ('濾波片', 10248), ('熱壓機', 10249), ('熱愛新', 10250), ('異方性', 10251), ('研磨', 10252), ('紅外', 10253), ('耗材', 10254), ('膜', 10255), ('膠帶', 10256), ('蒸', 10257), ('貿易商', 10258), ('鍍機', 10259), ('鍍膜機', 10260), ('驗收', 10261), ('高精度', 10262), ('durability', 10263), ('markup', 10264), ('published', 10265), ('reactjs', 10266), ('vuejs', 10267), ('業預測', 10268), ('行商', 10269), ('edm', 10270), ('剪輯', 10271), ('動線', 10272), ('宣傳', 10273), ('送', 10274), ('光電產業者', 10275), ('應用系', 10276), ('統化', 10277), ('過半導體', 10278), ('協議', 10279), ('開發板', 10280), ('大學生', 10281), ('dry', 10282), ('estimates', 10283), ('insightful', 10284), ('mockups', 10285), ('objective', 10286), ('serverless', 10287), ('便利', 10288), ('全力支持', 10289), ('張明', 10290), ('所思', 10291), ('服務商', 10292), ('涵蓋人', 10293), ('臉辨識', 10294), ('若水', 10295), ('董事', 10296), ('處理師', 10297), ('配建', 10298), ('高品質', 10299), ('熟關', 10300), ('語法佳', 10301), ('連式', 10302), ('funp', 10303), ('kuad', 10304), ('並由', 10305), ('以自動', 10306), ('團', 10307), ('報表系統', 10308), ('大數位', 10309), ('師不會', 10310), ('控及', 10311), ('新集', 10312), ('發維運', 10313), ('維護監', 10314), ('維運上', 10315), ('進數位', 10316), ('隸屬', 10317), ('雲沛創', 10318), ('conjunction', 10319), ('hrd', 10320), ('idp', 10321), ('probation', 10322), ('yilan', 10323), ('diciplines', 10324), ('refresh', 10325), ('intent', 10326), ('wan', 10327), ('交換', 10328), ('交換機', 10329), ('機及', 10330), ('涉略', 10331), ('演', 10332), ('cvs', 10333), ('ffmpeg', 10334), ('lib', 10335), ('libxml', 10336), ('makefile', 10337), ('mult', 10338), ('octave', 10339), ('中斷', 10340), ('修習過', 10341), ('傳輸', 10342), ('參數', 10343), ('微分方程', 10344), ('性樂觀', 10345), ('性濾', 10346), ('成員溝', 10347), ('提及', 10348), ('文獻', 10349), ('發板', 10350), ('科目', 10351), ('組畢', 10352), ('編譯器', 10353), ('觸控', 10354), ('通無礙', 10355), ('過開', 10356), ('genuine', 10357), ('generated', 10358), ('adorable', 10359), ('afternoon', 10360), ('anytime', 10361), ('aspire', 10362), ('birthday', 10363), ('boom', 10364), ('bored', 10365), ('borrow', 10366), ('canada', 10367), ('cats', 10368), ('checkup', 10369), ('cusp', 10370), ('dealt', 10371), ('dog', 10372), ('dogs', 10373), ('drinks', 10374), ('ellen', 10375), ('exhilarating', 10376), ('expend', 10377), ('freely', 10378), ('furbo', 10379), ('gift', 10380), ('humans', 10381), ('insist', 10382), ('joy', 10383), ('kitchen', 10384), ('lunch', 10385), ('parents', 10386), ('perks', 10387), ('pet', 10388), ('pets', 10389), ('pizza', 10390), ('plenty', 10391), ('sharp', 10392), ('snacks', 10393), ('society', 10394), ('sofa', 10395), ('steep', 10396), ('stuff', 10397), ('subsidy', 10398), ('sweat', 10399), ('tea', 10400), ('tomofun', 10401), ('trip', 10402), ('twice', 10403), ('unlimited', 10404), ('vacation', 10405), ('volunteer', 10406), ('welcomed', 10407), ('winners', 10408), ('wishlist', 10409), ('之國', 10410), ('對外', 10411), ('教育部', 10412), ('校務', 10413), ('立案', 10414), ('規劃視', 10415), ('集校務', 10416), ('推廣計', 10417), ('擬訂', 10418), ('生命', 10419), ('週期', 10420), ('邏輯性', 10421), ('ir', 10422), ('wordvec', 10423), ('思路', 10424), ('科研', 10425), ('ｃ', 10426), ('dql', 10427), ('sheet', 10428), ('競業', 10429), ('自薦', 10430), ('foreign', 10431), ('調動', 10432), ('gpib', 10433), ('avro', 10434), ('consultants', 10435), ('deepest', 10436), ('elastic', 10437), ('hcatalog', 10438), ('hpc', 10439), ('lower', 10440), ('migrate', 10441), ('migrations', 10442), ('offs', 10443), ('packaged', 10444), ('proposing', 10445), ('prospective', 10446), ('proving', 10447), ('rds', 10448), ('roadmaps', 10449), ('simplify', 10450), ('sqoop', 10451), ('topical', 10452), ('zookeeper', 10453), ('成業績', 10454), ('戶運營', 10455), ('滿意度', 10456), ('生意', 10457), ('積極並', 10458), ('迅速', 10459), ('viewsonic', 10460), ('criteriaspecific', 10461), ('empower', 10462), ('fits', 10463), ('jee', 10464), ('modernize', 10465), ('overviewdcs', 10466), ('renovate', 10467), ('rich', 10468), ('worry', 10469), ('solutionsbusiness', 10470), ('solutionsyou', 10471), ('australia', 10472), ('dedicate', 10473), ('eagerness', 10474), ('farm', 10475), ('harvard', 10476), ('india', 10477), ('indonesia', 10478), ('instances', 10479), ('intel', 10480), ('juggle', 10481), ('laying', 10482), ('moving', 10483), ('page', 10484), ('renowned', 10485), ('stanford', 10486), ('terabyte', 10487), ('yahoo', 10488), ('promising', 10489), ('exchange', 10490), ('mail', 10491), ('之系統', 10492), ('修經驗', 10493), ('及查', 10494), ('如能', 10495), ('性維護', 10496), ('權限', 10497), ('稽核', 10498), ('著佳', 10499), ('誇部門', 10500), ('負責系', 10501), ('資安機制', 10502), ('aren', 10503), ('atop', 10504), ('blame', 10505), ('continual', 10506), ('fellow', 10507), ('packer', 10508), ('postmortem', 10509), ('saltstack', 10510), ('terraform', 10511), ('transparency', 10512), ('workloads', 10513), ('gamma', 10514), ('sharpness', 10515), ('出國', 10516), ('有識圖', 10517), ('校驗', 10518), ('機件', 10519), ('kmeans', 10520), ('lr', 10521), ('matplot', 10522), ('plotly', 10523), ('默契', 10524), ('喜好', 10525), ('描述', 10526), ('獨力', 10527), ('managerment', 10528), ('並關', 10529), ('度高', 10530), ('懷', 10531), ('留意', 10532), ('具醫療', 10533), ('師經驗者', 10534), ('過濾', 10535), ('醫務', 10536), ('coworking', 10537), ('wow', 10538), ('一新', 10539), ('不一樣', 10540), ('也許', 10541), ('信條', 10542), ('別人', 10543), ('創事業', 10544), ('喜', 10545), ('客戶夥', 10546), ('忍受', 10547), ('挫折', 10548), ('收割', 10549), ('歡喜', 10550), ('正直', 10551), ('答案', 10552), ('誠實', 10553), ('驚', 10554), ('過三種', 10555), ('集群', 10556), ('acting', 10557), ('multiplayer', 10558), ('reply', 10559), ('tailored', 10560), ('automl', 10561), ('lightgbm', 10562), ('xgboost', 10563), ('執行例', 10564), ('底層', 10565), ('有大數', 10566), ('極強', 10567), ('演示', 10568), ('竹間', 10569), ('落地', 10570), ('行業', 10571), ('鑽研', 10572), ('高級', 10573), ('bias', 10574), ('lips', 10575), ('並稍', 10576), ('人事', 10577), ('人事主管', 10578), ('具識圖', 10579), ('勞動', 10580), ('執行績', 10581), ('基準法', 10582), ('外匯', 10583), ('效報告', 10584), ('熟勞動', 10585), ('熟大陸', 10586), ('當地', 10587), ('稅務', 10588), ('稅務及', 10589), ('財', 10590), ('財會', 10591), ('關務', 10592), ('預算', 10593), ('ssas', 10594), ('ssrs', 10595), ('並以視', 10596), ('並做', 10597), ('並規畫', 10598), ('倉儲系', 10599), ('數個', 10600), ('統為', 10601), ('dist', 10602), ('duration', 10603), ('fee', 10604), ('mins', 10605), ('nt', 10606), ('sat', 10607), ('sept', 10608), ('xin', 10609), ('yi', 10610), ('adding', 10611), ('airlines', 10612), ('ambitions', 10613), ('cope', 10614), ('covered', 10615), ('humble', 10616), ('intake', 10617), ('legislation', 10618), ('lion', 10619), ('picp', 10620), ('recruiter', 10621), ('retain', 10622), ('striving', 10623), ('tokyo', 10624), ('bayes', 10625), ('naive', 10626), ('brainstorming', 10627), ('coe', 10628), ('composing', 10629), ('hrbp', 10630), ('hrbps', 10631), ('resolves', 10632), ('sizeable', 10633), ('tmld', 10634), ('感測', 10635), ('選用', 10636), ('靜力學', 10637), ('adjustment', 10638), ('appointed', 10639), ('century', 10640), ('civil', 10641), ('competent', 10642), ('cultivating', 10643), ('duly', 10644), ('fabrication', 10645), ('figures', 10646), ('fulfil', 10647), ('handing', 10648), ('initiating', 10649), ('interacting', 10650), ('jackets', 10651), ('keeps', 10652), ('mega', 10653), ('mobilization', 10654), ('monopiles', 10655), ('optimistic', 10656), ('raising', 10657), ('renewable', 10658), ('slightly', 10659), ('spanning', 10660), ('transition', 10661), ('apps', 10662), ('cg', 10663), ('師開發', 10664), ('列訊號', 10665), ('喚醒', 10666), ('噪音', 10667), ('回聲', 10668), ('抑制', 10669), ('消除', 10670), ('語者', 10671), ('麥克風陣', 10672), ('alternatives', 10673), ('apics', 10674), ('attractive', 10675), ('banding', 10676), ('evaluations', 10677), ('gathered', 10678), ('horizontal', 10679), ('hpl', 10680), ('laminating', 10681), ('principal', 10682), ('saws', 10683), ('timber', 10684), ('wood', 10685), ('woodworking', 10686), ('保機器', 10687), ('工業廠', 10688), ('廠房', 10689), ('房及', 10690), ('施工', 10691), ('發動機', 10692), ('通及', 10693), ('運轉', 10694), ('amplitude', 10695), ('commentary', 10696), ('condense', 10697), ('consumers', 10698), ('kkstreamkkstream', 10699), ('loosely', 10700), ('significance', 10701), ('watching', 10702), ('一門', 10703), ('上班族', 10704), ('多門', 10705), ('得獎', 10706), ('聲音訊號', 10707), ('語文', 10708), ('ibp', 10709), ('cube', 10710), ('wt', 10711), ('主動具', 10712), ('之資訊', 10713), ('充實者', 10714), ('壓性', 10715), ('外大學', 10716), ('改造', 10717), ('熟資料', 10718), ('誰', 10719), ('高抗', 10720), ('dss', 10721), ('fitch', 10722), ('調效', 10723), ('aggregating', 10724), ('built', 10725), ('caret', 10726), ('completed', 10727), ('diving', 10728), ('drift', 10729), ('enjoys', 10730), ('enterprises', 10731), ('explainable', 10732), ('feel', 10733), ('format', 10734), ('gpus', 10735), ('likes', 10736), ('mllib', 10737), ('mlr', 10738), ('obsessed', 10739), ('operationalize', 10740), ('retraining', 10741), ('simplified', 10742), ('thrilled', 10743), ('validating', 10744), ('wants', 10745), ('\\x9e', 10746)])"
      ]
     },
     "execution_count": 365,
     "metadata": {},
     "output_type": "execute_result"
    }
   ],
   "source": [
    "dictionary.token2id.items()"
   ]
  },
  {
   "cell_type": "markdown",
   "metadata": {},
   "source": [
    "# Generate BOW (Bag Of Words)"
   ]
  },
  {
   "cell_type": "code",
   "execution_count": 366,
   "metadata": {},
   "outputs": [],
   "source": [
    "bows = [dictionary.doc2bow(d) for d in docs]"
   ]
  },
  {
   "cell_type": "code",
   "execution_count": 367,
   "metadata": {},
   "outputs": [
    {
     "name": "stdout",
     "output_type": "stream",
     "text": [
      "134\n"
     ]
    },
    {
     "data": {
      "text/plain": [
       "[(102, 1),\n",
       " (103, 1),\n",
       " (104, 1),\n",
       " (105, 1),\n",
       " (106, 1),\n",
       " (107, 1),\n",
       " (108, 1),\n",
       " (109, 1),\n",
       " (110, 3),\n",
       " (111, 1)]"
      ]
     },
     "execution_count": 367,
     "metadata": {},
     "output_type": "execute_result"
    }
   ],
   "source": [
    "print(len(bows[1]))\n",
    "bows[1][10:20]"
   ]
  },
  {
   "cell_type": "code",
   "execution_count": 368,
   "metadata": {},
   "outputs": [
    {
     "name": "stdout",
     "output_type": "stream",
     "text": [
      "交易\n",
      "以下\n",
      "作品\n",
      "個\n",
      "充滿\n",
      "具備\n",
      "分析\n",
      "創新\n",
      "創造力\n",
      "力氣\n"
     ]
    }
   ],
   "source": [
    "for id_word in range(110, 120):\n",
    "    print(dictionary.get(id_word))"
   ]
  },
  {
   "cell_type": "markdown",
   "metadata": {},
   "source": [
    "# LDA using BOW\n",
    "Hyper-parameters: https://markroxor.github.io/gensim/static/notebooks/lda_training_tips.html"
   ]
  },
  {
   "cell_type": "code",
   "execution_count": 393,
   "metadata": {},
   "outputs": [],
   "source": [
    "num_topics = 10\n",
    "passes = 20\n",
    "iterations = 400\n",
    "\n",
    "lda_model_bow = gensim.models.LdaModel(bows,\n",
    "                                      num_topics=num_topics,\n",
    "                                      id2word=dictionary,\n",
    "                                      passes=passes,\n",
    "                                      iterations=iterations)"
   ]
  },
  {
   "cell_type": "code",
   "execution_count": 394,
   "metadata": {},
   "outputs": [
    {
     "name": "stdout",
     "output_type": "stream",
     "text": [
      "Topic 0: 0.026*\"experience\" + 0.023*\"learning\" + 0.016*\"c\" + 0.016*\"machine\" + 0.013*\"development\" + 0.011*\"familiar\" + 0.011*\"design\" + 0.010*\"software\" + 0.010*\"deep\" + 0.008*\"processing\"\n",
      "Topic 1: 0.017*\"experience\" + 0.015*\"data\" + 0.012*\"learning\" + 0.011*\"team\" + 0.009*\"development\" + 0.008*\"training\" + 0.008*\"skills\" + 0.008*\"work\" + 0.007*\"business\" + 0.007*\"design\"\n",
      "Topic 2: 0.007*\"business\" + 0.007*\"data\" + 0.006*\"sales\" + 0.006*\"good\" + 0.005*\"pmi\" + 0.005*\"skills\" + 0.004*\"english\" + 0.004*\"customer\" + 0.004*\"strong\" + 0.004*\"status\"\n",
      "Topic 3: 0.016*\"我們\" + 0.011*\"訓練\" + 0.010*\"工作\" + 0.009*\"環境\" + 0.009*\"服務\" + 0.009*\"具備\" + 0.008*\"於\" + 0.008*\"歡迎\" + 0.008*\"加入\" + 0.008*\"獎金\"\n",
      "Topic 4: 0.009*\"skills\" + 0.007*\"good\" + 0.007*\"learning\" + 0.006*\"communication\" + 0.005*\"experience\" + 0.005*\"english\" + 0.005*\"sales\" + 0.005*\"work\" + 0.005*\"plus\" + 0.004*\"skill\"\n",
      "Topic 5: 0.011*\"工作\" + 0.008*\"相關\" + 0.008*\"機械\" + 0.007*\"能力\" + 0.007*\"製\" + 0.006*\"提供\" + 0.006*\"公司\" + 0.006*\"英文\" + 0.005*\"產品\" + 0.005*\"設計\"\n",
      "Topic 6: 0.030*\"管理\" + 0.025*\"訓練\" + 0.022*\"店\" + 0.021*\"舖\" + 0.019*\"學習\" + 0.018*\"經營\" + 0.017*\"我們\" + 0.016*\"工作\" + 0.013*\"負責\" + 0.012*\"加入\"\n",
      "Topic 7: 0.037*\"data\" + 0.023*\"experience\" + 0.014*\"machine\" + 0.014*\"learning\" + 0.007*\"ai\" + 0.007*\"software\" + 0.007*\"plus\" + 0.006*\"development\" + 0.006*\"familiar\" + 0.005*\"techniques\"\n",
      "Topic 8: 0.009*\"work\" + 0.009*\"equipment\" + 0.007*\"technical\" + 0.007*\"experience\" + 0.007*\"machine\" + 0.006*\"content\" + 0.006*\"design\" + 0.006*\"rf\" + 0.005*\"knowledge\" + 0.005*\"engineering\"\n",
      "Topic 9: 0.026*\"開發\" + 0.018*\"經驗\" + 0.017*\"熟悉\" + 0.017*\"相關\" + 0.017*\"分析\" + 0.016*\"learning\" + 0.013*\"資料\" + 0.012*\"c\" + 0.010*\"machine\" + 0.010*\"程式\"\n"
     ]
    }
   ],
   "source": [
    "for index, topic in lda_model_bow.print_topics(-1):\n",
    "    print('Topic {}: {}'.format(index, topic))"
   ]
  },
  {
   "cell_type": "code",
   "execution_count": 395,
   "metadata": {},
   "outputs": [
    {
     "name": "stdout",
     "output_type": "stream",
     "text": [
      "Topic 0: \n",
      "\t\texperience\n",
      "\t\tlearning\n",
      "\t\tc\n",
      "\t\tmachine\n",
      "\t\tdevelopment\n",
      "\t\tfamiliar\n",
      "\t\tdesign\n",
      "\t\tsoftware\n",
      "\t\tdeep\n",
      "\t\tprocessing\n",
      "\n",
      "\n",
      "Topic 1: \n",
      "\t\texperience\n",
      "\t\tdata\n",
      "\t\tlearning\n",
      "\t\tteam\n",
      "\t\tdevelopment\n",
      "\t\ttraining\n",
      "\t\tskills\n",
      "\t\twork\n",
      "\t\tbusiness\n",
      "\t\tdesign\n",
      "\n",
      "\n",
      "Topic 2: \n",
      "\t\tbusiness\n",
      "\t\tdata\n",
      "\t\tsales\n",
      "\t\tgood\n",
      "\t\tpmi\n",
      "\t\tskills\n",
      "\t\tenglish\n",
      "\t\tcustomer\n",
      "\t\tstrong\n",
      "\t\tstatus\n",
      "\n",
      "\n",
      "Topic 3: \n",
      "\t\t我們\n",
      "\t\t訓練\n",
      "\t\t工作\n",
      "\t\t環境\n",
      "\t\t服務\n",
      "\t\t具備\n",
      "\t\t於\n",
      "\t\t歡迎\n",
      "\t\t加入\n",
      "\t\t獎金\n",
      "\n",
      "\n",
      "Topic 4: \n",
      "\t\tskills\n",
      "\t\tgood\n",
      "\t\tlearning\n",
      "\t\tcommunication\n",
      "\t\texperience\n",
      "\t\tenglish\n",
      "\t\tsales\n",
      "\t\twork\n",
      "\t\tplus\n",
      "\t\tskill\n",
      "\n",
      "\n",
      "Topic 5: \n",
      "\t\t工作\n",
      "\t\t相關\n",
      "\t\t機械\n",
      "\t\t能力\n",
      "\t\t製\n",
      "\t\t提供\n",
      "\t\t公司\n",
      "\t\t英文\n",
      "\t\t產品\n",
      "\t\t設計\n",
      "\n",
      "\n",
      "Topic 6: \n",
      "\t\t管理\n",
      "\t\t訓練\n",
      "\t\t店\n",
      "\t\t舖\n",
      "\t\t學習\n",
      "\t\t經營\n",
      "\t\t我們\n",
      "\t\t工作\n",
      "\t\t負責\n",
      "\t\t加入\n",
      "\n",
      "\n",
      "Topic 7: \n",
      "\t\tdata\n",
      "\t\texperience\n",
      "\t\tmachine\n",
      "\t\tlearning\n",
      "\t\tai\n",
      "\t\tsoftware\n",
      "\t\tplus\n",
      "\t\tdevelopment\n",
      "\t\tfamiliar\n",
      "\t\ttechniques\n",
      "\n",
      "\n",
      "Topic 8: \n",
      "\t\twork\n",
      "\t\tequipment\n",
      "\t\ttechnical\n",
      "\t\texperience\n",
      "\t\tmachine\n",
      "\t\tcontent\n",
      "\t\tdesign\n",
      "\t\trf\n",
      "\t\tknowledge\n",
      "\t\tengineering\n",
      "\n",
      "\n",
      "Topic 9: \n",
      "\t\t開發\n",
      "\t\t經驗\n",
      "\t\t熟悉\n",
      "\t\t相關\n",
      "\t\t分析\n",
      "\t\tlearning\n",
      "\t\t資料\n",
      "\t\tc\n",
      "\t\tmachine\n",
      "\t\t程式\n",
      "\n",
      "\n"
     ]
    }
   ],
   "source": [
    "for index, topic in lda_model_bow.show_topics(-1, formatted=False):\n",
    "    print('Topic {}: '.format(index))\n",
    "    \n",
    "    for word, weight in topic:\n",
    "        print('\\t\\t{}'.format(word), end='\\n')\n",
    "#         print('{} '.format(word))\n",
    "\n",
    "\n",
    "    print('\\n')"
   ]
  },
  {
   "cell_type": "markdown",
   "metadata": {},
   "source": [
    "# LDA using TF-IDF"
   ]
  },
  {
   "cell_type": "code",
   "execution_count": 396,
   "metadata": {},
   "outputs": [],
   "source": [
    "def bow2tfidf(bows):\n",
    "    tfidf = gensim.models.TfidfModel(bows)\n",
    "    corpus_tfidf = tfidf[bows]\n",
    "    \n",
    "    return corpus_tfidf\n",
    "\n",
    "corpus_tfidf = bow2tfidf(bows)"
   ]
  },
  {
   "cell_type": "code",
   "execution_count": 397,
   "metadata": {},
   "outputs": [
    {
     "data": {
      "text/plain": [
       "gensim.interfaces.TransformedCorpus"
      ]
     },
     "execution_count": 397,
     "metadata": {},
     "output_type": "execute_result"
    }
   ],
   "source": [
    "type(corpus_tfidf)"
   ]
  },
  {
   "cell_type": "code",
   "execution_count": 398,
   "metadata": {},
   "outputs": [],
   "source": [
    "lda_model_tfidf = gensim.models.LdaModel(corpus_tfidf,\n",
    "                                        num_topics=num_topics,\n",
    "                                        id2word=dictionary,\n",
    "                                        passes=passes,\n",
    "                                        iterations=iterations)"
   ]
  },
  {
   "cell_type": "code",
   "execution_count": 399,
   "metadata": {},
   "outputs": [
    {
     "name": "stdout",
     "output_type": "stream",
     "text": [
      "Index 0: topic= 0.011*\"舖\" + 0.010*\"店\" + 0.010*\"訓練\" + 0.009*\"管理\" + 0.009*\"經營\" + 0.007*\"學習\" + 0.007*\"主任\" + 0.006*\"我們\" + 0.006*\"透過\" + 0.005*\"培育\"\n",
      "Index 1: topic= 0.008*\"開發\" + 0.006*\"熟悉\" + 0.006*\"分析\" + 0.006*\"相關\" + 0.005*\"資料\" + 0.005*\"演算法\" + 0.005*\"經驗\" + 0.004*\"程式\" + 0.004*\"設計\" + 0.004*\"系統\"\n",
      "Index 2: topic= 0.001*\"pmi\" + 0.001*\"transport\" + 0.001*\"salesforce\" + 0.001*\"spss\" + 0.001*\"store\" + 0.001*\"convolutional\" + 0.001*\"設計及\" + 0.001*\"salary\" + 0.001*\"擷取\" + 0.001*\"companies\"\n",
      "Index 3: topic= 0.002*\"deepq\" + 0.001*\"drc\" + 0.001*\"圖\" + 0.001*\"出貨\" + 0.001*\"\" + 0.001*\"virtual\" + 0.001*\"生產線\" + 0.001*\"atmosphere\" + 0.001*\"powered\" + 0.001*\"stimulating\"\n",
      "Index 4: topic= 0.001*\"consultation\" + 0.001*\"彙\" + 0.001*\"nand\" + 0.001*\"萬\" + 0.001*\"flash\" + 0.001*\"anti\" + 0.001*\"資訊系\" + 0.001*\"eq\" + 0.001*\"stress\" + 0.001*\"complaints\"\n",
      "Index 5: topic= 0.006*\"experience\" + 0.005*\"data\" + 0.004*\"familiar\" + 0.004*\"development\" + 0.003*\"software\" + 0.003*\"design\" + 0.003*\"plus\" + 0.003*\"skills\" + 0.003*\"team\" + 0.003*\"work\"\n",
      "Index 6: topic= 0.004*\"獎金\" + 0.004*\"完善\" + 0.003*\"制度\" + 0.003*\"門市\" + 0.003*\"我們\" + 0.003*\"次\" + 0.003*\"年度\" + 0.003*\"餐\" + 0.003*\"福利\" + 0.003*\"教育\"\n",
      "Index 7: topic= 0.001*\"reality\" + 0.001*\"resnet\" + 0.001*\"並有\" + 0.001*\"signal\" + 0.001*\"rcnn\" + 0.001*\"vggnet\" + 0.001*\"restful\" + 0.001*\"speech\" + 0.001*\"toolchain\" + 0.001*\"erp\"\n",
      "Index 8: topic= 0.002*\"signal\" + 0.001*\"speech\" + 0.001*\"startup\" + 0.001*\"implementations\" + 0.001*\"機械\" + 0.001*\"interaction\" + 0.001*\"extensive\" + 0.001*\"soc\" + 0.001*\"fusion\" + 0.001*\"silkrode\"\n",
      "Index 9: topic= 0.003*\"環境\" + 0.002*\"明亮\" + 0.002*\"營運維護\" + 0.002*\"賣場\" + 0.002*\"整潔\" + 0.002*\"性強\" + 0.002*\"清潔\" + 0.002*\"內外\" + 0.002*\"事宜\" + 0.002*\"商品\"\n"
     ]
    }
   ],
   "source": [
    "for index, topic in lda_model_tfidf.print_topics(-1):\n",
    "    print('Index {}: topic= {}'.format(index, topic))"
   ]
  },
  {
   "cell_type": "code",
   "execution_count": 400,
   "metadata": {},
   "outputs": [
    {
     "name": "stdout",
     "output_type": "stream",
     "text": [
      "Topic 0: \n",
      "\t\t舖\n",
      "\t\t店\n",
      "\t\t訓練\n",
      "\t\t管理\n",
      "\t\t經營\n",
      "\t\t學習\n",
      "\t\t主任\n",
      "\t\t我們\n",
      "\t\t透過\n",
      "\t\t培育\n",
      "\n",
      "\n",
      "Topic 1: \n",
      "\t\t開發\n",
      "\t\t熟悉\n",
      "\t\t分析\n",
      "\t\t相關\n",
      "\t\t資料\n",
      "\t\t演算法\n",
      "\t\t經驗\n",
      "\t\t程式\n",
      "\t\t設計\n",
      "\t\t系統\n",
      "\n",
      "\n",
      "Topic 2: \n",
      "\t\tpmi\n",
      "\t\ttransport\n",
      "\t\tsalesforce\n",
      "\t\tspss\n",
      "\t\tstore\n",
      "\t\tconvolutional\n",
      "\t\t設計及\n",
      "\t\tsalary\n",
      "\t\t擷取\n",
      "\t\tcompanies\n",
      "\n",
      "\n",
      "Topic 3: \n",
      "\t\tdeepq\n",
      "\t\tdrc\n",
      "\t\t圖\n",
      "\t\t出貨\n",
      "\t\t\n",
      "\t\tvirtual\n",
      "\t\t生產線\n",
      "\t\tatmosphere\n",
      "\t\tpowered\n",
      "\t\tstimulating\n",
      "\n",
      "\n",
      "Topic 4: \n",
      "\t\tconsultation\n",
      "\t\t彙\n",
      "\t\tnand\n",
      "\t\t萬\n",
      "\t\tflash\n",
      "\t\tanti\n",
      "\t\t資訊系\n",
      "\t\teq\n",
      "\t\tstress\n",
      "\t\tcomplaints\n",
      "\n",
      "\n",
      "Topic 5: \n",
      "\t\texperience\n",
      "\t\tdata\n",
      "\t\tfamiliar\n",
      "\t\tdevelopment\n",
      "\t\tsoftware\n",
      "\t\tdesign\n",
      "\t\tplus\n",
      "\t\tskills\n",
      "\t\tteam\n",
      "\t\twork\n",
      "\n",
      "\n",
      "Topic 6: \n",
      "\t\t獎金\n",
      "\t\t完善\n",
      "\t\t制度\n",
      "\t\t門市\n",
      "\t\t我們\n",
      "\t\t次\n",
      "\t\t年度\n",
      "\t\t餐\n",
      "\t\t福利\n",
      "\t\t教育\n",
      "\n",
      "\n",
      "Topic 7: \n",
      "\t\treality\n",
      "\t\tresnet\n",
      "\t\t並有\n",
      "\t\tsignal\n",
      "\t\trcnn\n",
      "\t\tvggnet\n",
      "\t\trestful\n",
      "\t\tspeech\n",
      "\t\ttoolchain\n",
      "\t\terp\n",
      "\n",
      "\n",
      "Topic 8: \n",
      "\t\tsignal\n",
      "\t\tspeech\n",
      "\t\tstartup\n",
      "\t\timplementations\n",
      "\t\t機械\n",
      "\t\tinteraction\n",
      "\t\textensive\n",
      "\t\tsoc\n",
      "\t\tfusion\n",
      "\t\tsilkrode\n",
      "\n",
      "\n",
      "Topic 9: \n",
      "\t\t環境\n",
      "\t\t明亮\n",
      "\t\t營運維護\n",
      "\t\t賣場\n",
      "\t\t整潔\n",
      "\t\t性強\n",
      "\t\t清潔\n",
      "\t\t內外\n",
      "\t\t事宜\n",
      "\t\t商品\n",
      "\n",
      "\n"
     ]
    }
   ],
   "source": [
    "for index, topic in lda_model_tfidf.show_topics(-1, formatted=False):\n",
    "    print('Topic {}: '.format(index))\n",
    "    \n",
    "    for word, weight in topic:\n",
    "        print('\\t\\t{}'.format(word), end='\\n')\n",
    "#         print('{} '.format(word))\n",
    "\n",
    "\n",
    "    print('\\n') "
   ]
  },
  {
   "cell_type": "code",
   "execution_count": null,
   "metadata": {},
   "outputs": [],
   "source": []
  }
 ],
 "metadata": {
  "kernelspec": {
   "display_name": "Python 3",
   "language": "python",
   "name": "python3"
  },
  "language_info": {
   "codemirror_mode": {
    "name": "ipython",
    "version": 3
   },
   "file_extension": ".py",
   "mimetype": "text/x-python",
   "name": "python",
   "nbconvert_exporter": "python",
   "pygments_lexer": "ipython3",
   "version": "3.6.3"
  }
 },
 "nbformat": 4,
 "nbformat_minor": 2
}
