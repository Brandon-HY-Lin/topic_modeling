{
 "cells": [
  {
   "cell_type": "markdown",
   "metadata": {},
   "source": [
    "# Inspect JSON Dataset"
   ]
  },
  {
   "cell_type": "code",
   "execution_count": 1,
   "metadata": {},
   "outputs": [],
   "source": [
    "import pandas as pd\n",
    "import gensim\n",
    "import jieba"
   ]
  },
  {
   "cell_type": "markdown",
   "metadata": {},
   "source": [
    "# Load Dataset and Inpect Few Rows"
   ]
  },
  {
   "cell_type": "code",
   "execution_count": 2,
   "metadata": {},
   "outputs": [],
   "source": [
    "filename_dataset = '../crawler/employment_website_104/dataset/jobs_104.json'\n",
    "\n",
    "dataset_df = pd.read_json(filename_dataset)"
   ]
  },
  {
   "cell_type": "code",
   "execution_count": 3,
   "metadata": {},
   "outputs": [
    {
     "data": {
      "text/plain": [
       "996"
      ]
     },
     "execution_count": 3,
     "metadata": {},
     "output_type": "execute_result"
    }
   ],
   "source": [
    "len(dataset_df)"
   ]
  },
  {
   "cell_type": "code",
   "execution_count": 4,
   "metadata": {},
   "outputs": [
    {
     "data": {
      "text/html": [
       "<div>\n",
       "<style scoped>\n",
       "    .dataframe tbody tr th:only-of-type {\n",
       "        vertical-align: middle;\n",
       "    }\n",
       "\n",
       "    .dataframe tbody tr th {\n",
       "        vertical-align: top;\n",
       "    }\n",
       "\n",
       "    .dataframe thead th {\n",
       "        text-align: right;\n",
       "    }\n",
       "</style>\n",
       "<table border=\"1\" class=\"dataframe\">\n",
       "  <thead>\n",
       "    <tr style=\"text-align: right;\">\n",
       "      <th></th>\n",
       "      <th>address</th>\n",
       "      <th>benefit</th>\n",
       "      <th>company</th>\n",
       "      <th>experience</th>\n",
       "      <th>requirement</th>\n",
       "      <th>requirement_others</th>\n",
       "      <th>salary</th>\n",
       "      <th>title</th>\n",
       "    </tr>\n",
       "  </thead>\n",
       "  <tbody>\n",
       "    <tr>\n",
       "      <th>0</th>\n",
       "      <td>\\n                                        台北市內...</td>\n",
       "      <td>\\n福利健全 \\n■ 優渥的薪資、獎金 \\n◎ 端午節、中秋節、年終獎金。 \\n◎ 定期依工...</td>\n",
       "      <td>芯鼎科技股份有限公司</td>\n",
       "      <td>不拘</td>\n",
       "      <td>- Driver development and fine tune of customiz...</td>\n",
       "      <td>- A BS degree in Computer Engineering, Electri...</td>\n",
       "      <td>待遇面議                                          ...</td>\n",
       "      <td>\\n                        系統應用工程師-台北(CD2320)  ...</td>\n",
       "    </tr>\n",
       "    <tr>\n",
       "      <th>1</th>\n",
       "      <td>\\n                                        台北市大...</td>\n",
       "      <td>\\n＊獎金福利＊1. 年節禮金2. 生日禮金3. 年終分紅4. 人才介紹獎金＊休假福利＊1....</td>\n",
       "      <td>銓鴻資訊有限公司</td>\n",
       "      <td>1年以上</td>\n",
       "      <td>1. 研究市場數據和交易數據，並進行交易策略研發。 \\n2. 開發模型和工具，監控分析交易程...</td>\n",
       "      <td>將先以電子履歷篩選增加效率，請注意以下事項：\\n■ 履歷請詳述相關經驗並請提供 Github...</td>\n",
       "      <td>年薪 1,000,000~2,500,000元                       ...</td>\n",
       "      <td>\\n                        計量交易員 Quantitative T...</td>\n",
       "    </tr>\n",
       "    <tr>\n",
       "      <th>2</th>\n",
       "      <td>\\n                                        新北市新...</td>\n",
       "      <td>\\n《薪酬福利＠HTC》我們極力落實利潤與員工分享的精神，透過多元的薪酬組合與完善的福利方案...</td>\n",
       "      <td>宏達電 HTC Corporation_宏達國際電子股份有限公司</td>\n",
       "      <td>不拘</td>\n",
       "      <td>Join the creative thinkers at HTC Healthcare. ...</td>\n",
       "      <td>Requirement:-MS or PhD in computer science or ...</td>\n",
       "      <td>待遇面議                                          ...</td>\n",
       "      <td>\\n                        (RD S/W) DeepQ - Com...</td>\n",
       "    </tr>\n",
       "    <tr>\n",
       "      <th>3</th>\n",
       "      <td>\\n                                        桃園市中...</td>\n",
       "      <td>\\n正職/全職人員之福利與訓練制度：\\n\\n【薪酬福利】\\n-每年依市場薪資水準評估薪資調整...</td>\n",
       "      <td>OK超商_來來超商股份有限公司</td>\n",
       "      <td>不拘</td>\n",
       "      <td>OK超商認為，用心經營的企業，首重人才培訓。\\n\\n因此，我們投入了大量的訓練資源，積極培育...</td>\n",
       "      <td>1.具服務熱忱，科系、經驗不拘，須輪班。\\n2.須自備交通工具及電腦網路設備(透過e-Lea...</td>\n",
       "      <td>月薪 31,000~33,000元                             ...</td>\n",
       "      <td>\\n                        儲備幹部(大桃園地區)         ...</td>\n",
       "    </tr>\n",
       "    <tr>\n",
       "      <th>4</th>\n",
       "      <td>\\n                                        新竹縣竹...</td>\n",
       "      <td>\\n【工作福利】彈性上下班。 \\n【休假福利】週休二日、國定假日、婚假、產假、陪產假、特休假...</td>\n",
       "      <td>神亞科技股份有限公司</td>\n",
       "      <td>3年以上</td>\n",
       "      <td>影像相關之深度學習演算法研究與開發</td>\n",
       "      <td>1. 有開發image processing相關應用經驗\\n2. 熟悉深度學習相關算法（e....</td>\n",
       "      <td>待遇面議                                          ...</td>\n",
       "      <td>\\n                        AI 工程師              ...</td>\n",
       "    </tr>\n",
       "  </tbody>\n",
       "</table>\n",
       "</div>"
      ],
      "text/plain": [
       "                                             address  \\\n",
       "0  \\n                                        台北市內...   \n",
       "1  \\n                                        台北市大...   \n",
       "2  \\n                                        新北市新...   \n",
       "3  \\n                                        桃園市中...   \n",
       "4  \\n                                        新竹縣竹...   \n",
       "\n",
       "                                             benefit  \\\n",
       "0  \\n福利健全 \\n■ 優渥的薪資、獎金 \\n◎ 端午節、中秋節、年終獎金。 \\n◎ 定期依工...   \n",
       "1  \\n＊獎金福利＊1. 年節禮金2. 生日禮金3. 年終分紅4. 人才介紹獎金＊休假福利＊1....   \n",
       "2  \\n《薪酬福利＠HTC》我們極力落實利潤與員工分享的精神，透過多元的薪酬組合與完善的福利方案...   \n",
       "3  \\n正職/全職人員之福利與訓練制度：\\n\\n【薪酬福利】\\n-每年依市場薪資水準評估薪資調整...   \n",
       "4  \\n【工作福利】彈性上下班。 \\n【休假福利】週休二日、國定假日、婚假、產假、陪產假、特休假...   \n",
       "\n",
       "                            company experience  \\\n",
       "0                        芯鼎科技股份有限公司         不拘   \n",
       "1                          銓鴻資訊有限公司       1年以上   \n",
       "2  宏達電 HTC Corporation_宏達國際電子股份有限公司         不拘   \n",
       "3                   OK超商_來來超商股份有限公司         不拘   \n",
       "4                        神亞科技股份有限公司       3年以上   \n",
       "\n",
       "                                         requirement  \\\n",
       "0  - Driver development and fine tune of customiz...   \n",
       "1  1. 研究市場數據和交易數據，並進行交易策略研發。 \\n2. 開發模型和工具，監控分析交易程...   \n",
       "2  Join the creative thinkers at HTC Healthcare. ...   \n",
       "3  OK超商認為，用心經營的企業，首重人才培訓。\\n\\n因此，我們投入了大量的訓練資源，積極培育...   \n",
       "4                                  影像相關之深度學習演算法研究與開發   \n",
       "\n",
       "                                  requirement_others  \\\n",
       "0  - A BS degree in Computer Engineering, Electri...   \n",
       "1  將先以電子履歷篩選增加效率，請注意以下事項：\\n■ 履歷請詳述相關經驗並請提供 Github...   \n",
       "2  Requirement:-MS or PhD in computer science or ...   \n",
       "3  1.具服務熱忱，科系、經驗不拘，須輪班。\\n2.須自備交通工具及電腦網路設備(透過e-Lea...   \n",
       "4  1. 有開發image processing相關應用經驗\\n2. 熟悉深度學習相關算法（e....   \n",
       "\n",
       "                                              salary  \\\n",
       "0  待遇面議                                          ...   \n",
       "1  年薪 1,000,000~2,500,000元                       ...   \n",
       "2  待遇面議                                          ...   \n",
       "3  月薪 31,000~33,000元                             ...   \n",
       "4  待遇面議                                          ...   \n",
       "\n",
       "                                               title  \n",
       "0  \\n                        系統應用工程師-台北(CD2320)  ...  \n",
       "1  \\n                        計量交易員 Quantitative T...  \n",
       "2  \\n                        (RD S/W) DeepQ - Com...  \n",
       "3  \\n                        儲備幹部(大桃園地區)         ...  \n",
       "4  \\n                        AI 工程師              ...  "
      ]
     },
     "execution_count": 4,
     "metadata": {},
     "output_type": "execute_result"
    }
   ],
   "source": [
    "dataset_df.head()"
   ]
  },
  {
   "cell_type": "code",
   "execution_count": 129,
   "metadata": {},
   "outputs": [
    {
     "data": {
      "text/plain": [
       "'1. 研究市場數據和交易數據，並進行交易策略研發。 \\n2. 開發模型和工具，監控分析交易程序運行情況研究，實施統計套利策略，並研發統計套利回測工具。 \\n3. 熟悉python R 或者c++,有自主研發量化策略的能力。\\n4. 具備機率、統計、機器學習和金融市場研究經驗 。\\n\\n求才若渴\\n如果你(妳)有下列特質：\\n\\n是個懶人：\\n希望以最小的力氣達成目標，甚至提升品質，懂得善用工具增加生產力，重構提煉自有的程式庫。\\n\\n有團隊精神：\\n懂得協同合作提升整體效益，將團隊目標置於個人之前。\\n\\n充滿好奇心：\\n喜歡接觸、學習新事物，發現各種創新的可能。\\n\\n熱愛程式：\\n充滿熱情想改變世界，將巧思及創造力注入每一行程式碼。\\n\\n\\n歡迎加入我們！ 一起邁向偉大航道 : )'"
      ]
     },
     "execution_count": 129,
     "metadata": {},
     "output_type": "execute_result"
    }
   ],
   "source": [
    "dataset_df['requirement'][1]"
   ]
  },
  {
   "cell_type": "code",
   "execution_count": 5,
   "metadata": {},
   "outputs": [],
   "source": [
    "requirements = dataset_df['requirement'] + ' ' + dataset_df['requirement_others']"
   ]
  },
  {
   "cell_type": "code",
   "execution_count": 6,
   "metadata": {},
   "outputs": [
    {
     "data": {
      "text/plain": [
       "0    - Driver development and fine tune of customiz...\n",
       "1    1. 研究市場數據和交易數據，並進行交易策略研發。 \\n2. 開發模型和工具，監控分析交易程...\n",
       "dtype: object"
      ]
     },
     "execution_count": 6,
     "metadata": {},
     "output_type": "execute_result"
    }
   ],
   "source": [
    "requirements[0:2]"
   ]
  },
  {
   "cell_type": "code",
   "execution_count": 7,
   "metadata": {},
   "outputs": [
    {
     "data": {
      "text/plain": [
       "'1. 研究市場數據和交易數據，並進行交易策略研發。 \\n2. 開發模型和工具，監控分析交易程序運行情況研究，實施統計套利策略，並研發統計套利回測工具。 \\n3. 熟悉python R 或者c++,有自主研發量化策略的能力。\\n4. 具備機率、統計、機器學習和金融市場研究經驗 。\\n\\n求才若渴\\n如果你(妳)有下列特質：\\n\\n是個懶人：\\n希望以最小的力氣達成目標，甚至提升品質，懂得善用工具增加生產力，重構提煉自有的程式庫。\\n\\n有團隊精神：\\n懂得協同合作提升整體效益，將團隊目標置於個人之前。\\n\\n充滿好奇心：\\n喜歡接觸、學習新事物，發現各種創新的可能。\\n\\n熱愛程式：\\n充滿熱情想改變世界，將巧思及創造力注入每一行程式碼。\\n\\n\\n歡迎加入我們！ 一起邁向偉大航道 : ) 將先以電子履歷篩選增加效率，請注意以下事項：\\n■ 履歷請詳述相關經驗並請提供 Github/Sample Code/作品，加速審核 。\\n■ 我們非常重視求職者的職務申請，履歷將由相關團隊主管嚴謹評估，因履歷眾多，意者我們將主動聯繫，請求職者悉知並耐心等候。'"
      ]
     },
     "execution_count": 7,
     "metadata": {},
     "output_type": "execute_result"
    }
   ],
   "source": [
    "requirements[1]"
   ]
  },
  {
   "cell_type": "markdown",
   "metadata": {},
   "source": [
    "# Strip Punctuations"
   ]
  },
  {
   "cell_type": "code",
   "execution_count": 130,
   "metadata": {},
   "outputs": [
    {
     "data": {
      "text/plain": [
       "'1  研究市場數據和交易數據，並進行交易策略研發。 \\n2  開發模型和工具，監控分析交易程序運行情況研究，實施統計套利策略，並研發統計套利回測工具。 \\n3  熟悉python R 或者c 有自主研發量化策略的能力。\\n4  具備機率、統計、機器學習和金融市場研究經驗 。\\n\\n求才若渴\\n如果你 妳 有下列特質：\\n\\n是個懶人：\\n希望以最小的力氣達成目標，甚至提升品質，懂得善用工具增加生產力，重構提煉自有的程式庫。\\n\\n有團隊精神：\\n懂得協同合作提升整體效益，將團隊目標置於個人之前。\\n\\n充滿好奇心：\\n喜歡接觸、學習新事物，發現各種創新的可能。\\n\\n熱愛程式：\\n充滿熱情想改變世界，將巧思及創造力注入每一行程式碼。\\n\\n\\n歡迎加入我們！ 一起邁向偉大航道     將先以電子履歷篩選增加效率，請注意以下事項：\\n■ 履歷請詳述相關經驗並請提供 Github Sample Code 作品，加速審核 。\\n■ 我們非常重視求職者的職務申請，履歷將由相關團隊主管嚴謹評估，因履歷眾多，意者我們將主動聯繫，請求職者悉知並耐心等候。'"
      ]
     },
     "execution_count": 130,
     "metadata": {},
     "output_type": "execute_result"
    }
   ],
   "source": [
    "gensim.parsing.preprocessing.strip_punctuation(requirements[1])"
   ]
  },
  {
   "cell_type": "markdown",
   "metadata": {},
   "source": [
    "\n",
    "# Tokenize Chinese/English Sentences using Jieba package"
   ]
  },
  {
   "cell_type": "code",
   "execution_count": 8,
   "metadata": {},
   "outputs": [
    {
     "name": "stderr",
     "output_type": "stream",
     "text": [
      "Building prefix dict from the default dictionary ...\n",
      "Dumping model to file cache /tmp/jieba.cache\n",
      "Loading model cost 1.458 seconds.\n",
      "Prefix dict has been built succesfully.\n"
     ]
    }
   ],
   "source": [
    "doc = requirements[0]\n",
    "\n",
    "tokens = [t for t in jieba.cut(doc, cut_all=False)]"
   ]
  },
  {
   "cell_type": "code",
   "execution_count": 9,
   "metadata": {},
   "outputs": [
    {
     "data": {
      "text/plain": [
       "['-', ' ', 'Driver', ' ', 'development', ' ', 'and', ' ', 'fine', ' ']"
      ]
     },
     "execution_count": 9,
     "metadata": {},
     "output_type": "execute_result"
    }
   ],
   "source": [
    "tokens[:10]"
   ]
  },
  {
   "cell_type": "code",
   "execution_count": 10,
   "metadata": {},
   "outputs": [],
   "source": [
    "doc = requirements[1]\n",
    "\n",
    "tokens = [t for t in jieba.cut(doc, cut_all=False)]"
   ]
  },
  {
   "cell_type": "code",
   "execution_count": 12,
   "metadata": {},
   "outputs": [
    {
     "data": {
      "text/plain": [
       "['1', '.', ' ', '研究', '市場', '數據', '和', '交易', '數據', '，']"
      ]
     },
     "execution_count": 12,
     "metadata": {},
     "output_type": "execute_result"
    }
   ],
   "source": [
    "tokens[:10]"
   ]
  },
  {
   "cell_type": "markdown",
   "metadata": {},
   "source": [
    "#### Tokens '機器', '學習' should be a single token '機器學習'"
   ]
  },
  {
   "cell_type": "code",
   "execution_count": 17,
   "metadata": {},
   "outputs": [
    {
     "data": {
      "text/plain": [
       "['具備', '機率', '、', '統計', '、', '機器', '學習', '和', '金融', '市場']"
      ]
     },
     "execution_count": 17,
     "metadata": {},
     "output_type": "execute_result"
    }
   ],
   "source": [
    "tokens[70:80]"
   ]
  },
  {
   "cell_type": "markdown",
   "metadata": {},
   "source": [
    "# Load Custom Dictionary\n",
    "Reference: https://github.com/fxsjy/jieba\n",
    "\n",
    "* Usage： jieba.load_userdict(file_name) # file_name is a file-like object or the path of the custom dictionary\n",
    "* The dictionary format is the same as that of dict.txt: one word per line; each line is divided into three parts separated by a space: word, word frequency, POS tag. If file_name is a path or a file opened in binary mode, the dictionary must be UTF-8 encoded.\n",
    "* The word frequency and POS tag can be omitted respectively. The word frequency will be filled with a suitable value if omitted.\n",
    "\n",
    "For example:\n",
    "\n",
    "创新办 3 i\n",
    "\n",
    "云计算 5\n",
    "\n",
    "凱特琳 nz\n",
    "\n",
    "台中"
   ]
  },
  {
   "cell_type": "code",
   "execution_count": 18,
   "metadata": {},
   "outputs": [],
   "source": [
    "filename_userdict = './custom_dictionary.txt'\n",
    "jieba.load_userdict(filename_userdict)"
   ]
  },
  {
   "cell_type": "code",
   "execution_count": 19,
   "metadata": {},
   "outputs": [],
   "source": [
    "doc = requirements[4]\n",
    "\n",
    "tokens = [t for t in jieba.cut(doc, cut_all=False)]"
   ]
  },
  {
   "cell_type": "code",
   "execution_count": 20,
   "metadata": {},
   "outputs": [
    {
     "data": {
      "text/plain": [
       "['影像', '相關', '之', '深度學習', '演算法', '研究', '與', '開發', ' ', '1']"
      ]
     },
     "execution_count": 20,
     "metadata": {},
     "output_type": "execute_result"
    }
   ],
   "source": [
    "tokens[:10]"
   ]
  },
  {
   "cell_type": "markdown",
   "metadata": {},
   "source": [
    "# Read Chinese Stopwords\n",
    "Link to Chinese stopwords: https://github.com/goto456/stopwords"
   ]
  },
  {
   "cell_type": "code",
   "execution_count": 157,
   "metadata": {},
   "outputs": [
    {
     "name": "stdout",
     "output_type": "stream",
     "text": [
      "['$', '0', '1', '2', '3', '4', '5', '6', '7', '8']\n",
      "['一些', '一何', '一切', '一则', '一方面', '一旦', '一来', '一样', '一般', '一转眼']\n"
     ]
    }
   ],
   "source": [
    "with open('./中文停用词表.txt') as f:\n",
    "    lines = f.readlines()\n",
    "    stopwords_chinese = [w.strip() for w in lines]\n",
    "    \n",
    "    \n",
    "print(stopwords_chinese[:10])\n",
    "print(stopwords_chinese[20:30])"
   ]
  },
  {
   "cell_type": "markdown",
   "metadata": {},
   "source": [
    "# Preprocess Documents"
   ]
  },
  {
   "cell_type": "code",
   "execution_count": null,
   "metadata": {},
   "outputs": [],
   "source": []
  },
  {
   "cell_type": "code",
   "execution_count": null,
   "metadata": {},
   "outputs": [],
   "source": []
  },
  {
   "cell_type": "code",
   "execution_count": 170,
   "metadata": {},
   "outputs": [],
   "source": [
    "def tokenizer(doc):\n",
    "    return jieba.cut(doc, cut_all=False)\n",
    "\n",
    "\n",
    "def preprocess_docs(raw_docs):\n",
    "    \"\"\"\n",
    "    Args:\n",
    "        raw_docs (list of string): list of documents\n",
    "        \n",
    "    Returns:\n",
    "        list of list: list of tokens in a document\n",
    "    \"\"\"\n",
    "    stopwords_custom = ['•', '與', '★']\n",
    "    \n",
    "    docs = []\n",
    "    \n",
    "    for d in raw_docs:\n",
    "        # Remove punctuations\n",
    "        d = gensim.parsing.preprocessing.strip_punctuation(d)\n",
    "        \n",
    "        # Normalize\n",
    "        d = d.lower()\n",
    "        \n",
    "        tokens = []\n",
    "        \n",
    "        # Tokenize and Remove stopwords\n",
    "        for t in tokenizer(d):\n",
    "            t = t.strip()\n",
    "            if t is '':\n",
    "                continue\n",
    "                \n",
    "            if t not in stopwords_chinese:\n",
    "                if t not in gensim.parsing.preprocessing.STOPWORDS:\n",
    "                    if t not in stopwords_custom:\n",
    "                        tokens.append(t)\n",
    "        \n",
    "        docs.append(tokens)\n",
    "        \n",
    "    return docs\n",
    "\n",
    "\n",
    "docs = preprocess_docs(requirements)"
   ]
  },
  {
   "cell_type": "code",
   "execution_count": 171,
   "metadata": {},
   "outputs": [
    {
     "data": {
      "text/plain": [
       "['driver',\n",
       " 'development',\n",
       " 'fine',\n",
       " 'tune',\n",
       " 'customized',\n",
       " 'hw',\n",
       " 'accelerator',\n",
       " 'opencv',\n",
       " 'opencl',\n",
       " 'openvx']"
      ]
     },
     "execution_count": 171,
     "metadata": {},
     "output_type": "execute_result"
    }
   ],
   "source": [
    "docs[0][:10]"
   ]
  },
  {
   "cell_type": "code",
   "execution_count": 172,
   "metadata": {},
   "outputs": [
    {
     "data": {
      "text/plain": [
       "['研究', '市場', '數據', '交易', '數據', '並進行', '交易', '策略', '研發', '開發']"
      ]
     },
     "execution_count": 172,
     "metadata": {},
     "output_type": "execute_result"
    }
   ],
   "source": [
    "docs[1][:10]"
   ]
  },
  {
   "cell_type": "code",
   "execution_count": null,
   "metadata": {},
   "outputs": [],
   "source": []
  },
  {
   "cell_type": "markdown",
   "metadata": {},
   "source": [
    "# Create Gensim Dictionary"
   ]
  },
  {
   "cell_type": "code",
   "execution_count": 173,
   "metadata": {},
   "outputs": [],
   "source": [
    "dictionary = gensim.corpora.Dictionary(docs)"
   ]
  },
  {
   "cell_type": "markdown",
   "metadata": {},
   "source": [
    "# Generate BOW (Bag Of Words)"
   ]
  },
  {
   "cell_type": "code",
   "execution_count": 174,
   "metadata": {},
   "outputs": [],
   "source": [
    "bows = [dictionary.doc2bow(d) for d in docs]"
   ]
  },
  {
   "cell_type": "code",
   "execution_count": 175,
   "metadata": {},
   "outputs": [
    {
     "name": "stdout",
     "output_type": "stream",
     "text": [
      "134\n"
     ]
    },
    {
     "data": {
      "text/plain": [
       "[(102, 1),\n",
       " (103, 1),\n",
       " (104, 1),\n",
       " (105, 1),\n",
       " (106, 1),\n",
       " (107, 1),\n",
       " (108, 1),\n",
       " (109, 1),\n",
       " (110, 3),\n",
       " (111, 1)]"
      ]
     },
     "execution_count": 175,
     "metadata": {},
     "output_type": "execute_result"
    }
   ],
   "source": [
    "print(len(bows[1]))\n",
    "bows[1][10:20]"
   ]
  },
  {
   "cell_type": "code",
   "execution_count": 176,
   "metadata": {},
   "outputs": [
    {
     "name": "stdout",
     "output_type": "stream",
     "text": [
      "交易\n",
      "以下\n",
      "作品\n",
      "個\n",
      "充滿\n",
      "具備\n",
      "分析\n",
      "創新\n",
      "創造力\n",
      "力氣\n"
     ]
    }
   ],
   "source": [
    "for id_word in range(110, 120):\n",
    "    print(dictionary.get(id_word))"
   ]
  },
  {
   "cell_type": "markdown",
   "metadata": {},
   "source": [
    "# LDA using BOW"
   ]
  },
  {
   "cell_type": "code",
   "execution_count": 177,
   "metadata": {},
   "outputs": [],
   "source": [
    "lda_model_bow = gensim.models.LdaModel(bows,\n",
    "                                      num_topics=10,\n",
    "                                      id2word=dictionary,\n",
    "                                      passes=2)"
   ]
  },
  {
   "cell_type": "code",
   "execution_count": 178,
   "metadata": {},
   "outputs": [
    {
     "name": "stdout",
     "output_type": "stream",
     "text": [
      "Topic 0: 0.014*\"開發\" + 0.012*\"經驗\" + 0.011*\"資料\" + 0.008*\"相關\" + 0.007*\"熟悉\" + 0.007*\"分析\" + 0.007*\"設計\" + 0.006*\"系統\" + 0.006*\"程式\" + 0.006*\"能力\"\n",
      "Topic 1: 0.020*\"experience\" + 0.016*\"learning\" + 0.013*\"data\" + 0.011*\"machine\" + 0.008*\"team\" + 0.007*\"development\" + 0.007*\"work\" + 0.006*\"design\" + 0.006*\"ai\" + 0.005*\"software\"\n",
      "Topic 2: 0.010*\"data\" + 0.009*\"learning\" + 0.007*\"design\" + 0.006*\"experience\" + 0.006*\"工作\" + 0.005*\"skills\" + 0.005*\"學習\" + 0.004*\"business\" + 0.004*\"我們\" + 0.003*\"knowledge\"\n",
      "Topic 3: 0.015*\"data\" + 0.011*\"learning\" + 0.007*\"experience\" + 0.007*\"分析\" + 0.007*\"machine\" + 0.006*\"資料\" + 0.005*\"skills\" + 0.005*\"我們\" + 0.005*\"training\" + 0.005*\"工作\"\n",
      "Topic 4: 0.010*\"開發\" + 0.010*\"分析\" + 0.009*\"演算法\" + 0.009*\"經驗\" + 0.007*\"相關\" + 0.007*\"c\" + 0.007*\"machine\" + 0.007*\"learning\" + 0.006*\"機器學習\" + 0.006*\"ai\"\n",
      "Topic 5: 0.012*\"learning\" + 0.009*\"開發\" + 0.008*\"熟悉\" + 0.007*\"experience\" + 0.007*\"c\" + 0.007*\"data\" + 0.006*\"machine\" + 0.005*\"經驗\" + 0.005*\"相關\" + 0.005*\"python\"\n",
      "Topic 6: 0.010*\"能力\" + 0.006*\"工作\" + 0.005*\"具備\" + 0.005*\"訓練\" + 0.005*\"管理\" + 0.005*\"於\" + 0.004*\"學習\" + 0.004*\"公司\" + 0.004*\"相關\" + 0.004*\"learning\"\n",
      "Topic 7: 0.022*\"管理\" + 0.018*\"訓練\" + 0.016*\"店\" + 0.014*\"舖\" + 0.013*\"學習\" + 0.013*\"經營\" + 0.012*\"我們\" + 0.011*\"learning\" + 0.010*\"負責\" + 0.010*\"工作\"\n",
      "Topic 8: 0.011*\"我們\" + 0.011*\"learning\" + 0.010*\"訓練\" + 0.008*\"管理\" + 0.008*\"工作\" + 0.008*\"學習\" + 0.007*\"experience\" + 0.006*\"歡迎\" + 0.006*\"加入\" + 0.006*\"環境\"\n",
      "Topic 9: 0.014*\"learning\" + 0.010*\"experience\" + 0.010*\"相關\" + 0.009*\"開發\" + 0.009*\"c\" + 0.009*\"machine\" + 0.009*\"data\" + 0.007*\"分析\" + 0.007*\"plus\" + 0.007*\"development\"\n"
     ]
    }
   ],
   "source": [
    "for index, topic in lda_model_bow.print_topics(-1):\n",
    "    print('Topic {}: {}'.format(index, topic))"
   ]
  },
  {
   "cell_type": "code",
   "execution_count": 179,
   "metadata": {},
   "outputs": [
    {
     "name": "stdout",
     "output_type": "stream",
     "text": [
      "Topic 0: \n",
      "\t\t開發\n",
      "\t\t經驗\n",
      "\t\t資料\n",
      "\t\t相關\n",
      "\t\t熟悉\n",
      "\t\t分析\n",
      "\t\t設計\n",
      "\t\t系統\n",
      "\t\t程式\n",
      "\t\t能力\n",
      "\n",
      "\n",
      "Topic 1: \n",
      "\t\texperience\n",
      "\t\tlearning\n",
      "\t\tdata\n",
      "\t\tmachine\n",
      "\t\tteam\n",
      "\t\tdevelopment\n",
      "\t\twork\n",
      "\t\tdesign\n",
      "\t\tai\n",
      "\t\tsoftware\n",
      "\n",
      "\n",
      "Topic 2: \n",
      "\t\tdata\n",
      "\t\tlearning\n",
      "\t\tdesign\n",
      "\t\texperience\n",
      "\t\t工作\n",
      "\t\tskills\n",
      "\t\t學習\n",
      "\t\tbusiness\n",
      "\t\t我們\n",
      "\t\tknowledge\n",
      "\n",
      "\n",
      "Topic 3: \n",
      "\t\tdata\n",
      "\t\tlearning\n",
      "\t\texperience\n",
      "\t\t分析\n",
      "\t\tmachine\n",
      "\t\t資料\n",
      "\t\tskills\n",
      "\t\t我們\n",
      "\t\ttraining\n",
      "\t\t工作\n",
      "\n",
      "\n",
      "Topic 4: \n",
      "\t\t開發\n",
      "\t\t分析\n",
      "\t\t演算法\n",
      "\t\t經驗\n",
      "\t\t相關\n",
      "\t\tc\n",
      "\t\tmachine\n",
      "\t\tlearning\n",
      "\t\t機器學習\n",
      "\t\tai\n",
      "\n",
      "\n",
      "Topic 5: \n",
      "\t\tlearning\n",
      "\t\t開發\n",
      "\t\t熟悉\n",
      "\t\texperience\n",
      "\t\tc\n",
      "\t\tdata\n",
      "\t\tmachine\n",
      "\t\t經驗\n",
      "\t\t相關\n",
      "\t\tpython\n",
      "\n",
      "\n",
      "Topic 6: \n",
      "\t\t能力\n",
      "\t\t工作\n",
      "\t\t具備\n",
      "\t\t訓練\n",
      "\t\t管理\n",
      "\t\t於\n",
      "\t\t學習\n",
      "\t\t公司\n",
      "\t\t相關\n",
      "\t\tlearning\n",
      "\n",
      "\n",
      "Topic 7: \n",
      "\t\t管理\n",
      "\t\t訓練\n",
      "\t\t店\n",
      "\t\t舖\n",
      "\t\t學習\n",
      "\t\t經營\n",
      "\t\t我們\n",
      "\t\tlearning\n",
      "\t\t負責\n",
      "\t\t工作\n",
      "\n",
      "\n",
      "Topic 8: \n",
      "\t\t我們\n",
      "\t\tlearning\n",
      "\t\t訓練\n",
      "\t\t管理\n",
      "\t\t工作\n",
      "\t\t學習\n",
      "\t\texperience\n",
      "\t\t歡迎\n",
      "\t\t加入\n",
      "\t\t環境\n",
      "\n",
      "\n",
      "Topic 9: \n",
      "\t\tlearning\n",
      "\t\texperience\n",
      "\t\t相關\n",
      "\t\t開發\n",
      "\t\tc\n",
      "\t\tmachine\n",
      "\t\tdata\n",
      "\t\t分析\n",
      "\t\tplus\n",
      "\t\tdevelopment\n",
      "\n",
      "\n"
     ]
    }
   ],
   "source": [
    "for index, topic in lda_model_bow.show_topics(-1, formatted=False):\n",
    "    print('Topic {}: '.format(index))\n",
    "    \n",
    "    for word, weight in topic:\n",
    "        print('\\t\\t{}'.format(word), end='\\n')\n",
    "#         print('{} '.format(word))\n",
    "\n",
    "\n",
    "    print('\\n')"
   ]
  },
  {
   "cell_type": "markdown",
   "metadata": {},
   "source": [
    "# LDA using TF-IDF"
   ]
  },
  {
   "cell_type": "code",
   "execution_count": 181,
   "metadata": {},
   "outputs": [],
   "source": [
    "def bow2tfidf(bows):\n",
    "    tfidf = gensim.models.TfidfModel(bows)\n",
    "    corpus_tfidf = tfidf[bows]\n",
    "    \n",
    "    return corpus_tfidf\n",
    "\n",
    "corpus_tfidf = bow2tfidf(bows)"
   ]
  },
  {
   "cell_type": "code",
   "execution_count": 182,
   "metadata": {},
   "outputs": [
    {
     "data": {
      "text/plain": [
       "gensim.interfaces.TransformedCorpus"
      ]
     },
     "execution_count": 182,
     "metadata": {},
     "output_type": "execute_result"
    }
   ],
   "source": [
    "type(corpus_tfidf)"
   ]
  },
  {
   "cell_type": "code",
   "execution_count": 183,
   "metadata": {},
   "outputs": [],
   "source": [
    "lda_model_tfidf = gensim.models.LdaModel(corpus_tfidf,\n",
    "                                        num_topics=10,\n",
    "                                        id2word=dictionary,\n",
    "                                        passes=2)"
   ]
  },
  {
   "cell_type": "code",
   "execution_count": 184,
   "metadata": {},
   "outputs": [
    {
     "name": "stdout",
     "output_type": "stream",
     "text": [
      "Index 0: topic= 0.003*\"舖\" + 0.003*\"店\" + 0.002*\"學習\" + 0.002*\"訓練\" + 0.002*\"管理\" + 0.002*\"c\" + 0.002*\"工作\" + 0.002*\"資料\" + 0.002*\"熟悉\" + 0.002*\"透過\"\n",
      "Index 1: topic= 0.002*\"data\" + 0.002*\"資料\" + 0.002*\"分析\" + 0.002*\"開發\" + 0.002*\"熟悉\" + 0.001*\"程式\" + 0.001*\"相關\" + 0.001*\"經驗\" + 0.001*\"experience\" + 0.001*\"c\"\n",
      "Index 2: topic= 0.001*\"獎金\" + 0.001*\"完善\" + 0.001*\"familiar\" + 0.001*\"制度\" + 0.001*\"門市\" + 0.001*\"次\" + 0.001*\"我們\" + 0.001*\"年度\" + 0.001*\"環境\" + 0.001*\"福利\"\n",
      "Index 3: topic= 0.001*\"training\" + 0.001*\"管理\" + 0.001*\"experience\" + 0.001*\"development\" + 0.001*\"data\" + 0.001*\"訓練\" + 0.001*\"plus\" + 0.001*\"new\" + 0.001*\"·\" + 0.001*\"資料\"\n",
      "Index 4: topic= 0.002*\"開發\" + 0.001*\"分析\" + 0.001*\"程式\" + 0.001*\"系統\" + 0.001*\"c\" + 0.001*\"data\" + 0.001*\"experience\" + 0.001*\"影像\" + 0.001*\"deep\" + 0.001*\"演算法\"\n",
      "Index 5: topic= 0.004*\"訓練\" + 0.004*\"管理\" + 0.004*\"舖\" + 0.004*\"經營\" + 0.004*\"店\" + 0.003*\"主任\" + 0.003*\"我們\" + 0.003*\"學習\" + 0.003*\"負責\" + 0.002*\"分店\"\n",
      "Index 6: topic= 0.003*\"開發\" + 0.002*\"熟悉\" + 0.002*\"相關\" + 0.002*\"分析\" + 0.002*\"演算法\" + 0.002*\"data\" + 0.002*\"資料\" + 0.002*\"經驗\" + 0.002*\"系統\" + 0.002*\"應用\"\n",
      "Index 7: topic= 0.002*\"experience\" + 0.001*\"design\" + 0.001*\"software\" + 0.001*\"engineering\" + 0.001*\"development\" + 0.001*\"data\" + 0.001*\"●\" + 0.001*\"work\" + 0.001*\"familiar\" + 0.001*\"team\"\n",
      "Index 8: topic= 0.002*\"訓練\" + 0.002*\"我們\" + 0.002*\"獎金\" + 0.002*\"完善\" + 0.001*\"服務\" + 0.001*\"門市\" + 0.001*\"環境\" + 0.001*\"餐\" + 0.001*\"次\" + 0.001*\"福利\"\n",
      "Index 9: topic= 0.002*\"ai\" + 0.002*\"c\" + 0.002*\"experience\" + 0.002*\"familiar\" + 0.002*\"deep\" + 0.001*\"相關\" + 0.001*\"演算法\" + 0.001*\"●\" + 0.001*\"熟悉\" + 0.001*\"分析\"\n"
     ]
    }
   ],
   "source": [
    "for index, topic in lda_model_tfidf.print_topics(-1):\n",
    "    print('Index {}: topic= {}'.format(index, topic))"
   ]
  },
  {
   "cell_type": "code",
   "execution_count": 185,
   "metadata": {},
   "outputs": [
    {
     "name": "stdout",
     "output_type": "stream",
     "text": [
      "Topic 0: \n",
      "\t\t開發\n",
      "\t\t經驗\n",
      "\t\t資料\n",
      "\t\t相關\n",
      "\t\t熟悉\n",
      "\t\t分析\n",
      "\t\t設計\n",
      "\t\t系統\n",
      "\t\t程式\n",
      "\t\t能力\n",
      "\n",
      "\n",
      "Topic 1: \n",
      "\t\texperience\n",
      "\t\tlearning\n",
      "\t\tdata\n",
      "\t\tmachine\n",
      "\t\tteam\n",
      "\t\tdevelopment\n",
      "\t\twork\n",
      "\t\tdesign\n",
      "\t\tai\n",
      "\t\tsoftware\n",
      "\n",
      "\n",
      "Topic 2: \n",
      "\t\tdata\n",
      "\t\tlearning\n",
      "\t\tdesign\n",
      "\t\texperience\n",
      "\t\t工作\n",
      "\t\tskills\n",
      "\t\t學習\n",
      "\t\tbusiness\n",
      "\t\t我們\n",
      "\t\tknowledge\n",
      "\n",
      "\n",
      "Topic 3: \n",
      "\t\tdata\n",
      "\t\tlearning\n",
      "\t\texperience\n",
      "\t\t分析\n",
      "\t\tmachine\n",
      "\t\t資料\n",
      "\t\tskills\n",
      "\t\t我們\n",
      "\t\ttraining\n",
      "\t\t工作\n",
      "\n",
      "\n",
      "Topic 4: \n",
      "\t\t開發\n",
      "\t\t分析\n",
      "\t\t演算法\n",
      "\t\t經驗\n",
      "\t\t相關\n",
      "\t\tc\n",
      "\t\tmachine\n",
      "\t\tlearning\n",
      "\t\t機器學習\n",
      "\t\tai\n",
      "\n",
      "\n",
      "Topic 5: \n",
      "\t\tlearning\n",
      "\t\t開發\n",
      "\t\t熟悉\n",
      "\t\texperience\n",
      "\t\tc\n",
      "\t\tdata\n",
      "\t\tmachine\n",
      "\t\t經驗\n",
      "\t\t相關\n",
      "\t\tpython\n",
      "\n",
      "\n",
      "Topic 6: \n",
      "\t\t能力\n",
      "\t\t工作\n",
      "\t\t具備\n",
      "\t\t訓練\n",
      "\t\t管理\n",
      "\t\t於\n",
      "\t\t學習\n",
      "\t\t公司\n",
      "\t\t相關\n",
      "\t\tlearning\n",
      "\n",
      "\n",
      "Topic 7: \n",
      "\t\t管理\n",
      "\t\t訓練\n",
      "\t\t店\n",
      "\t\t舖\n",
      "\t\t學習\n",
      "\t\t經營\n",
      "\t\t我們\n",
      "\t\tlearning\n",
      "\t\t負責\n",
      "\t\t工作\n",
      "\n",
      "\n",
      "Topic 8: \n",
      "\t\t我們\n",
      "\t\tlearning\n",
      "\t\t訓練\n",
      "\t\t管理\n",
      "\t\t工作\n",
      "\t\t學習\n",
      "\t\texperience\n",
      "\t\t歡迎\n",
      "\t\t加入\n",
      "\t\t環境\n",
      "\n",
      "\n",
      "Topic 9: \n",
      "\t\tlearning\n",
      "\t\texperience\n",
      "\t\t相關\n",
      "\t\t開發\n",
      "\t\tc\n",
      "\t\tmachine\n",
      "\t\tdata\n",
      "\t\t分析\n",
      "\t\tplus\n",
      "\t\tdevelopment\n",
      "\n",
      "\n"
     ]
    }
   ],
   "source": [
    "for index, topic in lda_model_bow.show_topics(-1, formatted=False):\n",
    "    print('Topic {}: '.format(index))\n",
    "    \n",
    "    for word, weight in topic:\n",
    "        print('\\t\\t{}'.format(word), end='\\n')\n",
    "#         print('{} '.format(word))\n",
    "\n",
    "\n",
    "    print('\\n')"
   ]
  },
  {
   "cell_type": "code",
   "execution_count": null,
   "metadata": {},
   "outputs": [],
   "source": []
  }
 ],
 "metadata": {
  "kernelspec": {
   "display_name": "Python 3",
   "language": "python",
   "name": "python3"
  },
  "language_info": {
   "codemirror_mode": {
    "name": "ipython",
    "version": 3
   },
   "file_extension": ".py",
   "mimetype": "text/x-python",
   "name": "python",
   "nbconvert_exporter": "python",
   "pygments_lexer": "ipython3",
   "version": "3.6.3"
  }
 },
 "nbformat": 4,
 "nbformat_minor": 2
}
