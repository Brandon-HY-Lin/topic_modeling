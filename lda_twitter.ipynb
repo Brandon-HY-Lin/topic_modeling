{
 "cells": [
  {
   "cell_type": "code",
   "execution_count": 1,
   "metadata": {},
   "outputs": [
    {
     "name": "stdout",
     "output_type": "stream",
     "text": [
      "[nltk_data] Downloading package wordnet to /root/nltk_data...\n",
      "[nltk_data]   Unzipping corpora/wordnet.zip.\n",
      "[nltk_data] Downloading package punkt to /root/nltk_data...\n",
      "[nltk_data]   Unzipping tokenizers/punkt.zip.\n"
     ]
    },
    {
     "data": {
      "text/plain": [
       "True"
      ]
     },
     "execution_count": 1,
     "metadata": {},
     "output_type": "execute_result"
    }
   ],
   "source": [
    "import pandas as pd\n",
    "import gensim\n",
    "import nltk\n",
    "import re\n",
    "\n",
    "nltk.download('wordnet')\n",
    "\n",
    "# download word_tokenize\n",
    "nltk.download('punkt')"
   ]
  },
  {
   "cell_type": "code",
   "execution_count": 2,
   "metadata": {},
   "outputs": [],
   "source": [
    "# filename = 'abcnews-date-text.csv'\n",
    "filename = 'twitter_trump_2019_05.csv'\n",
    "raw_docs = pd.read_csv(filename, error_bad_lines=False)"
   ]
  },
  {
   "cell_type": "code",
   "execution_count": 3,
   "metadata": {},
   "outputs": [
    {
     "data": {
      "text/plain": [
       "677"
      ]
     },
     "execution_count": 3,
     "metadata": {},
     "output_type": "execute_result"
    }
   ],
   "source": [
    "len(raw_docs)"
   ]
  },
  {
   "cell_type": "code",
   "execution_count": 4,
   "metadata": {},
   "outputs": [
    {
     "data": {
      "text/html": [
       "<div>\n",
       "<style scoped>\n",
       "    .dataframe tbody tr th:only-of-type {\n",
       "        vertical-align: middle;\n",
       "    }\n",
       "\n",
       "    .dataframe tbody tr th {\n",
       "        vertical-align: top;\n",
       "    }\n",
       "\n",
       "    .dataframe thead th {\n",
       "        text-align: right;\n",
       "    }\n",
       "</style>\n",
       "<table border=\"1\" class=\"dataframe\">\n",
       "  <thead>\n",
       "    <tr style=\"text-align: right;\">\n",
       "      <th></th>\n",
       "      <th>text</th>\n",
       "      <th>created_at</th>\n",
       "      <th>id_str</th>\n",
       "    </tr>\n",
       "  </thead>\n",
       "  <tbody>\n",
       "    <tr>\n",
       "      <th>0</th>\n",
       "      <td>Robert Mueller came to the Oval Office (along ...</td>\n",
       "      <td>05-30-2019 15:34:11</td>\n",
       "      <td>1134120831389392896</td>\n",
       "    </tr>\n",
       "    <tr>\n",
       "      <th>1</th>\n",
       "      <td>“Comey and Brennan are turning on each other.”...</td>\n",
       "      <td>05-30-2019 14:41:24</td>\n",
       "      <td>1134107544681455616</td>\n",
       "    </tr>\n",
       "    <tr>\n",
       "      <th>2</th>\n",
       "      <td>Congressman John Ratcliffe “The Trump Campaign...</td>\n",
       "      <td>05-30-2019 13:41:43</td>\n",
       "      <td>1134092525218590721</td>\n",
       "    </tr>\n",
       "    <tr>\n",
       "      <th>3</th>\n",
       "      <td>Russia Russia Russia! That’s all you heard at ...</td>\n",
       "      <td>05-30-2019 11:57:47</td>\n",
       "      <td>1134066371510378501</td>\n",
       "    </tr>\n",
       "    <tr>\n",
       "      <th>4</th>\n",
       "      <td>....say he fought back against this phony crim...</td>\n",
       "      <td>05-30-2019 11:57:47</td>\n",
       "      <td>1134066372584062976</td>\n",
       "    </tr>\n",
       "  </tbody>\n",
       "</table>\n",
       "</div>"
      ],
      "text/plain": [
       "                                                text           created_at  \\\n",
       "0  Robert Mueller came to the Oval Office (along ...  05-30-2019 15:34:11   \n",
       "1  “Comey and Brennan are turning on each other.”...  05-30-2019 14:41:24   \n",
       "2  Congressman John Ratcliffe “The Trump Campaign...  05-30-2019 13:41:43   \n",
       "3  Russia Russia Russia! That’s all you heard at ...  05-30-2019 11:57:47   \n",
       "4  ....say he fought back against this phony crim...  05-30-2019 11:57:47   \n",
       "\n",
       "                id_str  \n",
       "0  1134120831389392896  \n",
       "1  1134107544681455616  \n",
       "2  1134092525218590721  \n",
       "3  1134066371510378501  \n",
       "4  1134066372584062976  "
      ]
     },
     "execution_count": 4,
     "metadata": {},
     "output_type": "execute_result"
    }
   ],
   "source": [
    "raw_docs.head()"
   ]
  },
  {
   "cell_type": "code",
   "execution_count": 29,
   "metadata": {},
   "outputs": [
    {
     "data": {
      "text/plain": [
       "0    Robert Mueller came to the Oval Office (along ...\n",
       "1    “Comey and Brennan are turning on each other.”...\n",
       "2    Congressman John Ratcliffe “The Trump Campaign...\n",
       "3    Russia Russia Russia! That’s all you heard at ...\n",
       "4    ....say he fought back against this phony crim...\n",
       "5    Russia Russia Russia! That’s all you heard at ...\n",
       "6    ....say he fought back against this phony crim...\n",
       "7    The Greatest Presidential Harassment in histor...\n",
       "8    I was not informed about anything having to do...\n",
       "9    Great show tonight @seanhannity you really get...\n",
       "Name: text, dtype: object"
      ]
     },
     "execution_count": 29,
     "metadata": {},
     "output_type": "execute_result"
    }
   ],
   "source": [
    "raw_docs['text'][:10]"
   ]
  },
  {
   "cell_type": "code",
   "execution_count": 30,
   "metadata": {},
   "outputs": [],
   "source": [
    "import pdb\n",
    "\n",
    "def preprocess_docs(raw_docs, num_docs=None):\n",
    "    \"\"\"\n",
    "    Args:\n",
    "        raw_docs: pandas.DataFrame\n",
    "\n",
    "    Returns:\n",
    "        list(list): return list of list\n",
    "    \"\"\"\n",
    "    if num_docs is None:\n",
    "        num_docs = len(raw_docs)\n",
    "        \n",
    "    docs = list()\n",
    "\n",
    "    stemmer = nltk.stem.SnowballStemmer('english')\n",
    "    lemmatizer = nltk.stem.WordNetLemmatizer()\n",
    "    \n",
    "    \n",
    "    stopwords_http = ['https', 'rt', 'amp']\n",
    "\n",
    "    for d in raw_docs['text'][:num_docs]:\n",
    "        \n",
    "#         print(d)\n",
    "        processed_tokens = list()\n",
    "        # normalize and tokenize\n",
    "        tokens = gensim.utils.simple_preprocess(d)\n",
    "    \n",
    "#         print(tokens)\n",
    "#         pdb.set_trace()\n",
    "\n",
    "        # lemmatize then stem\n",
    "        for t in tokens:\n",
    "            # remove stop words\n",
    "            if t not in gensim.parsing.preprocessing.STOPWORDS:\n",
    "                if t not in stopwords_http:\n",
    "    #             print(t)\n",
    "                    p_t = stemmer.stem(lemmatizer.lemmatize(t, pos='v'))\n",
    "                    processed_tokens.append(p_t)\n",
    "            \n",
    "    #             pdb.set_trace()\n",
    "\n",
    "        docs.append(processed_tokens)\n",
    "    \n",
    "    return docs\n",
    "\n",
    "\n",
    "docs = preprocess_docs(raw_docs)"
   ]
  },
  {
   "cell_type": "code",
   "execution_count": 31,
   "metadata": {},
   "outputs": [
    {
     "name": "stdout",
     "output_type": "stream",
     "text": [
      "677\n",
      "[['robert', 'mueller', 'come', 'oval', 'offic', 'potenti', 'candid', 'seek', 'name', 'director', 'fbi', 'posit', 'year', 'tell', 'day', 'name', 'special', 'counsel', 'total', 'conflict', 'nice'], ['comey', 'brennan', 'turn', 'kilmead'], ['congressman', 'john', 'ratcliff', 'trump', 'campaign', 'clear', 'conspir', 'collud', 'foxnew'], ['russia', 'russia', 'russia', 'hear', 'begin', 'witch', 'hunt', 'hoax', 'russia', 'disappear', 'russia', 'help', 'elect', 'crime', 'exist', 'dem', 'partner', 'fake', 'news', 'media'], ['fight', 'phoni', 'crime', 'exist', 'horrend', 'fals', 'accus', 'shouldn', 'fight', 'sit', 'obstruct', 'mueller', 'obstruct', 'presidenti', 'harass'], ['russia', 'russia', 'russia', 'hear', 'begin', 'witch', 'hunt', 'hoax', 'russia', 'disappear', 'russia', 'help', 'elect', 'crime', 'exist', 'dem', 'partner', 'fake', 'news', 'media'], ['fight', 'phoni', 'crime', 'exist', 'horrend', 'fals', 'acquisit', 'shouldn', 'fight', 'sit', 'obstruct', 'mueller', 'obstruct', 'presidenti', 'harass'], ['greatest', 'presidenti', 'harass', 'histori', 'spend', 'dark', 'year', 'unlimit', 'access', 'peopl', 'resourc', 'cooper', 'high', 'conflict', 'robert', 'mueller', 'bring', 'charg', 'charg', 'bring'], ['inform', 'have', 'navi', 'ship', 'uss', 'john', 'mccain', 'recent', 'visit', 'japan', 'flotus', 'love', 'great', 'militari', 'men', 'women', 'spectacular', 'job'], ['great', 'tonight', 'seanhann', 'foxnew', 'number', 'far', 'tell', 'mark', 'levin', 'congrat', 'have', 'number', 'book'], ['impeach', 'republican', 'presid', 'crime', 'commit', 'democrat', 'witch', 'hunt'], ['presssec', 'white', 'hous', 'statement', 'mueller', 'statement', 'today', 'txzf', 'qpd'], ['kayleighmcenani', 'time', 'turn', 'origin', 'russia', 'hoax', 'trump', 'campaign', 'spi'], ['chang', 'mueller', 'report', 'insuffici', 'evid', 'countri', 'person', 'innoc', 'case', 'close', 'thank'], ['alabama', 'elect', 'republican', 'senat', 'incred', 'gain', 'presid', 'lose', 'includ', 'pro', 'life', 'victori', 'roy', 'moor', 'win', 'consequ', 'devast', 'judg', 'suprem', 'court', 'justic'], ['republican', 'allow', 'lose', 'senat', 'seat', 'great', 'state', 'alabama', 'time', 'year', 'roy', 'moor', 'unlik', 'republican', 'leader', 'want', 'win', 'probabl', 'win'], ['realdonaldtrump', 'god', 'bless', 'usa', 'hrt', 'wnwz'], ['thank', 'japan', 'zvzel', 'iqsi'], ['japan', 'success', 'trip', 'big', 'progress', 'front', 'great', 'countri', 'wonder', 'leader', 'prime', 'minist', 'abe'], ['actual', 'stick', 'sleepi', 'joe', 'biden', 'foreign', 'soil', 'kim', 'jong', 'call', 'low', 'iq', 'idiot', 'thing', 'relat', 'quot', 'chairman', 'kim', 'softer', 'low', 'iq', 'individu', 'possibl', 'upset'], ['speak', 'governor', 'asahutchinson', 'great', 'state', 'arkansa', 'inform', 'fema', 'feder', 'govern', 'necessari', 'help', 'turn', 'record', 'flood', 'asa', 'local', 'offici', 'great', 'job'], ['govmikedewin', 'updat', 'devast', 'tornado', 'strike', 'ohio', 'earli', 'morn', 'administr', 'fulli', 'support', 'peopl', 'great', 'state', 'ohio', 'begin', 'cleanup', 'recoveri'], ['storm', 'overnight', 'ohio', 'state', 'danger', 'damag', 'team', 'continu', 'updat', 'report', 'emerg', 'manag', 'state', 'affect', 'listen', 'local', 'offici', 'resili'], ['god', 'bless', 'usa', 'hrt', 'wnwz'], ['kantei', 'sns投稿', '本日', 'トランプ大統領と共に', '海上自衛隊の護衛艦', 'かが', 'を訪問しました', '日米両国の首脳が揃って', '自衛隊', '米軍を激励するのは', '史上初めてのことです', 'hlwiqcmah'], ['speak', 'govstitt', 'oklahoma', 'night', 'japan', 'devast', 'tornado', 'tell', 'fema', 'feder', 'govern', 'fulli', 'great', 'peopl', 'oklahoma'], ['usforcesjapan', 'live', 'remark', 'potus', 'donald', 'trump', 'aboard', 'usswasp', 'japan', 'biliri'], ['wait', 'soon', 'kkaw', 'hqqx'], ['mzhemingway', 'excit', 'news', 've', 'write', 'book', 'kavanaugh', 'confirm', 'inimit', 'jcnseverino', 'scene', 'loo'], ['make', 'stop', 'morn', 'japan', 'visit', 'great', 'militari', 'quick', 'stop', 'alaska', 'meet', 'prime', 'minist', 'abe', 'go', 'get', 'spend', 'time', 'new', 'emperor', 'empress', 'japan', 'great', 'honor'], ['associ', 'crime', 'chanc', 'elect', 'particular', 'african', 'american', 'abl', 'vote', 'hand', 'respons', 'crimin', 'justic', 'reform', 'tremend', 'support', 'help', 'fix', 'bad'], ['super', 'predat', 'term', 'associ', 'crime', 'sleepi', 'joe', 'biden', 'heavili', 'involv', 'pass', 'dark', 'period', 'american', 'histori', 'sleepi', 'joe', 'apolog'], ['associ', 'crime', 'chanc', 'elect', 'particular', 'african', 'american', 'ble', 'vote', 'hand', 'respons', 'crimin', 'justic', 'reform', 'tremend', 'support', 'help', 'fix', 'bad'], ['hop', 'thing', 'work', 'israel', 'coalit', 'format', 'bibi', 'continu', 'allianc', 'america', 'israel', 'stronger', 'lot'], ['bmmwxdfmqp'], ['liz', 'cheney', 'statement', 'agent', 'investig', 'trump', 'treason', 'vig', 'dsrsxi'], ['japantim', 'presid', 'donald', 'trump', 'foreign', 'leader', 'meet', 'japan', 'emperor', 'naruhito', 'hu', 'wh', 'jz'], ['memorialday', 'fmwhvpvvqu'], ['lzrn', 'spd'], ['dem', 'get', 'congress', 'want', 'mueller'], ['impeach', 'have', 'creat', 'greatest', 'economi', 'countri', 'histori', 'rebuild', 'militari', 'take', 'care', 'vet', 'choic', 'judg', 'best', 'job', 'number', 'dem', 'obstructionist', 'nrtixu', 'zna'], ['ianbremm', 'admit', 'complet', 'ludicr', 'quot', 'attribut', 'go', 'age', 'fake', 'news', 'peopl', 'think', 'away', 'libel', 'law', 'chang', 'hold', 'fake', 'news', 'media', 'account'], ['whitehous', 'presid', 'realdonaldtrump', 'prime', 'minist', 'abeshinzo', 'meet', 'bilater', 'meet', 'work', 'lunch', 'akasaka', 'palac'], ['usembassytokyo', 'トランプ大統領とメラニア夫人は', '天皇', '皇后両陛下との会見に臨みました', 'potus', 'flotus', 'receiv', 'majesti', 'emperor', 'empress', 'japan'], ['great', 'even', 'night', 'thank', 'wpjj', 'yaaru'], ['usembassytokyo', 'potus', 'abeshinzo', 'imperi', 'palac', 'welcom', 'ceremoni', 'potusinjapan'], ['congratul', 'great', 'friend', 'roger', 'pensk', 'win', 'th', 'unbeliev', 'indianapoli', 'japan', 'earli', 'morn', 'get', 'watch', 'simon', 'drive', 'greatest', 'race', 'histori', 'sport', 'team', 'wh'], ['great', 'patriot', 'roll', 'thunder', 'come', 'washington', 'year', 'hope', 'year', 'come', 'want', 'wonder', 'time', 'today', 'thank', 'great', 'men', 'women', 'pentagon', 'work'], ['press', 'apolog', 'presid', 'trump', 'russian', 'collus', 'delus', 'marklevinshow', 'judgejeanin', 'dem'], ['thank', 'jpn_pmo', 'abeshinzo', 'potusinjapan', 'fwtob', 'xotg'], ['tonight', 'tokyo', 'japan', 'ryōgoku', 'kokugikan', 'stadium', 'great', 'honor', 'present', 'presid', 'cup', 'sumo', 'grand', 'champion', 'asanoyama', 'congratul', 'great', 'time', 'thank', 'abeshinzo', 'nwwxjl', 'kxh'], ['great', 'progress', 'trade', 'negoti', 'japan', 'agricultur', 'beef', 'heavili', 'play', 'wait', 'juli', 'elect', 'anticip', 'big', 'number'], ['great', 'fun', 'meet', 'prime', 'minist', 'abeshinzo', 'numer', 'japanes', 'offici', 'tell', 'democrat', 'unit', 'state', 'fail', 'republican', 'parti', 'succeed', 'death', 'wish'], ['abeshinzo', 'ol', 'xwi'], ['great', 'morn', 'golf', 'prime', 'minist', 'abeshinzo', 'mobara', 'countri', 'club', 'chiba', 'japan', 'ezej', 'zns'], ['usambjapan', 'welcom', 'japan', 'mr', 'presid', 'potus', 'potusinjapan', 'allianc', 'トランプ大統領', '日本へようこそ', 'kenxm', 'yf'], ['north', 'korea', 'fire', 'small', 'weapon', 'disturb', 'peopl', 'confid', 'chairman', 'kim', 'promis', 'smile', 'call', 'swampman', 'joe', 'biden', 'low', 'iq', 'individu', 'wors', 'send', 'signal'], ['go', 'play', 'golf', 'right', 'abeshinzo', 'japan', 'love', 'game', 'tremend', 'fan', 'jacknicklaus', 'tigerwood', 'philmickelson', 'say', 'garyplay', 'say', 'love', 'gari'], ['abeshinzo', 'presid', 'trump', 'ladi', 'stay', 'japan', 'state', 'guest', 'new', 'era', 'reiwa', 'tokyo', 'skytre', 'welc'], ['usambjapan', 'potus', 'kick', 'histor', 'state', 'visit', 'discuss', 'way', 'deepen', 'econom', 'tie', 'busi', 'leader', 'potusinjapan'], ['north', 'korea', 'fire', 'small', 'weapon', 'disturb', 'peopl', 'confid', 'chairman', 'kim', 'promis', 'smile', 'call', 'swampman', 'joe', 'bidan', 'low', 'iq', 'individu', 'wors', 'send', 'signal'], ['gopchairwoman', 'realdonaldtrump', 'administr', 'fight', 'better', 'trade', 'deal', 'end', 'china', 'presid', 'work', 'ha'], ['addit', 'great', 'incompet', 'corrupt', 'smollett', 'case', 'chicago', 'hate', 'crime', 'rememb', 'maga', 'countri', 'turn', 'total', 'lie', 'maga', 'countri', 'stuff', 'apolog', 'million', 'peopl'], ['teamtrump', 'dem', 'plan', 'govern', 'takeov', 'healthcar', 'mean', 'elimin', 'privat', 'plan', 'like', 'blue', 'cross', 'blue', 'shield', 'reald'], ['jessebwatt', 'tomorrow', 'senat', 'lindseygrahamsc', 'splash', 'wattersworld', 'discuss', 'relationship', 'presid', 'realdonaldtru'], ['gopchairwoman', 'democrat', 'mainstream', 'media', 'love', 'talk', 'transpar', 'learn', 'realdonaldtrump', 'declassifyin'], ['jonvoight', 'fellow', 'american', 'uhqpbzwhh'], ['thank', 'john', 'nice', 'cfcxpzjyn'], ['activist', 'obama', 'appoint', 'judg', 'rule', 'section', 'southern', 'wall', 'construct', 'rule', 'border', 'secur', 'favor', 'crime', 'drug', 'human', 'traffic', 'ask', 'expedit', 'appeal'], ['whitehous', 'arriv', 'tokyo', 'presid', 'realdonaldtrump', 'speak', 'japanes', 'busi', 'leader', 'ambassador', 'japan'], ['get', 'readi', 'land', 'japan', 'ladi', 'melania', 'look', 'forward', 'see', 'soon'], ['believ', 'roll', 'thunder', 'give', 'hard', 'time', 'permit', 'washington', 'great', 'patriot', 'get', 'know', 'action', 'love', 'countri', 'love', 'flag', 'help'], ['democrat', 'senat', 'mark', 'warner', 'act', 'talk', 'like', 'total', 'control', 'senat', 'intellig', 'committe', 'bipartisan', 'allow', 'command', 'committe', 'import', 'rememb', 'speak', 'russian', 'jokest'], ['jim_jordan', 'rep', 'jordan', 'focus', 'attack', 'trump', 'best', 'america', 'prjjfetqel'], ['real', 'trade', 'war', 'begin', 'year', 'ago', 'lose', 'bright', 'new', 'age', 'age', 'enlighten', 'lose', 'anymor', 'ecmbpsi'], ['jim_jordan', 'work', 'big', 'problem', 'face', 'america', 'solv', 'border', 'crisi', 'lower', 'cost', 'prescriptio'], ['jim_jordan', 'democrat', 'engag', 'presidenti', 'obstruct', 'desper', 'stop', 'presid', 'win', 'help', 'coun'], ['alaska', 'great', 'troop', 'depart', 'short', 'japan', 'tmftpn'], ['dem', 'want', 'second', 'shoot', 'bob', 'mueller', 'unhappi', 'collus', 'report', 'allow', 'play', 'game', 'longer', 'second', 'chanc', 'work', 'bad', 'countri'], ['come', 'suprem', 'court', 'justic', 'get', 'record', 'territori', 'thank', 'great', 'memori', 'day', 'weekend'], ['mitch', 'mcconnel', 'republican', 'senat', 'solid', 'strong', 'accomplish', 'great', 'deal', 'particular', 'court', 'feder', 'judg'], ['graqvxr'], ['depart', 'whitehous', 'air', 'forc', 'ladi', 'head', 'japan', 'look', 'forward', 'honor', 'behalf', 'unit', 'state', 'majesti', 'emperor', 'japan', 'discuss', 'trade', 'militari', 'friend', 'prime', 'minist', 'abeshinzo', 'uwejqnbex'], ['air', 'forc', 'ladi', 'head', 'japan', 'look', 'forward', 'honor', 'behalf', 'unit', 'state', 'majesti', 'emperor', 'japan', 'discuss', 'trade', 'militari', 'friend', 'prime', 'minist', 'abeshinzo'], ['speak', 'prime', 'minist', 'narendramodi', 'congratul', 'big', 'polit', 'victori', 'great', 'man', 'leader', 'peopl', 'india', 'lucki'], ['congratul', 'tom', 'cotton', 'book', 'sacr', 'duti', 'solid', 'tour', 'arlington', 'nation', 'cemeteri', 'hit', 'best', 'seller', 'list', 'arlingtonnatl', 'yesterday', 'peopl', 'grate', 'tom', 'inspir', 'portrait', 'old', 'guard', 'great', 'job', 'tomcottonar'], ['know', 'radic', 'leav', 'democrat', 'want', 'bob', 'mueller', 'testifi', 'issu', 'million', 'dollar', 'report', 'state', 'loud', 'clear', 'hear', 'collus', 'obstruct', 'obstruct', 'crime', 'dem', 'look', 'troubl'], ['tri', 'impeach', 'presid', 'trump', 'wrong', 'collus', 'end', 'get', 'elect', 'lindseygrahamsc', 'impeach', 'high', 'crime', 'misdemeanor', 'high', 'crime', 'misdemeanor', 'commit'], ['intellig', 'agenc', 'american', 'presid', 'devinnun', 'shannonbream', 'foxnew', 'happen', 'presid', 'dem', 'furious', 'robert', 'mueller', 'find', 'collus', 'obstruct', 'work', 'legisl'], ['twitter', 'go', 'allow', 'popular', 'conserv', 'voic', 'vicious', 'shut', 'open', 'time'], ['wow', 'cnn', 'rat', 'way', 'record', 'low', 'peopl', 'get', 'tire', 'fake', 'stori', 'anti', 'trump', 'lie', 'chris', 'cuomo', 'reward', 'lowest', 'morn', 'rat', 'prime', 'time', 'spot', 'fail', 'bad', 'help', 'dumbest', 'man', 'televis', 'lemon'], ['heytammybruc', 'excit', 'join', 'foxnat', 'team', 'fox', 'nation', 'roll', 'slate', 'tyrus', 'kat', 'timpf', 'tammi', 'bruce', 'lawrenc', 'jone'], ['nikkihaley', 'great', 'night', 'thank', 'eikfo', 'um'], ['tpusa', 'speaker', 'announc', 'fox', 'news', 'contributor', 'lisamariebooth', 'add', 'amaz', 'line', 'speaker', 'ywls'], ['tomfitton', 'big', 'realdonaldtrump', 'author', 'ag', 'barr', 'declassifi', 'spygat', 'doc', 'agenc', 'come', 'pzzu', 'knqfl'], ['tomfitton', 'fbi', 'refus', 'search', 'text', 'messag', 'foia', 'director', 'wray', 'need', 'step', 'stop', 'stonewal', 'protect', 'corr'], ['voter', 'rate', 'economi', 'excel', 'good', 'highest', 'number', 'year', 'quinnipiacpol'], ['donaldjtrumpjr', 'friend', 'remind', 'lizrnc', 'main', 'stream', 'media', 'suffer', 'trump', 'detang', 'syndrom', 'clown'], ['pelosi', 'stammer', 'news', 'confer', 'oycyqrtuk'], ['aviberkow', 'congrat', 'ivankatrump', 'receiv', 'internet', 'associ', 'internet', 'freedom', 'award', 'even', 'zh'], ['nanci', 'pelosi', 'kind', 'thing', 'diminish', 'membership', 'subject', 'predic', 'sentenc', 'go', 'ed', 'rollin', 'greggjarrett', 'loudobb'], ['today', 'request', 'recommend', 'attorney', 'general', 'unit', 'state', 'presid', 'donald', 'trump', 'direct', 'intellig', 'communiti', 'quick', 'fulli', 'cooper', 'attorney', 'general', 'investig', 'surveil', 'activ'], ['presidenti', 'elect', 'attorney', 'general', 'deleg', 'complet', 'author', 'declassifi', 'inform', 'pertain', 'investig', 'accord', 'long', 'establish', 'standard', 'handl', 'classifi', 'inform'], ['today', 'action', 'help', 'ensur', 'american', 'learn', 'truth', 'event', 'occur', 'action', 'take', 'presidenti', 'elect', 'restor', 'confid', 'public', 'institut', 'presssec'], ['foxnew', 'poll', 'major', 'american', 'want', 'democrat', 'stop', 'investig', 'presid', 'trump', 'mueller', 'report', 'say', 'strong', 'collus', 'lead', 'obstruct', 'dem', 'conclus', 'mueller', 'find', 'parti'], ['senat', 'approv', 'billion', 'dollar', 'disast', 'relief', 'total', 'approv', 'great'], ['forget', 'fall', 'hero', 'great', 'honor', 'today', 'flagsin', 'ovqur', 'lt'], ['congratul', 'prime', 'minist', 'narendramodi', 'bjp', 'parti', 'big', 'elect', 'victori', 'great', 'thing', 'store', 'india', 'partnership', 'return', 'pm', 'modi', 'helm', 'look', 'forward', 'continu', 'import', 'work'], ['nws', 'usacehq', 'monitor', 'damag', 'storm', 'flood', 'oklahoma', 'listen', 'warn', 'local', 'offici', 'stay', 'safe'], ['heart', 'peopl', 'missouri', 'wake', 'assess', 'damag', 'storm', 'strong', 'resili', 'assist', 'paeovcuqwn'], ['democrat', 'congress', 'refinish', 'th', 'time', 'fake', 'work', 'disappoint', 'mueller', 'report', 'find', 'time', 'real', 'work', 'peopl', 'quick'], ['extrem', 'calm', 'yesterday', 'meet', 'pelosi', 'schumer', 'know', 'rag', 'partner', 'fake', 'news', 'media', 'stori', 'meet', 'use', 'rage', 'narrat', 'fake', 'corrupt', 'press'], ['rex', 'tillerson', 'man', 'dumb', 'rock', 'total', 'ill', 'prepar', 'ill', 'equip', 'secretari', 'state', 'stori', 'get', 'fire', 'prepar', 'vladimir', 'putin', 'meet', 'hamburg', 'germani', 'think', 'putin', 'agre', 'look'], ['democrat', 'know', 'parti'], ['drug', 'price', 'pre', 'exist', 'condit', 'great', 'vet', 'gear', 'committe', 'squander', 'time', 'day', 'day', 'tri', 'bad', 'pure', 'fish', 'expedit', 'like', 'happen', 'happen'], ['democrat', 'get', 'congress', 'effort', 'mueller', 'report', 'turn', 'way', 'want', 'possibl', 'investig', 'legisl', 'time', 'heart', 'infrastructur', 'lower'], ['tomfitton', 'realdonaldtrump', 'face', 'crimin', 'conspiraci', 'jbxaxw', 'sha'], ['democrat', 'want', 'fix', 'loophol', 'border', 'want', 'open', 'border', 'crime'], ['zero', 'get', 'democrat', 'charg', 'hous', 'want', 'mueller', 'report', 'start', 'over'], ['letter', 'hous', 'colleagu', 'nanci', 'pelosi', 'say', 'presid', 'trump', 'temper', 'tantrum', 'true', 'purpos', 'polit', 'calm', 'minut', 'later', 'press', 'rise', 'garden', 'easili', 'prove', 'lie'], ['want', 'welcom', 'whitehous', 'award', 'bravest', 'law', 'enforc', 'offic', 'firefight', 'nation', 'highest', 'public', 'safeti', 'award', 'medal', 'valor', 'eeqk', 'zhr'], ['democrat', 'leadership', 'tear', 'unit', 'state', 'apart', 'continu', 'set', 'record', 'american', 'peopl', 'nanci', 'thank', 'prayer', 'know', 'truli', 'mean'], ['want', 'investig', 'legisl', 'simultan', 'work', 'way', 'track', 'time', 'let', 'chuck', 'nanci', 'jerri', 'adam', 'rest', 'finish', 'play', 'game'], ['meantim', 'administr', 'achiev', 'thing', 'includ', 'unleash', 'greatest', 'economi', 'countri', 'histori'], ['sad', 'nanci', 'pelosi', 'chuck', 'schumer', 'abl', 'understand', 'great', 'promis', 'countri', 'continu', 'witch', 'hunt', 'cost', 'tremend', 'wast', 'time', 'energi', 'america', 'work'], ['oe', 'kk', 'oa'], ['long', 'say', 'prove', 'witch', 'hunt', 'republican', 'parti', 'caus', 'problem'], ['russia', 'trump', 'campaign', 'mr', 'mcgahn', 'forgiv', 'declin', 'honor', 'appear', 'mr', 'nadler', 'pseudo', 'impeach', 'drama', 'wall', 'street', 'journal', 'editori', 'boardtoday'], ['jerri', 'nadler', 'want', 'want', 'use', 'mr', 'mcgahn', 'prop', 'spend', 'hour', 'claim', 'mr', 'trump', 'tri', 'obstruct', 'mueller', 'investig', 'mr', 'mueller', 'wasn', 'obstruct', 'way', 'copious', 'report', 'releas', 'collus'], ['democrat', 'danger', 'irrelev', 'decis', 'take', 'countri', 'wild', 'goos', 'chase', 'ought', 'start', 'govern', 'know', 'chang', 'michael', 'goodwin', 'newyorkpost'], ['everybodi', 'includ', 'think', 'million', 'dollar', 'mueller', 'report', 'releas', 'collus', 'obstruct', 'crime', 'caus', 'end', 'democrat', 'want', 'go', 'effort', 'help', 'bad', 'countri'], ['wall', 'build', 'southern', 'border', 'complet', 'demolit', 'rebuild', 'old', 'worthless', 'barrier', 'brand', 'new', 'wall', 'foot', 'problem', 'hater', 'new', 'wall', 'renov', 'wrong', 'build', 'need'], ['tremend', 'work', 'pure', 'renov', 'fix', 'exist', 'wall', 'bad', 'condit', 'ineffect', 'bring', 'high', 'standard'], ['illeg', 'witch', 'hunt', 'poll', 'number', 'especi', 'histor', 'great', 'economi', 'bad', 'greatest', 'hoax', 'american', 'histori'], ['senatemajldr', 'today', 'ten', 'thousand', 'peac', 'offic', 'gather', 'nation', 'capit', 'honor', 'servic', 'sacrific'], ['devinnun', 'warrior', 'western', 'allianc', 'wait', 'month', 'bring', 'usa', 'import', 'inform', 'ty'], ['devinnun', 'mueller', 'chang', 'byronyork', 'muellerdossi', 'bu', 'rgw', 'cm'], ['lindseygrahamsc', 'way', 'protect', 'american', 'serv', 'oversea', 'proud', 'presid', 'trump', 'stand'], ['lindseygrahamsc', 'pleas', 'confirm', 'conserv', 'judg', 'ninth', 'circuit', 'daniel', 'collin', 'outstand'], ['gopoversight', 'icymi', 'watch', 'repmarkmeadow', 'open', 'statement', 'today', 'govern', 'oper', 'subcommitte', 'hear', 'mr', 'meadow'], ['chuckgrassley', 'thx', 'pres', 'trump', 'amb', 'lighthize', 'canada', 'mexico', 'work', 'pt', 'time', 'congress', 'job'], ['chuckgrassley', 'trade', 'breakthru', 'day', 'japan', 'lift', 'restrict', 'beef', 'product', 'beef', 'japan'], ['dcexamin', 'repmarkmeadow', 'russia', 'investig', 'doc', 'right', 'corner', 'cpqrdcd'], ['repmarkmeadow', 'week', 'll', 'effort', 'democrat', 'mueller', 'investig', 'hop', 'time', 'll', 'stumbl'], ['repmarkmeadow', 'question', 'american', 'ask', 'earth', 'point', 'taxpay', 'fund', 'special', 'counsel', 'go'], ['j_trumpin', 'twitter', 'vicious', 'censorship', 'hit', 'maga', 'movement', 'hard', 'jam', 'wood', 'suspend', 'day', 'think', 'total', 'bs'], ['presidenti', 'harass'], ['democrat', 'get', 'zero', 'work', 'congress', 'focus', 'tri', 'prove', 'mueller', 'report', 'wrong', 'witch', 'hunt'], ['year', 'expens', 'comprehens', 'witch', 'hunt', 'democrat', 'like', 'result', 'want', 'word', 'witch', 'hunt', 'continu'], ['democrat', 'ask', 'base', 'illeg', 'start', 'investig', 'fail', 'especi', 'mueller', 'report', 'come', 'collus', 'find', 'impeach', 'presid', 'trump', 'nothin', 'wrong', 'fish'], ['congratul', 'governor', 'mattbevin', 'win', 'republican', 'primari', 'governor', 'tonight', 'great', 'state', 'kentucki', 'matt', 'fantast', 'job'], ['great', 'news', 'republican', 'fred', 'keller', 'win', 'hard', 'fight', 'pennsylvania', 'congression', 'contest', 'landslid', 'vote', 'thank', 'thousand', 'show', 'ralli', 'night', 'congratul', 'fred', 'wonder', 'famili'], ['john', 'brennan', 'mueller', 'probe', 'know', 'receiv', 'bad', 'inform', 'think', 'suspect', 'actual', 'wow', 'admit', 'wrong', 'congress', 'work', 'drug', 'price'], ['democrat', 'fish', 'expedit', 'want', 'interview', 'peopl', 'thing', 'go', 'year', 'robert', 'mueller', 'angri', 'dem', 'happen', 'presid', 'happen', 'presid', 'obama'], ['spend', 'million', 'dollar', 'review', 'million', 'page', 'document', 'interview', 'peopl', 'total', 'support', 'white', 'hous', 'mueller', 'report', 'big', 'disappoint', 'democrat', 'want', 'work', 'way', 'bad', 'countri'], ['shahira', 'knight', 'wonder', 'job', 'legisl', 'affair', 'director', 'white', 'hous', 'outstand', 'countri', 'tremend', 'success', 'privat', 'sector'], ['wow', 'mark', 'levin', 'new', 'book', 'open', 'great', 'long', 'time', 'xybk'], ['johnni', 'miss', 'great', 'job', 'exaaslgesh'], ['presidenti', 'privileg', 'allow', 'testifi', 'includ', 'white', 'hous', 'counsel', 'mcgahn', 'hour', 'robert', 'mueller', 'angri', 'trump', 'hat', 'democrat', 'arriv'], ['conclus', 'collus', 'obstruct', 'dem', 'unhappi', 'outcom', 'mueller', 'report', 'want'], ['pleas', 'announc', 'nomin', 'barbara', 'barrett', 'arizona', 'chairman', 'aerospac', 'corpor', 'secretari', 'air', 'forc', 'outstand', 'secretari', 'flyfightwin'], ['pennsylvania', 'forget', 'vote', 'today', 'republican', 'fred', 'keller', 'congress', 'fred', 'strong', 'crime', 'second', 'amend', 'militari', 'vet', 'healthcar', 'complet', 'total', 'endors'], ['mexico', 'attitud', 'peopl', 'countri', 'includ', 'mexico', 'right', 'flow', 'taxpay', 'respons', 'tremend', 'cost', 'associ', 'illeg', 'migrat', 'mexico', 'wrong', 'soon', 'give', 'respons'], ['disappoint', 'mexico', 'virtual', 'stop', 'illeg', 'immigr', 'come', 'southern', 'border', 'know', 'democrat', 'immigr', 'law', 'total', 'flaw', 'break'], ['great', 'peopl', 'kentucki', 'vote', 'matt', 'bevin', 'today', 'import', 'fantast', 'job', 'america', 'maga'], ['realdonaldtrump', 'fred', 'keller', 'great', 'state', 'pennsylvania', 'outstand', 'state', 'repres', 'run'], ['realdonaldtrump', 'megan', 'king', 'run', 'superior', 'court', 'judg', 'pennsylvania', 'elect', 'total', 'endors'], ['return', 'beauti', 'whitehous', 'great', 'even', 'pennsylvania', 'wmeh', 'knv'], ['megan', 'king', 'run', 'superior', 'court', 'judg', 'pennsylvania', 'elect', 'total', 'endors', 'tough', 'crime', 'fulli', 'understand', 'aspect', 'law', 'vote', 'megan', 'tomorrow', 'tuesday'], ['massiv', 'crowd', 'pennsylvania', 'tonight', 'thank', 'join', 'ahho'], ['beauti', 'even', 'america', 'great', 'ralli', 'tonight', 'pennsylvania', 'thank', 'love', 'maga', 'oqba', 'zu'], ['land', 'short', 'montoursvill', 'pennsylvania', 'short', 'ixp', 'qpl'], ['fred', 'keller', 'great', 'state', 'pennsylvania', 'outstand', 'state', 'repres', 'run', 'republican', 'nomine', 'congress', 'complet', 'total', 'endors', 'fantast', 'job', 'look', 'forward', 'see', 'tonight', 'maga'], ['tonight', 'eastern', 'montoursvill', 'pennsylvania', 'maga', 'ij', 'ajxfrza'], ['fake', 'news', 'typic', 'fals', 'statement', 'knowledg', 'unit', 'state', 'tri', 'set', 'negoti', 'iran', 'fals', 'report'], ['iran', 'readi', 'meantim', 'economi', 'continu', 'collaps', 'sad', 'iranian', 'peopl'], ['cuban', 'independ', 'day', 'stand', 'peopl', 'cuba', 'quest', 'freedom', 'democraci', 'prosper', 'cuban', 'regim', 'end', 'repress', 'cuban', 'venezuelan', 'unit', 'state', 'stand', 'idl', 'cuba', 'continu', 'subvert', 'democraci', 'america'], ['look', 'like', 'berni', 'sander', 'histori', 'sleepi', 'joe', 'biden', 'pull', 'ahead', 'think', 'sleepi', 'joe', 'man', 'take', 'trash', 'heap', 'presid', 'china', 'want', 'sleepi', 'joe', 'bad'], ['democrat', 'look', 'crime', 'commit', 'crook', 'hillari', 'phoni', 'russia', 'investig', 'credibl', 'jerri', 'nadler', 'schiff', 'new', 'futur', 'open', 'run', 'presid'], ['boom', 'economi', 'work', 'peopl', 'make', 'gain', 'haven', 'see', 'decad', 'stuart', 'varney', 'foxandfriend'], ['tweet', 'miss', 'batch', 'probabl', 'twitter', 'error', 'time', 'redo', 'dem', 'redo'], ['good', 'high', 'profession', 'deal', 'reason', 'like', 'go', 'plenti', 'money', 'bank', 'choos', 'happi', 'money', 'fake', 'news'], ['fail', 'new', 'york', 'time', 'pass', 'away', 'leav', 'offic', 'year', 'fake', 'news', 'media', 'write', 'phoni', 'stori', 'use', 'bank', 'want', 'busi', 'wrong', 'need', 'money', 'old'], ['fashion', 'true', 'need', 'want', 'money', 'need', 'want', 'bank', 'bank', 'avail', 'want', 'money', 'fake', 'media', 'say', 'disparag', 'use', 'unnam', 'sourc', 'sourc', 'exist'], ['mainstream', 'media', 'corrupt', 'derang', 'today', 'fake', 'news', 'actual', 'biggest', 'stori', 'true', 'enemi', 'peopl', 'refus', 'cover', 'real', 'russia', 'hoax', 'american', 'peopl', 'wise', 'go'], ['new', 'big', 'stori', 'trump', 'lot', 'money', 'buy', 'cash', 'need', 'bank', 'cash', 'russia', 'build', 'great', 'busi', 'need', 'bank', 'deutschebank'], ['loudobb', 'god', 'bless', 'presid', 'trump', 'iran', 'call', 'leader', 'think', 'deal', 'bush', 'obama', 'maga', 'americafirst'], ['mainstream', 'media', 'hat', 'cover', 'emhavwcjvf'], ['start', 'monday', 'great', 'farmer', 'begin', 'busi', 'mexico', 'canada', 'take', 'tariff', 'penalti', 'great', 'agricultur', 'product', 'sure', 'treat', 'fair', 'complaint', 'immedi', 'secretarysonni', 'perdu'], ['great', 'win', 'brook', 'congratul', 'great', 'champion', 'icua'], ['realdonaldtrump', 'interview', 'steve', 'hilton', 'tonight', 'foxnew', 'enjoy'], ['hard', 'believ', 'foxnew', 'wast', 'airtim', 'mayor', 'pete', 'chris', 'wallac', 'like', 'fox', 'move', 'lose', 'wrong', 'cover', 'dem', 'get', 'dump', 'democrat', 'bore', 'debat', 'want', 'forget', 'peopl'], ['get', 'chris', 'wallac', 'say', 'actual', 'think', 'like', 'opinion', 'mayor', 'pete', 'lot', 'substanc', 'fascin', 'biographi', 'gee', 'speak', 'like', 'mike', 'wallac', 'better', 'alfr', 'newman', 'presid'], ['interview', 'steve', 'hilton', 'tonight', 'foxnew', 'enjoy'], ['iran', 'want', 'fight', 'offici', 'end', 'iran', 'threaten', 'unit', 'state'], ['fals', 'report', 'yesterday', 'plan', 'send', 'migrant', 'northern', 'coastal', 'border', 'facil', 'includ', 'florida', 'foxnew', 'airplan', 'way', 'countri'], ['economi', 'job', 'market', 'boom', 'best', 'world', 'countri', 'histori', 'start'], ['wonder', 'colleg', 'univers', 'graduat', 'take', 'place', 'usa', 'better', 'time', 'graduat', 'best', 'job', 'market', 'great', 'hous', 'financ', 'work', 'hard', 'great', 'life', 'deserv', 'congratul'], ['interview', 'steve', 'hilton', 'tonight', 'foxnew', 'enjoy'], ['watch', 'fake', 'news', 'polit', 'show', 'morn', 'continu', 'amaz', 'question', 'ask', 'negat', 'way', 'mainstream', 'media', 'asham', 'good', 'news', 'usa', 'wise', 'game', 'dishonesti', 'decept'], ['fan', 'justinamash', 'total', 'lightweight', 'oppos', 'great', 'republican', 'idea', 'polici', 'sake', 'get', 'controversi', 'actual', 'read', 'bias', 'mueller', 'report', 'compos', 'angri', 'dem', 'hat', 'trump'], ['strong', 'collus', 'ultim', 'obstruct', 'obstruct', 'crime', 'fact', 'crime', 'commit', 'justin', 'loser', 'sad', 'play', 'right', 'oppon', 'hand'], ['condit', 'drug', 'price', 'time', 'year', 'soon', 'drop', 'right', 'tri', 'protect', 'nd', 'amend', 'big', 'tax', 'reg', 'cut', 'gdp', 'strong', 'foreign', 'polici', 'abl', 'countri', 'great'], ['fake', 'news', 'sunday', 'polit', 'show', 'bias', 'dishonesti', 'greater', 'see', 'countri', 'inform', 'viewer', 'economi', 'set', 'record', 'peopl', 'employ', 'today', 'time', 'histori', 'militari'], ['deplet', 'disast', 'soon', 'stronger', 'vet', 'final', 'take', 'care', 'choic', 'court', 'great', 'new', 'judg', 'suprem', 'court', 'justic', 'get', 'rid', 'disastr', 'individu', 'mandat', 'protect', 'pre', 'exist'], ['feder', 'judg', 'come', 'great', 'new', 'suprem', 'court', 'justic', 'mexico', 'citi', 'polici', 'new', 'posit', 'attitud', 'right', 'life', 'radic', 'leav', 'late', 'term', 'abort', 'wors', 'implod', 'issu', 'stick', 'win'], ['life', 'foolish', 'stay', 'unit', 'hard', 'fight', 'gain', 'life', 'rapid', 'disappear'], ['peopl', 'know', 'like', 'know', 'strong', 'pro', 'life', 'except', 'rape', 'incest', 'protect', 'life', 'mother', 'posit', 'take', 'ronald', 'reagan', 'come', 'far', 'year', 'wonder', 'new'], ['court', 'dem', 'congress', 'clue', 'tri', 'forc', 'migrant', 'countri', 'countri', 'detent', 'center', 'hospit', 'school', 'pack', 'crazi'], ['realdonaldtrump', 'jerri', 'nadler', 'look', 'fact', 'crook', 'hillari', 'delet', 'acid', 'wash', 'email', 'get'], ['realdonaldtrump', 'campaign', 'presid', 'conclus', 'spi', 'like', 'happen', 'american', 'polit', 'reall'], ['realdonaldtrump', 'america', 'great'], ['realdonaldtrump', 'peopl', 'illeg', 'come', 'unit', 'state', 'remov', 'countri', 'later', 'date'], ['tomfitton', 'american', 'histori', 'spi', 'effort', 'candid', 'realdonaldtrump', 'abus', 'power', 'targeti'], ['tomfitton', 'obstruct', 'fbi', 'note', 'hillari', 'cover', 'oper', 'work', 'ticket', 'archiv', 'cleanup', 'fbi', 'know', 'cover', 'relat'], ['tomfitton', 'sure', 'weissmann', 'key', 'role', 'hire', 'angri', 'democrat', 'mueller', 'realdonaldtrump', 'harass', 'oper'], ['tomfitton', 'comey', 'signific', 'potenti', 'crimin', 'liabil', 'spygat', 'target', 'realdonaldtrump', 'judicialwatch', 'foxnew', 'ht'], ['thank', 'dan', 'tdvc', 'evo'], ['word', 'book', 'great', 'mta', 'xcz', 'eq'], ['callme_chari', 'newscomauhq', 'like', 'trump', 'congratul', 'leader', 'love', 'countri', 'pu'], ['congratul', 'scott', 'great', 'win', 'ikxdrqmhfv'], ['courag', 'vigil', 'arm', 'forc', 'safeguard', 'bless', 'liberti', 'futur', 'generat', 'selfless', 'answer', 'duti', 'today', 'day', 'acknowledg', 'celebr', 'proud', 'wear', 'nation', 'uniform', 'dnjypqvw', 'bpxkmobseq'], ['consum', 'sentiment', 'month', 'highest', 'year', 'nice', 'foxnew'], ['today', 'great', 'honor', 'address', 'nation', 'associ', 'realtor', 'lqnexa', 'ne'], ['fake', 'news', 'iran', 'idea', 'actual', 'go'], ['general', 'flynn', 'investig', 'long', 'common', 'knowledg', 'imposs', 'know', 'case', 'peopl', 'presid', 'tell', 'chang'], ['fake', 'news', 'media', 'hurt', 'countri', 'fraudul', 'high', 'inaccur', 'coverag', 'iran', 'scattershot', 'poor', 'sourc', 'danger', 'iran', 'know', 'think', 'point', 'good', 'thing'], ['jerri', 'nadler', 'look', 'fact', 'crook', 'hillari', 'delet', 'acid', 'wash', 'email', 'get', 'power', 'demand', 'notic', 'congress'], ['campaign', 'presid', 'conclus', 'spi', 'like', 'happen', 'american', 'polit', 'bad', 'situat', 'treason', 'mean', 'long', 'jail', 'sentenc', 'treason'], ['new', 'fox', 'poll', 'peopl', 'fbi', 'break', 'law', 'investig', 'donald', 'trump', 'foxandfriend'], ['america', 'great'], ['drain', 'swamp'], ['happen', 'donald', 'trump', 'win', 'go', 'comey', 'foxandfriend'], ['democrat', 'countri', 'bad', 'need', 'immigr', 'win', 'elect', 'good', 'chanc'], ['peopl', 'illeg', 'come', 'unit', 'state', 'remov', 'countri', 'later', 'date', 'build', 'remov', 'forc', 'law', 'chang', 'comfort', 'leav', 'soon'], ['border', 'patrol', 'apprehend', 'record', 'number', 'peopl', 'southern', 'border', 'bad', 'hombr', 'detain', 'send', 'home', 'releas', 'ridicul', 'catch', 'teleas', 'loophol', 'regist', 'remov', 'later'], ['democrat', 'realiz', 'nation', 'emerg', 'border', 'work', 'immedi', 'fix', 'need', 'democrat', 'vote'], ['billdeblasio', 'worst', 'mayor', 'histori', 'new', 'york', 'citi', 'win', 'long', 'nyyntsx'], ['whitehous', 'america', 'major', 'overhaul', 'legal', 'admiss', 'polici', 'year', 'ago', 'think', 'major', 'updat'], ['whitehous', 'plan', 'includ', 'sweep', 'modern', 'dysfunct', 'legal', 'immigr', 'process', 'final'], ['beauti', 'spring', 'day', 'unveil', 'plan', 'creat', 'fair', 'modern', 'law', 'immigr', 'adopt', 'plan', 'transform', 'america', 'immigr', 'pride', 'nation', 'envi', 'modern', 'world', 'yqytygtbyd'], ['congratul', 'dan', 'bishop', 'big', 'republican', 'primari', 'victori', 'th', 'congression', 'district', 'north', 'carolina', 'dan', 'strong', 'crime', 'love', 'militari', 'vet', 'great', 'healthcar', 'complet', 'total', 'endors', 'maga'], ['realdonaldtrump', 'fake', 'news', 'washington', 'post', 'fake', 'news', 'new', 'york', 'time', 'write', 'stori', 'infight', 'wi'], ['realdonaldtrump', 'differ', 'opinion', 'express', 'decis', 'final', 'decis', 'simpl', 'process', 'side'], ['dem', 'get', 'beauti', 'join', 'group', 'blasio', 'nyc', 'consid', 'worst', 'mayor', 'suppos', 'make', 'announc', 'presid', 'today', 'joke', 'like', 'high', 'tax', 'crime', 'man', 'nyc', 'hat'], ['whitehous', 'tonight', 'white', 'hous', 'light', 'blue', 'honor', 'peac', 'offic', 'memori', 'day', 'tv', 'nan'], ['trump', 'ahead', 'pgachampionship', 'week', 'b_dechambeau', 'djohnsonpga', 'join', 'trumpferrypoint', 'support', 'curet'], ['fake', 'news', 'washington', 'post', 'fake', 'news', 'new', 'york', 'time', 'write', 'stori', 'infight', 'respect', 'strong', 'polici', 'middl', 'east', 'infight', 'whatsoev'], ['differ', 'opinion', 'express', 'decis', 'final', 'decis', 'simpl', 'process', 'side', 'view', 'polici', 'cover', 'sure', 'iran', 'want', 'talk', 'soon'], ['stand', 'firm', 'strong', 'proud', 'incred', 'men', 'women', 'law', 'enforc', 'hear', 'near', 'american', 'countri', 'love', 'support', 'respect', 'possibl', 'know', 'qb', 'zn', 'wg'], ['courag', 'sacrific', 'hero', 'reason', 'flag', 'stand', 'tall', 'heart', 'beat', 'pride', 'countri', 'remain', 'peopl', 'famili', 'nation', 'god', 'today', 'thank', 'honor', 'forev', 'cherish', 'memori', 'fall', 'men', 'women', 'blue', 'arhygdvi'], ['thank', 'joe', 'rememb', 'brain', 'sharper', 'fg', 'grq'], ['erictrump', 'proud', 'realdonaldtrump', 'go', 'amaz', 'job', 'trump', 'averag', 'approv', 'rat', 'skyrocket', 'highest', 'point'], ['erictrump', 'spare', 'creat', 'job', 'life', 'second', 'great', 'citi', 'go', 'shit', 'leadership', 'cr'], ['golden', 'era', 'american', 'energi', 'underway', 'gemhomlloc'], ['incred', 'grit', 'skill', 'pride', 'worker', 'sempra', 'energi', 'help', 'lead', 'american', 'energi', 'revolut', 'make', 'nation', 'wealthier', 'make', 'america', 'safer', 'build', 'futur', 'american', 'energi', 'independ', 'hqn', 'weixo'], ['great', 'hackberri', 'louisiana', 'incred', 'men', 'women', 'make', 'america', 'energi', 'superpow', 'world', 'drjthf'], ['today', 'mark', 'year', 'anniversari', 'open', 'unit', 'state', 'embassi', 'jerusalem', 'israel', 'beauti', 'embassi', 'stand', 'proud', 'remind', 'strong', 'relationship', 'israel', 'import', 'keep', 'promis', 'stand', 'truth'], ['prime', 'minist', 'abeshinzo', 'japan', 'visit', 'whitehous', 'week', 'ago', 'tell', 'go', 'osaka', 'japan', 'look', 'forward', 'world', 'leader'], ['great', 'senat', 'star', 'state', 'arkansa', 'tomcottonar', 'complet', 'wonder', 'book', 'sacr', 'duti', 'arlington', 'nation', 'cemeteri', 'men', 'women', 'serv', 'love', 'devot', 'sale', 'today', 'big'], ['china', 'pump', 'money', 'probabl', 'reduc', 'rat', 'order', 'busi', 'lose', 'feder', 'reserv', 'match', 'game', 'win', 'event', 'china', 'want', 'deal'], ['great', 'senat', 'star', 'state', 'arkansa', 'tomcottonar', 'complet', 'wonder', 'book', 'sacr', 'duti', 'arlington', 'nation', 'cemetari', 'men', 'women', 'serv', 'love', 'devot', 'sale', 'today', 'big'], ['great', 'patriot', 'farmer', 'biggest', 'beneficiari', 'happen', 'hope', 'china', 'honor', 'continu', 'buy', 'great', 'farm', 'product', 'best', 'countri', 'make', 'differ', 'base', 'high', 'china', 'buy'], ['money', 'come', 'massiv', 'tariff', 'pay', 'unit', 'state', 'allow', 'china', 'busi', 'farmer', 'forget', 'year', 'time'], ['time', 'right', 'deal', 'china', 'respect', 'friendship', 'presid', 'xi', 'unlimit', 'tell', 'time', 'great', 'deal', 'unit', 'state', 'sens', 'allow'], ['tremend', 'grind', 'lose', 'china', 'trade', 'ridicul', 'side', 'format', 'wto', 'happen', 'faster', 'peopl', 'think'], ['deal', 'china', 'tomorrow', 'compani', 'start', 'leav', 'lose', 'usa', 'busi', 'time', 'close', 'want', 'renegoti', 'deal', 'way', 'better', 'posit', 'deal', 'take'], ['billion', 'dollar', 'move', 'job', 'usa', 'belong', 'countri', 'negoti', 'want', 'happen', 'usa', 'action', 'leader', 'year', 'ago', 'enjoy'], ['competit', 'usa', 'buyer', 'bigger', 'economi', 'china', 'substanti', 'increas', 'size', 'great', 'elect', 'piggi', 'bank', 'want', 'raid', 'advantag'], ['china', 'buy', 'buy', 'billion', 'dollar', 'fantast', 'posit', 'product', 'home', 'usa', 'tariff', 'buy', 'non', 'tariff', 'countri', 'instead', 'china', 'compani', 'leav', 'china'], ['year', 'tariff', 'rebuild', 'steel', 'industri', 'boom', 'place', 'tariff', 'dump', 'steel', 'china', 'countri', 'big', 'grow', 'industri', 'save', 'steel', 'defens', 'auto', 'industri', 'come', 'strong'], ['meet', 'marin', 'sgt', 'john', 'peck', 'quadrupl', 'ampute', 'receiv', 'doubl', 'arm', 'transplant', 'walter', 'reed', 'today', 'honor', 'welcom', 'john', 'hero', 'oval', 'wonder', 'wife', 'jessica', 'write', 'book', 'high', 'recommend', 'rebuild', 'sergeant', 'peck', 'einnhceu'], ['wish', 'presid', 'jimmi', 'carter', 'speedi', 'recoveri', 'hip', 'surgeri', 'earlier', 'today', 'good', 'spirit', 'speak', 'month', 'fine'], ['great', 'welcom', 'chairman', 'shin', 'lott', 'group', 'wh', 'invest', 'billion', 'louisiana', 'biggest', 'invest', 'south', 'korean', 'compani', 'thousand', 'job', 'american', 'great', 'partner', 'like', 'rok', 'know', 'economi', 'run', 'stronger', 'wajxdetuxj'], ['today', 'offici', 'updat', 'budget', 'includ', 'million', 'great', 'specialolymp', 'athlet', 'inspir', 'nation', 'proud'], ['protect', 'great', 'lake', 'keep', 'clean', 'beauti', 'futur', 'generat', 'fight', 'million', 'updat', 'budget', 'great', 'lake', 'restor', 'initi'], ['administr', 'restor', 'nasa', 'great', 'go', 'moon', 'mar', 'updat', 'budget', 'includ', 'addit', 'billion', 'return', 'space', 'big', 'way'], ['administr', 'fight', 'million', 'armi', 'corp', 'everglad', 'restor', 'work', 'year', 'congress', 'need', 'help', 'complet', 'world', 'largest', 'watersh', 'restor', 'project', 'asap', 'good', 'florida', 'good', 'environ'], ['whitehous', 'afternoon', 'presid', 'trump', 'welcom', 'prime', 'minist', 'viktor', 'orban', 'hungari', 'oval', 'offic', 'ogdonwkrb'], ['leav', 'china', 'busi', 'bad', 'china', 'good', 'usa', 'china', 'take', 'advantag', 'year', 'way', 'ahead', 'presid', 'job', 'china', 'retali', 'wors'], ['reason', 'consum', 'pay', 'tariff', 'effect', 'china', 'today', 'prove', 'recent', 'point', 'pay', 'point', 'china', 'china', 'subsid', 'product', 'larg', 'degre', 'tariff'], ['complet', 'avoid', 'buy', 'non', 'tariff', 'countri', 'buy', 'product', 'insid', 'usa', 'best', 'idea', 'zero', 'tariff', 'tariff', 'compani', 'leav', 'china', 'vietnam', 'countri', 'asia', 'china', 'want', 'deal', 'bad'], ['democrat', 'rep', 'tlaib', 'slam', 'horribl', 'high', 'insensit', 'statement', 'holocaust', 'obvious', 'tremend', 'hatr', 'israel', 'jewish', 'peopl', 'imagin', 'happen', 'say', 'say', 'say'], ['berni', 'sander', 'economi', 'sure', 'trump', 'credit', 'sure', 'll', 'credit', 'want', 'wrong', 'berni', 'economi', 'great', 'crash', 'oppon', 'crook', 'hillari', 'clinton', 'win'], ['gopchairwoman', 'asian', 'american', 'win', 'realdonaldtrump', 'unemploy', 'rate', 'lowest', 'histori', 'asian', 'taxpay'], ['gopchairwoman', 'joe', 'biden', 'let', 'china', 'away', 'cheat', 'vice', 'presid', 'continu', 'naiv', 'dismiss', 'china', 'today'], ['notic', 'boston', 'redsox', 'win', 'come', 'white', 'hous', 'white', 'hous', 'visit', 'opposit', 'cover', 'sport', 'illustr', 'way', 'boston', 'player', 'great', 'guy'], ['unexpect', 'good', 'quarter', 'gdp', 'great', 'help', 'tariff', 'china', 'peopl'], ['congratul', 'oann', 'great', 'job', 'big', 'rat', 'jump', 'thank', 'presid', 'trump'], ['thank', 'foxandfriend', 'great', 'morn', 'congratul', 'number', 'far', 'rat', 'deserv'], ['open', 'presid', 'xi', 'friend', 'china', 'china', 'hurt', 'bad', 'deal', 'compani', 'forc', 'leav', 'china', 'countri', 'expens', 'buy', 'china', 'great', 'deal', 'complet', 'back'], ['reason', 'consum', 'pay', 'tariff', 'effect', 'china', 'today', 'prove', 'recent', 'point', 'pay', 'point', 'china', 'china', 'subsid', 'product', 'larg', 'degre', 'tariff'], ['complet', 'avoid', 'non', 'tariff', 'countri', 'buy', 'product', 'insid', 'usa', 'best', 'idea', 'zero', 'tariff', 'tariff', 'compani', 'leav', 'china', 'vietnam', 'countri', 'asia', 'china', 'want', 'deal', 'bad'], ['leav', 'china', 'busi', 'bad', 'china', 'good', 'usa', 'china', 'take', 'advantag', 'year', 'way', 'ahead', 'presid', 'job', 'china', 'retali', 'wors'], ['attack', 'strategi', 'harass', 'attorney', 'general', 'sophist', 'know', 'isn', 'tri', 'destroy', 'presid', 'trump', 'assault', 'ag', 'uphold', 'rule', 'law', 'releas', 'massiv'], ['inform', 'long', 'presid', 'trump', 'presid', 'opposit', 'use', 'tool', 'misus', 'tool', 'avail', 'life', 'miser', 'tomfitton', 'judicialwatch', 'loudobb', 'sad', 'prove', 'great', 'job', 'best', 'economi', 'employ', 'number'], ['abus', 'power', 'long', 'seri', 'abus', 'power', 'democrat', 'begin', 'obama', 'administr', 'continu', 'mueller', 'fbi', 'oper', 'baton', 'pass', 'jerri', 'nadler', 'continu', 'abus', 'power', 'harass', 'presid', 'trump'], ['democrat', 'nation', 'committe', 'democrat', 'parti', 'apparatus', 'catch', 'donor', 'dollar', 'collud', 'russian', 'intellig', 'attack', 'domest', 'polit', 'oppon', 'fbi', 'leadership', 'director', 'protect', 'gang', 'tri'], ['overthrow', 'presid', 'illeg', 'coup', 'recommend', 'previous', 'doj', 'tomfitton', 'judicialwatch'], ['director', 'jam', 'clapper', 'admit', 'fbi', 'action', 'trump', 'presidenti', 'campaign', 'fact', 'meet', 'definit', 'spi', 'fbi', 'director', 'christoph', 'wray', 'loudobb'], ['china', 'dream', 'sleepi', 'joe', 'biden', 'get', 'elect', 'love', 'rip', 'america'], ['constitut', 'crisi', 'democrat', 'refus', 'work', 'let', 'start', 'fix', 'mess', 'immigr', 'law', 'caus', 'southern', 'border'], ['mueller', 'report', 'come', 'show', 'collus', 'russia', 'cours', 'suppos', 'work', 'peopl', 'dem', 'go', 'nut', 'actual', 'get', 'wors', 'hope', 'republican', 'win', 'hous', 'littl'], ['mueller', 'report', 'show', 'collus', 'obstruct', 'dem', 'work', 'overtim', 'damag', 'republican', 'parti', 'issu', 'demand', 'document', 'testimoni', 'reason', 'want', 'care'], ['despit', 'year', 'million', 'dollar', 'spend', 'democrat', 'act', 'like', 'craze', 'lunat', 'result', 'mueller', 'report', 'public', 'know', 'report', 'start', 'big', 'hoax', 'biggest', 'american', 'histori'], ['democrat', 'new', 'pathet', 'untru', 'sound', 'bite', 'constitut', 'crisi', 'partner', 'fake', 'news', 'media', 'tell', 'loud', 'possibl', 'sad', 'joke', 'strongest', 'economi', 'histori', 'best'], ['employ', 'number', 'low', 'tax', 'regul', 'rebuild', 'militari', 'great', 'new', 'judg', 'giant', 'scam', 'perpetr', 'nation', 'witch', 'hunt', 'treason', 'hoax', 'constitut', 'crisi', 'hope', 'guilti', 'peopl', 'pay'], ['right', 'want', 'china', 'rememb', 'break', 'deal', 'tri', 'renegoti', 'take', 'ten', 'billion', 'dollar', 'tariff', 'china', 'buyer', 'product', 'usa', 'ideal', 'buy', 'non', 'tariff', 'countri'], ['spend', 'match', 'better', 'money', 'china', 'longer', 'spend', 'great', 'patriot', 'farmer', 'agricultur', 'small', 'percentag', 'total', 'tariff', 'receiv', 'distribut', 'food', 'starv', 'peopl', 'nation', 'world', 'great', 'maga'], ['gopchairwoman', 'realdonaldtrump', 'effect', 'senat', 'map', 'chuck', 'schumer', 'recruit', 'senat', 'challeng'], ['gopchairwoman', 'republican', 'realdonaldtrump', 'deliv', 'american', 'new', 'job', 'unemploy', 'lowest'], ['whitehous', 'presid', 'realdonaldtrump', 'forward', 'principl', 'protect', 'american', 'patient', 'financi', 'devast', 'surpris'], ['tomfitton', 'schiff', 'know', 'comey', 'know', 'obama', 'know', 'susan', 'rice', 'know', 'biden', 'know', 'brennan', 'know', 'clapper', 'know', 'peter', 'strzok', 'kne'], ['sad', 'ojznjhjeht'], ['xc', 'njnf'], ['richlowri', 'know', 'win', 'obvious', 'polit', 'narrat', 'import', 'peopl', 'mueller', 'sh'], ['lisamei', 'kimstrassel', 'discuss', 'write', 'column', 'today', 'power', 'peopl', 'dc', 'panic', 'ag'], ['therightmelissa', 'realcandaceo', 'yap', 'candac', 'right', 'mind', 'believ', 'crazi', 'looney', 'toon', 'thing', 'come', 'leav'], ['therightmelissa', 'realcandaceo', 'acknowledg', 'realiti', 'trump', 'thing', 'essenti'], ['big', 'attack', 'republican', 'conserv', 'social', 'media', 'good'], ['nll', 'ynhxli'], ['think', 'presid', 'unit', 'state', 'hard', 'fight', 'consequenti', 'elect', 'histori', 'great', 'nation', 'long', 'take', 'offic', 'sick', 'unlaw', 'investig', 'concern', 'know', 'russian'], ['hoax', 'campaign', 'serious', 'spi', 'intel', 'agenc', 'democrat', 'happen', 'american', 'histori', 'turn', 'total', 'scam', 'witch', 'hunt', 'yield', 'collus', 'obstruct', 'allow', 'happen'], ['vp', 'leadership', 'potus', 'trump', 'economi', 'roar', 'busi', 'larg', 'small', 'creat', 'million', 'job'], ['democrat', 'want', 'distract', 'presid', 'fbi', 'job', 'state', 'depart', 'cover', 'thing', 'everyday', 'hillari', 'end', 'day', 'fear', 'fear', 'tough'], ['presid', 'will', 'battl', 'great', 'attorney', 'general', 'will', 'lead', 'battl', 'go', 'edrollin', 'loudobb'], ['realdonaldtrump', 'easi', 'way', 'avoid', 'tariff', 'produc', 'good', 'product', 'good', 'old', 'usa', 'simpl'], ['realdonaldtrump', 'think', 'china', 'felt', 'beat', 'bad', 'recent', 'negoti', 'wait', 'fo'], ['realdonaldtrump', 'problem', 'know', 'go', 'win', 'best', 'economi', 'employ', 'number', 'histori', 'mo'], ['tomfitton', 'democrat', 'leader', 'want', 'talk', 'crimin', 'conspiraci', 'parti', 'involv', 'relat', 'illeg', 'spyin'], ['gopchairwoman', 'ohio', 'manufactur', 'ceo', 'explain', 'crack', 'china', 'mean', 'stabil', 'predict', 'busi'], ['go', 'bob', 'mueller', 'bob', 'mueller', 'fact', 'allow', 'finish', 'report', 'unpreced', 'help', 'trump', 'administr', 'actual', 'lawyer', 'mcgahn', 'better', 'chanc', 'fire', 'mueller', 'big', 'fan'], ['problem', 'know', 'go', 'win', 'best', 'economi', 'employ', 'number', 'histori', 'deal', 'far', 'wors', 'negoti', 'second', 'term', 'wise', 'act', 'love', 'collect', 'big', 'tariff'], ['think', 'china', 'felt', 'beat', 'bad', 'recent', 'negoti', 'wait', 'elect', 'lucki', 'democrat', 'win', 'case', 'continu', 'rip', 'usa', 'billion', 'year'], ['radic', 'leav', 'dem', 'talk', 'collus', 'anymor', 'mueller', 'report', 'say', 'collus', 'want', 'talk', 'obstruct', 'obstruct', 'crime', 'crime', 'commit'], ['win', 'elect', 'partial', 'base', 'tax', 'return', 'audit', 'voter', 'care', 'radic', 'leav', 'democrat', 'want', 'relitig', 'matter', 'elect'], ['easi', 'way', 'avoid', 'tariff', 'produc', 'good', 'product', 'good', 'old', 'usa', 'simpl'], ['byronyork', 'russia', 'campaign', 'oper', 'odd', 'mueller', 'wasn', 'interest', 'texan_', 'byronyork'], ['nedryun', 'love', 'comey', 'baker', 'tri', 'ahead', 'fisa', 'report', 'sorri', 'boy', 'barr', 'rip', 'public'], ['whitehous', 'sen', 'hawleymo', 'larg', 'quantiti', 'drug', 'smuggl', 'border', 'isn', 'right', 'border', 'patrol', 'chief'], ['nedryun', 'exact', 'fj', 'uifwek'], ['theamgreat', 'conserv', 'ralli', 'philli', 'plan', 'parenthood', 'unhing', 'dem', 'bulli', 'pro', 'lifer'], ['nedryun', 'remind', 'guy', 'twitter', 'laura', 'loomer', 'solut', 'ban', 'anti', 'semit', 'goal'], ['kamvtv', 'fbi', 'asham', 'unverifi', 'opposit', 'research', 'fisa', 'warrant', 'spi', 'american', 'citizen'], ['brithum', 'democrat', 'voter', 'fool', 'jerri', 'nadler', 'strategi', 'clear', 'aim', 'provok', 'confront', 'polit'], ['geraldorivera', 'donaldjtrumpjr', 'testifi', 'hour', 'damn', 'singular', 'meet', 'trumptow', 'wouldn'], ['arifleisch', 'radic', 'idea', 'primari', 'radic', 'magnet', 'peopl', 'ent'], ['bradleybyrn', 'despit', 'spend', 'million', 'countless', 'hour', 'investig', 'want', 'nonsens', 'goi'], ['mzanona', 'goplead', 'kevin', 'mccarthi', 'say', 'gop', 'lead', 'senat', 'intellig', 'committe', 'wrong', 'subpoena', 'donald', 'trump', 'jr'], ['jason_donn', 'chuck', 'grassley', 'think', 'time', 'trump', 'jr', 'spend', 'hour', 'staff', 'testimoni', 'post', 'mue'], ['jim_jordan', 'senat', 'intel', 'subpoena', 'donaldjtrumpjr', 'testifi', 'hour', 'bring', 'base', 'micha'], ['repmarkmeadow', 'serv', 'subpoena', 'trump', 'jr', 'privat', 'citizen', 'voluntarili', 'testifi', 'congression', 'committe'], ['sergiogor', 'speak', 'report', 'randpaul', 'call', 'end', 'senat', 'intel', 'investig', 've', 'hear', 'senatemajl'], ['tedcruz', 'russia', 'investig', 'year', 'dem', 'media', 'hysteria', 'million', 'dollar', 'subpoena'], ['govmikehuckabe', 'sure', 'wish', 'sen', 'richard', 'burr', 'interest', 'biden', 'cushi', 'deal', 'ukrain', 'china', 'vp', 'ha'], ['reppetek', 'hard', 'justifi', 'senat', 'subpoena', 'donaldjtrumpjr', 'year', 'investig', 'mueller', 'senat', 'hous'], ['thomtilli', 'case', 'close', 'mueller', 'report', 'clear', 'donaldjtrumpjr', 'dem', 'make', 'polit', 'let', 'mov'], ['dbongino', 'think', 'tri', 'destroy', 'barr', 'democrat', 'nervous', 'go', 'everythi'], ['gopchairwoman', 'realdonaldtrump', 'stand', 'china', 'unfair', 'trade', 'practic', 'joe', 'biden', 'say', 'competit'], ['jefflandri', 'concern', 'senat', 'committe', 'subpoena', 'donaldjtrumpjr', 'testifi', 'hour'], ['breitbartnew', 'tedcruz', 'join', 'rank', 'republican', 'lawmak', 'critic', 'sen', 'richard', 'burr', 'nc', 'keep', 'collus', 'hoax', 'al'], ['gop', 'crazi', 'china', 'threat', 'biden', 'touch', 'kayleighmcenani', 'wlpyx', 'wts'], ['devinnun', 'fbi', 'steel', 'stori', 'fall', 'apart', 'fals', 'intel', 'media', 'contact', 'flag', 'fisa', 'jsolomonreport'], ['realsaavedra', 'sean', 'hanniti', 'slam', 'senatorburr', 'collus', 'truther', 'time', 'want', 'donald', 'trump', 'jr', 'peop'], ['lindseygrahamsc', 'come', 'china', 'chang', 'behavior', 'stand', 'proud', 'presid'], ['realsaavedra', 'rudygiuliani', 'go', 'republican', 'senatorburr', 'continu', 'issu', 'subpoena', 'senatemajldr', 'mitch', 'mcconnel'], ['kimstrassel', 'import', 'stori', 'ldxem'], ['hughhewitt', 'know', 'meet', 'speak', 'donaldjtrumpjr', 'subpoena', 'senat', 'intel', 'sc', 'report', 'find'], ['thehil', 'mike', 'huckabe', 'senat', 'forget', 'trump', 'jr', 'answer', 'question', 'thehillopinion', 'sl'], ['tomfitton', 'senatorburr', 'harass', 'donaldjtrumpjr', 'subpoena', 'excus', 'unpreced', 'corrupt', 'target', 'realdonaldtr'], ['donaldjtrumpjr', 'famili', 'payrol', 'nygpo'], ['govmikehuckabe', 'sen', 'burr', 'flesh', 'donaldjtrumpjr', 'st', 'hrs', 'hammer', 'hold', 'grade'], ['jim_jordan', 'barr', 'frighten', 'term', 'testifi', 'senat', 'month', 'unauthor', 'surveil', 'poli'], ['realdonaldtrump', 'build', 'product', 'unit', 'state', 'tariff'], ['kimguilfoyl', 'nolt', 'trump', 'job', 'approv', 'boom', 'highest', 'mark', 'inaugur', 'qtyskq', 'orp', 'breitbartnew'], ['tommyhicksgop', 'year', 'china', 'engag', 'unfair', 'trade', 'practic', 'china', 'relationship', 'import', 'realdonaldtrump'], ['robbystarbuck', 'news', 'major', 'news', 'outlet', 'tonight', 'presid', 'trump', 'admin', 'secur', 'histor', 'donat'], ['lindseygrahamsc', 'stand', 'presid', 'realdonaldtrump', 'team', 'insist', 'great', 'deal', 'china'], ['lindseygrahamsc', 'realdonaldtrump', 'come', 'china', 'will', 'accept', 'short', 'term', 'pain', 'long', 'term', 'gain', 'stick'], ['gopchairwoman', 've', 'add', 'million', 'job', 'realdonaldtrump', 'elect', 'unemploy', 'record', 'low', 'wag', 'rise'], ['rudygiuliani', 'evid', 'mount', 'comey', 'deceiv', 'fisa', 'court', 'concern', 'steel', 'dossier', 'state', 'quick', 'verif'], ['johncatsjr', 'trump', 'economi', 'vs', 'obama', 'job', 'creat', 'trump', 'obama', 'obama', 'unemploy', 'dec'], ['realsaavedra', 'break', 'father', 'stem', 'school', 'highland', 'ranch', 'shooter', 'crimin', 'illeg', 'alien', 'mexico', 'wa'], ['donaldjtrumpjr', 'proud', 'presid', 'say', 'go', 'decad', 'realdonaldtrump', 'signa'], ['tomfitton', 'icymi', 'mueller', 'report', 'polit', 'tool', 'attack', 'presid', 'realdonaldtrump', 'csumc', 'cni', 'judicialwatch'], ['tomfitton', 'dnc', 'work', 'russian', 'intel', 'overthrow', 'presid', 'realdonaldtrump', 'abus', 'contempt', 'attack', 'ag'], ['tomfitton', 'list', 'hillari', 'spi', 'deep', 'state', 'doj', 'redact', 'bruce', 'ohr', 'list', 'intermediari', 'obama', 'clinton', 'dnc', 'fusion', 'gps'], ['rmconserv', 'today', 'congress', 'believ', 'disast', 'emerg', 'border', 'oidckjx'], ['tomfitton', 'feder', 'court', 'grant', 'judicialwatch', 'discoveri', 'clinton', 'email', 'court', 'want', 'answer', 'cover'], ['tomfitton', 'cours', 'border', 'realdonaldtrump', 'absolut', 'right', 'border', 'crisi', 'shou'], ['tomfitton', 'fbi', 'offici', 'barack', 'obama', 'white', 'hous', 'repositori', 'hillari', 'clinton', 'email', 'judicialwatch', 'bonh'], ['tomfitton', 'come', 'bowv', 'gs'], ['hughhewitt', 'mueller', 'probe', 'conclud', 'vast', 'effort', 'collus', 'senat', 'intel', 'subpoena', 'donaldjtrumpjr'], ['tomfitton', 'break', 'new', 'email', 'obama', 'wh', 'orchestr', 'clinton', 'email', 'coverup', 'illeg', 'spi', 'realdonaldtrump', 'biggest', 'corrupt'], ['senthomtilli', 'agre', 'leader', 'mcconnel', 'case', 'close', 'mueller', 'report', 'clear', 'donaldjtrumpjr', 'spend'], ['senthomtilli', 'watch', 'share', 'testimoni', 'carla', 'provost', 'usbpchief', 'chief', 'border', 'patrol', 'ongo', 'cr'], ['politi_chatt', 'realdonaldtrump', 'today', 'twitter', 'cross', 'line', 'suspend', 'conserv', 'run', 'wesupport', 'account', 'explanati'], ['tomfitton', 'spygat', 'crime', 'nadler', 'abus', 'target', 'ag', 'barr', 'realdonaldtrump', 'design', 'distract', 'fact', 'dnc', 'dem'], ['gopchairwoman', 'realdonaldtrump', 'elect', 'campaign', 'report', 'femal', 'donor', 'candid'], ['realdonaldtrump', 'buy', 'billion', 'dollar', 'agricultur', 'farmer', 'far', 'china', 'buy'], ['realdonaldtrump', 'tariff', 'bring', 'far', 'wealth', 'countri', 'phenomen', 'deal', 'tradit', 'kind'], ['militari', 'spous', 'share', 'admir', 'legaci', 'unwav', 'devot', 'love', 'one', 'uniform', 'caus', 'freedom', 'militari', 'spous', 'day', 'honor', 'nation', 'militari', 'spous', 'express', 'deep', 'appreci', 'nrkc'], ['cours', 'past', 'day', 'unit', 'state', 'china', 'hold', 'candid', 'construct', 'convers', 'status', 'trade', 'relationship', 'countri', 'relationship', 'presid', 'xi', 'remain', 'strong', 'convers'], ['futur', 'continu', 'meantim', 'unit', 'state', 'impos', 'tariff', 'china', 'remov', 'depend', 'happen', 'respect', 'futur', 'negoti'], ['great', 'republican', 'vote', 'today', 'disast', 'relief', 'work', 'bipartisan', 'solut', 'get', 'relief', 'great', 'state', 'farmer', 'thank', 'quick', 'sign'], ['engag', 'unfair', 'relationship', 'china', 'long', 'time', 'reneg', 'commit', 'wto', 'particular', 'intellectu', 'properti', 'car', 'fiorina', 'mariabartiromo'], ['look', 'like', 'go', 'sleepycreepi', 'joe', 'crazi', 'berni', 'fade', 'fast'], ['realdonaldtrump', 'republican', 'stick', 'aprvcjpqop'], ['great', 'consum', 'price', 'index', 'good', 'low', 'inflat', 'great', 'chanc', 'rock', 'good', 'number'], ['time', 'favorit', 'presid', 'get', 'tire', 'wait', 'china', 'help', 'start', 'buy', 'farmer', 'greatest', 'world'], ['build', 'product', 'unit', 'state', 'tariff'], ['buy', 'billion', 'dollar', 'agricultur', 'farmer', 'far', 'china', 'buy', 'billion', 'dollar', 'leav', 'new', 'infrastructur', 'healthcar', 'china', 'great', 'slow', 'automat', 'speed'], ['build', 'product', 'unit', 'state', 'tariff'], ['averag', 'balanc', 'soar', 'market', 'wow'], ['tariff', 'countri', 'stronger', 'weaker', 'sit', 'watch', 'meantim', 'china', 'renegoti', 'deal', 'minut', 'obama', 'administr', 'administr', 'sleepi', 'joe', 'let', 'china', 'away', 'murder'], ['tariff', 'bring', 'far', 'wealth', 'countri', 'phenomen', 'deal', 'tradit', 'kind', 'easier', 'quicker', 'farmer', 'better', 'faster', 'starv', 'nation', 'help', 'waiver', 'product', 'grant', 'new', 'sourc'], ['process', 'begin', 'place', 'addit', 'tariff', 'remain', 'billion', 'dollar', 'sell', 'china', 'approxim', 'billion', 'dollar', 'good', 'product', 'big', 'imbal', 'billion', 'dollar', 'tariff', 'buy'], ['agricultur', 'product', 'great', 'farmer', 'larger', 'amount', 'china', 'ship', 'poor', 'starv', 'countri', 'form', 'humanitarian', 'assist', 'meantim', 'continu', 'negoti', 'china', 'hop', 'tri', 'redo', 'deal'], ['talk', 'china', 'continu', 'congeni', 'manner', 'absolut', 'need', 'rush', 'tariff', 'pay', 'unit', 'state', 'china', 'billion', 'dollar', 'worth', 'good', 'product', 'massiv', 'payment', 'direct', 'treasuri'], ['mike', 'penc', 'interview', 'foxandfriend', 'enjoy'], ['lose', 'billion', 'dollar', 'year', 'year', 'crazi', 'trade', 'china'], ['process', 'begin', 'place', 'addit', 'tariff', 'remain', 'billion', 'dollar', 'sell', 'china', 'approxim', 'billion', 'dollar', 'good', 'product', 'big', 'imbal', 'billion', 'dollar', 'tariff', 'buy'], ['agricultur', 'product', 'great', 'farmer', 'larger', 'amount', 'china', 'ship', 'poor', 'starv', 'countri', 'form', 'humanitarian', 'assist', 'meantim', 'continu', 'negoti', 'china', 'hop', 'tri', 'redo', 'deal'], ['tariff', 'bring', 'far', 'wealth', 'countri', 'phenomen', 'deal', 'tradit', 'kind', 'easier', 'quicker', 'farmer', 'better', 'faster', 'starv', 'nation', 'help', 'waiver', 'product', 'grant', 'new', 'sourc'], ['buy', 'billion', 'dollar', 'agricultur', 'farmer', 'far', 'china', 'buy', 'billion', 'dollar', 'leav', 'new', 'infrastructur', 'healthcar', 'china', 'great', 'slow', 'automat', 'speed'], ['tariff', 'bring', 'far', 'wealth', 'countri', 'phenomen', 'deal', 'tradit', 'kind', 'easier', 'quicker', 'farmer', 'better', 'faster', 'starv', 'nation', 'help', 'waiver', 'product', 'grant', 'new', 'sourc'], ['agricultur', 'product', 'great', 'farmer', 'larger', 'amount', 'china', 'ship', 'poor', 'starv', 'countri', 'form', 'humanitarian', 'assist', 'meantim', 'continu', 'negoti', 'china', 'hop', 'tri', 'redo', 'deal'], ['tariff', 'bring', 'far', 'wealth', 'countri', 'phenomen', 'deal', 'tradit', 'kind', 'easier', 'quicker', 'farmer', 'better', 'faster', 'starv', 'nation', 'help', 'waiver', 'product', 'grant', 'new', 'sourc'], ['buy', 'billion', 'dollar', 'agricultur', 'farmer', 'far', 'china', 'buy', 'billion', 'dollar', 'leav', 'new', 'infrastructur', 'healthcar', 'china', 'great', 'slow', 'automat', 'speed'], ['talk', 'china', 'continu', 'congeni', 'manner', 'absolut', 'need', 'rush', 'tariff', 'pay', 'unit', 'state', 'china', 'billion', 'dollar', 'worth', 'good', 'product', 'massiv', 'payment', 'direct', 'treasuri'], ['process', 'begin', 'place', 'addit', 'tariff', 'remain', 'billion', 'dollar', 'sell', 'china', 'approxim', 'billion', 'dollar', 'good', 'product', 'big', 'imbal', 'billion', 'dollar', 'tariff', 'buy'], ['republican', 'stick', 'aprvcjpqop'], ['jam', 'comey', 'disgrac', 'fbi', 'worst', 'director', 'long', 'proud', 'histori', 'bring', 'fbi', 'republican', 'democrat', 'think', 'fire', 'fbi', 'regain', 'great', 'great', 'men', 'women', 'work'], ['teamtrump', 'presid', 'trump', 'commit', 'protect', 'patient', 'famili', 'surpris', 'medic', 'bill', 'hospit', 'insur'], ['whitehous', 'presid', 'realdonaldtrump', 'host', 'world', 'seri', 'champion', 'boston', 'redsox', 'white', 'hous'], ['donaldjtrumpjr', 'awesom', 'sowlolzrx'], ['gopchairwoman', 'democrat', 'keep', 'fixat', 'russia', 'collus', 'lie', 'want', 'admit', 'econom'], ['seanhann', 'hanniti', 'live', 'great', 'marklevinshow', 'll', 'break', 'democrat', 'disregard', 'rule', 'law', 'hi'], ['housegop', 'floor', 'today', 'pre', 'exist', 'condit', 'prevent', 'state', 'reduc', 'pric'], ['dancrenshawtx', 'reach', 'new', 'low', 'deceit', 'polit', 'today', 'lie', 'protect', 'pre', 'exist', 'condit', 'continu', 'th'], ['vp', 'great', 'johnson', 'farm', 'glyndon', 'minnesota', 'today', 'earliest', 'day', 'administr', 'potus', 'promis'], ['hous', 'republican', 'vote', 'bad', 'democrat', 'disast', 'supplement', 'hurt', 'state', 'farmer', 'border', 'secur', 'vote', 'tomorrow', 'want', 'better', 'side', 'work', 'send', 'good', 'immedi', 'sign'], ['today', 'honor', 'welcom', 'world', 'seri', 'champion', 'boston', 'redsox', 'whitehous', 'yhaclpttlm'], ['great', 'news', 'today', 'administr', 'secur', 'histor', 'donat', 'hiv', 'prevent', 'drug', 'gilead', 'help', 'expand', 'access', 'prep', 'uninsur', 'risk', 'help', 'achiev', 'goal', 'end', 'hiv', 'epidem', 'america', 'wux', 'qaswgw'], ['great', 'ralli', 'panama', 'citi', 'beach', 'florida', 'return', 'washington', 'senrickscott', 'senat', 'marcorubio', 'discuss', 'terribl', 'abus', 'maduro', 'america', 'stand', 'great', 'peopl', 'venezuela', 'long', 'take', 'kcbonfeibv'], ['america', 'great', 'goxxhnhhg'], ['beauti', 'even', 'panama', 'citi', 'beach', 'florida', 'thank', 'magahttp', 'lnbm', 'sed'], ['big', 'crowd', 'panama', 'citi', 'beach', 'florida', 'minut', 'foxnew', 'tuckercarlson', 'seanhann', 'tngl'], ['land', 'panama', 'citi', 'beach', 'florida', 'ralli', 'begin', 'eastern', 'live', 'foxnew', 'maga', 'tuckercarlson', 'seanhann'], ['big', 'announc', 'today', 'drug', 'compani', 'come', 'clean', 'price', 'tv', 'ad', 'histor', 'transpar', 'american', 'patient', 'drug', 'compani', 'asham', 'price', 'lower'], ['realiti', 'tariff', 'economi', 'grow', 'rapid', 'unit', 'state', 'slowli', 'china', 'peter', 'morici', 'chief', 'economist', 'usitc'], ['get', 'readi', 'leav', 'favorit', 'place', 'florida', 'panhandl', 've', 'give', 'give', 'billion', 'devast', 'caus', 'hurrican', 'michael', 'dem', 'total', 'way', 'want', 'money', 'get'], ['thank', 'newtgingrich', 'foxandfriend', 'gyj', 'nn'], ['nation', 'griev', 'unspeak', 'violenc', 'take', 'precious', 'young', 'life', 'bad', 'injur', 'colorado', 'god', 'famili', 'thank', 'respond', 'brave', 'interven', 'close', 'contact', 'law', 'enforc'], ['republican', 'shouldn', 'vote', 'special', 'casino', 'back', 'elizabeth', 'pocahonta', 'warren', 'unfair', 'treat', 'nativ', 'american', 'equal'], ['separ', 'locat', 'creat', 'job', 'work', 'nice', 'gm', 'thank', 'mari', 'great', 'governor', 'senat', 'rob', 'portman', 'car', 'compani', 'come', 'usa', 'boom'], ['great', 'news', 'ohio', 'speak', 'mari', 'barra', 'ceo', 'general', 'motor', 'inform', 'subject', 'uaw', 'agreement', 'gm', 'sell', 'beauti', 'lordstown', 'plant', 'workhors', 'plan', 'build', 'electr', 'truck', 'gm', 'spend', 'ohio'], ['realdonaldtrump', 'real', 'estat', 'develop', 'year', 'ago', 'entitl', 'massiv', 'write', 'off', 'depreci'], ['realdonaldtrump', 'build', 'buy', 'want', 'loss', 'tax', 'purpos', 'real'], ['realdonaldtrump', 'case', 'close', 'senatemajldr', 'toiatsmu'], ['british', 'spi', 'christoph', 'steel', 'tri', 'hard', 'fake', 'dossier', 'elect', 'kilmead', 'foxandfriend'], ['want', 'know', 'need', 'account', 'take', 'year', 'live', 'talk', 'russian', 'involv', 'prove', 'collus', 'peopl', 'want', 'trace', 'happen', 'ainsleyearhardt', 'foxandfriend', 'treason', 'hoax'], ['big', 'court', 'win', 'southern', 'border', 'get', 'wall', 'build'], ['shouldn', 'reveal', 'intellig', 'agenc', 'fbi', 'tri', 'sabotag', 'particular', 'campaign', 'steveforbesceo', 'mariabartiromo'], ['real', 'obstruct', 'justic', 'democrat', 'tri', 'attorney', 'general', 'congressman', 'jim', 'jordan', 'ohio', 'mariabartiromo'], ['guess', 'go', 'happen', 'china', 'inform', 'vice', 'premier', 'come', 'deal', 'll', 'happi', 'billion', 'year', 'tariff', 'fill', 'coffer', 'great', 'good', 'china'], ['reason', 'china', 'pullback', 'attempt', 'renegoti', 'trade', 'deal', 'hope', 'abl', 'negoti', 'joe', 'biden', 'weak', 'democrat', 'continu', 'ripoff', 'unit', 'state', 'billion', 'year', 'year', 'come'], ['goplead', 'democrat', 'republican', 'work', 'lower', 'cost', 'prescript', 'drug', 'democrat'], ['txrandi', 'today', 'lead', 'republican', 'colleagu', 'ask', 'bornaliveact', 'take', 'dem', 'leadership', 'deni', 'requ'], ['goplead', 'grate', 'million', 'teacher', 'heart', 'countless', 'hour', 'work', 'thank', 'pas'], ['real', 'estat', 'develop', 'year', 'ago', 'entitl', 'massiv', 'write', 'off', 'depreci', 'activ', 'build', 'loss', 'tax', 'loss', 'case', 'non', 'monetari', 'consid', 'tax', 'shelter'], ['build', 'buy', 'want', 'loss', 'tax', 'purpos', 'real', 'estat', 'develop', 'negoti', 'bank', 'sport', 'addit', 'old', 'inform', 'high', 'inaccur', 'fake', 'news', 'hit', 'job'], ['case', 'close', 'senatemajldr', 'toiatsmu'], ['mcconnel', 'back', 'trump', 'mueller', 'report', 'case', 'close', 'breitbart', 'eowqsjx', 'lo', 'breitbartnew'], ['whitehous', 'live', 'presid', 'trump', 'present', 'presidenti', 'medal', 'freedom', 'tiger', 'wood', 'tqzdixay'], ['realdonaldtrump', 'puerto', 'rico', 'give', 'money', 'congress', 'hurrican', 'disast', 'relief', 'billion', 'dollar', 'state'], ['realdonaldtrump', 'alabama', 'iowa', 'nebraska', 'georgia', 'south', 'carolina', 'north', 'carolina', 'money', 'give', 'pue'], ['pleas', 'inform', 'big', 'firework', 'year', 'have', 'come', 'beauti', 'mount', 'rushmor', 'south', 'dakota', 'great', 'work', 'govkristinoem', 'secbernhardt', 'maga'], ['tigerwood', 'incred', 'privileg', 'award', 'presidenti', 'medal', 'freedom', 'consid', 'recipi', 'histori'], ['gopchairwoman', 'hillari', 'clinton', 'claim', 'elect', 'steal', 'wasn', 'fail', 'messag', 'complet'], ['teamtrump', 'big', 'news', 'near', 'half', 'realdonaldtrump', 'campaign', 'contribut', 'year', 'come', 'women', 'donor', 'womenfortru'], ['teamtrump', 'presid', 'realdonaldtrump', 'hard', 'work', 'american', 'peopl', 'maga', 'ehp', 'ien'], ['gopchairwoman', 'wonder', 'democrat', 'obsess', 'russia', 'want', 'distract', 'strong', 'economi'], ['want', 'impeach', 'win', 'elect', 'sad', 'ofo', 'wmvhyt'], ['forget', 'man', 'stori', 'trump', 'red', 'counti', 'econom', 'thrive', 'ebofusjh', 'breitbartnew'], ['congratul', 'tigerwood', 'truli', 'kind', 'ypelzilo'], ['whitehous', 'year', 'anniversari', 'flotus', 'initi', 'best', 'look', 'highlight', 'bebest'], ['democrat', 'congress', 'vote', 'close', 'terribl', 'loophol', 'southern', 'border', 'harsh', 'measur', 'take'], ['today', 'true', 'honor', 'present', 'command', 'chief', 'trophi', 'second', 'year', 'row', 'armywp_footbal', 'black', 'knight', 'congratul', 'histor', 'victori', 'make', 'proud', 'ngoc', 'pqn'], ['congratul', 'armywp_footbal', 'jzc', 'xnll'], ['speak', 'prime', 'minist', 'abe', 'japan', 'concern', 'north', 'korea', 'trade', 'good', 'convers'], ['puerto', 'rico', 'give', 'money', 'congress', 'hurrican', 'disast', 'relief', 'billion', 'dollar', 'state', 'histori', 'exampl', 'florida', 'get', 'billion', 'texa', 'billion', 'monster', 'hurrican', 'democrat', 'say', 'relief'], ['alabama', 'iowa', 'nebraska', 'georgia', 'south', 'carolina', 'north', 'carolina', 'money', 'give', 'puerto', 'rico', 'dem', 'want', 'farmer', 'help', 'puerto', 'rico', 'happi', 'dem', 'stop', 'block', 'need', 'disast', 'relief'], ['scott', 'walker', 'correct', 'say', 'republican', 'wake', 'democrat', 'state', 'state', 'power', 'grab', 'play', 'dirti', 'actual', 'like', 'allow', 'away'], ['unit', 'state', 'lose', 'year', 'billion', 'dollar', 'year', 'trade', 'china', 'lose', 'billion', 'dollar', 'sorri', 'go', 'anymor'], ['democrat', 'texa', 'congressman', 'al', 'green', 'say', 'impeach', 'thing', 'prevent', 'presid', 'trump', 'elect', 'oann', 'word', 'dem', 'win', 'elect', 'fair', 'impeach', 'presid', 'creat', 'best', 'economi', 'countri', 'histori'], ['high', 'crime', 'misdemeanor', 'collus', 'conspiraci', 'obstruct', 'crime', 'dem', 'look', 'win', 'tabl', 'turn'], ['despit', 'tremend', 'success', 'presid', 'includ', 'greatest', 'economi', 'success', 'year', 'presid', 'histori', 'steal', 'year', 'presid', 'collus', 'delus', 'abl'], ['witch', 'hunt', 'forget', 'america', 'great'], ['israel', 'face', 'barrag', 'dead', 'rocket', 'attack', 'terrorist', 'group', 'hama', 'islam', 'jihad', 'support', 'israel', 'defens', 'citizen'], ['gazan', 'peopl', 'terrorist', 'act', 'israel', 'bring', 'miseri', 'end', 'violenc', 'work', 'peac', 'happen'], ['pend', 'confirm', 'mark', 'morgan', 'nation', 'new', 'ice', 'director', 'matt', 'albenc', 'serv', 'role', 'act', 'director', 'matt', 'tough', 'dedic', 'support', 'deploy', 'ice', 'maximum', 'extent', 'law', 'maga'], ['despit', 'tremend', 'success', 'presid', 'includ', 'greatest', 'economi', 'success', 'year', 'presid', 'histori', 'stollen', 'year', 'presid', 'collus', 'delus', 'abl'], ['witch', 'hunt', 'forget', 'america', 'great'], ['gopchairwoman', 'economi', 'job', 'april', 'beat', 'expect', 'job', 'creat', 'realdonaldtrump', 'take', 'offic'], ['jerryfalwelljr', 'best', 'week', 'realdonaldtrump', 'obstruct', 'collus', 'nyt', 'admit', 'barackobama', 'spi', 'ca'], ['ingrahamangl', 'excel', 'decis', 'realdonaldtrump', 'presid', 'gut', 'china', 'challeng', 'americanow'], ['mariabartiromo', 'import', 'georgepapa', 'interview', 'sundayfutur', 'foxnew', 'london', 'cntr', 'int', 'law', 'reach', 'hi'], ['gopchairwoman', 'comey', 'fbi', 'send', 'undercov', 'agent', 'spi', 'realdonaldtrump', 'campaign', 'stun', 'revel', 'length'], ['congression', 'oversight', 'bulli', 'jason', 'riley', 'wall', 'street', 'journal'], ['report', 'sound', 'aw', 'lot', 'comeyesqu', 'word', 'go', 'charg', 'person', 'wasn', 'close', 'crime', 'go', 'critic', 'way', 'door', 'unfortun', 'step', 'outsid', 'role', 'robert', 'ray'], ['spend', 'year', 'period', 'interview', 'peopl', 'trump', 'hat', 'angri', 'democrat', 'fbi', 'agent', 'culmin', 'page', 'report', 'show', 'collus', 'democrat', 'congress', 'need', 'robert', 'mueller'], ['testifi', 'look', 'redo', 'hat', 'see', 'strong', 'collus', 'conclus', 'crime', 'incred', 'cover', 'report', 'obstruct', 'bob', 'mueller', 'testifi', 'redo', 'dem'], ['month', 'china', 'pay', 'tariff', 'usa', 'billion', 'dollar', 'high', 'tech', 'billion', 'dollar', 'good', 'payment', 'partial', 'respons', 'great', 'econom', 'result', 'friday', 'billion', 'dollar'], ['addit', 'good', 'send', 'china', 'remain', 'untax', 'short', 'rate', 'tariff', 'pay', 'usa', 'littl', 'impact', 'product', 'cost', 'bear', 'china', 'trade', 'deal', 'china', 'continu', 'slowli', 'attempt', 'renegoti'], ['kentucki', 'derbi', 'decis', 'good', 'rough', 'tumbl', 'race', 'wet', 'sloppi', 'track', 'actual', 'beauti', 'thing', 'watch', 'day', 'polit', 'correct', 'overturn', 'occur', 'best', 'hors', 'win', 'kentucki', 'derbi', 'close'], ['pleas', 'inform', 'believ', 'strong', 'fair', 'sound', 'immigr', 'polici', 'mark', 'morgan', 'join', 'trump', 'administr', 'head', 'hard', 'work', 'men', 'women', 'ice', 'mark', 'true', 'believ', 'american', 'patriot', 'great', 'job'], ['ericbol', 'hispan', 'unemploy', 'hit', 'record', 'low', 'today', 'clip', 'big', 'special', 'america', 'air', 'today', 'chat', 'gro'], ['vp', 'honor', 'congreg', 'potus', 'prayer', 'resili', 'faith'], ['vp', 'join', 'pastor', 'mt', 'pleasant', 'baptist', 'church', 'st', 'mari', 'baptist', 'church', 'greater', 'union', 'baptist', 'church', 'remain', 'mt', 'pl'], ['judicialwatch', 'judici', 'watch', 'announc', 'receiv', 'page', 'newli', 'uncov', 'email', 'materi', 'secretari'], ['judicialwatch', 'jw', 'announc', 'senior', 'fbi', 'offici', 'admit', 'write', 'oath', 'agenc', 'clinton', 'email', 'record'], ['judicialwatch', 'judici', 'watch', 'presid', 'tomfitton', 'break', 'list', 'lawsuit', 'judici', 'watch', 'file', 'truth', 'abo'], ['judicialwatch', 'realdonaldtrump', 'retweet', 'petit', 'right', 'border', 'gateway', 'drug', 'cartel', 'violent'], ['hh', 'look', 'continu', 'incorrect', 'statement', 'napolitano', 'past', 'year', 'fair', 'ask', 'fnc', 'al'], ['kentuki', 'derbi', 'decis', 'good', 'rough', 'tumbl', 'race', 'wet', 'sloppi', 'track', 'actual', 'beauti', 'thing', 'watch', 'day', 'polit', 'correct', 'overturn', 'occur', 'best', 'hors', 'win', 'kentucki', 'derbi', 'close'], ['mike_p', 'congratul', 'derekbrownutah', 'chairman', 'utahgop', 'utah', 'economi', 'thank', 'leadership'], ['dailycal', 'doj', 'ask', 'court', 'lighten', 'qualcomm', 'battl', 'china', 'supremaci', 'cempawjzf'], ['dailycal', 'cnn', 'tapper', 'trump', 'get', 'credit', 'economi', 'ztwemmzkf'], ['dailycal', 'trump', 'cut', 'state', 'skim', 'medicaid', 'payment', 'big', 'labor', 'nwi', 'tomb'], ['dailycal', 'april', 'job', 'report', 'job', 'add', 'unemploy', 'percent', 'ham', 'rwreka'], ['mike', 'fantast', 'senat', 'wksafbearz'], ['possibl', 'jam', 'wood', 'strong', 'respons', 'conserv', 'voic', 'ban', 'twitter', 'social', 'media', 'fake', 'news', 'media', 'partner', 'democrat', 'parti', 'idea', 'problem', 'caus', 'unfair'], ['today', 'th', 'intern', 'firefight', 'day', 'rememb', 'live', 'line', 'save', 'grate', 'continu', 'love', 'great', 'firefight', 'thank', 'lbsfqrfz'], ['ivankatrump', 'time', 'unemploy', 'rate', 'low', 'land', 'time', 'moon', 'happi', 'april', 'job'], ['anshulblp', 'realdonaldtrump', 'je', 'yonsri'], ['trumpstud', 'realdonaldtrump', 'presid', 'trump', 'lead', 'america', 'better', 'safer', 'place'], ['charliekirk', 'boom', 'despit', 'horrend', 'media', 'treatment', 'coverag', 'trump', 'stand', 'approv', 'rat', 'tri', 'defam', 'himthey'], ['whitehous', 'kill', 'economi', 'hme', 'eihp'], ['good', 'yesterday', 'presid', 'putin', 'russia', 'tremend', 'potenti', 'good', 'great', 'relationship', 'russia', 'despit', 'read', 'fake', 'news', 'media', 'look', 'mislead', 'russia', 'collus', 'world', 'better', 'safer', 'place', 'nice'], ['interest', 'world', 'possibl', 'believ', 'kim', 'jong', 'fulli', 'realiz', 'great', 'econom', 'potenti', 'north', 'korea', 'interfer', 'end', 'know', 'want', 'break', 'promis', 'deal', 'happen'], ['realdonaldtrump', 'great', 'watch', 'pyoiljm', 'pz'], ['radic', 'leav', 'wing', 'media', 'apolog', 'know', 'get', 'russia', 'collus', 'delus', 'stori', 'wrong', 'real', 'stori', 'happen', 'nytim', 'washingtonpost', 'cnn', 'msnbc', 'allow', 'twitter', 'facebook', 'fake', 'news'], ['prisonplanet', 'danger', 'opinion', 'give', 'hand', 'giant', 'partisan', 'corpor', 'power', 'decid', 'free', 'speech'], ['iheartmindi', 'jam', 'wood', 'kick', 'twitter', 'quot', 'ralph', 'waldo', 'emerson', 'talbertswan', 'racist', 'fake', 'man', 'god'], ['lauren_southern', 'lmao', 'establish', 'conserv', 'think', 'win', 'label', 'new', 'danger', 'extremist', 'voic', 'thos'], ['jeremydbor', 'suggest', 'facebook', 'ban', 'reason', 'privat', 'compani', 'understand', 'platfo'], ['sharylattkisson', 'decid', 'american', 'ok', 'fo', 'govt', 'parti', 'censor', 'curat', 'info', 'trus'], ['sharylattkisson', 'quit', 'teach', 'understand', 'free', 'speech', 'mean', 'protect', 'distast', 'lest', 'open', 'door'], ['prisonplanet', 'support', 'incred', 'actual', 'lead', 'genuin', 'chang', 'pressur', 'let'], ['erictrump', 'great', 'team', 'trumpgolfphilli', 'unbeliev', 'cours', 'properti', 'truli', 'tomfazio', 'gre'], ['great', 'watch', 'pyoiljm', 'pz'], ['easi', 'usa', 'infrastructur', 'plan', 'especi', 'great', 'countri', 'spend', 'astound', 'trillion', 'dollar', 'middl', 'east', 'year', 'look', 'hard', 'bipartisan', 'plan', 'trillion', 'dollar', 'bad', 'need'], ['devinnun', 'best', 'chuckgrassley', 'clip', 'time', 'amzuz', 'dn'], ['want', 'know', 'trump', 'russian', 'cours', 'nonsens', 'thing', 'complet', 'setup', 'georg', 'papadopoulo', 'seanhann'], ['great', 'peopl', 'ia', 'il', 'mo', 'continu', 'confront', 'devast', 'flood', 'know', 'readi', 'help', 'team', 'remain', 'close', 'contact', 'iagovernor', 'govparsonmo', 'govpritzk', 'local', 'offici', 'manag', 'impact', 'destruct', 'flood'], ['surpris', 'conserv', 'thinker', 'like', 'jam', 'wood', 'ban', 'twitter', 'paul', 'watson', 'ban', 'facebook', 'ehx', 'cmxb'], ['wonder', 'diamond', 'silk', 'treat', 'horribl', 'facebook', 'work', 'hard', 'sad', 'look', 'get', 'wors', 'wors', 'conserv', 'social', 'media'], ['continu', 'monitor', 'censorship', 'american', 'citizen', 'social', 'media', 'platform', 'unit', 'state', 'america', 'know', 'freedom', 'speech', 'monitor', 'watch', 'close'], ['intern', 'associ', 'firefight', 'union', 'rebel', 'foolish', 'leader', 'vote', 'offic', 'nmaasmxol', 'tmg', 'ntvwo'], ['whitehous', 'presid', 'trump', 'welcom', 'prime', 'minist', 'peter', 'pellegrini', 'slovak', 'republ', 'visit', 'oval', 'offic', 'toda'], ['fred', 'keller', 'great', 'state', 'pennsylvania', 'outstand', 'state', 'rep', 'run', 'republican', 'nomine', 'congress', 'complet', 'total', 'endors', 'strong', 'crime', 'second', 'amend', 'militari', 'vet', 'healthcar', 'fantast', 'job'], ['long', 'good', 'convers', 'presid', 'putin', 'russia', 'say', 'long', 'witch', 'hunt', 'start', 'get', 'russia', 'china', 'good', 'thing', 'bad', 'thing'], ['discuss', 'trade', 'venezuela', 'ukrain', 'north', 'korea', 'nuclear', 'arm', 'control', 'russian', 'hoax', 'product', 'talk'], ['agre', 'america', 'envi', 'world', 'best', 'come', 'uc', 'dzhbu'], ['creat', 'job', 'april', 'unemploy', 'fell', 'lowest', 'level', 'ttqi', 'yjdku'], ['job', 'job', 'job', 'job', 'surg', 'april', 'unemploy', 'rate', 'fall', 'lowest', 'dgpummisf'], ['final', 'mainstream', 'media', 'get', 'involv', 'hot', 'avoid', 'pulitz', 'prize', 'new', 'york', 'time', 'page', 'final', 'detail', 'effort', 'spi', 'trump', 'campaign', 'foxandfriend', 'bigger', 'waterg', 'revers'], ['mariabartiromo', 'declassifi', 'soon', 'potus', 'realdonaldtrump', 'foxnew', 'foxbusi'], ['mariabartiromo', 'imp', 'bigger', 'stori', 'go', 'goplead', 'realdonaldtrump', 'morningsmaria', 'foxbusi'], ['whitehous', 'presid', 'realdonaldtrump', 'fix', 'american', 'trade', 'bring', 'steel', 'manufactur', 'job', 'home', 'pjd'], ['whitehous', 'happi', 'nation', 'space', 'day', 'america', 'best', 'space', 'presid', 'realdonaldtrump', 'make', 'sure', 'countri'], ['ok', 'year', 'hard', 'work', 'parti', 'tri', 'best', 'parti', 'look', 'bad', 'possibl', 'time', 'busi', 'mueller', 'report', 'strong', 'state', 'collus', 'russia', 'cours', 'fact', 'rebuff'], ['turn', 'attempt', 'gain', 'access', 'republican', 'democrat', 'come', 'good', 'american', 'peopl', 'cost', 'time', 'consum', 'investig', 'let', 'immigr', 'border', 'infrastructur', 'lower', 'drug', 'price'], ['thank', 'work', 'hard', 'maga', 'jwsb', 'ww'], ['proclam', 'day', 'remembr', 'victim', 'holocaust', 'nvfki', 'fr', 'vgpoeleesm'], ['congrat', 'u_s_steel', 'invest', 'billion', 'america', 'innov', 'steel', 'tariff', 'pennsylvania', 'usa', 'prosper', 'secur', 'bring', 'steel', 'aluminum', 'industri', 'tariff', 'work', 'pittsburgh', 'steel', 'citi', 'usa', 'economi', 'boom', 'xpxjxli', 'uc'], ['day', 'prayer', 'place', 'hop', 'hand', 'creator', 'thank', 'wondrous', 'land', 'liberti', 'pray', 'nation', 'home', 'unit', 'state', 'forev', 'strengthen', 'good', 'grace', 'etern', 'glori', 'god', 'rtsi', 'gwh'], ['unit', 'day', 'prayer', 'renew', 'resolv', 'protect', 'communiti', 'faith', 'ensur', 'peopl', 'live', 'pray', 'worship', 'peac', 'zphae'], ['deregul', 'produc', 'non', 'inflationari', 'prosper', 'american', 've', 'ask', 'steve', 'work', 'futur', 'econom', 'growth', 'countri'], ['steve', 'moor', 'great', 'pro', 'growth', 'economist', 'truli', 'fine', 'person', 'decid', 'withdraw', 'feed', 'process', 'steve', 'win', 'battl', 'idea', 'includ', 'tax', 'cut'], ['byronyork', 'understand', 'talk', 'mueller', 'decid', 'trump', 'obstruct', 'decid', 'investig'], ['kenvogel', 'new', 'biden', 'entangl', 'ukrainian', 'corrupt', 'scandal', 'joebiden', 'push', 'ukrain', 'prosecutor', 'see', 'corrup'], ['richlowri', 'nr', 'editori', 'time', 'expect', 'barr', 'critic', 'demonstr', 'lack', 'judgm'], ['mueller', 'witch', 'hunt', 'complet', 'seanhann', 'kt'], ['collus', 'delus', 'srnhodmzfj'], ['continu', 'monitor', 'situat', 'venezuela', 'close', 'unit', 'state', 'stand', 'peopl', 'venezuela', 'freedom', 'rtgfjqjc'], ['ny', 'ju'], ['judicialwatch', 'jw', 'presid', 'tomfitton', 'obama', 'allow', 'doj', 'fbi', 'spi', 'realdonaldtrump', 'scandal', 'generat'], ['judicialwatch', 'tomfitton', 'discuss', 'obama', 'biden', 'clinton', 'susan', 'rice', 'dnc', 'john', 'brennan', 'comey', 'clapper', 'kerri', 'mccabe', 'lor'], ['judicialwatch', 'jw', 'presid', 'tomfitton', 'appear', 'hanniti', 'discuss', 'deep', 'state', 'coup', 'effort', 'realdonaldtrump', 'dnc'], ['judicialwatch', 'judici', 'watch', 'announc', 'receiv', 'page', 'newli', 'uncov', 'email', 'materi', 'secretari'], ['judicialwatch', 'jw', 'announc', 'file', 'foia', 'lawsuit', 'doj', 'record', 'communic', 'payment', 'fbi'], ['tomfitton', 'judicialwatch', 'foia', 'disclosur', 'help', 'lead', 'crimin', 'referr', 'russiag', 'target', 'realdonaldtrump'], ['tomfitton', 'break', 'obama', 'know', 'fbi', 'admit', 'clinton', 'email', 'obama', 'wh', 'plus', 'judicialwatch', 'investig', 'inv'], ['marklevinshow', 'audienc', 'cnn', 'adioshttp', 'jvqi', 'otfnj'], ['erictrump', 'cnn', 'want', 'rethink', 'narrat', 'clear', 'peopl', 'like', 'messag', 'truli', 'shock', 'yo'], ['erictrump', 'democrat', 'parti', 'messag', 'accomplish', 'leadership', 'harass', 'father', 'famili', 'congress'], ['michi', 'barr', 'letter', 'inaccur', 'mueller', 'barr', 'media', 'coverag', 'letter', 'inaccur', 'mueller', 'yes'], ['aldress', 'phoenix', 'firefight', 'member', 'iaff', 'surpris', 'pleas', 'learn', 'money', 'go', 'feder'], ['collus', 'obstruct', 'obstruct', 'collus', 'trump', 'bad', 'action', 'greatest', 'job', 'histori', 'american', 'polit'], ['presid', 'obama', 'russia', 'septemb', 'novemb', 'elect', 'tell', 'fbi', 'intent'], ['congress', 'chang', 'immigr', 'law', 'dem', 'win', 'act', 'wall', 'build', 'mile', 'end', 'year', 'mexico', 'stop', 'march', 'border', 'foxandfriend'], ['presid', 'histori', 'endur', 'vicious', 'person', 'attack', 'polit', 'oppon', 'presid', 'record', 'unparallel', 'loudobb'], ['gallup', 'poll', 'american', 'rate', 'financi', 'situat', 'excel', 'good', 'highest', 'number', 'point'], ['overrid', 'decommiss', 'order', 'magnific', 'aircraft', 'carrier', 'harri', 'truman', 'build', 'fair', 'new', 'consid', 'largest', 'finest', 'world', 'updat', 'fraction', 'cost', 'new', 'build'], ['democrat', 'come', 'grip', 'fact', 'collus', 'conspiraci', 'obstruct', 'focus', 'go', 'govern', 'highest', 'level', 'fbi', 'senat', 'josh', 'hawley'], ['saulpavsr', 'dbongino', 'wait', 'vote', 'greatest', 'presid'], ['scottbepl', 'dbongino', 'year', 'plus', 'firefight', 'chanc', 'biden', 'choic', 'nomojo', 'actual', 'leav', 'ha'], ['tomlewi', 'dbongino', 'im', 'firefight', 'yuge', 'trump', 'support', 'get', 'ban', 'iaff', 'web'], ['jrag', 'dbongino', 'reason', 'joe', 'biden', 'abl', 'race', 'know', 'fact', 'democrat', 'media', 'ne'], ['proudtexanbrew', 'dbongino', 'retir', 'volunt', 'firefight', 'piss', 'due', 'go'], ['biggeorgeaz', 'dbongino', 'nope', 'vote', 'crazi', 'joe', 'support', 'realdonaldtrump'], ['gr', 'dbongino', 'debbieb', 'lousi', 'choic'], ['thedjdaniel', 'dbongino', 'firefight', 'servic', 'vote', 'realdonaldtrump', 'way'], ['tedbartley', 'dbongino', 'retir', 'firefight', 'speak', 'fellow', 'retireesand', 'assur', 'support', 'himor'], ['omastaskip', 'dbongino', 'retir', 'ff', 'know', 'major', 'rank', 'file', 'conserv', 'moder', 'support', 'lib'], ['mr', 'dbongino', 'stick', 'eye', 'union', 'trump', 'work', 'hard', 'respond', 'union', 'member', 'fight', 'ha'], ['kshaferus', 'dbongino', 'statement', 'like', 'liber', 'lie', 'militari', 'emerg', 'worker', 'support', 'candidat'], ['harrypeterson_', 'dbongino', 'matter', 'endors', 'person', 'win', 'presid', 'trump'], ['giamour', 'dbongino', 'husband', 'new', 'york', 'citi', 'firefight', 'year', 'vote', 'trump', 'way'], ['realdankida', 'dbongino', 'union', 'corpor', 'repres', 'presid', 'repres', 'peopl', 'maga', 'realdon'], ['flamingoheel', 'dbongino', 'joe', 'biden', 'parti', 'candid', 'firemen', 'endors'], ['krobbio', 'dbongino', 'due', 'support', 'trump'], ['blinddog', 'dbongino', 'know', 'polic', 'offic', 'union', 'back', 'donald', 'trump', 'blue', 'bluelivesmatt'], ['firemanbrawl', 'dbongino', 'know', 'coupl', 'depart', 'grant', 'alabama', 'firefight', 'talk', 'vote'], ['jcryptose', 'dbongino', 'support', 'fireman', 'ball'], ['chrisgogarti', 'dbongino', 'add', 'list', 'dan', 'furious', 'board', 'announc', 'take'], ['vanhortonm', 'dbongino', 'smoke', 'mirror', 'biden'], ['gwkohn', 'dbongino', 'men', 'know'], ['scooter', 'dbongino', 'fighter', 'union', 'boss', 'endors', 'failur'], ['bradybbum', 'dbongino', 'union', 'back', 'peopl', 'union'], ['mw_canterburi', 'dbongino', 'lawsuit', 'go', 'present', 'union', 'member', 'ech'], ['steverefresh', 'dbongino', 'union', 'due', 'trump', 'voter', 'creepi'], ['broncole', 'dbongino', 'kurtschlicht', 'iffa', 'want', 'go', 'dem'], ['mcguir', 'dbongino', 'brother'], ['curtisvinc', 'dbongino', 'firefight', 'win', 'vote', 'creepi', 'joebiden'], ['kimberl', 'dbongino', 'rank', 'file', 'know', 'rememb', 'know', 'vote'], ['lisalimaaa', 'dbongino', 'shouldn', 'fireman'], ['hikeamerica', 'dbongino', 'know', 'home', 'town'], ['clintwelborn', 'dbongino', 'happi', 'im', 'member', 'iaff', 'anymor'], ['joanwil', 'dbongino', 'small', 'group', 'obama', 'peopl', 'right', 'mind', 'support', 'joe', 'biden'], ['bones_zoom', 'dbongino', 'chanc'], ['cmd', 'dbongino', 'yea', 'right', 'vote', 'booth'], ['jeffne', 'dbongino', 'support', 'crazi', 'joe', 'member', 'local', 'arm'], ['warg', 'dbongino', 'fact'], ['bobahid', 'dbongino'], ['jeffreykstewart', 'dbongino', 'union', 'leadership', 'support', 'biden', 'member', 'support', 'trump', 'appli', 'union'], ['daniel', 'scboon', 'dbongino', 'bet', 'fireman', 'poll', 'presid', 'trump', 'win', 'landslid'], ['korryb', 'dbongino', 'certain', 'win', 'vote', 'guy'], ['joelle_palombo', 'dbongino', 'famili', 'support', 'joe', 'biden', 'presid', 'trump'], ['woofeous', 'dbongino', 'charg', 'union', 'due', 'alert', 'dan', 'union', 'leadership', 'open', 'book', 'member'], ['mscrosswi', 'dbongino', 'hear', 'firefight', 'support', 'joe', 'biden', 'leadership', 'firefight', 'union'], ['quaglianojohn', 'dbongino', 'roger', 'firefight', 'vote', 'trump', 'union', 'repres', 'membership', 'appropri'], ['wadar', 'dbongino', 'union', 'bureaucrat', 'endors', 'pay', 'member', 'wonder', 'union', 'get', 'smaller'], ['ja_loan', 'dbongino', 'know', 'firemen', 'retir', 'depend', 'economi', 'invest', 'stock', 'think'], ['cwelliott', 'dbongino', 'correct', 'dan', 'bunch', 'talk', 'dnc', 'buy', 'pay'], ['tgrand', 'dbongino', 'firefight', 'work', 'say', 'way', 'fake', 'news'], ['tto', 'dbongino', 'father', 'fireman', 'entir', 'firehous', 'love', 'trump'], ['jcoreyb', 'dbongino', 'career', 'firefight', 'vote', 'democrat', 'ticket', 'vote', 'potus'], ['jimmymac', 'dbongino', 'agre', 'dan', 'nyc', 'fd', 'inion', 'haven', 'peep', 'know', 'rank', 'file', 'trump', 'guy'], ['mitchraid', 'dbongino', 'firefight', 'ny', 'support', 'dem', 'disgust', 'diblasio', 'go', 'year', 'rip'], ['thekevinnash', 'dbongino', 'piss', 'withdraw', 'support', 'firepac'], ['orzech', 'dbongino', 'im', 'firefight', 'im', 'vote', 'joe'], ['ro', 'dbongino', 'fighter', 'friend', 'support', 'trump'], ['icemantom', 'dbongino', 'firefight', 'endors', 'joe', 'biden', 'vote', 'go', 'presid', 'donald', 'trump'], ['dpparadi', 'dbongino', 'neighbor', 'fireman', 'love', 'trump'], ['ve', 'firefight', 'due', 'suck', 'union', 'pay', 'zero', 'tw', 'qwtiud'], ['today', 'great', 'honor', 'welcom', 'host', 'nascar', 'cup', 'seri', 'champion', 'joeylogano', 'team_pensk', 'whitehous', 'excangg', 'kc'], ['cuban', 'troop', 'militia', 'immedi', 'ceas', 'militari', 'oper', 'purpos', 'caus', 'death', 'destruct', 'constitut', 'venezuela', 'complet'], ['embargo', 'highest', 'level', 'sanction', 'place', 'island', 'cuba', 'hope', 'cuban', 'soldier', 'prompt', 'peac', 'return', 'island'], ['congratul', 'nascar', 'cup', 'seri', 'champion', 'joeylogano', 'uhgtuvyr'], ['monitor', 'situat', 'venezuela', 'close', 'unit', 'state', 'stand', 'peopl', 'venezuela', 'freedom'], ['like', 'rocket', 'lower', 'rat', 'like', 'point', 'quantit', 'eas', 'yes', 'gdp', 'wonder', 'low', 'inflat', 'set', 'major', 'record', 'time', 'nation', 'debt', 'start', 'look', 'small'], ['china', 'add', 'great', 'stimulus', 'economi', 'time', 'keep', 'rat', 'low', 'feder', 'reserv', 'incess', 'lift', 'rat', 'inflat', 'low', 'institut', 'big', 'dose', 'quantit', 'tighten', 'potenti'], ['european', 'countri', 'help', 'benefit', 'refus', 'prison', 'specif', 'countri', 'good'], ['isi', 'prison', 'take', 'hostag', 'final', 'battl', 'destroy', 'caliph', 'syria', 'decis', 'danger', 'prison']]\n"
     ]
    }
   ],
   "source": [
    "print(len(docs))\n",
    "print(docs)"
   ]
  },
  {
   "cell_type": "code",
   "execution_count": 32,
   "metadata": {},
   "outputs": [],
   "source": [
    "def create_dictionary(docs):\n",
    "    return gensim.corpora.Dictionary(docs)\n",
    "\n",
    "dictionary = create_dictionary(docs)"
   ]
  },
  {
   "cell_type": "markdown",
   "metadata": {},
   "source": [
    "## Function to recover stem"
   ]
  },
  {
   "cell_type": "code",
   "execution_count": 33,
   "metadata": {},
   "outputs": [],
   "source": [
    "def get_original_word(stem, raw_docs):\n",
    "    index = raw_docs['text'].str.contains(stem, flags=re.IGNORECASE)\n",
    "    first_index = index.idxmax()\n",
    "    \n",
    "    matched_text = raw_docs['text'][first_index]\n",
    "\n",
    "    words = nltk.word_tokenize(matched_text)\n",
    "    \n",
    "    matched_word = None\n",
    "    \n",
    "    for w in words:\n",
    "        if stem in w.lower():\n",
    "            matched_word = w\n",
    "            break\n",
    "    \n",
    "    if matched_word is None:\n",
    "        return stem\n",
    "    \n",
    "    return matched_word"
   ]
  },
  {
   "cell_type": "markdown",
   "metadata": {},
   "source": [
    "# BOW"
   ]
  },
  {
   "cell_type": "code",
   "execution_count": 34,
   "metadata": {},
   "outputs": [],
   "source": [
    "bows = [dictionary.doc2bow(doc) for doc in docs]"
   ]
  },
  {
   "cell_type": "code",
   "execution_count": 35,
   "metadata": {},
   "outputs": [
    {
     "data": {
      "text/plain": [
       "[(0, 1), (1, 1), (2, 1), (3, 1), (4, 1)]"
      ]
     },
     "execution_count": 35,
     "metadata": {},
     "output_type": "execute_result"
    }
   ],
   "source": [
    "bows[0][:5]"
   ]
  },
  {
   "cell_type": "code",
   "execution_count": 36,
   "metadata": {},
   "outputs": [],
   "source": [
    "lda_model_bow = gensim.models.LdaModel(bows,\n",
    "                                        num_topics=3,\n",
    "                                        id2word=dictionary,\n",
    "                                        passes=2)"
   ]
  },
  {
   "cell_type": "code",
   "execution_count": 37,
   "metadata": {},
   "outputs": [
    {
     "name": "stdout",
     "output_type": "stream",
     "text": [
      "index 0: topic= 0.012*\"china\" + 0.010*\"great\" + 0.009*\"realdonaldtrump\" + 0.008*\"dollar\" + 0.007*\"billion\" + 0.007*\"state\" + 0.007*\"tariff\" + 0.007*\"presid\" + 0.006*\"mueller\" + 0.006*\"trump\"\n",
      "index 1: topic= 0.015*\"great\" + 0.008*\"time\" + 0.008*\"know\" + 0.008*\"democrat\" + 0.007*\"state\" + 0.006*\"work\" + 0.005*\"new\" + 0.005*\"presid\" + 0.004*\"dbongino\" + 0.004*\"job\"\n",
      "index 2: topic= 0.011*\"trump\" + 0.011*\"presid\" + 0.008*\"great\" + 0.008*\"countri\" + 0.008*\"china\" + 0.007*\"dbongino\" + 0.006*\"want\" + 0.005*\"peopl\" + 0.005*\"year\" + 0.005*\"deal\"\n"
     ]
    }
   ],
   "source": [
    "for index, topic in lda_model_bow.print_topics(-1):\n",
    "    print('index {}: topic= {}'.format(index, topic))"
   ]
  },
  {
   "cell_type": "code",
   "execution_count": 38,
   "metadata": {},
   "outputs": [
    {
     "name": "stdout",
     "output_type": "stream",
     "text": [
      "Topic 0: \n",
      "\n",
      "\tStems:\n",
      "\t\tchina\n",
      "\t\tgreat\n",
      "\t\trealdonaldtrump\n",
      "\t\tdollar\n",
      "\t\tbillion\n",
      "\t\tstate\n",
      "\t\ttariff\n",
      "\t\tpresid\n",
      "\t\tmueller\n",
      "\t\ttrump\n",
      "\n",
      "\n",
      "\tRecovered Words:\n",
      "\t\tChina\n",
      "\t\tGreatest\n",
      "\t\trealDonaldTrump\n",
      "\t\tDollar\n",
      "\t\tBillion\n",
      "\t\tStatement\n",
      "\t\ttariff\n",
      "\t\tPresidential\n",
      "\t\tMueller\n",
      "\t\tTrump\n",
      "\n",
      "\n",
      "Topic 1: \n",
      "\n",
      "\tStems:\n",
      "\t\tgreat\n",
      "\t\ttime\n",
      "\t\tknow\n",
      "\t\tdemocrat\n",
      "\t\tstate\n",
      "\t\twork\n",
      "\t\tnew\n",
      "\t\tpresid\n",
      "\t\tdbongino\n",
      "\t\tjob\n",
      "\n",
      "\n",
      "\tRecovered Words:\n",
      "\t\tGreatest\n",
      "\t\ttime\n",
      "\t\tknow\n",
      "\t\tDemocrats\n",
      "\t\tStatement\n",
      "\t\twork\n",
      "\t\tFoxNews\n",
      "\t\tPresidential\n",
      "\t\tdbongino\n",
      "\t\tjob\n",
      "\n",
      "\n",
      "Topic 2: \n",
      "\n",
      "\tStems:\n",
      "\t\ttrump\n",
      "\t\tpresid\n",
      "\t\tgreat\n",
      "\t\tcountri\n",
      "\t\tchina\n",
      "\t\tdbongino\n",
      "\t\twant\n",
      "\t\tpeopl\n",
      "\t\tyear\n",
      "\t\tdeal\n",
      "\n",
      "\n",
      "\tRecovered Words:\n",
      "\t\tTrump\n",
      "\t\tPresidential\n",
      "\t\tGreatest\n",
      "\t\tcountries\n",
      "\t\tChina\n",
      "\t\tdbongino\n",
      "\t\twanted\n",
      "\t\tpeople\n",
      "\t\tyears\n",
      "\t\tdeals\n",
      "\n",
      "\n"
     ]
    }
   ],
   "source": [
    "for index, topic in lda_model_bow.show_topics(-1, formatted=False):\n",
    "    print('Topic {}: '.format(index))\n",
    "    \n",
    "    print('\\n\\tStems:')\n",
    "    \n",
    "    for word, weight in topic:\n",
    "        print('\\t\\t{}'.format(word), end='\\n')\n",
    "#         print('{} '.format(word))\n",
    "\n",
    "    print('\\n\\n\\tRecovered Words:')\n",
    "    \n",
    "    for word, weight in topic:\n",
    "        print('\\t\\t{}'.format(get_original_word(word, raw_docs)), end='\\n')\n",
    "\n",
    "    print('\\n')"
   ]
  },
  {
   "cell_type": "markdown",
   "metadata": {},
   "source": [
    "## TF-IDF"
   ]
  },
  {
   "cell_type": "code",
   "execution_count": 39,
   "metadata": {},
   "outputs": [],
   "source": [
    "\n",
    "def bows2tfidf(bows):\n",
    "    tfidf = gensim.models.TfidfModel(bows)\n",
    "    corpus_tfidf = tfidf[bows]\n",
    "    \n",
    "    return corpus_tfidf\n",
    "\n",
    "corpus_tfidf = bows2tfidf(bows)\n",
    "\n"
   ]
  },
  {
   "cell_type": "code",
   "execution_count": 40,
   "metadata": {},
   "outputs": [
    {
     "data": {
      "text/plain": [
       "gensim.interfaces.TransformedCorpus"
      ]
     },
     "execution_count": 40,
     "metadata": {},
     "output_type": "execute_result"
    }
   ],
   "source": [
    "type(corpus_tfidf)"
   ]
  },
  {
   "cell_type": "code",
   "execution_count": 41,
   "metadata": {},
   "outputs": [],
   "source": [
    "lda_model_tfidf = gensim.models.LdaModel(corpus_tfidf,\n",
    "                                   num_topics=3,\n",
    "                                   id2word=dictionary,\n",
    "                                   passes=2)"
   ]
  },
  {
   "cell_type": "code",
   "execution_count": 42,
   "metadata": {},
   "outputs": [
    {
     "name": "stdout",
     "output_type": "stream",
     "text": [
      "Index 0: topic= 0.004*\"realdonaldtrump\" + 0.003*\"dbongino\" + 0.003*\"presid\" + 0.003*\"trump\" + 0.003*\"america\" + 0.003*\"china\" + 0.002*\"great\" + 0.002*\"news\" + 0.002*\"countri\" + 0.002*\"peopl\"\n",
      "Index 1: topic= 0.004*\"dbongino\" + 0.003*\"democrat\" + 0.003*\"great\" + 0.003*\"realdonaldtrump\" + 0.002*\"republican\" + 0.002*\"state\" + 0.002*\"vote\" + 0.002*\"china\" + 0.002*\"work\" + 0.002*\"want\"\n",
      "Index 2: topic= 0.004*\"great\" + 0.003*\"china\" + 0.003*\"trump\" + 0.003*\"time\" + 0.003*\"billion\" + 0.002*\"presid\" + 0.002*\"year\" + 0.002*\"dollar\" + 0.002*\"state\" + 0.002*\"new\"\n"
     ]
    }
   ],
   "source": [
    "for index, topic in lda_model_tfidf.print_topics(-1):\n",
    "    print('Index {}: topic= {}'.format(index, topic))"
   ]
  },
  {
   "cell_type": "code",
   "execution_count": 43,
   "metadata": {},
   "outputs": [
    {
     "name": "stdout",
     "output_type": "stream",
     "text": [
      "Topic 0: \n",
      "\n",
      "\tStems:\n",
      "\t\trealdonaldtrump\n",
      "\t\tdbongino\n",
      "\t\tpresid\n",
      "\t\ttrump\n",
      "\t\tamerica\n",
      "\t\tchina\n",
      "\t\tgreat\n",
      "\t\tnews\n",
      "\t\tcountri\n",
      "\t\tpeopl\n",
      "\n",
      "\n",
      "\tRecovered Words:\n",
      "\t\trealDonaldTrump\n",
      "\t\tdbongino\n",
      "\t\tPresidential\n",
      "\t\tTrump\n",
      "\t\tAmericans\n",
      "\t\tChina\n",
      "\t\tGreatest\n",
      "\t\tFoxNews\n",
      "\t\tcountries\n",
      "\t\tpeople\n",
      "\n",
      "\n",
      "Topic 1: \n",
      "\n",
      "\tStems:\n",
      "\t\tdbongino\n",
      "\t\tdemocrat\n",
      "\t\tgreat\n",
      "\t\trealdonaldtrump\n",
      "\t\trepublican\n",
      "\t\tstate\n",
      "\t\tvote\n",
      "\t\tchina\n",
      "\t\twork\n",
      "\t\twant\n",
      "\n",
      "\n",
      "\tRecovered Words:\n",
      "\t\tdbongino\n",
      "\t\tDemocrats\n",
      "\t\tGreatest\n",
      "\t\trealDonaldTrump\n",
      "\t\tRepublican\n",
      "\t\tStatement\n",
      "\t\tvote\n",
      "\t\tChina\n",
      "\t\twork\n",
      "\t\twanted\n",
      "\n",
      "\n",
      "Topic 2: \n",
      "\n",
      "\tStems:\n",
      "\t\tgreat\n",
      "\t\tchina\n",
      "\t\ttrump\n",
      "\t\ttime\n",
      "\t\tbillion\n",
      "\t\tpresid\n",
      "\t\tyear\n",
      "\t\tdollar\n",
      "\t\tstate\n",
      "\t\tnew\n",
      "\n",
      "\n",
      "\tRecovered Words:\n",
      "\t\tGreatest\n",
      "\t\tChina\n",
      "\t\tTrump\n",
      "\t\ttime\n",
      "\t\tBillion\n",
      "\t\tPresidential\n",
      "\t\tyears\n",
      "\t\tDollar\n",
      "\t\tStatement\n",
      "\t\tFoxNews\n",
      "\n",
      "\n"
     ]
    }
   ],
   "source": [
    "for index, topic in lda_model_tfidf.show_topics(-1, formatted=False):\n",
    "    print('Topic {}: '.format(index))\n",
    "    \n",
    "    print('\\n\\tStems:')\n",
    "    \n",
    "    for word, weight in topic:\n",
    "        print('\\t\\t{}'.format(word), end='\\n')\n",
    "#         print('{} '.format(word))\n",
    "\n",
    "    print('\\n\\n\\tRecovered Words:')\n",
    "    \n",
    "    for word, weight in topic:\n",
    "        print('\\t\\t{}'.format(get_original_word(word, raw_docs)), end='\\n')\n",
    "\n",
    "    print('\\n')"
   ]
  },
  {
   "cell_type": "code",
   "execution_count": null,
   "metadata": {},
   "outputs": [],
   "source": []
  },
  {
   "cell_type": "code",
   "execution_count": null,
   "metadata": {},
   "outputs": [],
   "source": []
  }
 ],
 "metadata": {
  "kernelspec": {
   "display_name": "Python 3",
   "language": "python",
   "name": "python3"
  },
  "language_info": {
   "codemirror_mode": {
    "name": "ipython",
    "version": 3
   },
   "file_extension": ".py",
   "mimetype": "text/x-python",
   "name": "python",
   "nbconvert_exporter": "python",
   "pygments_lexer": "ipython3",
   "version": "3.6.3"
  }
 },
 "nbformat": 4,
 "nbformat_minor": 2
}
