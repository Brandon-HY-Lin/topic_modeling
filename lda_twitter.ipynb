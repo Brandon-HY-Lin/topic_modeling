{
 "cells": [
  {
   "cell_type": "code",
   "execution_count": 77,
   "metadata": {},
   "outputs": [
    {
     "name": "stdout",
     "output_type": "stream",
     "text": [
      "[nltk_data] Downloading package wordnet to /root/nltk_data...\n",
      "[nltk_data]   Package wordnet is already up-to-date!\n",
      "[nltk_data] Downloading package punkt to /root/nltk_data...\n",
      "[nltk_data]   Package punkt is already up-to-date!\n"
     ]
    },
    {
     "data": {
      "text/plain": [
       "True"
      ]
     },
     "execution_count": 77,
     "metadata": {},
     "output_type": "execute_result"
    }
   ],
   "source": [
    "import pandas as pd\n",
    "import gensim\n",
    "import nltk\n",
    "import re\n",
    "from wordcloud import WordCloud\n",
    "import matplotlib.pyplot as plt\n",
    "\n",
    "%matplotlib inline\n",
    "\n",
    "nltk.download('wordnet')\n",
    "\n",
    "# download word_tokenize\n",
    "nltk.download('punkt')"
   ]
  },
  {
   "cell_type": "code",
   "execution_count": 4,
   "metadata": {},
   "outputs": [],
   "source": [
    "# filename = 'abcnews-date-text.csv'\n",
    "filename = 'twitter_trump_2019_05.csv'\n",
    "raw_docs = pd.read_csv(filename, error_bad_lines=False)"
   ]
  },
  {
   "cell_type": "code",
   "execution_count": 5,
   "metadata": {},
   "outputs": [
    {
     "data": {
      "text/plain": [
       "677"
      ]
     },
     "execution_count": 5,
     "metadata": {},
     "output_type": "execute_result"
    }
   ],
   "source": [
    "len(raw_docs)"
   ]
  },
  {
   "cell_type": "code",
   "execution_count": 6,
   "metadata": {},
   "outputs": [
    {
     "data": {
      "text/html": [
       "<div>\n",
       "<style scoped>\n",
       "    .dataframe tbody tr th:only-of-type {\n",
       "        vertical-align: middle;\n",
       "    }\n",
       "\n",
       "    .dataframe tbody tr th {\n",
       "        vertical-align: top;\n",
       "    }\n",
       "\n",
       "    .dataframe thead th {\n",
       "        text-align: right;\n",
       "    }\n",
       "</style>\n",
       "<table border=\"1\" class=\"dataframe\">\n",
       "  <thead>\n",
       "    <tr style=\"text-align: right;\">\n",
       "      <th></th>\n",
       "      <th>text</th>\n",
       "      <th>created_at</th>\n",
       "      <th>id_str</th>\n",
       "    </tr>\n",
       "  </thead>\n",
       "  <tbody>\n",
       "    <tr>\n",
       "      <th>0</th>\n",
       "      <td>Robert Mueller came to the Oval Office (along ...</td>\n",
       "      <td>05-30-2019 15:34:11</td>\n",
       "      <td>1134120831389392896</td>\n",
       "    </tr>\n",
       "    <tr>\n",
       "      <th>1</th>\n",
       "      <td>“Comey and Brennan are turning on each other.”...</td>\n",
       "      <td>05-30-2019 14:41:24</td>\n",
       "      <td>1134107544681455616</td>\n",
       "    </tr>\n",
       "    <tr>\n",
       "      <th>2</th>\n",
       "      <td>Congressman John Ratcliffe “The Trump Campaign...</td>\n",
       "      <td>05-30-2019 13:41:43</td>\n",
       "      <td>1134092525218590721</td>\n",
       "    </tr>\n",
       "    <tr>\n",
       "      <th>3</th>\n",
       "      <td>Russia Russia Russia! That’s all you heard at ...</td>\n",
       "      <td>05-30-2019 11:57:47</td>\n",
       "      <td>1134066371510378501</td>\n",
       "    </tr>\n",
       "    <tr>\n",
       "      <th>4</th>\n",
       "      <td>....say he fought back against this phony crim...</td>\n",
       "      <td>05-30-2019 11:57:47</td>\n",
       "      <td>1134066372584062976</td>\n",
       "    </tr>\n",
       "  </tbody>\n",
       "</table>\n",
       "</div>"
      ],
      "text/plain": [
       "                                                text           created_at  \\\n",
       "0  Robert Mueller came to the Oval Office (along ...  05-30-2019 15:34:11   \n",
       "1  “Comey and Brennan are turning on each other.”...  05-30-2019 14:41:24   \n",
       "2  Congressman John Ratcliffe “The Trump Campaign...  05-30-2019 13:41:43   \n",
       "3  Russia Russia Russia! That’s all you heard at ...  05-30-2019 11:57:47   \n",
       "4  ....say he fought back against this phony crim...  05-30-2019 11:57:47   \n",
       "\n",
       "                id_str  \n",
       "0  1134120831389392896  \n",
       "1  1134107544681455616  \n",
       "2  1134092525218590721  \n",
       "3  1134066371510378501  \n",
       "4  1134066372584062976  "
      ]
     },
     "execution_count": 6,
     "metadata": {},
     "output_type": "execute_result"
    }
   ],
   "source": [
    "raw_docs.head()"
   ]
  },
  {
   "cell_type": "code",
   "execution_count": 7,
   "metadata": {},
   "outputs": [
    {
     "data": {
      "text/plain": [
       "0    Robert Mueller came to the Oval Office (along ...\n",
       "1    “Comey and Brennan are turning on each other.”...\n",
       "2    Congressman John Ratcliffe “The Trump Campaign...\n",
       "3    Russia Russia Russia! That’s all you heard at ...\n",
       "4    ....say he fought back against this phony crim...\n",
       "5    Russia Russia Russia! That’s all you heard at ...\n",
       "6    ....say he fought back against this phony crim...\n",
       "7    The Greatest Presidential Harassment in histor...\n",
       "8    I was not informed about anything having to do...\n",
       "9    Great show tonight @seanhannity you really get...\n",
       "Name: text, dtype: object"
      ]
     },
     "execution_count": 7,
     "metadata": {},
     "output_type": "execute_result"
    }
   ],
   "source": [
    "raw_docs['text'][:10]"
   ]
  },
  {
   "cell_type": "code",
   "execution_count": 8,
   "metadata": {},
   "outputs": [],
   "source": [
    "import pdb\n",
    "\n",
    "def preprocess_docs(raw_docs, num_docs=None):\n",
    "    \"\"\"\n",
    "    Args:\n",
    "        raw_docs: pandas.DataFrame\n",
    "\n",
    "    Returns:\n",
    "        list(list): return list of list\n",
    "    \"\"\"\n",
    "    if num_docs is None:\n",
    "        num_docs = len(raw_docs)\n",
    "        \n",
    "    docs = list()\n",
    "\n",
    "    stemmer = nltk.stem.SnowballStemmer('english')\n",
    "    lemmatizer = nltk.stem.WordNetLemmatizer()\n",
    "    \n",
    "    \n",
    "    stopwords_http = ['https', 'rt', 'amp']\n",
    "\n",
    "    for d in raw_docs['text'][:num_docs]:\n",
    "        \n",
    "#         print(d)\n",
    "        processed_tokens = list()\n",
    "        # normalize and tokenize\n",
    "        tokens = gensim.utils.simple_preprocess(d)\n",
    "    \n",
    "#         print(tokens)\n",
    "#         pdb.set_trace()\n",
    "\n",
    "        # lemmatize then stem\n",
    "        for t in tokens:\n",
    "            # remove stop words\n",
    "            if t not in gensim.parsing.preprocessing.STOPWORDS:\n",
    "                if t not in stopwords_http:\n",
    "    #             print(t)\n",
    "                    p_t = stemmer.stem(lemmatizer.lemmatize(t, pos='v'))\n",
    "                    processed_tokens.append(p_t)\n",
    "            \n",
    "    #             pdb.set_trace()\n",
    "\n",
    "        docs.append(processed_tokens)\n",
    "    \n",
    "    return docs\n",
    "\n",
    "\n",
    "docs = preprocess_docs(raw_docs)"
   ]
  },
  {
   "cell_type": "code",
   "execution_count": 9,
   "metadata": {},
   "outputs": [
    {
     "name": "stdout",
     "output_type": "stream",
     "text": [
      "677\n"
     ]
    }
   ],
   "source": [
    "print(len(docs))\n",
    "# print(docs)"
   ]
  },
  {
   "cell_type": "code",
   "execution_count": 10,
   "metadata": {},
   "outputs": [],
   "source": [
    "def create_dictionary(docs):\n",
    "    return gensim.corpora.Dictionary(docs)\n",
    "\n",
    "dictionary = create_dictionary(docs)"
   ]
  },
  {
   "cell_type": "markdown",
   "metadata": {},
   "source": [
    "## Function to recover stem"
   ]
  },
  {
   "cell_type": "code",
   "execution_count": 11,
   "metadata": {},
   "outputs": [],
   "source": [
    "def get_original_word(stem, raw_docs):\n",
    "    index = raw_docs['text'].str.contains(stem, flags=re.IGNORECASE)\n",
    "    first_index = index.idxmax()\n",
    "    \n",
    "    matched_text = raw_docs['text'][first_index]\n",
    "\n",
    "    words = nltk.word_tokenize(matched_text)\n",
    "    \n",
    "    matched_word = None\n",
    "    \n",
    "    for w in words:\n",
    "        if stem in w.lower():\n",
    "            matched_word = w\n",
    "            break\n",
    "    \n",
    "    if matched_word is None:\n",
    "        return stem\n",
    "    \n",
    "    return matched_word"
   ]
  },
  {
   "cell_type": "markdown",
   "metadata": {},
   "source": [
    "# BOW"
   ]
  },
  {
   "cell_type": "code",
   "execution_count": 12,
   "metadata": {},
   "outputs": [],
   "source": [
    "bows = [dictionary.doc2bow(doc) for doc in docs]"
   ]
  },
  {
   "cell_type": "code",
   "execution_count": 13,
   "metadata": {},
   "outputs": [
    {
     "data": {
      "text/plain": [
       "[(0, 1), (1, 1), (2, 1), (3, 1), (4, 1)]"
      ]
     },
     "execution_count": 13,
     "metadata": {},
     "output_type": "execute_result"
    }
   ],
   "source": [
    "bows[0][:5]"
   ]
  },
  {
   "cell_type": "code",
   "execution_count": 30,
   "metadata": {},
   "outputs": [],
   "source": [
    "num_topics = 3\n",
    "lda_model_bow = gensim.models.LdaModel(bows,\n",
    "                                        num_topics=num_topics,\n",
    "                                        id2word=dictionary,\n",
    "                                        passes=2)"
   ]
  },
  {
   "cell_type": "code",
   "execution_count": 31,
   "metadata": {},
   "outputs": [
    {
     "name": "stdout",
     "output_type": "stream",
     "text": [
      "index 0: topic= 0.011*\"realdonaldtrump\" + 0.007*\"want\" + 0.007*\"democrat\" + 0.007*\"trump\" + 0.007*\"mueller\" + 0.007*\"dbongino\" + 0.006*\"presid\" + 0.006*\"report\" + 0.006*\"great\" + 0.005*\"job\"\n",
      "index 1: topic= 0.017*\"great\" + 0.008*\"peopl\" + 0.007*\"dbongino\" + 0.007*\"realdonaldtrump\" + 0.007*\"know\" + 0.006*\"today\" + 0.006*\"china\" + 0.006*\"countri\" + 0.005*\"trump\" + 0.005*\"support\"\n",
      "index 2: topic= 0.015*\"china\" + 0.011*\"presid\" + 0.010*\"great\" + 0.009*\"tariff\" + 0.008*\"trump\" + 0.008*\"state\" + 0.007*\"democrat\" + 0.006*\"billion\" + 0.006*\"year\" + 0.006*\"dollar\"\n"
     ]
    }
   ],
   "source": [
    "for index, topic in lda_model_bow.print_topics(-1):\n",
    "    print('index {}: topic= {}'.format(index, topic))"
   ]
  },
  {
   "cell_type": "code",
   "execution_count": 32,
   "metadata": {},
   "outputs": [
    {
     "name": "stdout",
     "output_type": "stream",
     "text": [
      "Topic 0: \n",
      "\n",
      "\tStems:\n",
      "\t\trealdonaldtrump\n",
      "\t\twant\n",
      "\t\tdemocrat\n",
      "\t\ttrump\n",
      "\t\tmueller\n",
      "\t\tdbongino\n",
      "\t\tpresid\n",
      "\t\treport\n",
      "\t\tgreat\n",
      "\t\tjob\n",
      "\n",
      "\n",
      "\tRecovered Words:\n",
      "\t\trealDonaldTrump\n",
      "\t\twanted\n",
      "\t\tDemocrats\n",
      "\t\tTrump\n",
      "\t\tMueller\n",
      "\t\tdbongino\n",
      "\t\tPresidential\n",
      "\t\tReport\n",
      "\t\tGreatest\n",
      "\t\tjob\n",
      "\n",
      "\n",
      "Topic 1: \n",
      "\n",
      "\tStems:\n",
      "\t\tgreat\n",
      "\t\tpeopl\n",
      "\t\tdbongino\n",
      "\t\trealdonaldtrump\n",
      "\t\tknow\n",
      "\t\ttoday\n",
      "\t\tchina\n",
      "\t\tcountri\n",
      "\t\ttrump\n",
      "\t\tsupport\n",
      "\n",
      "\n",
      "\tRecovered Words:\n",
      "\t\tGreatest\n",
      "\t\tpeople\n",
      "\t\tdbongino\n",
      "\t\trealDonaldTrump\n",
      "\t\tknow\n",
      "\t\ttoday\n",
      "\t\tChina\n",
      "\t\tcountries\n",
      "\t\tTrump\n",
      "\t\tsupports\n",
      "\n",
      "\n",
      "Topic 2: \n",
      "\n",
      "\tStems:\n",
      "\t\tchina\n",
      "\t\tpresid\n",
      "\t\tgreat\n",
      "\t\ttariff\n",
      "\t\ttrump\n",
      "\t\tstate\n",
      "\t\tdemocrat\n",
      "\t\tbillion\n",
      "\t\tyear\n",
      "\t\tdollar\n",
      "\n",
      "\n",
      "\tRecovered Words:\n",
      "\t\tChina\n",
      "\t\tPresidential\n",
      "\t\tGreatest\n",
      "\t\ttariff\n",
      "\t\tTrump\n",
      "\t\tStatement\n",
      "\t\tDemocrats\n",
      "\t\tBillion\n",
      "\t\tyears\n",
      "\t\tDollar\n",
      "\n",
      "\n"
     ]
    }
   ],
   "source": [
    "for index, topic in lda_model_bow.show_topics(-1, formatted=False):\n",
    "    print('Topic {}: '.format(index))\n",
    "    \n",
    "    print('\\n\\tStems:')\n",
    "    \n",
    "    for word, weight in topic:\n",
    "        print('\\t\\t{}'.format(word), end='\\n')\n",
    "#         print('{} '.format(word))\n",
    "\n",
    "    print('\\n\\n\\tRecovered Words:')\n",
    "    \n",
    "    for word, weight in topic:\n",
    "        print('\\t\\t{}'.format(get_original_word(word, raw_docs)), end='\\n')\n",
    "\n",
    "    print('\\n')"
   ]
  },
  {
   "cell_type": "markdown",
   "metadata": {},
   "source": [
    "## TF-IDF"
   ]
  },
  {
   "cell_type": "code",
   "execution_count": 17,
   "metadata": {},
   "outputs": [],
   "source": [
    "\n",
    "def bows2tfidf(bows):\n",
    "    tfidf = gensim.models.TfidfModel(bows)\n",
    "    corpus_tfidf = tfidf[bows]\n",
    "    \n",
    "    return corpus_tfidf\n",
    "\n",
    "corpus_tfidf = bows2tfidf(bows)\n",
    "\n"
   ]
  },
  {
   "cell_type": "code",
   "execution_count": 18,
   "metadata": {},
   "outputs": [
    {
     "data": {
      "text/plain": [
       "gensim.interfaces.TransformedCorpus"
      ]
     },
     "execution_count": 18,
     "metadata": {},
     "output_type": "execute_result"
    }
   ],
   "source": [
    "type(corpus_tfidf)"
   ]
  },
  {
   "cell_type": "code",
   "execution_count": 19,
   "metadata": {},
   "outputs": [],
   "source": [
    "lda_model_tfidf = gensim.models.LdaModel(corpus_tfidf,\n",
    "                                   num_topics=num_topics,\n",
    "                                   id2word=dictionary,\n",
    "                                   passes=2)"
   ]
  },
  {
   "cell_type": "code",
   "execution_count": 20,
   "metadata": {},
   "outputs": [
    {
     "name": "stdout",
     "output_type": "stream",
     "text": [
      "Index 0: topic= 0.003*\"dbongino\" + 0.003*\"mueller\" + 0.003*\"democrat\" + 0.003*\"state\" + 0.003*\"china\" + 0.003*\"great\" + 0.003*\"peopl\" + 0.003*\"trump\" + 0.003*\"want\" + 0.003*\"union\"\n",
      "Index 1: topic= 0.003*\"realdonaldtrump\" + 0.003*\"great\" + 0.003*\"thank\" + 0.003*\"news\" + 0.003*\"job\" + 0.002*\"presid\" + 0.002*\"fake\" + 0.002*\"american\" + 0.002*\"know\" + 0.002*\"russia\"\n",
      "Index 2: topic= 0.004*\"china\" + 0.004*\"dollar\" + 0.004*\"presid\" + 0.003*\"billion\" + 0.003*\"great\" + 0.003*\"year\" + 0.003*\"trump\" + 0.003*\"dbongino\" + 0.003*\"realdonaldtrump\" + 0.003*\"get\"\n"
     ]
    }
   ],
   "source": [
    "for index, topic in lda_model_tfidf.print_topics(-1):\n",
    "    print('Index {}: topic= {}'.format(index, topic))"
   ]
  },
  {
   "cell_type": "code",
   "execution_count": null,
   "metadata": {},
   "outputs": [],
   "source": []
  },
  {
   "cell_type": "code",
   "execution_count": 59,
   "metadata": {},
   "outputs": [],
   "source": [
    "init_values = [['']*num_topics]*10\n",
    "stem_df = pd.DataFrame(init_values, columns=['topic{}'.format(i) for i in range(num_topics)])\n",
    "recovered_df = pd.DataFrame(init_values, columns=['topic{}'.format(i) for i in range(num_topics)])\n",
    "\n",
    "\n",
    "for i_topic, topic in lda_model_tfidf.show_topics(-1, formatted=False):\n",
    "#     print('Topic {}: '.format(index))\n",
    "    \n",
    "#     print('\\n\\tStems:')\n",
    "    \n",
    "    for i_word, (word, weight) in enumerate(topic):\n",
    "#         print('\\t\\t{}'.format(word), end='\\n')\n",
    "        stem_df.iloc[i_word][i_topic] = word\n",
    "\n",
    "#     print('\\n\\n\\tRecovered Words:')\n",
    "    \n",
    "    for i_word, (word, weight) in enumerate(topic):\n",
    "#         print('\\t\\t{}'.format(get_original_word(word, raw_docs)), end='\\n')\n",
    "        recovered_df.iloc[i_word][i_topic] = get_original_word(word, raw_docs)\n",
    "\n",
    "#     print('\\n')"
   ]
  },
  {
   "cell_type": "code",
   "execution_count": 60,
   "metadata": {},
   "outputs": [
    {
     "data": {
      "text/html": [
       "<div>\n",
       "<style scoped>\n",
       "    .dataframe tbody tr th:only-of-type {\n",
       "        vertical-align: middle;\n",
       "    }\n",
       "\n",
       "    .dataframe tbody tr th {\n",
       "        vertical-align: top;\n",
       "    }\n",
       "\n",
       "    .dataframe thead th {\n",
       "        text-align: right;\n",
       "    }\n",
       "</style>\n",
       "<table border=\"1\" class=\"dataframe\">\n",
       "  <thead>\n",
       "    <tr style=\"text-align: right;\">\n",
       "      <th></th>\n",
       "      <th>topic0</th>\n",
       "      <th>topic1</th>\n",
       "      <th>topic2</th>\n",
       "    </tr>\n",
       "  </thead>\n",
       "  <tbody>\n",
       "    <tr>\n",
       "      <th>0</th>\n",
       "      <td>dbongino</td>\n",
       "      <td>realdonaldtrump</td>\n",
       "      <td>china</td>\n",
       "    </tr>\n",
       "    <tr>\n",
       "      <th>1</th>\n",
       "      <td>mueller</td>\n",
       "      <td>great</td>\n",
       "      <td>dollar</td>\n",
       "    </tr>\n",
       "    <tr>\n",
       "      <th>2</th>\n",
       "      <td>democrat</td>\n",
       "      <td>thank</td>\n",
       "      <td>presid</td>\n",
       "    </tr>\n",
       "    <tr>\n",
       "      <th>3</th>\n",
       "      <td>state</td>\n",
       "      <td>news</td>\n",
       "      <td>billion</td>\n",
       "    </tr>\n",
       "    <tr>\n",
       "      <th>4</th>\n",
       "      <td>china</td>\n",
       "      <td>job</td>\n",
       "      <td>great</td>\n",
       "    </tr>\n",
       "    <tr>\n",
       "      <th>5</th>\n",
       "      <td>great</td>\n",
       "      <td>presid</td>\n",
       "      <td>year</td>\n",
       "    </tr>\n",
       "    <tr>\n",
       "      <th>6</th>\n",
       "      <td>peopl</td>\n",
       "      <td>fake</td>\n",
       "      <td>trump</td>\n",
       "    </tr>\n",
       "    <tr>\n",
       "      <th>7</th>\n",
       "      <td>trump</td>\n",
       "      <td>american</td>\n",
       "      <td>dbongino</td>\n",
       "    </tr>\n",
       "    <tr>\n",
       "      <th>8</th>\n",
       "      <td>want</td>\n",
       "      <td>know</td>\n",
       "      <td>realdonaldtrump</td>\n",
       "    </tr>\n",
       "    <tr>\n",
       "      <th>9</th>\n",
       "      <td>union</td>\n",
       "      <td>russia</td>\n",
       "      <td>get</td>\n",
       "    </tr>\n",
       "  </tbody>\n",
       "</table>\n",
       "</div>"
      ],
      "text/plain": [
       "     topic0           topic1           topic2\n",
       "0  dbongino  realdonaldtrump            china\n",
       "1   mueller            great           dollar\n",
       "2  democrat            thank           presid\n",
       "3     state             news          billion\n",
       "4     china              job            great\n",
       "5     great           presid             year\n",
       "6     peopl             fake            trump\n",
       "7     trump         american         dbongino\n",
       "8      want             know  realdonaldtrump\n",
       "9     union           russia              get"
      ]
     },
     "execution_count": 60,
     "metadata": {},
     "output_type": "execute_result"
    }
   ],
   "source": [
    "stem_df"
   ]
  },
  {
   "cell_type": "code",
   "execution_count": 61,
   "metadata": {},
   "outputs": [
    {
     "data": {
      "text/html": [
       "<div>\n",
       "<style scoped>\n",
       "    .dataframe tbody tr th:only-of-type {\n",
       "        vertical-align: middle;\n",
       "    }\n",
       "\n",
       "    .dataframe tbody tr th {\n",
       "        vertical-align: top;\n",
       "    }\n",
       "\n",
       "    .dataframe thead th {\n",
       "        text-align: right;\n",
       "    }\n",
       "</style>\n",
       "<table border=\"1\" class=\"dataframe\">\n",
       "  <thead>\n",
       "    <tr style=\"text-align: right;\">\n",
       "      <th></th>\n",
       "      <th>topic0</th>\n",
       "      <th>topic1</th>\n",
       "      <th>topic2</th>\n",
       "    </tr>\n",
       "  </thead>\n",
       "  <tbody>\n",
       "    <tr>\n",
       "      <th>0</th>\n",
       "      <td>dbongino</td>\n",
       "      <td>realDonaldTrump</td>\n",
       "      <td>China</td>\n",
       "    </tr>\n",
       "    <tr>\n",
       "      <th>1</th>\n",
       "      <td>Mueller</td>\n",
       "      <td>Greatest</td>\n",
       "      <td>Dollar</td>\n",
       "    </tr>\n",
       "    <tr>\n",
       "      <th>2</th>\n",
       "      <td>Democrats</td>\n",
       "      <td>Thank</td>\n",
       "      <td>Presidential</td>\n",
       "    </tr>\n",
       "    <tr>\n",
       "      <th>3</th>\n",
       "      <td>Statement</td>\n",
       "      <td>FoxNews</td>\n",
       "      <td>Billion</td>\n",
       "    </tr>\n",
       "    <tr>\n",
       "      <th>4</th>\n",
       "      <td>China</td>\n",
       "      <td>job</td>\n",
       "      <td>Greatest</td>\n",
       "    </tr>\n",
       "    <tr>\n",
       "      <th>5</th>\n",
       "      <td>Greatest</td>\n",
       "      <td>Presidential</td>\n",
       "      <td>years</td>\n",
       "    </tr>\n",
       "    <tr>\n",
       "      <th>6</th>\n",
       "      <td>people</td>\n",
       "      <td>Fake</td>\n",
       "      <td>Trump</td>\n",
       "    </tr>\n",
       "    <tr>\n",
       "      <th>7</th>\n",
       "      <td>Trump</td>\n",
       "      <td>Americans</td>\n",
       "      <td>dbongino</td>\n",
       "    </tr>\n",
       "    <tr>\n",
       "      <th>8</th>\n",
       "      <td>wanted</td>\n",
       "      <td>know</td>\n",
       "      <td>realDonaldTrump</td>\n",
       "    </tr>\n",
       "    <tr>\n",
       "      <th>9</th>\n",
       "      <td>Union</td>\n",
       "      <td>Russia</td>\n",
       "      <td>get</td>\n",
       "    </tr>\n",
       "  </tbody>\n",
       "</table>\n",
       "</div>"
      ],
      "text/plain": [
       "      topic0           topic1           topic2\n",
       "0   dbongino  realDonaldTrump            China\n",
       "1    Mueller         Greatest           Dollar\n",
       "2  Democrats            Thank     Presidential\n",
       "3  Statement          FoxNews          Billion\n",
       "4      China              job         Greatest\n",
       "5   Greatest     Presidential            years\n",
       "6     people             Fake            Trump\n",
       "7      Trump        Americans         dbongino\n",
       "8     wanted             know  realDonaldTrump\n",
       "9      Union           Russia              get"
      ]
     },
     "execution_count": 61,
     "metadata": {},
     "output_type": "execute_result"
    }
   ],
   "source": [
    "recovered_df"
   ]
  },
  {
   "cell_type": "markdown",
   "metadata": {},
   "source": [
    "# Generate Word Cloud"
   ]
  },
  {
   "cell_type": "code",
   "execution_count": 98,
   "metadata": {},
   "outputs": [
    {
     "name": "stdout",
     "output_type": "stream",
     "text": [
      "Topic 0: dbongino Mueller Democrats Statement China Greatest people Trump wanted Union\n",
      "Topic 1: realDonaldTrump Greatest Thank FoxNews job Presidential Fake Americans know Russia\n",
      "Topic 2: China Dollar Presidential Billion Greatest years Trump dbongino realDonaldTrump get\n"
     ]
    },
    {
     "data": {
      "image/png": "[encoded data removed]",
      "text/plain": [
       "<matplotlib.figure.Figure at 0x7f18f6698f60>"
      ]
     },
     "metadata": {
      "needs_background": "light"
     },
     "output_type": "display_data"
    }
   ],
   "source": [
    "fig, axs = plt.subplots(num_topics)\n",
    "fig.set_figheight(15)\n",
    "fig.set_figwidth(15)\n",
    "\n",
    "for i_topic in range(num_topics):\n",
    "    text = ' '.join(w for w in recovered_df.iloc[:, i_topic])\n",
    "    print('Topic {}: {}'.format(i_topic, text))\n",
    "    wordCloud = WordCloud(background_color='white').generate(text)\n",
    "    \n",
    "    axs[i_topic].imshow(wordCloud)\n",
    "    axs[i_topic].axis('off')\n",
    "    axs[i_topic].set_title('Topic {}'.format(i_topic), size=20)"
   ]
  },
  {
   "cell_type": "code",
   "execution_count": null,
   "metadata": {},
   "outputs": [],
   "source": []
  }
 ],
 "metadata": {
  "kernelspec": {
   "display_name": "Python 3",
   "language": "python",
   "name": "python3"
  },
  "language_info": {
   "codemirror_mode": {
    "name": "ipython",
    "version": 3
   },
   "file_extension": ".py",
   "mimetype": "text/x-python",
   "name": "python",
   "nbconvert_exporter": "python",
   "pygments_lexer": "ipython3",
   "version": "3.6.3"
  }
 },
 "nbformat": 4,
 "nbformat_minor": 2
}
