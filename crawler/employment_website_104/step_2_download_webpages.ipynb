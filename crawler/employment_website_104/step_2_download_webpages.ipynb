{
 "cells": [
  {
   "cell_type": "markdown",
   "metadata": {},
   "source": [
    "# Download Webpages"
   ]
  },
  {
   "cell_type": "code",
   "execution_count": 17,
   "metadata": {},
   "outputs": [],
   "source": [
    "import requests\n",
    "import urllib.request\n",
    "import bs4\n",
    "from bs4 import BeautifulSoup\n",
    "\n",
    "import uuid\n",
    "import urllib.request\n",
    "from tqdm import tqdm"
   ]
  },
  {
   "cell_type": "markdown",
   "metadata": {},
   "source": [
    "# Generate URL of 104 Website"
   ]
  },
  {
   "cell_type": "code",
   "execution_count": 2,
   "metadata": {},
   "outputs": [],
   "source": [
    "def get_url_job_list(num_pages=50):\n",
    "    \"\"\"\n",
    "    Generate url of 104 website.\n",
    "        Sample url: \n",
    "              ['https://www.104.com.tw/jobs/search/?ro=0&kwop=7&keyword=machine%20learning&order=1&asc=0&page=1&mode=s&jobsource=2018indexpoc',\n",
    "               'https://www.104.com.tw/jobs/search/?ro=0&kwop=7&keyword=machine%20learning&order=1&asc=0&page=2&mode=s&jobsource=2018indexpoc',\n",
    "               'https://www.104.com.tw/jobs/search/?ro=0&kwop=7&keyword=machine%20learning&order=1&asc=0&page=3&mode=s&jobsource=2018indexpoc',\n",
    "               'https://www.104.com.tw/jobs/search/?ro=0&kwop=7&keyword=machine%20learning&order=1&asc=0&page=10&mode=s&jobsource=2018indexpoc',\n",
    "               'https://www.104.com.tw/jobs/search/?ro=0&kwop=7&keyword=machine%20learning&order=1&asc=0&page=11&mode=s&jobsource=2018indexpoc']\n",
    "\n",
    "    Return: return url lists\n",
    "    \"\"\"\n",
    "    \n",
    "    url_job_list = []\n",
    "    \n",
    "    for index in range(1, num_pages+1):\n",
    "        url = 'https://www.104.com.tw/jobs/search/?ro=0&kwop=7&keyword=machine%20learning&order=1&asc=0&page={}&mode=s&jobsource=2018indexpoc'.format(index)\n",
    "        url_job_list.append(url)\n",
    "        \n",
    "        \n",
    "    return url_job_list\n",
    "\n",
    "\n",
    "url_job_list = get_url_job_list()"
   ]
  },
  {
   "cell_type": "code",
   "execution_count": 3,
   "metadata": {},
   "outputs": [
    {
     "data": {
      "text/plain": [
       "['https://www.104.com.tw/jobs/search/?ro=0&kwop=7&keyword=machine%20learning&order=1&asc=0&page=1&mode=s&jobsource=2018indexpoc',\n",
       " 'https://www.104.com.tw/jobs/search/?ro=0&kwop=7&keyword=machine%20learning&order=1&asc=0&page=2&mode=s&jobsource=2018indexpoc',\n",
       " 'https://www.104.com.tw/jobs/search/?ro=0&kwop=7&keyword=machine%20learning&order=1&asc=0&page=3&mode=s&jobsource=2018indexpoc',\n",
       " 'https://www.104.com.tw/jobs/search/?ro=0&kwop=7&keyword=machine%20learning&order=1&asc=0&page=4&mode=s&jobsource=2018indexpoc',\n",
       " 'https://www.104.com.tw/jobs/search/?ro=0&kwop=7&keyword=machine%20learning&order=1&asc=0&page=5&mode=s&jobsource=2018indexpoc']"
      ]
     },
     "execution_count": 3,
     "metadata": {},
     "output_type": "execute_result"
    }
   ],
   "source": [
    "url_job_list[:5]"
   ]
  },
  {
   "cell_type": "markdown",
   "metadata": {},
   "source": [
    "# Declare Parser Class"
   ]
  },
  {
   "cell_type": "code",
   "execution_count": 11,
   "metadata": {},
   "outputs": [],
   "source": [
    "class ListParser():\n",
    "    def __init__(self, url):\n",
    "        \n",
    "        # fetch html page and parse it.\n",
    "        response = requests.get(url, timeout=10)\n",
    "        self.content = BeautifulSoup(response.content, \"html.parser\")\n",
    "        assert self.content is not None, 'Error: Empty content.'\n",
    "        \n",
    "        self.num_list = 0\n",
    "        \n",
    "        \n",
    "    def get_lists(self):\n",
    "        self.num_list = 0\n",
    "        \n",
    "        for element in self.content.findAll('article', attrs={'class': ['job-mode', 'js-job-item']}):\n",
    "            if 'b-block--ad' in element.attrs['class']:\n",
    "                continue\n",
    "            else:\n",
    "                self.num_list += 1\n",
    "                yield element\n",
    "        \n",
    "        \n",
    "class EntryParser():\n",
    "    def __init__(self, element):\n",
    "        \"\"\"\n",
    "        Args:\n",
    "            element (bs4.element): element in BeautifulSoup\n",
    "        \"\"\"\n",
    "        \n",
    "        self.element = element\n",
    "        \n",
    "        \n",
    "    def get_url(self):\n",
    "        job = element.find('a', attrs={'class': 'js-job-link'})\n",
    "        \n",
    "        return 'http:' + job['href']\n",
    "    \n",
    "    \n",
    "    def get_filename(self):\n",
    "        \n",
    "        # get a random unique id\n",
    "        str_uuid = uuid.uuid4()\n",
    "        \n",
    "        filename = '{}_{}_{}.html'.format(element['data-cust-name'], element['data-job-name'], str_uuid)\n",
    "        return filename\n",
    "    "
   ]
  },
  {
   "cell_type": "markdown",
   "metadata": {},
   "source": [
    "# Define Utility: Save Function"
   ]
  },
  {
   "cell_type": "code",
   "execution_count": 14,
   "metadata": {},
   "outputs": [],
   "source": [
    "def save_page(url, filename):\n",
    "    urllib.request.urlretrieve(url, filename)"
   ]
  },
  {
   "cell_type": "markdown",
   "metadata": {},
   "source": [
    "# Main Program"
   ]
  },
  {
   "cell_type": "code",
   "execution_count": 21,
   "metadata": {},
   "outputs": [
    {
     "name": "stderr",
     "output_type": "stream",
     "text": [
      "\r",
      "  0%|          | 0/3 [00:00<?, ?it/s]"
     ]
    },
    {
     "name": "stdout",
     "output_type": "stream",
     "text": [
      "http://www.104.com.tw/job/6lng1?jobsource=jolist_a_relevance\n",
      "./dataset/現觀科技股份有限公司_Machine Learning Engineer_fb6fc616-8ff8-45a6-917c-e75f249c5e8a.html\n",
      "http://www.104.com.tw/job/6arae?jobsource=jolist_a_relevance\n",
      "./dataset/新馳科技有限公司_Machine Learning Technical Manager_1e3479da-6053-4618-add8-afbebc431bc7.html\n"
     ]
    },
    {
     "name": "stderr",
     "output_type": "stream",
     "text": [
      "\r",
      " 33%|███▎      | 1/3 [00:04<00:09,  4.90s/it]"
     ]
    },
    {
     "name": "stdout",
     "output_type": "stream",
     "text": [
      "http://www.104.com.tw/job/6c3kr?jobsource=jolist_a_relevance\n",
      "./dataset/英屬開曼群島商鼎峰智能股份有限公司台灣分公司_Machine Learning RD (Hsinchu)_b7352ed4-9451-4dfe-820b-dc4e535a7fc8.html\n",
      "http://www.104.com.tw/job/5nub2?jobsource=jolist_a_relevance\n",
      "./dataset/英屬開曼群島商鼎峰智能股份有限公司台灣分公司_Machine Learning RD (Taipei)_431af9c6-8e4e-4c0f-a7e3-a3dab91bebfe.html\n"
     ]
    },
    {
     "name": "stderr",
     "output_type": "stream",
     "text": [
      "\r",
      " 67%|██████▋   | 2/3 [00:09<00:04,  4.90s/it]"
     ]
    },
    {
     "name": "stdout",
     "output_type": "stream",
     "text": [
      "http://www.104.com.tw/job/6gu8v?jobsource=2018indexpoc\n",
      "./dataset/LINE Taiwan_台灣連線股份有限公司_(LTEG) Data Scientist - Machine Learning (Junior)_a8a76b8b-c9aa-4a9e-90bb-58301b5e9ab7.html\n",
      "http://www.104.com.tw/job/6gu8p?jobsource=2018indexpoc\n",
      "./dataset/LINE Taiwan_台灣連線股份有限公司_(LTEG) Data Scientist - Machine Learning (Senior)_98ef7d61-6557-4e64-92eb-682cf6500f07.html\n"
     ]
    },
    {
     "name": "stderr",
     "output_type": "stream",
     "text": [
      "100%|██████████| 3/3 [00:14<00:00,  4.93s/it]\n"
     ]
    }
   ],
   "source": [
    "folder_name = './dataset/'\n",
    "\n",
    "# for url in url_job_list[:1]:\n",
    "for url in tqdm(url_job_list[:3]):\n",
    "    parser = ListParser(url)\n",
    "    \n",
    "    for element in parser.get_lists():\n",
    "        entry = EntryParser(element)\n",
    "        \n",
    "        print(entry.get_url())\n",
    "        print(folder_name + entry.get_filename())\n",
    "            \n",
    "        save_page(entry.get_url(), folder_name + entry.get_filename())\n",
    "        \n",
    "        if parser.num_list == 2:\n",
    "            break"
   ]
  },
  {
   "cell_type": "code",
   "execution_count": null,
   "metadata": {},
   "outputs": [],
   "source": []
  }
 ],
 "metadata": {
  "kernelspec": {
   "display_name": "Python 3",
   "language": "python",
   "name": "python3"
  },
  "language_info": {
   "codemirror_mode": {
    "name": "ipython",
    "version": 3
   },
   "file_extension": ".py",
   "mimetype": "text/x-python",
   "name": "python",
   "nbconvert_exporter": "python",
   "pygments_lexer": "ipython3",
   "version": "3.6.3"
  }
 },
 "nbformat": 4,
 "nbformat_minor": 2
}
