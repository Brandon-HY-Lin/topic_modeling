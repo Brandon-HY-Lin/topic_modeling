{
 "cells": [
  {
   "cell_type": "markdown",
   "metadata": {},
   "source": [
    "# Download Webpages"
   ]
  },
  {
   "cell_type": "code",
   "execution_count": 1,
   "metadata": {},
   "outputs": [],
   "source": [
    "import requests\n",
    "import urllib.request\n",
    "import bs4\n",
    "from bs4 import BeautifulSoup\n",
    "\n",
    "import uuid\n",
    "import urllib.request\n",
    "from tqdm import tqdm"
   ]
  },
  {
   "cell_type": "markdown",
   "metadata": {},
   "source": [
    "# Generate URL of 104 Website"
   ]
  },
  {
   "cell_type": "code",
   "execution_count": 2,
   "metadata": {},
   "outputs": [],
   "source": [
    "def get_url_job_list(num_pages=50):\n",
    "    \"\"\"\n",
    "    Generate url of 104 website.\n",
    "        Sample url: \n",
    "              ['https://www.104.com.tw/jobs/search/?ro=0&kwop=7&keyword=machine%20learning&order=1&asc=0&page=1&mode=s&jobsource=2018indexpoc',\n",
    "               'https://www.104.com.tw/jobs/search/?ro=0&kwop=7&keyword=machine%20learning&order=1&asc=0&page=2&mode=s&jobsource=2018indexpoc',\n",
    "               'https://www.104.com.tw/jobs/search/?ro=0&kwop=7&keyword=machine%20learning&order=1&asc=0&page=3&mode=s&jobsource=2018indexpoc',\n",
    "               'https://www.104.com.tw/jobs/search/?ro=0&kwop=7&keyword=machine%20learning&order=1&asc=0&page=10&mode=s&jobsource=2018indexpoc',\n",
    "               'https://www.104.com.tw/jobs/search/?ro=0&kwop=7&keyword=machine%20learning&order=1&asc=0&page=11&mode=s&jobsource=2018indexpoc']\n",
    "\n",
    "    Return: return url lists\n",
    "    \"\"\"\n",
    "    \n",
    "    url_job_list = []\n",
    "    \n",
    "    for index in range(1, num_pages+1):\n",
    "        url = 'https://www.104.com.tw/jobs/search/?ro=0&kwop=7&keyword=machine%20learning&order=1&asc=0&page={}&mode=s&jobsource=2018indexpoc'.format(index)\n",
    "        url_job_list.append(url)\n",
    "        \n",
    "        \n",
    "    return url_job_list\n",
    "\n",
    "\n",
    "url_job_list = get_url_job_list()"
   ]
  },
  {
   "cell_type": "code",
   "execution_count": 3,
   "metadata": {},
   "outputs": [
    {
     "data": {
      "text/plain": [
       "['https://www.104.com.tw/jobs/search/?ro=0&kwop=7&keyword=machine%20learning&order=1&asc=0&page=1&mode=s&jobsource=2018indexpoc',\n",
       " 'https://www.104.com.tw/jobs/search/?ro=0&kwop=7&keyword=machine%20learning&order=1&asc=0&page=2&mode=s&jobsource=2018indexpoc',\n",
       " 'https://www.104.com.tw/jobs/search/?ro=0&kwop=7&keyword=machine%20learning&order=1&asc=0&page=3&mode=s&jobsource=2018indexpoc',\n",
       " 'https://www.104.com.tw/jobs/search/?ro=0&kwop=7&keyword=machine%20learning&order=1&asc=0&page=4&mode=s&jobsource=2018indexpoc',\n",
       " 'https://www.104.com.tw/jobs/search/?ro=0&kwop=7&keyword=machine%20learning&order=1&asc=0&page=5&mode=s&jobsource=2018indexpoc']"
      ]
     },
     "execution_count": 3,
     "metadata": {},
     "output_type": "execute_result"
    }
   ],
   "source": [
    "url_job_list[:5]"
   ]
  },
  {
   "cell_type": "markdown",
   "metadata": {},
   "source": [
    "# Declare Parser Class"
   ]
  },
  {
   "cell_type": "code",
   "execution_count": 13,
   "metadata": {},
   "outputs": [],
   "source": [
    "class ListParser():\n",
    "    def __init__(self, url):\n",
    "        \n",
    "        # fetch html page and parse it.\n",
    "        response = requests.get(url, timeout=10)\n",
    "        self.content = BeautifulSoup(response.content, \"html.parser\")\n",
    "        assert self.content is not None, 'Error: Empty content.'\n",
    "        \n",
    "        self.num_list = 0\n",
    "        \n",
    "        \n",
    "    def get_lists(self):\n",
    "        self.num_list = 0\n",
    "        \n",
    "        for element in self.content.findAll('article', attrs={'class': ['job-mode', 'js-job-item']}):\n",
    "            if 'b-block--ad' in element.attrs['class']:\n",
    "                continue\n",
    "            else:\n",
    "                self.num_list += 1\n",
    "                yield element\n",
    "        \n",
    "        \n",
    "class EntryParser():\n",
    "    def __init__(self, element):\n",
    "        \"\"\"\n",
    "        Args:\n",
    "            element (bs4.element): element in BeautifulSoup\n",
    "        \"\"\"\n",
    "        \n",
    "        self.element = element\n",
    "        \n",
    "        \n",
    "    def get_url(self):\n",
    "        job = element.find('a', attrs={'class': 'js-job-link'})\n",
    "        \n",
    "        return 'http:' + job['href']\n",
    "    \n",
    "    \n",
    "    def get_filename(self):\n",
    "        \n",
    "        # get a random unique id\n",
    "        str_uuid = uuid.uuid4()\n",
    "        \n",
    "        company = element['data-cust-name'].replace('/', '-')\n",
    "        title = element['data-job-name'].replace('/', '-')\n",
    "        \n",
    "        filename = '{}_{}_{}.html'.format(company, title, str_uuid)\n",
    "        return filename\n",
    "    "
   ]
  },
  {
   "cell_type": "markdown",
   "metadata": {},
   "source": [
    "# Define Utility: Save Function"
   ]
  },
  {
   "cell_type": "code",
   "execution_count": 7,
   "metadata": {},
   "outputs": [],
   "source": [
    "def save_page(url, filename):\n",
    "    urllib.request.urlretrieve(url, str(filename))"
   ]
  },
  {
   "cell_type": "markdown",
   "metadata": {},
   "source": [
    "# Main Program"
   ]
  },
  {
   "cell_type": "code",
   "execution_count": 15,
   "metadata": {},
   "outputs": [
    {
     "name": "stderr",
     "output_type": "stream",
     "text": [
      "\r",
      "  0%|          | 0/3 [00:00<?, ?it/s]"
     ]
    },
    {
     "name": "stdout",
     "output_type": "stream",
     "text": [
      "http://www.104.com.tw/job/6lng1?jobsource=jolist_c_relevance\n",
      "./dataset/現觀科技股份有限公司_Machine Learning Engineer_bc6f1ada-0fa6-4f24-9c3b-96ffd781d41a.html\n",
      "http://www.104.com.tw/job/6arae?jobsource=jolist_c_relevance\n",
      "./dataset/新馳科技有限公司_Machine Learning Technical Manager_12b8c011-8950-4b0e-b25f-ae4393bd7307.html\n"
     ]
    },
    {
     "name": "stderr",
     "output_type": "stream",
     "text": [
      "\r",
      " 33%|███▎      | 1/3 [00:09<00:18,  9.05s/it]"
     ]
    },
    {
     "name": "stdout",
     "output_type": "stream",
     "text": [
      "http://www.104.com.tw/job/6af3o?jobsource=jolist_b_relevance\n",
      "./dataset/Spring Professional_藝珂人事顧問股份有限公司躍科分公司_Deep Learning- Machine Learning RD Engineer_9b4ecd37-d5b6-4ada-8bed-b4421b6fe93d.html\n",
      "http://www.104.com.tw/job/61rxb?jobsource=jolist_b_relevance\n",
      "./dataset/阿福股份有限公司_電腦視覺與機器學習研究員 Computer Vision-Machine Learning Researcher_558d7e42-21ed-48c1-b335-1de730ef9f5f.html\n"
     ]
    },
    {
     "name": "stderr",
     "output_type": "stream",
     "text": [
      "\r",
      " 67%|██████▋   | 2/3 [00:13<00:07,  7.63s/it]"
     ]
    },
    {
     "name": "stdout",
     "output_type": "stream",
     "text": [
      "http://www.104.com.tw/job/6gu8p?jobsource=2018indexpoc\n",
      "./dataset/LINE Taiwan_台灣連線股份有限公司_(LTEG) Data Scientist - Machine Learning (Senior)_b9956006-2526-42f5-8435-a45a3a7d938c.html\n",
      "http://www.104.com.tw/job/52qyx?jobsource=2018indexpoc\n",
      "./dataset/香港商女媧創造股份有限公司台灣分公司_資深機器學習工程師 (Machine Learning Engineer)_82194652-e892-4614-bd36-31ebd5952650.html\n"
     ]
    },
    {
     "name": "stderr",
     "output_type": "stream",
     "text": [
      "100%|██████████| 3/3 [00:17<00:00,  6.62s/it]\n"
     ]
    }
   ],
   "source": [
    "folder_name = './dataset/'\n",
    "\n",
    "# for url in url_job_list[:1]:\n",
    "for url in tqdm(url_job_list[:3]):\n",
    "    parser = ListParser(url)\n",
    "    \n",
    "    for element in parser.get_lists():\n",
    "        entry = EntryParser(element)\n",
    "        \n",
    "        print(entry.get_url())\n",
    "        print(folder_name + entry.get_filename())\n",
    "            \n",
    "        save_page(entry.get_url(), folder_name + entry.get_filename())\n",
    "        \n",
    "        if parser.num_list == 2:\n",
    "            break"
   ]
  },
  {
   "cell_type": "code",
   "execution_count": null,
   "metadata": {},
   "outputs": [],
   "source": []
  },
  {
   "cell_type": "code",
   "execution_count": null,
   "metadata": {},
   "outputs": [],
   "source": []
  }
 ],
 "metadata": {
  "kernelspec": {
   "display_name": "Python 3",
   "language": "python",
   "name": "python3"
  },
  "language_info": {
   "codemirror_mode": {
    "name": "ipython",
    "version": 3
   },
   "file_extension": ".py",
   "mimetype": "text/x-python",
   "name": "python",
   "nbconvert_exporter": "python",
   "pygments_lexer": "ipython3",
   "version": "3.6.3"
  }
 },
 "nbformat": 4,
 "nbformat_minor": 2
}
