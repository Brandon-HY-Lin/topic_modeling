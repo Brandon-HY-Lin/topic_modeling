{
 "cells": [
  {
   "cell_type": "markdown",
   "metadata": {},
   "source": [
    "# Download Webpages"
   ]
  },
  {
   "cell_type": "code",
   "execution_count": 12,
   "metadata": {},
   "outputs": [],
   "source": [
    "import requests\n",
    "import urllib.request\n",
    "import bs4\n",
    "from bs4 import BeautifulSoup\n",
    "\n",
    "import uuid"
   ]
  },
  {
   "cell_type": "markdown",
   "metadata": {},
   "source": [
    "# Generate URL of 104 Website"
   ]
  },
  {
   "cell_type": "code",
   "execution_count": 4,
   "metadata": {},
   "outputs": [],
   "source": [
    "def get_url_job_list(num_pages=50):\n",
    "    \"\"\"\n",
    "    Generate url of 104 website.\n",
    "        Sample url: \n",
    "              ['https://www.104.com.tw/jobs/search/?ro=0&kwop=7&keyword=machine%20learning&order=1&asc=0&page=1&mode=s&jobsource=2018indexpoc',\n",
    "               'https://www.104.com.tw/jobs/search/?ro=0&kwop=7&keyword=machine%20learning&order=1&asc=0&page=2&mode=s&jobsource=2018indexpoc',\n",
    "               'https://www.104.com.tw/jobs/search/?ro=0&kwop=7&keyword=machine%20learning&order=1&asc=0&page=3&mode=s&jobsource=2018indexpoc',\n",
    "               'https://www.104.com.tw/jobs/search/?ro=0&kwop=7&keyword=machine%20learning&order=1&asc=0&page=10&mode=s&jobsource=2018indexpoc',\n",
    "               'https://www.104.com.tw/jobs/search/?ro=0&kwop=7&keyword=machine%20learning&order=1&asc=0&page=11&mode=s&jobsource=2018indexpoc']\n",
    "\n",
    "    Return: return url lists\n",
    "    \"\"\"\n",
    "    \n",
    "    url_job_list = []\n",
    "    \n",
    "    for index in range(1, num_pages+1):\n",
    "        url = 'https://www.104.com.tw/jobs/search/?ro=0&kwop=7&keyword=machine%20learning&order=1&asc=0&page={}&mode=s&jobsource=2018indexpoc'.format(index)\n",
    "        url_job_list.append(url)\n",
    "        \n",
    "        \n",
    "    return url_job_list\n",
    "\n",
    "\n",
    "url_job_list = get_url_job_list()"
   ]
  },
  {
   "cell_type": "code",
   "execution_count": 7,
   "metadata": {},
   "outputs": [
    {
     "data": {
      "text/plain": [
       "['https://www.104.com.tw/jobs/search/?ro=0&kwop=7&keyword=machine%20learning&order=1&asc=0&page=1&mode=s&jobsource=2018indexpoc',\n",
       " 'https://www.104.com.tw/jobs/search/?ro=0&kwop=7&keyword=machine%20learning&order=1&asc=0&page=2&mode=s&jobsource=2018indexpoc',\n",
       " 'https://www.104.com.tw/jobs/search/?ro=0&kwop=7&keyword=machine%20learning&order=1&asc=0&page=3&mode=s&jobsource=2018indexpoc',\n",
       " 'https://www.104.com.tw/jobs/search/?ro=0&kwop=7&keyword=machine%20learning&order=1&asc=0&page=4&mode=s&jobsource=2018indexpoc',\n",
       " 'https://www.104.com.tw/jobs/search/?ro=0&kwop=7&keyword=machine%20learning&order=1&asc=0&page=5&mode=s&jobsource=2018indexpoc']"
      ]
     },
     "execution_count": 7,
     "metadata": {},
     "output_type": "execute_result"
    }
   ],
   "source": [
    "url_job_list[:5]"
   ]
  },
  {
   "cell_type": "markdown",
   "metadata": {},
   "source": [
    "# Declare Parser Class"
   ]
  },
  {
   "cell_type": "code",
   "execution_count": 19,
   "metadata": {},
   "outputs": [],
   "source": [
    "class ListParser():\n",
    "    def __init__(self, url):\n",
    "        \n",
    "        response = requests.get(url, timeout=10)\n",
    "        self.content = BeautifulSoup(response.content, \"html.parser\")\n",
    "        assert self.content is not None, 'Error: Empty content.'\n",
    "        \n",
    "        self.num_list = 0\n",
    "        \n",
    "        \n",
    "    def get_lists(self):\n",
    "        self.num_list = 0\n",
    "        \n",
    "        for element in self.content.findAll('article', attrs={'class': ['job-mode', 'js-job-item']}):\n",
    "            if 'b-block--ad' in element.attrs['class']:\n",
    "                continue\n",
    "            else:\n",
    "                self.num_list += 1\n",
    "                yield element\n",
    "        \n",
    "        \n",
    "class EntryParser():\n",
    "    def __init__(self, element):\n",
    "        \"\"\"\n",
    "        Args:\n",
    "            element (bs4.element): element in BeautifulSoup\n",
    "        \"\"\"\n",
    "        \n",
    "        self.element = element\n",
    "        \n",
    "        \n",
    "    def get_url(self):\n",
    "        job = element.find('a', attrs={'class': 'js-job-link'})\n",
    "        \n",
    "        return job['href']\n",
    "    \n",
    "    \n",
    "    def get_filename(self):\n",
    "        str_uuid = uuid.uuid4()\n",
    "        \n",
    "        filename = '{}_{}_{}'.format(element['data-cust-name'], element['data-job-name'], str_uuid)\n",
    "        return filename\n",
    "    "
   ]
  },
  {
   "cell_type": "markdown",
   "metadata": {},
   "source": [
    "# Main Program"
   ]
  },
  {
   "cell_type": "code",
   "execution_count": 21,
   "metadata": {},
   "outputs": [
    {
     "name": "stdout",
     "output_type": "stream",
     "text": [
      "//www.104.com.tw/job/6lng1?jobsource=2018indexpoc\n",
      "//www.104.com.tw/job/6arae?jobsource=2018indexpoc\n",
      "//www.104.com.tw/job/6heww?jobsource=2018indexpoc\n",
      "//www.104.com.tw/job/46izo?jobsource=2018indexpoc\n",
      "//www.104.com.tw/job/6arac?jobsource=2018indexpoc\n",
      "//www.104.com.tw/job/6mst6?jobsource=2018indexpoc\n",
      "//www.104.com.tw/job/5ezff?jobsource=2018indexpoc\n",
      "//www.104.com.tw/job/6c1fr?jobsource=2018indexpoc\n",
      "//www.104.com.tw/job/6luwg?jobsource=2018indexpoc\n",
      "//www.104.com.tw/job/6izok?jobsource=2018indexpoc\n",
      "//www.104.com.tw/job/5qrgx?jobsource=2018indexpoc\n",
      "//www.104.com.tw/job/6g769?jobsource=2018indexpoc\n",
      "//www.104.com.tw/job/6jiya?jobsource=2018indexpoc\n",
      "//www.104.com.tw/job/64ki1?jobsource=2018indexpoc\n",
      "//www.104.com.tw/job/5rm2f?jobsource=2018indexpoc\n",
      "//www.104.com.tw/job/6lem2?jobsource=2018indexpoc\n",
      "//www.104.com.tw/job/6mq24?jobsource=2018indexpoc\n",
      "//www.104.com.tw/job/6af3o?jobsource=2018indexpoc\n",
      "//www.104.com.tw/job/6aipb?jobsource=2018indexpoc\n",
      "//www.104.com.tw/job/5xblu?jobsource=2018indexpoc\n",
      "//www.104.com.tw/job/6c3kr?jobsource=jolist_c_relevance\n",
      "//www.104.com.tw/job/5nub2?jobsource=jolist_c_relevance\n",
      "//www.104.com.tw/job/6houm?jobsource=jolist_c_relevance\n",
      "//www.104.com.tw/job/5zi1u?jobsource=jolist_c_relevance\n",
      "//www.104.com.tw/job/6c3kt?jobsource=jolist_c_relevance\n",
      "//www.104.com.tw/job/61rxb?jobsource=jolist_c_relevance\n",
      "//www.104.com.tw/job/6mqth?jobsource=jolist_c_relevance\n",
      "//www.104.com.tw/job/5ua2x?jobsource=jolist_c_relevance\n",
      "//www.104.com.tw/job/53r3x?jobsource=jolist_c_relevance\n",
      "//www.104.com.tw/job/5ov5m?jobsource=jolist_c_relevance\n",
      "//www.104.com.tw/job/6kbfa?jobsource=jolist_c_relevance\n",
      "//www.104.com.tw/job/6kwtl?jobsource=jolist_c_relevance\n",
      "//www.104.com.tw/job/5zsja?jobsource=jolist_c_relevance\n",
      "//www.104.com.tw/job/6fejn?jobsource=jolist_c_relevance\n",
      "//www.104.com.tw/job/6c61u?jobsource=jolist_c_relevance\n",
      "//www.104.com.tw/job/5c8sd?jobsource=jolist_c_relevance\n",
      "//www.104.com.tw/job/6kjfj?jobsource=jolist_c_relevance\n",
      "//www.104.com.tw/job/4sq5u?jobsource=jolist_c_relevance\n",
      "//www.104.com.tw/job/62wrr?jobsource=jolist_c_relevance\n",
      "//www.104.com.tw/job/6k1ax?jobsource=jolist_c_relevance\n",
      "//www.104.com.tw/job/6gu8v?jobsource=jolist_c_relevance\n",
      "//www.104.com.tw/job/6gu8p?jobsource=jolist_c_relevance\n",
      "//www.104.com.tw/job/52qyx?jobsource=jolist_c_relevance\n",
      "//www.104.com.tw/job/6khv9?jobsource=jolist_c_relevance\n",
      "//www.104.com.tw/job/6i3p1?jobsource=jolist_c_relevance\n",
      "//www.104.com.tw/job/5b2rd?jobsource=jolist_c_relevance\n",
      "//www.104.com.tw/job/5v884?jobsource=jolist_c_relevance\n",
      "//www.104.com.tw/job/6ji0j?jobsource=jolist_c_relevance\n",
      "//www.104.com.tw/job/5ca2m?jobsource=jolist_c_relevance\n",
      "//www.104.com.tw/job/5bv0g?jobsource=jolist_c_relevance\n",
      "//www.104.com.tw/job/2eytb?jobsource=jolist_c_relevance\n",
      "//www.104.com.tw/job/6jjit?jobsource=jolist_c_relevance\n",
      "//www.104.com.tw/job/6ac5j?jobsource=jolist_c_relevance\n",
      "//www.104.com.tw/job/640p0?jobsource=jolist_c_relevance\n",
      "//www.104.com.tw/job/6lm8i?jobsource=jolist_c_relevance\n",
      "//www.104.com.tw/job/6lm8h?jobsource=jolist_c_relevance\n",
      "//www.104.com.tw/job/5j3g2?jobsource=jolist_c_relevance\n",
      "//www.104.com.tw/job/5hd95?jobsource=jolist_c_relevance\n",
      "//www.104.com.tw/job/5ihhn?jobsource=jolist_c_relevance\n",
      "//www.104.com.tw/job/6hmyr?jobsource=jolist_c_relevance\n",
      "//www.104.com.tw/job/6gu3o?jobsource=jolist_c_relevance\n",
      "//www.104.com.tw/job/5zi1m?jobsource=jolist_c_relevance\n",
      "//www.104.com.tw/job/5re6t?jobsource=jolist_c_relevance\n",
      "//www.104.com.tw/job/5nho0?jobsource=jolist_c_relevance\n",
      "//www.104.com.tw/job/6fo2i?jobsource=jolist_c_relevance\n",
      "//www.104.com.tw/job/6khvh?jobsource=jolist_c_relevance\n",
      "//www.104.com.tw/job/2zagm?jobsource=jolist_c_relevance\n",
      "//www.104.com.tw/job/4tswy?jobsource=jolist_c_relevance\n",
      "//www.104.com.tw/job/5uwqy?jobsource=jolist_c_relevance\n",
      "//www.104.com.tw/job/6jtqu?jobsource=jolist_c_relevance\n",
      "//www.104.com.tw/job/6mazi?jobsource=jolist_c_relevance\n",
      "//www.104.com.tw/job/6it6h?jobsource=jolist_c_relevance\n",
      "//www.104.com.tw/job/68f95?jobsource=jolist_c_relevance\n",
      "//www.104.com.tw/job/6cyle?jobsource=jolist_c_relevance\n",
      "//www.104.com.tw/job/6njni?jobsource=jolist_c_relevance\n",
      "//www.104.com.tw/job/6n7i8?jobsource=jolist_c_relevance\n",
      "//www.104.com.tw/job/6mfao?jobsource=jolist_c_relevance\n",
      "//www.104.com.tw/job/5u6vp?jobsource=jolist_c_relevance\n",
      "//www.104.com.tw/job/5llpg?jobsource=jolist_c_relevance\n",
      "//www.104.com.tw/job/6gnbh?jobsource=jolist_c_relevance\n",
      "//www.104.com.tw/job/6i99s?jobsource=jolist_a_relevance\n",
      "//www.104.com.tw/job/6j2xu?jobsource=jolist_a_relevance\n",
      "//www.104.com.tw/job/5r5sb?jobsource=jolist_a_relevance\n",
      "//www.104.com.tw/job/52td5?jobsource=jolist_a_relevance\n",
      "//www.104.com.tw/job/5k89d?jobsource=jolist_a_relevance\n",
      "//www.104.com.tw/job/64l66?jobsource=jolist_a_relevance\n",
      "//www.104.com.tw/job/6adn4?jobsource=jolist_a_relevance\n",
      "//www.104.com.tw/job/6j260?jobsource=jolist_a_relevance\n",
      "//www.104.com.tw/job/3drhw?jobsource=jolist_a_relevance\n",
      "//www.104.com.tw/job/61xbl?jobsource=jolist_a_relevance\n",
      "//www.104.com.tw/job/6lc9n?jobsource=jolist_a_relevance\n",
      "//www.104.com.tw/job/4u9yz?jobsource=jolist_a_relevance\n",
      "//www.104.com.tw/job/6hq1i?jobsource=jolist_a_relevance\n",
      "//www.104.com.tw/job/6lqzl?jobsource=jolist_a_relevance\n",
      "//www.104.com.tw/job/5qbzv?jobsource=jolist_a_relevance\n",
      "//www.104.com.tw/job/6162r?jobsource=jolist_a_relevance\n",
      "//www.104.com.tw/job/59lu0?jobsource=jolist_a_relevance\n",
      "//www.104.com.tw/job/6n4lv?jobsource=jolist_a_relevance\n",
      "//www.104.com.tw/job/6lh5u?jobsource=jolist_a_relevance\n",
      "//www.104.com.tw/job/4l99f?jobsource=jolist_a_relevance\n"
     ]
    }
   ],
   "source": [
    "\n",
    "for url in url_job_list[:5]:\n",
    "    parser = ListParser(url)\n",
    "    \n",
    "    for element in parser.get_lists():\n",
    "        entry = EntryParser(element)\n",
    "        \n",
    "        print(entry.get_url())\n",
    "#         save_page(entry.get_url(), entry.get_filename())"
   ]
  },
  {
   "cell_type": "code",
   "execution_count": null,
   "metadata": {},
   "outputs": [],
   "source": []
  }
 ],
 "metadata": {
  "kernelspec": {
   "display_name": "Python 3",
   "language": "python",
   "name": "python3"
  },
  "language_info": {
   "codemirror_mode": {
    "name": "ipython",
    "version": 3
   },
   "file_extension": ".py",
   "mimetype": "text/x-python",
   "name": "python",
   "nbconvert_exporter": "python",
   "pygments_lexer": "ipython3",
   "version": "3.6.3"
  }
 },
 "nbformat": 4,
 "nbformat_minor": 2
}
