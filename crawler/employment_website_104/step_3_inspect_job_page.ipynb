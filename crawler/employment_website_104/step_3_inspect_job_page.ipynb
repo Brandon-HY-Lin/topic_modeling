{
 "cells": [
  {
   "cell_type": "markdown",
   "metadata": {},
   "source": [
    "# Insepct the Content of the Job Page"
   ]
  },
  {
   "cell_type": "code",
   "execution_count": 40,
   "metadata": {},
   "outputs": [],
   "source": [
    "import bs4\n",
    "from bs4 import BeautifulSoup\n",
    "import json\n",
    "import re"
   ]
  },
  {
   "cell_type": "markdown",
   "metadata": {},
   "source": [
    "# Open a webpage"
   ]
  },
  {
   "cell_type": "code",
   "execution_count": 2,
   "metadata": {},
   "outputs": [],
   "source": [
    "filename = './dataset/sample_page.html'\n",
    "\n",
    "with open(filename) as f:\n",
    "    content = BeautifulSoup(f, \"html.parser\")"
   ]
  },
  {
   "cell_type": "markdown",
   "metadata": {},
   "source": [
    "# Scrape Title and Company Name"
   ]
  },
  {
   "cell_type": "code",
   "execution_count": 23,
   "metadata": {},
   "outputs": [
    {
     "data": {
      "text/plain": [
       "'\\n                        Machine Learning Engineer / 機器學習工程師                        '"
      ]
     },
     "execution_count": 23,
     "metadata": {},
     "output_type": "execute_result"
    }
   ],
   "source": [
    "title = content.find('header', attrs={'class': ['header', 'mb-0']}).find('h1').find(text=True)\n",
    "title"
   ]
  },
  {
   "cell_type": "code",
   "execution_count": 25,
   "metadata": {},
   "outputs": [
    {
     "data": {
      "text/plain": [
       "'瑞嘉軟體科技股份有限公司'"
      ]
     },
     "execution_count": 25,
     "metadata": {},
     "output_type": "execute_result"
    }
   ],
   "source": [
    "company = content.find('header', attrs={'class': ['header', 'mb-0']}).find('a', attrs={'class': 'cn'}).text\n",
    "company"
   ]
  },
  {
   "cell_type": "markdown",
   "metadata": {},
   "source": [
    "# Scrape Job Requirement"
   ]
  },
  {
   "cell_type": "code",
   "execution_count": 35,
   "metadata": {},
   "outputs": [
    {
     "data": {
      "text/plain": [
       "<p>• Perform feature engineering, building and optimizing classifiers using machine learning techniques.\n",
       "<br/>• Data mining using state-of-the-art methods.\n",
       "<br/>• Design and implement software systems and tools for internal process automation based on data mining and machine learning techniques.\n",
       "<br/>• Design, implement, and operate data analytics platforms for business intelligence analysis.\n",
       "<br/>• Provide data insights and develop data intelligence solutions/reports for business decisions.\n",
       "<br/>• Work with other teams to assist with data-related technical issues and support their data infrastructure needs.\n",
       "<br/>• Evaluate and identify the use of new or existing software products and technologies.\n",
       "<br/>• Perform other duties as necessary.</p>"
      ]
     },
     "execution_count": 35,
     "metadata": {},
     "output_type": "execute_result"
    }
   ],
   "source": [
    "requirement = content.find('h2', string='工作內容').find_parent('section').find('p')\n",
    "requirement"
   ]
  },
  {
   "cell_type": "code",
   "execution_count": 47,
   "metadata": {},
   "outputs": [
    {
     "data": {
      "text/plain": [
       "'【MUST TO HAVE】\\n• Good experience with statistics skills, such as regression and classification.\\n• Familiar with machine learning algorithms and techniques, such as k-NN, Naive Bayes, and SVM.\\n• Familiar with deep learning algorithms and techniques, such as CNN, RNN, and LSTM.\\n• Experience in reinforcement learning, time series, and generative models.\\n• Good experience with data science toolkits, such as R, Python, Scikit-learn, Keras, and TensorFlow.\\n• Good knowledge of SQL databases and database query languages.\\n• Good experience with data cleaning, visualization, and reporting.\\n\\n【NICE TO HAVE】\\n• Good skills in scripting and programming will be appreciated.\\n• Experience with processing large, multi-dimensional datasets is a plus.\\n• Experience with NoSQL is a plus.\\n• Candidate with certification from Ministry of Economic Affairs (iPAS) has priority interview! BDA\\n• 持有經濟部能力鑑定(iPAS)證書者優先面試! BDA'"
      ]
     },
     "execution_count": 47,
     "metadata": {},
     "output_type": "execute_result"
    }
   ],
   "source": [
    "other_requirement = content.find('dt', string=re.compile('其他條件')).find_next().text\n",
    "other_requirement"
   ]
  },
  {
   "cell_type": "code",
   "execution_count": null,
   "metadata": {},
   "outputs": [],
   "source": []
  }
 ],
 "metadata": {
  "kernelspec": {
   "display_name": "Python 3",
   "language": "python",
   "name": "python3"
  },
  "language_info": {
   "codemirror_mode": {
    "name": "ipython",
    "version": 3
   },
   "file_extension": ".py",
   "mimetype": "text/x-python",
   "name": "python",
   "nbconvert_exporter": "python",
   "pygments_lexer": "ipython3",
   "version": "3.6.3"
  }
 },
 "nbformat": 4,
 "nbformat_minor": 2
}
