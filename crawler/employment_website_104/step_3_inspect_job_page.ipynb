{
 "cells": [
  {
   "cell_type": "markdown",
   "metadata": {},
   "source": [
    "# Insepct the Content of the Job Page"
   ]
  },
  {
   "cell_type": "code",
   "execution_count": 1,
   "metadata": {},
   "outputs": [],
   "source": [
    "import bs4\n",
    "from bs4 import BeautifulSoup\n",
    "import json\n",
    "import re"
   ]
  },
  {
   "cell_type": "markdown",
   "metadata": {},
   "source": [
    "# Open a webpage"
   ]
  },
  {
   "cell_type": "code",
   "execution_count": 2,
   "metadata": {},
   "outputs": [],
   "source": [
    "filename = './dataset/sample_page.html'\n",
    "\n",
    "with open(filename) as f:\n",
    "    content = BeautifulSoup(f, \"html.parser\")"
   ]
  },
  {
   "cell_type": "markdown",
   "metadata": {},
   "source": [
    "# Scrape Title and Company Name"
   ]
  },
  {
   "cell_type": "code",
   "execution_count": 12,
   "metadata": {},
   "outputs": [
    {
     "data": {
      "text/plain": [
       "'                         Machine Learning Engineer / 機器學習工程師                        '"
      ]
     },
     "execution_count": 12,
     "metadata": {},
     "output_type": "execute_result"
    }
   ],
   "source": [
    "title = content.find('header', attrs={'class': ['header', 'mb-0']}).find('h1').find(text=True).replace('\\n', ' ').replace('\\r', '')\n",
    "title"
   ]
  },
  {
   "cell_type": "code",
   "execution_count": 14,
   "metadata": {},
   "outputs": [
    {
     "data": {
      "text/plain": [
       "'瑞嘉軟體科技股份有限公司'"
      ]
     },
     "execution_count": 14,
     "metadata": {},
     "output_type": "execute_result"
    }
   ],
   "source": [
    "company = content.find('header', attrs={'class': ['header', 'mb-0']}).find('a', attrs={'class': 'cn'}).text.replace('\\n', ' ').replace('\\r', '')\n",
    "company"
   ]
  },
  {
   "cell_type": "markdown",
   "metadata": {},
   "source": [
    "# Scrape Job Requirement"
   ]
  },
  {
   "cell_type": "code",
   "execution_count": 16,
   "metadata": {},
   "outputs": [
    {
     "data": {
      "text/plain": [
       "'• Perform feature engineering, building and optimizing classifiers using machine learning techniques. • Data mining using state-of-the-art methods. • Design and implement software systems and tools for internal process automation based on data mining and machine learning techniques. • Design, implement, and operate data analytics platforms for business intelligence analysis. • Provide data insights and develop data intelligence solutions/reports for business decisions. • Work with other teams to assist with data-related technical issues and support their data infrastructure needs. • Evaluate and identify the use of new or existing software products and technologies. • Perform other duties as necessary.'"
      ]
     },
     "execution_count": 16,
     "metadata": {},
     "output_type": "execute_result"
    }
   ],
   "source": [
    "requirement = content.find('h2', string='工作內容').find_parent('section').find('p').get_text().replace('\\n', ' ').replace('\\r', '')\n",
    "requirement"
   ]
  },
  {
   "cell_type": "code",
   "execution_count": 18,
   "metadata": {},
   "outputs": [
    {
     "data": {
      "text/plain": [
       "'【MUST TO HAVE】 • Good experience with statistics skills, such as regression and classification. • Familiar with machine learning algorithms and techniques, such as k-NN, Naive Bayes, and SVM. • Familiar with deep learning algorithms and techniques, such as CNN, RNN, and LSTM. • Experience in reinforcement learning, time series, and generative models. • Good experience with data science toolkits, such as R, Python, Scikit-learn, Keras, and TensorFlow. • Good knowledge of SQL databases and database query languages. • Good experience with data cleaning, visualization, and reporting.  【NICE TO HAVE】 • Good skills in scripting and programming will be appreciated. • Experience with processing large, multi-dimensional datasets is a plus. • Experience with NoSQL is a plus. • Candidate with certification from Ministry of Economic Affairs (iPAS) has priority interview! BDA • 持有經濟部能力鑑定(iPAS)證書者優先面試! BDA'"
      ]
     },
     "execution_count": 18,
     "metadata": {},
     "output_type": "execute_result"
    }
   ],
   "source": [
    "other_requirement = content.find('dt', string=re.compile('其他條件')).find_next().get_text().replace('\\n', ' ').replace('\\r', '')\n",
    "other_requirement"
   ]
  },
  {
   "cell_type": "markdown",
   "metadata": {},
   "source": [
    "# Scrape Address"
   ]
  },
  {
   "cell_type": "code",
   "execution_count": 20,
   "metadata": {},
   "outputs": [
    {
     "data": {
      "text/plain": [
       "'                                         台北市內湖區瑞湖街58號8樓'"
      ]
     },
     "execution_count": 20,
     "metadata": {},
     "output_type": "execute_result"
    }
   ],
   "source": [
    "address = content.find('dd', attrs={'class': 'addr'}).find(text=True).replace('\\n', ' ').replace('\\r', '')\n",
    "address"
   ]
  },
  {
   "cell_type": "markdown",
   "metadata": {},
   "source": [
    "# Scrape Salary"
   ]
  },
  {
   "cell_type": "code",
   "execution_count": 21,
   "metadata": {},
   "outputs": [
    {
     "data": {
      "text/plain": [
       "'待遇面議                                                                                    （'"
      ]
     },
     "execution_count": 21,
     "metadata": {},
     "output_type": "execute_result"
    }
   ],
   "source": [
    "salary = content.find('dd', attrs={'class': 'salary'}).find(text=True).replace('\\n', ' ').replace('\\r', '')\n",
    "salary"
   ]
  },
  {
   "cell_type": "markdown",
   "metadata": {},
   "source": [
    "# Scrape Experince"
   ]
  },
  {
   "cell_type": "code",
   "execution_count": 22,
   "metadata": {},
   "outputs": [
    {
     "data": {
      "text/plain": [
       "'3年以上'"
      ]
     },
     "execution_count": 22,
     "metadata": {},
     "output_type": "execute_result"
    }
   ],
   "source": [
    "experience = content.find('dt', string=re.compile('工作經歷')).find_next().get_text().replace('\\n', ' ').replace('\\r', '')\n",
    "experience"
   ]
  },
  {
   "cell_type": "markdown",
   "metadata": {},
   "source": [
    "# Scrape Benefit"
   ]
  },
  {
   "cell_type": "code",
   "execution_count": 25,
   "metadata": {},
   "outputs": [
    {
     "data": {
      "text/plain": [
       "' ✪  具市場競爭力的優渥待遇 + 績效獎金(一年兩次，視年度營運及個人績效而定)。  •  提供具競爭力的薪資及保障年薪。 •  年節獎金。 •  久任獎金。  ✪  提供優於勞動法規的休假制度，讓員工都能充足休憩釋放壓力，也有更多時間與家人朋友相處。 •  一年12天特休，爾後每滿一年加1天，上限30天(通過試用期，即可享有)。 •  員工生日當月可享有生日假。 •  員工年度健康檢查當日，可享半天健檢假。 •  每年提供12天全薪病假。  ✪  提供多項補助津貼，照護員工基本生活需求。 •  結婚禮金。 •  生育津貼。 •  生日禮券(金)。 •  住院及喪葬慰問金。  ✪  提供周全的保險及醫療、健康等服務，關心員工健康狀態。 •  依據法規實行勞保、健保、勞退保險制度。 •  提供高額團體保險制度，以提高員工意外醫療保障。 •  提供員工年度定期健康檢查。(眷屬自付健檢費，可享有與員工同等的健檢項目) •  健康整脊及按摩服務。  ✪  規劃多樣休閒活動，讓員工在參與活動之餘，更能貼近及認知公司文化。 •  多元化的社團活動(拳擊有氧、拉丁有氧、健身活動及球類運動)。  •  定期舉辦慶生會(外燴或包場電影欣賞)。 •  每季部門聚餐。 •  每年舉辦年終尾牙。 •  年度國外旅遊。(已旅遊景點：杜拜、澳洲、日本、沖繩、泰國、韓國、香港、峇里島、持續環遊世界中…)  ✪  提供一個充滿活力和人性化的美式工作環境，讓員工在工作與生活中保持平衡，樂在工作。 •  免費供應飲料、現煮研磨咖啡、點心及水果。 •  免費休閒娛樂設備，籃球機、撞球檯、桌球檯、按摩椅等。  ✪  重視夥伴們的成長與職涯學習，不定期舉辦內訓、講座課程，讓員工吸收新知，並鼓勵員工自我進修。  ✪  規劃彈性上班時間，讓員工在上下班尖峰時間，免於塞車之苦。 ✪  凡從以下地區至本公司參加面試應徵者，提供車馬費補助：新竹以南、花蓮、台東。 '"
      ]
     },
     "execution_count": 25,
     "metadata": {},
     "output_type": "execute_result"
    }
   ],
   "source": [
    "benefit = content.find('h2', string=re.compile('公司福利')).find_next().get_text().replace('\\n', ' ').replace('\\r', '')\n",
    "benefit"
   ]
  },
  {
   "cell_type": "code",
   "execution_count": null,
   "metadata": {},
   "outputs": [],
   "source": []
  }
 ],
 "metadata": {
  "kernelspec": {
   "display_name": "Python 3",
   "language": "python",
   "name": "python3"
  },
  "language_info": {
   "codemirror_mode": {
    "name": "ipython",
    "version": 3
   },
   "file_extension": ".py",
   "mimetype": "text/x-python",
   "name": "python",
   "nbconvert_exporter": "python",
   "pygments_lexer": "ipython3",
   "version": "3.6.3"
  }
 },
 "nbformat": 4,
 "nbformat_minor": 2
}
