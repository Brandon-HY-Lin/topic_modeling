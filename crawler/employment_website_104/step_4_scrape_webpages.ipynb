{
 "cells": [
  {
   "cell_type": "markdown",
   "metadata": {},
   "source": [
    "# Scrape Webpages in a Folder"
   ]
  },
  {
   "cell_type": "code",
   "execution_count": 24,
   "metadata": {},
   "outputs": [],
   "source": [
    "import bs4\n",
    "from bs4 import BeautifulSoup\n",
    "import re\n",
    "import json\n",
    "import glob\n",
    "from tqdm import tqdm\n",
    "import pandas as pd"
   ]
  },
  {
   "cell_type": "markdown",
   "metadata": {},
   "source": [
    "# Declare Parser Lambda"
   ]
  },
  {
   "cell_type": "code",
   "execution_count": 33,
   "metadata": {},
   "outputs": [],
   "source": [
    "def parser_benefit(content):\n",
    "    \"\"\"\n",
    "    Parse benefit text\n",
    "        \n",
    "    Returns:\n",
    "        None if not found\n",
    "    \"\"\"\n",
    "    benefit = content.find('h2', string=re.compile('公司福利'))\n",
    "    \n",
    "    if benefit is not None:\n",
    "        benefit = benefit.find_next().text\n",
    "        \n",
    "        \n",
    "    return benefit\n",
    "\n",
    "\n",
    "parsers = {'company': lambda content: content.find('header', attrs={'class': ['header', 'mb-0']}).find('a', attrs={'class': 'cn'}).text,\n",
    "          'title': lambda content: content.find('header', attrs={'class': ['header', 'mb-0']}).find('h1').find(text=True),\n",
    "          'salary': lambda content: content.find('dd', attrs={'class': 'salary'}).find(text=True),\n",
    "          'requirement': lambda content: content.find('h2', string='工作內容').find_parent('section').find('p').text,\n",
    "          'requirement_others': lambda content: content.find('dt', string=re.compile('其他條件')).find_next().text,\n",
    "          'address': lambda content: content.find('dd', attrs={'class': 'addr'}).find(text=True),\n",
    "           'experience': lambda content: content.find('dt', string=re.compile('工作經歷')).find_next().text,\n",
    "          'benefit': lambda content: parser_benefit(content)}"
   ]
  },
  {
   "cell_type": "markdown",
   "metadata": {},
   "source": [
    "# Declare Parser Class"
   ]
  },
  {
   "cell_type": "code",
   "execution_count": 7,
   "metadata": {},
   "outputs": [],
   "source": [
    "class HtmlParser():\n",
    "    def __init__(self, parsers):\n",
    "        self.parsers = parsers\n",
    "        \n",
    "        \n",
    "    def parse(self, filename):\n",
    "        \n",
    "        with open(filename) as f:\n",
    "            content = BeautifulSoup(f, \"html.parser\")\n",
    "        \n",
    "        jobObject = {}\n",
    "        \n",
    "        for key, parser in self.parsers.items():\n",
    "            jobObject[key] = parser(content)\n",
    "            \n",
    "        return jobObject    \n",
    "        \n",
    "        \n",
    "    def parse_pages(self, path_folder):\n",
    "        \"\"\"\n",
    "        Args:\n",
    "            path_folder (str): folder path of html files\n",
    "            \n",
    "        Returns:\n",
    "            list of dict\n",
    "        \"\"\"\n",
    "        jobs = []\n",
    "        \n",
    "        for f in tqdm(glob.glob(path_folder + \"*.html\")):\n",
    "            jobObject = self.parse(f)\n",
    "            jobs.append(jobObject)\n",
    "            \n",
    "        return jobs"
   ]
  },
  {
   "cell_type": "markdown",
   "metadata": {},
   "source": [
    "# Declare Save Function"
   ]
  },
  {
   "cell_type": "code",
   "execution_count": 21,
   "metadata": {},
   "outputs": [],
   "source": [
    "def save_job_objects(job_objects, filename, encoding='utf8'):\n",
    "    \"\"\"\n",
    "    Args:\n",
    "        job_objects (list of dict): list of jobs\n",
    "    \"\"\"\n",
    "    with open(filename, 'w', encoding=encoding) as f:\n",
    "        json.dump(job_objects, f, ensure_ascii=False)\n",
    "    "
   ]
  },
  {
   "cell_type": "markdown",
   "metadata": {},
   "source": [
    "# Main Function"
   ]
  },
  {
   "cell_type": "code",
   "execution_count": 34,
   "metadata": {},
   "outputs": [
    {
     "name": "stderr",
     "output_type": "stream",
     "text": [
      "100%|██████████| 7/7 [00:00<00:00, 17.26it/s]\n"
     ]
    }
   ],
   "source": [
    "path_folder='./dataset/'\n",
    "\n",
    "# parse html pages in a folder\n",
    "jobs = HtmlParser(parsers).parse_pages(path_folder)\n"
   ]
  },
  {
   "cell_type": "code",
   "execution_count": 37,
   "metadata": {},
   "outputs": [
    {
     "name": "stdout",
     "output_type": "stream",
     "text": [
      "Number of jobs=7\n",
      "\n",
      "[{'company': '現觀科技股份有限公司', 'title': '\\n                        Machine Learning Engineer                        ', 'salary': '待遇面議                                                                                    （', 'requirement': '- Interaction cross-functionally with technical/non-technical departments\\n- Ability to develop reliable and scalable data pipelines\\n- Knowledge about Machine Learning technique (SVM, Boosting, Regression techniques) \\n- Experienced in scripting programming (python, R)\\n- Experienced in model design and model tuning ', 'requirement_others': '# Requirements\\n- Interaction cross-functionally with technical/non-technical departments\\n- Ability to develop reliable and scalable data pipelines\\n- Knowledge about Machine Learning technique (SVM, Boosting, Regression techniques) \\n- Experienced in scripting programming (python, R)\\n- Experienced in model design and model tuning \\n\\n# Optional \\n- Familiar with CS algorithm\\n- Familiar with databases\\n- Familiar with Deep learning frameworks(tensorflow, pytorch)\\n- Experienced in OOP such as c , c++, java, scala\\n- Builds a metadata system where all avaliable data is maintained and cataloged', 'address': '\\n                                        台北市中正區博愛路35號9樓', 'experience': '1年以上', 'benefit': '\\n福利制度優於勞基法\\n1. 年資滿一年保障年薪14個月\\n2. 三節禮金、績效獎金、專案獎金、公司獲利分紅\\n3. 國內/國外員工旅遊(年資滿一年旅費公司全額補助)\\n4. 員工團保(含壽險、意外、癌症、手術、醫療住院等全方位保障)\\n5. 健康檢查(加購健檢項目公司補助一半費用)\\n6. 員工在職進修補助(一年$3000)\\n7. 免費咖啡、飲料、水果、零食、聚餐津貼\\n8. 加班誤餐費與夜間加班交通費補助等等......。\\n'}, {'company': '香港商女媧創造股份有限公司台灣分公司', 'title': '\\n                        資深機器學習工程師 (Machine Learning Engineer)                        ', 'salary': '待遇面議                                                                                    （', 'requirement': 'Job Description: \\nDevelop algorithms to make the robot more intelligent. The hire will be responsible for expanding and optimizing the NLP components of our intelligent system comprising sentence classification, sequence generation, question answering, etc. \\n\\nRequirement : \\n- Good skills in Python programming\\n- Strong background knowledge in machine learning algorithms and artficial neural networks.\\n- Familiar with Tensorflow, Keras, or other equivalent frameworks\\n- 2-years hands-on experience in machine learning approaches to NLP tasks such as text classification, sequence labeling, question answering, and sequence generation\\n- Passionate and aggressive', 'requirement_others': 'Good to have: \\n-Have interests in natural language processing \\n-Hands-on experience in chatbot development is a plus', 'address': '\\n                                        台北市中山區南京東路三段', 'experience': '3年以上', 'benefit': '\\n年終保障\\n   介紹獎金\\n   員工配股\\n   員工聚餐\\n   點心下午茶\\n   教育訓練補助\\n   優於勞基法特休假\\n'}]\n"
     ]
    }
   ],
   "source": [
    "print('Number of jobs={}\\n'.format(len(jobs)))\n",
    "print(jobs[:2])"
   ]
  },
  {
   "cell_type": "code",
   "execution_count": 38,
   "metadata": {},
   "outputs": [],
   "source": [
    "filename_json='jobs_104.json'\n",
    "\n",
    "# save job (list of dictionary)\n",
    "save_job_objects(jobs, filename_json)"
   ]
  },
  {
   "cell_type": "markdown",
   "metadata": {},
   "source": [
    "# Inspect JSON file using Pandas"
   ]
  },
  {
   "cell_type": "code",
   "execution_count": 39,
   "metadata": {},
   "outputs": [],
   "source": [
    "job_df = pd.read_json(filename_json)"
   ]
  },
  {
   "cell_type": "code",
   "execution_count": 40,
   "metadata": {},
   "outputs": [
    {
     "data": {
      "text/html": [
       "<div>\n",
       "<style scoped>\n",
       "    .dataframe tbody tr th:only-of-type {\n",
       "        vertical-align: middle;\n",
       "    }\n",
       "\n",
       "    .dataframe tbody tr th {\n",
       "        vertical-align: top;\n",
       "    }\n",
       "\n",
       "    .dataframe thead th {\n",
       "        text-align: right;\n",
       "    }\n",
       "</style>\n",
       "<table border=\"1\" class=\"dataframe\">\n",
       "  <thead>\n",
       "    <tr style=\"text-align: right;\">\n",
       "      <th></th>\n",
       "      <th>address</th>\n",
       "      <th>benefit</th>\n",
       "      <th>company</th>\n",
       "      <th>experience</th>\n",
       "      <th>requirement</th>\n",
       "      <th>requirement_others</th>\n",
       "      <th>salary</th>\n",
       "      <th>title</th>\n",
       "    </tr>\n",
       "  </thead>\n",
       "  <tbody>\n",
       "    <tr>\n",
       "      <th>0</th>\n",
       "      <td>\\n                                        台北市中...</td>\n",
       "      <td>\\n福利制度優於勞基法\\n1. 年資滿一年保障年薪14個月\\n2. 三節禮金、績效獎金、專案...</td>\n",
       "      <td>現觀科技股份有限公司</td>\n",
       "      <td>1年以上</td>\n",
       "      <td>- Interaction cross-functionally with technica...</td>\n",
       "      <td># Requirements\\n- Interaction cross-functional...</td>\n",
       "      <td>待遇面議                                          ...</td>\n",
       "      <td>\\n                        Machine Learning Eng...</td>\n",
       "    </tr>\n",
       "    <tr>\n",
       "      <th>1</th>\n",
       "      <td>\\n                                        台北市中...</td>\n",
       "      <td>\\n年終保障\\n   介紹獎金\\n   員工配股\\n   員工聚餐\\n   點心下午茶\\n ...</td>\n",
       "      <td>香港商女媧創造股份有限公司台灣分公司</td>\n",
       "      <td>3年以上</td>\n",
       "      <td>Job Description: \\nDevelop algorithms to make ...</td>\n",
       "      <td>Good to have: \\n-Have interests in natural lan...</td>\n",
       "      <td>待遇面議                                          ...</td>\n",
       "      <td>\\n                        資深機器學習工程師 (Machine L...</td>\n",
       "    </tr>\n",
       "    <tr>\n",
       "      <th>2</th>\n",
       "      <td>\\n                                        台北市中山區</td>\n",
       "      <td>\\n▍公司制度 \\n具競爭力的薪資水準、年終獎金與綜合績效獎金 \\n彈性上下班時間，標準工時...</td>\n",
       "      <td>阿福股份有限公司</td>\n",
       "      <td>2年以上</td>\n",
       "      <td>1. Facilitate the adoption of computer-vision ...</td>\n",
       "      <td>1. Self-motivated and enthusiastic in artifici...</td>\n",
       "      <td>月薪 60,000~140,000元                            ...</td>\n",
       "      <td>\\n                        電腦視覺與機器學習研究員 Compute...</td>\n",
       "    </tr>\n",
       "    <tr>\n",
       "      <th>3</th>\n",
       "      <td>\\n                                        台北市信...</td>\n",
       "      <td>\\n【Competitive salary】\\n   -提供具競爭力的薪酬，激勵、吸引並留任...</td>\n",
       "      <td>新馳科技有限公司</td>\n",
       "      <td>7年以上</td>\n",
       "      <td>* Design or apply machine learning models in o...</td>\n",
       "      <td>* MS or PhD in computer science or electrical ...</td>\n",
       "      <td>待遇面議                                          ...</td>\n",
       "      <td>\\n                        Machine Learning Tec...</td>\n",
       "    </tr>\n",
       "    <tr>\n",
       "      <th>4</th>\n",
       "      <td>\\n                                        台北市信...</td>\n",
       "      <td>None</td>\n",
       "      <td>Spring Professional_藝珂人事顧問股份有限公司躍科分公司</td>\n",
       "      <td>3年以上</td>\n",
       "      <td>Our client is a top tier company which is focu...</td>\n",
       "      <td>未填寫</td>\n",
       "      <td>待遇面議                                          ...</td>\n",
       "      <td>\\n                        Deep Learning/ Machi...</td>\n",
       "    </tr>\n",
       "  </tbody>\n",
       "</table>\n",
       "</div>"
      ],
      "text/plain": [
       "                                             address  \\\n",
       "0  \\n                                        台北市中...   \n",
       "1  \\n                                        台北市中...   \n",
       "2   \\n                                        台北市中山區   \n",
       "3  \\n                                        台北市信...   \n",
       "4  \\n                                        台北市信...   \n",
       "\n",
       "                                             benefit  \\\n",
       "0  \\n福利制度優於勞基法\\n1. 年資滿一年保障年薪14個月\\n2. 三節禮金、績效獎金、專案...   \n",
       "1  \\n年終保障\\n   介紹獎金\\n   員工配股\\n   員工聚餐\\n   點心下午茶\\n ...   \n",
       "2  \\n▍公司制度 \\n具競爭力的薪資水準、年終獎金與綜合績效獎金 \\n彈性上下班時間，標準工時...   \n",
       "3  \\n【Competitive salary】\\n   -提供具競爭力的薪酬，激勵、吸引並留任...   \n",
       "4                                               None   \n",
       "\n",
       "                                 company experience  \\\n",
       "0                             現觀科技股份有限公司       1年以上   \n",
       "1                     香港商女媧創造股份有限公司台灣分公司       3年以上   \n",
       "2                               阿福股份有限公司       2年以上   \n",
       "3                               新馳科技有限公司       7年以上   \n",
       "4  Spring Professional_藝珂人事顧問股份有限公司躍科分公司       3年以上   \n",
       "\n",
       "                                         requirement  \\\n",
       "0  - Interaction cross-functionally with technica...   \n",
       "1  Job Description: \\nDevelop algorithms to make ...   \n",
       "2  1. Facilitate the adoption of computer-vision ...   \n",
       "3  * Design or apply machine learning models in o...   \n",
       "4  Our client is a top tier company which is focu...   \n",
       "\n",
       "                                  requirement_others  \\\n",
       "0  # Requirements\\n- Interaction cross-functional...   \n",
       "1  Good to have: \\n-Have interests in natural lan...   \n",
       "2  1. Self-motivated and enthusiastic in artifici...   \n",
       "3  * MS or PhD in computer science or electrical ...   \n",
       "4                                                未填寫   \n",
       "\n",
       "                                              salary  \\\n",
       "0  待遇面議                                          ...   \n",
       "1  待遇面議                                          ...   \n",
       "2  月薪 60,000~140,000元                            ...   \n",
       "3  待遇面議                                          ...   \n",
       "4  待遇面議                                          ...   \n",
       "\n",
       "                                               title  \n",
       "0  \\n                        Machine Learning Eng...  \n",
       "1  \\n                        資深機器學習工程師 (Machine L...  \n",
       "2  \\n                        電腦視覺與機器學習研究員 Compute...  \n",
       "3  \\n                        Machine Learning Tec...  \n",
       "4  \\n                        Deep Learning/ Machi...  "
      ]
     },
     "execution_count": 40,
     "metadata": {},
     "output_type": "execute_result"
    }
   ],
   "source": [
    "job_df.head()"
   ]
  },
  {
   "cell_type": "code",
   "execution_count": null,
   "metadata": {},
   "outputs": [],
   "source": []
  }
 ],
 "metadata": {
  "kernelspec": {
   "display_name": "Python 3",
   "language": "python",
   "name": "python3"
  },
  "language_info": {
   "codemirror_mode": {
    "name": "ipython",
    "version": 3
   },
   "file_extension": ".py",
   "mimetype": "text/x-python",
   "name": "python",
   "nbconvert_exporter": "python",
   "pygments_lexer": "ipython3",
   "version": "3.6.3"
  }
 },
 "nbformat": 4,
 "nbformat_minor": 2
}
