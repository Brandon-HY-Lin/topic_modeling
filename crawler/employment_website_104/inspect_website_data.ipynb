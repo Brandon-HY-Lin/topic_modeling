{
 "cells": [
  {
   "cell_type": "markdown",
   "metadata": {},
   "source": [
    "# Crawl the website\n",
    "Main reference: https://hackernoon.com/building-a-web-scraper-from-start-to-finish-bb6b95388184"
   ]
  },
  {
   "cell_type": "code",
   "execution_count": 3,
   "metadata": {},
   "outputs": [],
   "source": [
    "import pandas as pd\n",
    "import bs4\n",
    "from bs4 import BeautifulSoup\n",
    "import requests\n",
    "import json"
   ]
  },
  {
   "cell_type": "code",
   "execution_count": 32,
   "metadata": {},
   "outputs": [],
   "source": [
    "url_search_page='https://www.104.com.tw/jobs/search/?keyword=machine%20learning&jobsource=2018indexpoc&ro=0&order=1'\n",
    "\n",
    "response = requests.get(url_search_page, timeout=5)\n",
    "content = BeautifulSoup(response.content, \"html.parser\")"
   ]
  },
  {
   "cell_type": "markdown",
   "metadata": {},
   "source": [
    "# Inspect the attribute values"
   ]
  },
  {
   "cell_type": "code",
   "execution_count": 50,
   "metadata": {},
   "outputs": [
    {
     "name": "stdout",
     "output_type": "stream",
     "text": [
      "ad\n",
      "ad\n",
      "ad\n",
      "ad\n",
      "ad\n",
      "ad\n",
      "ad\n",
      "ad\n",
      "ad\n",
      "現觀科技股份有限公司: Machine Learning Engineer\n",
      "\t//www.104.com.tw/job/5nub2?jobsource=jolist_b_relevance\n",
      "新馳科技有限公司: Machine Learning Technical Manager\n",
      "\t//www.104.com.tw/job/5nub2?jobsource=jolist_b_relevance\n",
      "奔騰網路科技有限公司: Machine Learning Engineer\n",
      "\t//www.104.com.tw/job/5nub2?jobsource=jolist_b_relevance\n",
      "沛星互動科技股份有限公司: Machine Learning Scientist\n",
      "\t//www.104.com.tw/job/5nub2?jobsource=jolist_b_relevance\n",
      "新馳科技有限公司: Machine Learning Sr. Engineer\n",
      "\t//www.104.com.tw/job/5nub2?jobsource=jolist_b_relevance\n",
      "開酷科技股份有限公司: Machine Learning Algorithm Development Engineer\n",
      "\t//www.104.com.tw/job/5nub2?jobsource=jolist_b_relevance\n",
      "希恩體感科技股份有限公司: Software Engineer – Machine Learning\n",
      "\t//www.104.com.tw/job/5nub2?jobsource=jolist_b_relevance\n",
      "銓鴻資訊有限公司: Deep Learning / Machine Learning Engineer (台北大安區)\n",
      "\t//www.104.com.tw/job/5nub2?jobsource=jolist_b_relevance\n",
      "聯發科技股份有限公司: Deep Learning/Machine Learning Engineer/Scientist\n",
      "\t//www.104.com.tw/job/5nub2?jobsource=jolist_b_relevance\n",
      "神基科技股份有限公司: Computer Vision / Machine Learning / Deep Learning Developer (南港)-RSBU SWRDC\n",
      "\t//www.104.com.tw/job/5nub2?jobsource=jolist_b_relevance\n",
      "美商訊能集思智能科技股份有限公司台灣分公司: Machine Learning Scientist\n",
      "\t//www.104.com.tw/job/5nub2?jobsource=jolist_b_relevance\n",
      "威朋大數據股份有限公司: Machine Learning Scientist\n",
      "\t//www.104.com.tw/job/5nub2?jobsource=jolist_b_relevance\n",
      "Amazon Web Services Taiwan Limited_台灣亞馬遜網路服務有限公司: Big Data/Machine Learning Architect\n",
      "\t//www.104.com.tw/job/5nub2?jobsource=jolist_b_relevance\n",
      "思華科技有限公司: Machine Learning engineer\n",
      "\t//www.104.com.tw/job/5nub2?jobsource=jolist_b_relevance\n",
      "巷語開發股份有限公司: Machine Learning Engineer\n",
      "\t//www.104.com.tw/job/5nub2?jobsource=jolist_b_relevance\n",
      "美商超微半導體股份有限公司台灣分公司: Machine deep learning Software Engineer\n",
      "\t//www.104.com.tw/job/5nub2?jobsource=jolist_b_relevance\n",
      "Amazon Web Services Taiwan Limited_台灣亞馬遜網路服務有限公司: Data Scientist - Machine Learning - AWS Professional Services\n",
      "\t//www.104.com.tw/job/5nub2?jobsource=jolist_b_relevance\n",
      "瑞嘉軟體科技股份有限公司: Machine Learning Engineer / 機器學習工程師\n",
      "\t//www.104.com.tw/job/5nub2?jobsource=jolist_b_relevance\n",
      "英屬開曼群島商鼎峰智能股份有限公司台灣分公司: Machine Learning RD (Hsinchu)\n",
      "\t//www.104.com.tw/job/5nub2?jobsource=jolist_b_relevance\n",
      "英屬開曼群島商鼎峰智能股份有限公司台灣分公司: Machine Learning RD (Taipei)\n",
      "\t//www.104.com.tw/job/5nub2?jobsource=jolist_b_relevance\n",
      "\n",
      "Total number of valid jobs=20\n"
     ]
    }
   ],
   "source": [
    "\n",
    "count = 0\n",
    "for element in content.findAll('article', attrs={'class': ['job-mode', 'js-job-item']}):\n",
    "#     print(type(element))\n",
    "#     print((element.attrs['class']))\n",
    "    if 'b-block--ad' in element.attrs['class']:\n",
    "        print('ad')\n",
    "    else:\n",
    "#         print(element)\n",
    "        count += 1\n",
    "    \n",
    "        print('{}: {}'.format(element['data-cust-name'], element['data-job-name']))\n",
    "        print('\\t{}'.format(job['href']))\n",
    "    \n",
    "print('\\nTotal number of valid jobs={}'.format(count))"
   ]
  },
  {
   "cell_type": "code",
   "execution_count": null,
   "metadata": {},
   "outputs": [],
   "source": []
  }
 ],
 "metadata": {
  "kernelspec": {
   "display_name": "Python 3",
   "language": "python",
   "name": "python3"
  },
  "language_info": {
   "codemirror_mode": {
    "name": "ipython",
    "version": 3
   },
   "file_extension": ".py",
   "mimetype": "text/x-python",
   "name": "python",
   "nbconvert_exporter": "python",
   "pygments_lexer": "ipython3",
   "version": "3.6.3"
  }
 },
 "nbformat": 4,
 "nbformat_minor": 2
}
