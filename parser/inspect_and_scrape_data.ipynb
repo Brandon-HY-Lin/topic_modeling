{
 "cells": [
  {
   "cell_type": "markdown",
   "metadata": {},
   "source": [
    "# Scrape HTML\n",
    "Main reference: "
   ]
  },
  {
   "cell_type": "code",
   "execution_count": 1,
   "metadata": {},
   "outputs": [],
   "source": [
    "from bs4 import BeautifulSoup\n",
    "import bs4\n",
    "import json\n",
    "import pandas as pd"
   ]
  },
  {
   "cell_type": "code",
   "execution_count": 27,
   "metadata": {},
   "outputs": [
    {
     "name": "stdout",
     "output_type": "stream",
     "text": [
      "<class 'bs4.BeautifulSoup'>\n"
     ]
    }
   ],
   "source": [
    "with open('./html_pages/【数据挖掘工程师招聘】_R2.ai招聘-拉勾网.html') as f:\n",
    "    content = BeautifulSoup(f, \"html.parser\")\n",
    "    \n",
    "\n",
    "# Json object\n",
    "jobObject = {}\n",
    "\n",
    "print(type(content))"
   ]
  },
  {
   "cell_type": "markdown",
   "metadata": {},
   "source": [
    "# Scrape Job Description"
   ]
  },
  {
   "cell_type": "code",
   "execution_count": 3,
   "metadata": {},
   "outputs": [
    {
     "name": "stdout",
     "output_type": "stream",
     "text": [
      "\n",
      "1.负责构建体系框架，公开数据等进行分析，挖掘特征；\n",
      "2.负责大数据产品的规划，需求分析和产品设计和定义；\n",
      "3.基于现有真实用户行为数据，能够从数据中发现能源的需求和业务场景；\n",
      "4.参与业务部门临时数据分析需求的调研、分析及实现；\n",
      "5.监测分析产品运营状况，持续优化产品功能改造和业务拓展方向，提出和落实产品优化改造方案。\n",
      "6.撰写专题大数据分析报告。\n",
      "职位要求：\n",
      "1、统计学，数学，计算机等专业硕士及以上学历，2年以上数据分析工作经验\n",
      "2、扎实的数理统计理论知识，如描述性统计，推断性统计，多元统计分析等\n",
      "3、熟悉数据挖掘理论与方法，如聚类分析，决策树，逻辑回归，关联规则等\n",
      "4、熟悉SQL语言进行数据处理和汇总统计分析\n",
      "5、精通Excel，主要包括数据透视表，函数，图表和VBA等\n",
      "6、熟练使用SPSS，SAS，R，Python中的任一工具进行数据分析工作\n",
      "7、逻辑思维能力强，表达条理清晰，善于用PPT写作\n",
      "\n"
     ]
    }
   ],
   "source": [
    "for detail in content.findAll('div', attrs={'class': 'job-detail'}):\n",
    "    print(detail.text)"
   ]
  },
  {
   "cell_type": "code",
   "execution_count": 4,
   "metadata": {},
   "outputs": [
    {
     "name": "stdout",
     "output_type": "stream",
     "text": [
      "\n",
      "1.负责构建体系框架，公开数据等进行分析，挖掘特征；\n",
      "2.负责大数据产品的规划，需求分析和产品设计和定义；\n",
      "3.基于现有真实用户行为数据，能够从数据中发现能源的需求和业务场景；\n",
      "4.参与业务部门临时数据分析需求的调研、分析及实现；\n",
      "5.监测分析产品运营状况，持续优化产品功能改造和业务拓展方向，提出和落实产品优化改造方案。\n",
      "6.撰写专题大数据分析报告。\n",
      "职位要求：\n",
      "1、统计学，数学，计算机等专业硕士及以上学历，2年以上数据分析工作经验\n",
      "2、扎实的数理统计理论知识，如描述性统计，推断性统计，多元统计分析等\n",
      "3、熟悉数据挖掘理论与方法，如聚类分析，决策树，逻辑回归，关联规则等\n",
      "4、熟悉SQL语言进行数据处理和汇总统计分析\n",
      "5、精通Excel，主要包括数据透视表，函数，图表和VBA等\n",
      "6、熟练使用SPSS，SAS，R，Python中的任一工具进行数据分析工作\n",
      "7、逻辑思维能力强，表达条理清晰，善于用PPT写作\n",
      "\n"
     ]
    }
   ],
   "source": [
    "job = content.find('div', attrs={'class': 'job-detail'})\n",
    "print(job.text)\n",
    "jobObject['job_details'] = job.text"
   ]
  },
  {
   "cell_type": "markdown",
   "metadata": {},
   "source": [
    "# Scrape Job Key Words\n",
    "\n",
    "Reference: https://stackoverflow.com/questions/5999747/beautifulsoup-nextsibling"
   ]
  },
  {
   "cell_type": "code",
   "execution_count": 5,
   "metadata": {},
   "outputs": [
    {
     "name": "stdout",
     "output_type": "stream",
     "text": [
      "AI,机器学习\n"
     ]
    }
   ],
   "source": [
    "job = content.find('dd', attrs={'class': 'job-advantage'})\n",
    "t = job.findNext('p')\n",
    "print(t.contents[0])"
   ]
  },
  {
   "cell_type": "code",
   "execution_count": 6,
   "metadata": {},
   "outputs": [],
   "source": [
    "jobObject['key_words'] = content.find('dd', attrs={'class': 'job-advantage'}).findNext('p').contents[0]"
   ]
  },
  {
   "cell_type": "code",
   "execution_count": 7,
   "metadata": {
    "scrolled": true
   },
   "outputs": [
    {
     "data": {
      "text/plain": [
       "{'job_details': '\\n1.负责构建体系框架，公开数据等进行分析，挖掘特征；\\n2.负责大数据产品的规划，需求分析和产品设计和定义；\\n3.基于现有真实用户行为数据，能够从数据中发现能源的需求和业务场景；\\n4.参与业务部门临时数据分析需求的调研、分析及实现；\\n5.监测分析产品运营状况，持续优化产品功能改造和业务拓展方向，提出和落实产品优化改造方案。\\n6.撰写专题大数据分析报告。\\n职位要求：\\n1、统计学，数学，计算机等专业硕士及以上学历，2年以上数据分析工作经验\\n2、扎实的数理统计理论知识，如描述性统计，推断性统计，多元统计分析等\\n3、熟悉数据挖掘理论与方法，如聚类分析，决策树，逻辑回归，关联规则等\\n4、熟悉SQL语言进行数据处理和汇总统计分析\\n5、精通Excel，主要包括数据透视表，函数，图表和VBA等\\n6、熟练使用SPSS，SAS，R，Python中的任一工具进行数据分析工作\\n7、逻辑思维能力强，表达条理清晰，善于用PPT写作\\n',\n",
       " 'key_words': 'AI,机器学习'}"
      ]
     },
     "execution_count": 7,
     "metadata": {},
     "output_type": "execute_result"
    }
   ],
   "source": [
    "jobObject"
   ]
  },
  {
   "cell_type": "markdown",
   "metadata": {},
   "source": [
    "# Scrape Company Name"
   ]
  },
  {
   "cell_type": "code",
   "execution_count": 8,
   "metadata": {},
   "outputs": [],
   "source": [
    "job = content.find('div', attrs={'class': 'company'})\n",
    "jobObject['company'] = job.text"
   ]
  },
  {
   "cell_type": "markdown",
   "metadata": {},
   "source": [
    "# Scrape Salary"
   ]
  },
  {
   "cell_type": "code",
   "execution_count": 9,
   "metadata": {},
   "outputs": [],
   "source": [
    "c = content.find('span', attrs={'class': 'salary'})\n",
    "jobObject['salary'] = c.text"
   ]
  },
  {
   "cell_type": "markdown",
   "metadata": {},
   "source": [
    "# Scrape Job Requirements"
   ]
  },
  {
   "cell_type": "code",
   "execution_count": 10,
   "metadata": {},
   "outputs": [
    {
     "name": "stdout",
     "output_type": "stream",
     "text": [
      "15k-30k \n",
      "/上海 /\n",
      "经验1-3年 /\n",
      "硕士及以上 /\n",
      "全职\n"
     ]
    }
   ],
   "source": [
    "for c in content.find('dd', attrs={'class': 'job_request'}).findNext('p').findAll('span'):\n",
    "#     print('*')\n",
    "    print(c.text)"
   ]
  },
  {
   "cell_type": "code",
   "execution_count": 11,
   "metadata": {},
   "outputs": [],
   "source": [
    "jobObject['requests'] = content.find('dd', attrs={'class': 'job_request'}).findNext('p').text"
   ]
  },
  {
   "cell_type": "markdown",
   "metadata": {},
   "source": [
    "# Scrape Keywords"
   ]
  },
  {
   "cell_type": "code",
   "execution_count": 12,
   "metadata": {},
   "outputs": [
    {
     "data": {
      "text/plain": [
       "'\\n其他\\n数据挖掘\\n算法\\n'"
      ]
     },
     "execution_count": 12,
     "metadata": {},
     "output_type": "execute_result"
    }
   ],
   "source": [
    "content.find('ul', attrs={'class': 'position-label'}).text"
   ]
  },
  {
   "cell_type": "code",
   "execution_count": 13,
   "metadata": {},
   "outputs": [],
   "source": [
    "jobObject['keywords'] = content.find('ul', attrs={'class': 'position-label'}).text"
   ]
  },
  {
   "cell_type": "markdown",
   "metadata": {},
   "source": [
    "# Scrape Job Title"
   ]
  },
  {
   "cell_type": "code",
   "execution_count": 22,
   "metadata": {},
   "outputs": [
    {
     "data": {
      "text/plain": [
       "'数据挖掘工程师'"
      ]
     },
     "execution_count": 22,
     "metadata": {},
     "output_type": "execute_result"
    }
   ],
   "source": [
    "content.find('span', attrs={'class': 'name'}).text"
   ]
  },
  {
   "cell_type": "code",
   "execution_count": 23,
   "metadata": {},
   "outputs": [],
   "source": [
    "jobObject['title'] = content.find('span', attrs={'class': 'name'}).text"
   ]
  },
  {
   "cell_type": "markdown",
   "metadata": {},
   "source": [
    "# Scrape Address\n",
    "Reference:\n",
    "1. get contents: https://linuxhint.com/find_children_nodes_beautiful_soup/\n",
    "2. test type is bs4.element.Tag: https://stackoverflow.com/questions/51553308/how-to-use-beautifulsoup4-to-check-if-parent-tag-has-a-direct-child-whose-name-i?rq=1\n",
    "2. test specific element: "
   ]
  },
  {
   "cell_type": "code",
   "execution_count": 14,
   "metadata": {},
   "outputs": [
    {
     "data": {
      "text/plain": [
       "'\\n上海 -\\n                    杨浦区\\n                                            - 政立路497号国正中心1号楼1508室\\n                                                            查看地图\\n'"
      ]
     },
     "execution_count": 14,
     "metadata": {},
     "output_type": "execute_result"
    }
   ],
   "source": [
    "content.find('div', attrs={'class': 'work_addr'}).text"
   ]
  },
  {
   "cell_type": "code",
   "execution_count": 15,
   "metadata": {},
   "outputs": [
    {
     "data": {
      "text/plain": [
       "<div class=\"work_addr\">\n",
       "<a href=\"https://www.lagou.com/jobs/list_?city=%E4%B8%8A%E6%B5%B7#filterBox\" rel=\"nofollow\">上海</a> -\n",
       "                    <a href=\"https://www.lagou.com/jobs/list_?city=%E4%B8%8A%E6%B5%B7&amp;district=%E6%9D%A8%E6%B5%A6%E5%8C%BA#filterBox\" rel=\"nofollow\">杨浦区</a>\n",
       "                                            - 政立路497号国正中心1号楼1508室\n",
       "                                                            <a href=\"javascript:;\" id=\"mapPreview\" rel=\"nofollow\">查看地图</a>\n",
       "</div>"
      ]
     },
     "execution_count": 15,
     "metadata": {},
     "output_type": "execute_result"
    }
   ],
   "source": [
    "content.find('div', attrs={'class': 'work_addr'})"
   ]
  },
  {
   "cell_type": "code",
   "execution_count": 16,
   "metadata": {},
   "outputs": [
    {
     "name": "stdout",
     "output_type": "stream",
     "text": [
      "<class 'bs4.element.NavigableString'>\n",
      "<class 'bs4.element.Tag'>\n",
      "<class 'bs4.element.NavigableString'>\n",
      "<class 'bs4.element.Tag'>\n",
      "<class 'bs4.element.NavigableString'>\n",
      "<class 'bs4.element.Tag'>\n",
      "<class 'bs4.element.NavigableString'>\n"
     ]
    }
   ],
   "source": [
    "# remove '查看地图'\n",
    "address = ' '\n",
    "\n",
    "for tag in content.find('div', attrs={'class': 'work_addr'}).contents:\n",
    "    print(type(tag))\n",
    "    text = ''\n",
    "    \n",
    "    if type(tag) == bs4.element.Tag:\n",
    "        if tag.text == '查看地图':\n",
    "            continue\n",
    "        text = tag.text\n",
    "    else:\n",
    "        text = tag\n",
    "        \n",
    "    address += text"
   ]
  },
  {
   "cell_type": "code",
   "execution_count": 17,
   "metadata": {},
   "outputs": [
    {
     "data": {
      "text/plain": [
       "' \\n上海 -\\n                    杨浦区\\n                                            - 政立路497号国正中心1号楼1508室\\n                                                            \\n'"
      ]
     },
     "execution_count": 17,
     "metadata": {},
     "output_type": "execute_result"
    }
   ],
   "source": [
    "address"
   ]
  },
  {
   "cell_type": "code",
   "execution_count": 18,
   "metadata": {},
   "outputs": [],
   "source": [
    "jobObject['address'] = address"
   ]
  },
  {
   "cell_type": "markdown",
   "metadata": {},
   "source": [
    "# Save Data into Json format"
   ]
  },
  {
   "cell_type": "code",
   "execution_count": 24,
   "metadata": {},
   "outputs": [],
   "source": [
    "\n",
    "filename_json = './lagou.json'\n",
    "\n",
    "jobList = [jobObject]\n",
    "\n",
    "with open(filename_json, 'w', encoding='utf8') as f:\n",
    "    json.dump(jobList, f, ensure_ascii=False)"
   ]
  },
  {
   "cell_type": "markdown",
   "metadata": {},
   "source": [
    "# Read JSON using Pandas"
   ]
  },
  {
   "cell_type": "code",
   "execution_count": 25,
   "metadata": {},
   "outputs": [],
   "source": [
    "jobs_df = pd.read_json(filename_json, orient='columns')"
   ]
  },
  {
   "cell_type": "code",
   "execution_count": 26,
   "metadata": {},
   "outputs": [
    {
     "data": {
      "text/html": [
       "<div>\n",
       "<style scoped>\n",
       "    .dataframe tbody tr th:only-of-type {\n",
       "        vertical-align: middle;\n",
       "    }\n",
       "\n",
       "    .dataframe tbody tr th {\n",
       "        vertical-align: top;\n",
       "    }\n",
       "\n",
       "    .dataframe thead th {\n",
       "        text-align: right;\n",
       "    }\n",
       "</style>\n",
       "<table border=\"1\" class=\"dataframe\">\n",
       "  <thead>\n",
       "    <tr style=\"text-align: right;\">\n",
       "      <th></th>\n",
       "      <th>address</th>\n",
       "      <th>company</th>\n",
       "      <th>job_details</th>\n",
       "      <th>key_words</th>\n",
       "      <th>keywords</th>\n",
       "      <th>requests</th>\n",
       "      <th>salary</th>\n",
       "      <th>title</th>\n",
       "    </tr>\n",
       "  </thead>\n",
       "  <tbody>\n",
       "    <tr>\n",
       "      <th>0</th>\n",
       "      <td>\\n上海 -\\n                    杨浦区\\n            ...</td>\n",
       "      <td>R2.ai招聘</td>\n",
       "      <td>\\n1.负责构建体系框架，公开数据等进行分析，挖掘特征；\\n2.负责大数据产品的规划，需求分...</td>\n",
       "      <td>AI,机器学习</td>\n",
       "      <td>\\n其他\\n数据挖掘\\n算法\\n</td>\n",
       "      <td>\\n15k-30k \\n/上海 /\\n经验1-3年 /\\n硕士及以上 /\\n全职\\n</td>\n",
       "      <td>15k-30k</td>\n",
       "      <td>数据挖掘工程师</td>\n",
       "    </tr>\n",
       "  </tbody>\n",
       "</table>\n",
       "</div>"
      ],
      "text/plain": [
       "                                             address  company  \\\n",
       "0   \\n上海 -\\n                    杨浦区\\n            ...  R2.ai招聘   \n",
       "\n",
       "                                         job_details key_words  \\\n",
       "0  \\n1.负责构建体系框架，公开数据等进行分析，挖掘特征；\\n2.负责大数据产品的规划，需求分...   AI,机器学习   \n",
       "\n",
       "           keywords                                    requests    salary  \\\n",
       "0  \\n其他\\n数据挖掘\\n算法\\n  \\n15k-30k \\n/上海 /\\n经验1-3年 /\\n硕士及以上 /\\n全职\\n  15k-30k    \n",
       "\n",
       "     title  \n",
       "0  数据挖掘工程师  "
      ]
     },
     "execution_count": 26,
     "metadata": {},
     "output_type": "execute_result"
    }
   ],
   "source": [
    "jobs_df.head()"
   ]
  },
  {
   "cell_type": "code",
   "execution_count": null,
   "metadata": {},
   "outputs": [],
   "source": []
  }
 ],
 "metadata": {
  "kernelspec": {
   "display_name": "Python 3",
   "language": "python",
   "name": "python3"
  },
  "language_info": {
   "codemirror_mode": {
    "name": "ipython",
    "version": 3
   },
   "file_extension": ".py",
   "mimetype": "text/x-python",
   "name": "python",
   "nbconvert_exporter": "python",
   "pygments_lexer": "ipython3",
   "version": "3.6.3"
  }
 },
 "nbformat": 4,
 "nbformat_minor": 2
}
